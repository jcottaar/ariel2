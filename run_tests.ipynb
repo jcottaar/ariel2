{
 "cells": [
  {
   "cell_type": "code",
   "execution_count": 1,
   "id": "40a06b36-9a1b-4117-8105-469a8bab4d11",
   "metadata": {
    "tags": []
   },
   "outputs": [
    {
     "name": "stdout",
     "output_type": "stream",
     "text": [
      "local\n"
     ]
    },
    {
     "name": "stderr",
     "output_type": "stream",
     "text": [
      "Processing in parallel: 100%|█████████████████████████████████████████████████████████████| 8/8 [00:05<00:00,  1.42it/s]\n"
     ]
    },
    {
     "name": "stdout",
     "output_type": "stream",
     "text": [
      "local\n",
      "local\n",
      "local\n",
      "local\n",
      "local\n",
      "local\n",
      "local\n",
      "Opt time 23.942899703979492\n",
      "{'type_changes': {'root[0].transit_params.w': {'old_type': <class 'float'>, 'new_type': <class 'int'>, 'old_value': 90.0, 'new_value': 90}, 'root[0].transit_params.Rp': {'old_type': <class 'float'>, 'new_type': <class 'int'>, 'old_value': 0.0, 'new_value': 0}, 'root[1].transit_params.w': {'old_type': <class 'float'>, 'new_type': <class 'int'>, 'old_value': 90.0, 'new_value': 90}, 'root[1].transit_params.Rp': {'old_type': <class 'float'>, 'new_type': <class 'int'>, 'old_value': 0.0, 'new_value': 0}, 'root[2].transit_params.w': {'old_type': <class 'float'>, 'new_type': <class 'int'>, 'old_value': 90.0, 'new_value': 90}, 'root[2].transit_params.Rp': {'old_type': <class 'float'>, 'new_type': <class 'int'>, 'old_value': 0.0, 'new_value': 0}, 'root[3].transit_params.w': {'old_type': <class 'float'>, 'new_type': <class 'int'>, 'old_value': 90.0, 'new_value': 90}, 'root[3].transit_params.Rp': {'old_type': <class 'float'>, 'new_type': <class 'int'>, 'old_value': 0.0, 'new_value': 0}, 'root[4].transit_params.w': {'old_type': <class 'float'>, 'new_type': <class 'int'>, 'old_value': 90.0, 'new_value': 90}, 'root[4].transit_params.Rp': {'old_type': <class 'float'>, 'new_type': <class 'int'>, 'old_value': 0.0, 'new_value': 0}, 'root[5].transit_params.w': {'old_type': <class 'float'>, 'new_type': <class 'int'>, 'old_value': 90.0, 'new_value': 90}, 'root[5].transit_params.Rp': {'old_type': <class 'float'>, 'new_type': <class 'int'>, 'old_value': 0.0, 'new_value': 0}, 'root[6].transit_params.w': {'old_type': <class 'float'>, 'new_type': <class 'int'>, 'old_value': 90.0, 'new_value': 90}, 'root[6].transit_params.Rp': {'old_type': <class 'float'>, 'new_type': <class 'int'>, 'old_value': 0.0, 'new_value': 0}, 'root[7].transit_params.w': {'old_type': <class 'float'>, 'new_type': <class 'int'>, 'old_value': 90.0, 'new_value': 90}, 'root[7].transit_params.Rp': {'old_type': <class 'float'>, 'new_type': <class 'int'>, 'old_value': 0.0, 'new_value': 0}}, 'dictionary_item_removed': [\"root[0].diagnostics['transit_params']\", \"root[1].diagnostics['transit_params']\", \"root[2].diagnostics['transit_params']\", \"root[3].diagnostics['transit_params']\", \"root[4].diagnostics['transit_params']\", \"root[5].diagnostics['transit_params']\", \"root[6].diagnostics['transit_params']\", \"root[7].diagnostics['transit_params']\"]}\n"
     ]
    },
    {
     "ename": "Exception",
     "evalue": "Mismatch in simple test",
     "output_type": "error",
     "traceback": [
      "\u001b[0;31m---------------------------------------------------------------------------\u001b[0m",
      "\u001b[0;31mException\u001b[0m                                 Traceback (most recent call last)",
      "\u001b[0;32m/tmp/ipykernel_42730/3476855459.py\u001b[0m in \u001b[0;36m<cell line: 0>\u001b[0;34m()\u001b[0m\n\u001b[1;32m      2\u001b[0m \u001b[0msys\u001b[0m\u001b[0;34m.\u001b[0m\u001b[0mpath\u001b[0m\u001b[0;34m.\u001b[0m\u001b[0mappend\u001b[0m\u001b[0;34m(\u001b[0m\u001b[0;34m'/mnt/d/ariel2/code/core/'\u001b[0m\u001b[0;34m)\u001b[0m\u001b[0;34m\u001b[0m\u001b[0;34m\u001b[0m\u001b[0m\n\u001b[1;32m      3\u001b[0m \u001b[0;32mimport\u001b[0m \u001b[0mariel_test\u001b[0m\u001b[0;34m\u001b[0m\u001b[0;34m\u001b[0m\u001b[0m\n\u001b[0;32m----> 4\u001b[0;31m \u001b[0mariel_test\u001b[0m\u001b[0;34m.\u001b[0m\u001b[0mrun_all_tests\u001b[0m\u001b[0;34m(\u001b[0m\u001b[0mregenerate_reference\u001b[0m\u001b[0;34m=\u001b[0m\u001b[0;32mFalse\u001b[0m\u001b[0;34m)\u001b[0m\u001b[0;34m\u001b[0m\u001b[0;34m\u001b[0m\u001b[0m\n\u001b[0m",
      "\u001b[0;32m/mnt/d/ariel2/code/core/ariel_test.py\u001b[0m in \u001b[0;36mrun_all_tests\u001b[0;34m(regenerate_reference)\u001b[0m\n\u001b[1;32m     16\u001b[0m     \u001b[0mrun_loader_test\u001b[0m\u001b[0;34m(\u001b[0m\u001b[0muse_cache\u001b[0m\u001b[0;34m=\u001b[0m\u001b[0;32mTrue\u001b[0m\u001b[0;34m,\u001b[0m \u001b[0mregenerate_reference\u001b[0m\u001b[0;34m=\u001b[0m\u001b[0;32mFalse\u001b[0m\u001b[0;34m)\u001b[0m\u001b[0;34m\u001b[0m\u001b[0;34m\u001b[0m\u001b[0m\n\u001b[1;32m     17\u001b[0m     \u001b[0mrun_loader_test\u001b[0m\u001b[0;34m(\u001b[0m\u001b[0muse_cache\u001b[0m\u001b[0;34m=\u001b[0m\u001b[0;32mTrue\u001b[0m\u001b[0;34m,\u001b[0m \u001b[0mregenerate_reference\u001b[0m\u001b[0;34m=\u001b[0m\u001b[0;32mFalse\u001b[0m\u001b[0;34m)\u001b[0m \u001b[0;31m# twice in case first one wrote cache\u001b[0m\u001b[0;34m\u001b[0m\u001b[0;34m\u001b[0m\u001b[0m\n\u001b[0;32m---> 18\u001b[0;31m     \u001b[0mrun_model_test\u001b[0m\u001b[0;34m(\u001b[0m\u001b[0mregenerate_reference\u001b[0m\u001b[0;34m=\u001b[0m\u001b[0mregenerate_reference\u001b[0m\u001b[0;34m)\u001b[0m\u001b[0;34m\u001b[0m\u001b[0;34m\u001b[0m\u001b[0m\n\u001b[0m\u001b[1;32m     19\u001b[0m     \u001b[0mprint\u001b[0m\u001b[0;34m(\u001b[0m\u001b[0;34m'All tests passed!'\u001b[0m\u001b[0;34m)\u001b[0m\u001b[0;34m\u001b[0m\u001b[0;34m\u001b[0m\u001b[0m\n\u001b[1;32m     20\u001b[0m \u001b[0;34m\u001b[0m\u001b[0m\n",
      "\u001b[0;32m/mnt/d/ariel2/code/core/ariel_test.py\u001b[0m in \u001b[0;36mrun_model_test\u001b[0;34m(regenerate_reference)\u001b[0m\n\u001b[1;32m     55\u001b[0m         \u001b[0;32mif\u001b[0m \u001b[0mlen\u001b[0m\u001b[0;34m(\u001b[0m\u001b[0mdiff\u001b[0m\u001b[0;34m)\u001b[0m\u001b[0;34m>\u001b[0m\u001b[0;36m0\u001b[0m\u001b[0;34m:\u001b[0m\u001b[0;34m\u001b[0m\u001b[0;34m\u001b[0m\u001b[0m\n\u001b[1;32m     56\u001b[0m             \u001b[0mprint\u001b[0m\u001b[0;34m(\u001b[0m\u001b[0mdiff\u001b[0m\u001b[0;34m)\u001b[0m\u001b[0;34m\u001b[0m\u001b[0;34m\u001b[0m\u001b[0m\n\u001b[0;32m---> 57\u001b[0;31m             \u001b[0;32mraise\u001b[0m \u001b[0mException\u001b[0m\u001b[0;34m(\u001b[0m\u001b[0;34m'Mismatch in '\u001b[0m \u001b[0;34m+\u001b[0m \u001b[0mname\u001b[0m \u001b[0;34m+\u001b[0m \u001b[0;34m' test'\u001b[0m\u001b[0;34m)\u001b[0m\u001b[0;34m\u001b[0m\u001b[0;34m\u001b[0m\u001b[0m\n\u001b[0m",
      "\u001b[0;31mException\u001b[0m: Mismatch in simple test"
     ]
    }
   ],
   "source": [
    "import sys\n",
    "sys.path.append('/mnt/d/ariel2/code/core/')\n",
    "import ariel_test\n",
    "ariel_test.run_all_tests(regenerate_reference=False)"
   ]
  },
  {
   "cell_type": "code",
   "execution_count": null,
   "id": "e01caea8-399a-4cf4-850a-598ab9423cc1",
   "metadata": {},
   "outputs": [],
   "source": [
    "%debug"
   ]
  },
  {
   "cell_type": "code",
   "execution_count": null,
   "id": "5e846dfa-8349-4205-9fa2-96f3af16c219",
   "metadata": {},
   "outputs": [],
   "source": []
  }
 ],
 "metadata": {
  "kernelspec": {
   "display_name": "Python 3 (ipykernel)",
   "language": "python",
   "name": "python3"
  },
  "language_info": {
   "codemirror_mode": {
    "name": "ipython",
    "version": 3
   },
   "file_extension": ".py",
   "mimetype": "text/x-python",
   "name": "python",
   "nbconvert_exporter": "python",
   "pygments_lexer": "ipython3",
   "version": "3.11.13"
  }
 },
 "nbformat": 4,
 "nbformat_minor": 5
}
