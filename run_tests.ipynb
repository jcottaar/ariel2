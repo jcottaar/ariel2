{
 "cells": [
  {
   "cell_type": "code",
   "execution_count": null,
   "id": "40a06b36-9a1b-4117-8105-469a8bab4d11",
   "metadata": {
    "tags": []
   },
   "outputs": [
    {
     "name": "stdout",
     "output_type": "stream",
     "text": [
      "local\n"
     ]
    },
    {
     "name": "stderr",
     "output_type": "stream",
     "text": [
      "Inferring: 100%|██████████████████████████████████████████████████████████████████████████| 3/3 [00:03<00:00,  1.02s/it]\n",
      "Inferring:  33%|████████████████████████▋                                                 | 1/3 [00:15<00:31, 15.81s/it]"
     ]
    },
    {
     "name": "stdout",
     "output_type": "stream",
     "text": [
      "New solver/alternative transit parameters fallback for planet id 155501234\n"
     ]
    },
    {
     "name": "stderr",
     "output_type": "stream",
     "text": [
      "Inferring: 100%|██████████████████████████████████████████████████████████████████████████| 3/3 [00:59<00:00, 19.87s/it]\n"
     ]
    },
    {
     "name": "stdout",
     "output_type": "stream",
     "text": [
      "Opt time 66.37857222557068\n"
     ]
    },
    {
     "name": "stderr",
     "output_type": "stream",
     "text": [
      "Processing in parallel:   0%|                                                                     | 0/3 [00:00<?, ?it/s]"
     ]
    },
    {
     "name": "stdout",
     "output_type": "stream",
     "text": [
      "local\n",
      "local\n",
      "local\n",
      "SpawnPoolWorker-3 3\n",
      "CUDA_VISIBLE_DEVICES= 0\n",
      "SpawnPoolWorker-1 1\n",
      "CUDA_VISIBLE_DEVICES= 0\n",
      "SpawnPoolWorker-4 4\n",
      "CUDA_VISIBLE_DEVICES= 0\n"
     ]
    },
    {
     "name": "stderr",
     "output_type": "stream",
     "text": [
      "Processing in parallel: 100%|█████████████████████████████████████████████████████████████| 3/3 [00:06<00:00,  2.06s/it]\n",
      "Processing in parallel:   0%|                                                                     | 0/3 [00:00<?, ?it/s]"
     ]
    },
    {
     "name": "stdout",
     "output_type": "stream",
     "text": [
      "locallocal\n",
      "\n",
      "local\n",
      "SpawnPoolWorker-7SpawnPoolWorker-10 10\n",
      " 7\n",
      "CUDA_VISIBLE_DEVICES=CUDA_VISIBLE_DEVICES=  00\n",
      "\n",
      "SpawnPoolWorker-8 8\n",
      "CUDA_VISIBLE_DEVICES= 0\n",
      "New solver/alternative transit parameters fallback for planet id 155501234\n"
     ]
    }
   ],
   "source": [
    "import sys\n",
    "sys.path.append('/mnt/d/ariel2/code/core/')\n",
    "sys.path.append('d:/ariel2/code/core/')\n",
    "import ariel_test\n",
    "#ariel_test.run_loader_test(regenerate_reference=True)\n",
    "#ariel_test.run_model_test(regenerate_reference=True)\n",
    "ariel_test.run_all_tests(regenerate_reference=False)"
   ]
  },
  {
   "cell_type": "code",
   "execution_count": null,
   "id": "e01caea8-399a-4cf4-850a-598ab9423cc1",
   "metadata": {},
   "outputs": [],
   "source": [
    "%debug"
   ]
  },
  {
   "cell_type": "code",
   "execution_count": null,
   "id": "5e846dfa-8349-4205-9fa2-96f3af16c219",
   "metadata": {},
   "outputs": [],
   "source": []
  }
 ],
 "metadata": {
  "kernelspec": {
   "display_name": "Python 3 (ipykernel)",
   "language": "python",
   "name": "python3"
  },
  "language_info": {
   "codemirror_mode": {
    "name": "ipython",
    "version": 3
   },
   "file_extension": ".py",
   "mimetype": "text/x-python",
   "name": "python",
   "nbconvert_exporter": "python",
   "pygments_lexer": "ipython3",
   "version": "3.11.13"
  }
 },
 "nbformat": 4,
 "nbformat_minor": 5
}
