{
 "cells": [
  {
   "cell_type": "code",
   "execution_count": 1,
   "id": "40a06b36-9a1b-4117-8105-469a8bab4d11",
   "metadata": {
    "tags": []
   },
   "outputs": [
    {
     "name": "stdout",
     "output_type": "stream",
     "text": [
      "(3, 32, 282)\n",
      "(32, 282, 3)\n",
      "(3, 32, 282)\n"
     ]
    },
    {
     "name": "stderr",
     "output_type": "stream",
     "text": [
      "Processing in parallel: 100%|█████████████████████████████████████████████████████████████| 3/3 [00:31<00:00, 10.59s/it]\n"
     ]
    },
    {
     "name": "stdout",
     "output_type": "stream",
     "text": [
      "Opt time 38.23637652397156\n",
      "All tests passed!\n"
     ]
    }
   ],
   "source": [
    "import sys\n",
    "sys.path.append('/mnt/d/ariel2/code/core/')\n",
    "sys.path.append('d:/ariel2/code/core/')\n",
    "import ariel_test\n",
    "#ariel_test.run_loader_test(regenerate_reference=True)\n",
    "#ariel_test.run_model_test(regenerate_reference=True)\n",
    "ariel_test.run_all_tests(regenerate_reference=False)"
   ]
  },
  {
   "cell_type": "code",
   "execution_count": 2,
   "id": "e01caea8-399a-4cf4-850a-598ab9423cc1",
   "metadata": {},
   "outputs": [
    {
     "name": "stderr",
     "output_type": "stream",
     "text": [
      "ERROR:root:No traceback has been produced, nothing to debug.\n"
     ]
    }
   ],
   "source": [
    "%debug"
   ]
  },
  {
   "cell_type": "code",
   "execution_count": null,
   "id": "5e846dfa-8349-4205-9fa2-96f3af16c219",
   "metadata": {},
   "outputs": [],
   "source": []
  }
 ],
 "metadata": {
  "kernelspec": {
   "display_name": "Python 3 (ipykernel)",
   "language": "python",
   "name": "python3"
  },
  "language_info": {
   "codemirror_mode": {
    "name": "ipython",
    "version": 3
   },
   "file_extension": ".py",
   "mimetype": "text/x-python",
   "name": "python",
   "nbconvert_exporter": "python",
   "pygments_lexer": "ipython3",
   "version": "3.11.13"
  }
 },
 "nbformat": 4,
 "nbformat_minor": 5
}
