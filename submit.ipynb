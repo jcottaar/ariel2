{
 "cells": [
  {
   "cell_type": "code",
   "execution_count": 1,
   "id": "f83b89e4-ae65-4669-9e78-15f817bc2b71",
   "metadata": {
    "tags": []
   },
   "outputs": [
    {
     "ename": "ModuleNotFoundError",
     "evalue": "No module named 'kaggle_support'",
     "output_type": "error",
     "traceback": [
      "\u001b[31m---------------------------------------------------------------------------\u001b[39m",
      "\u001b[31mModuleNotFoundError\u001b[39m                       Traceback (most recent call last)",
      "\u001b[36mCell\u001b[39m\u001b[36m \u001b[39m\u001b[32mIn[1]\u001b[39m\u001b[32m, line 4\u001b[39m\n\u001b[32m      2\u001b[39m sys.path.append(\u001b[33m'\u001b[39m\u001b[33m/mnt/d/ariel2/code/core/\u001b[39m\u001b[33m'\u001b[39m)\n\u001b[32m      3\u001b[39m sys.path.append(\u001b[33m'\u001b[39m\u001b[33m/kaggle/input/my-ariel2-library\u001b[39m\u001b[33m'\u001b[39m)\n\u001b[32m----> \u001b[39m\u001b[32m4\u001b[39m \u001b[38;5;28;01mimport\u001b[39;00m\u001b[38;5;250m \u001b[39m\u001b[34;01mkaggle_support\u001b[39;00m\u001b[38;5;250m \u001b[39m\u001b[38;5;28;01mas\u001b[39;00m\u001b[38;5;250m \u001b[39m\u001b[34;01mkgs\u001b[39;00m\n\u001b[32m      5\u001b[39m \u001b[38;5;28;01mimport\u001b[39;00m\u001b[38;5;250m \u001b[39m\u001b[34;01mariel_model\u001b[39;00m\n\u001b[32m      6\u001b[39m \u001b[38;5;28;01mimport\u001b[39;00m\u001b[38;5;250m \u001b[39m\u001b[34;01mariel_gp\u001b[39;00m\n",
      "\u001b[31mModuleNotFoundError\u001b[39m: No module named 'kaggle_support'"
     ]
    }
   ],
   "source": [
    "import sys\n",
    "sys.path.append('/mnt/d/ariel2/code/core/')\n",
    "sys.path.append('d:/ariel2/code/core/')\n",
    "sys.path.append('/kaggle/input/my-ariel2-library')\n",
    "import kaggle_support as kgs\n",
    "import ariel_model\n",
    "import ariel_gp"
   ]
  },
  {
   "cell_type": "code",
   "execution_count": null,
   "id": "99b7ffc2-2f42-4ba8-a481-813c55251753",
   "metadata": {
    "tags": []
   },
   "outputs": [],
   "source": [
    "train_data = kgs.load_all_train_data()\n",
    "test_data = kgs.load_all_test_data()\n",
    "len(train_data), len(test_data)\n",
    "fast_mode = True\n",
    "if len(test_data)>1:\n",
    "    # Submission run\n",
    "    fast_mode = False\n",
    "if fast_mode:\n",
    "    train_data = train_data[:500]"
   ]
  },
  {
   "cell_type": "code",
   "execution_count": null,
   "id": "8ab06445-2bfd-4b18-9d1d-57e6e1bd0cc5",
   "metadata": {
    "tags": []
   },
   "outputs": [],
   "source": [
    "model=ariel_model.baseline_model()\n",
    "model.model.run_in_parallel = True\n",
    "try:\n",
    "    model.train(train_data)\n",
    "    if len(test_data)==1:\n",
    "        # Not a submission run\n",
    "        data = train_data\n",
    "    else:\n",
    "        data = test_data\n",
    "    inferred_data = model.infer(data)\n",
    "    if len(test_data)==1:\n",
    "        kgs.score_metric(inferred_data, data)\n",
    "    df = kgs.make_submission_dataframe(inferred_data)\n",
    "    kgs.write_submission_csv(df)\n",
    "except kgs.ArielException as err:\n",
    "    kgs.raise_error_code(err)"
   ]
  },
  {
   "cell_type": "code",
   "execution_count": null,
   "id": "a9b0b9c1-a550-40b1-9fd2-f44d9ba0b319",
   "metadata": {},
   "outputs": [],
   "source": [
    "%debug"
   ]
  },
  {
   "cell_type": "code",
   "execution_count": null,
   "id": "95753661-c746-46ae-8fc0-93bf4f6abb52",
   "metadata": {},
   "outputs": [],
   "source": []
  }
 ],
 "metadata": {
  "kernelspec": {
   "display_name": "Python 3 (ipykernel)",
   "language": "python",
   "name": "python3"
  },
  "language_info": {
   "codemirror_mode": {
    "name": "ipython",
    "version": 3
   },
   "file_extension": ".py",
   "mimetype": "text/x-python",
   "name": "python",
   "nbconvert_exporter": "python",
   "pygments_lexer": "ipython3",
   "version": "3.11.13"
  }
 },
 "nbformat": 4,
 "nbformat_minor": 5
}
