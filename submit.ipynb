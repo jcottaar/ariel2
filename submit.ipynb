{
 "cells": [
  {
   "cell_type": "code",
   "execution_count": 1,
   "id": "f83b89e4-ae65-4669-9e78-15f817bc2b71",
   "metadata": {
    "tags": []
   },
   "outputs": [
    {
     "name": "stdout",
     "output_type": "stream",
     "text": [
      "local\n"
     ]
    }
   ],
   "source": [
    "import sys\n",
    "sys.path.append('/mnt/d/ariel2/code/core/')\n",
    "sys.path.append('/kaggle/input/my-ariel2-library')\n",
    "import kaggle_support as kgs\n",
    "import ariel_model"
   ]
  },
  {
   "cell_type": "code",
   "execution_count": 2,
   "id": "99b7ffc2-2f42-4ba8-a481-813c55251753",
   "metadata": {
    "tags": []
   },
   "outputs": [],
   "source": [
    "train_data = kgs.load_all_train_data()\n",
    "test_data = kgs.load_all_test_data()\n",
    "len(train_data), len(test_data)\n",
    "fast_mode = True\n",
    "if len(test_data)>1:\n",
    "    # Submission run\n",
    "    fast_mode = False\n",
    "if fast_mode:\n",
    "    train_data = train_data[:2]"
   ]
  },
  {
   "cell_type": "code",
   "execution_count": 3,
   "id": "8ab06445-2bfd-4b18-9d1d-57e6e1bd0cc5",
   "metadata": {
    "tags": []
   },
   "outputs": [
    {
     "name": "stdout",
     "output_type": "stream",
     "text": [
      "!!!\n",
      "model.model again\n"
     ]
    },
    {
     "name": "stderr",
     "output_type": "stream",
     "text": [
      "Processing in parallel: 100%|█████████████████████████████████████████████████████████████| 2/2 [00:03<00:00,  1.90s/it]"
     ]
    },
    {
     "name": "stdout",
     "output_type": "stream",
     "text": [
      "local\n",
      "local\n",
      "Score:          0.3976\n",
      "RMS error FGS:  215.42 ppm\n",
      "RMS error AIRS: 288.97 ppm\n"
     ]
    },
    {
     "name": "stderr",
     "output_type": "stream",
     "text": [
      "\n"
     ]
    }
   ],
   "source": [
    "model=ariel_model.baseline_model()\n",
    "model.model.run_in_parallel = True\n",
    "try:\n",
    "    model.train(train_data)\n",
    "    if len(test_data)==1:\n",
    "        # Not a submission run\n",
    "        data = train_data\n",
    "    else:\n",
    "        data = test_data\n",
    "    inferred_data = model.infer(data)\n",
    "    if len(test_data)==1:\n",
    "        kgs.score_metric(inferred_data, data)\n",
    "    df = kgs.make_submission_dataframe(inferred_data)\n",
    "    kgs.write_submission_csv(df)\n",
    "except kgs.ArielException as err:\n",
    "    kgs.raise_error_code(err)"
   ]
  },
  {
   "cell_type": "code",
   "execution_count": null,
   "id": "a9b0b9c1-a550-40b1-9fd2-f44d9ba0b319",
   "metadata": {},
   "outputs": [],
   "source": []
  }
 ],
 "metadata": {
  "kernelspec": {
   "display_name": "Python 3 (ipykernel)",
   "language": "python",
   "name": "python3"
  },
  "language_info": {
   "codemirror_mode": {
    "name": "ipython",
    "version": 3
   },
   "file_extension": ".py",
   "mimetype": "text/x-python",
   "name": "python",
   "nbconvert_exporter": "python",
   "pygments_lexer": "ipython3",
   "version": "3.11.13"
  }
 },
 "nbformat": 4,
 "nbformat_minor": 5
}
