{
 "cells": [
  {
   "cell_type": "code",
   "execution_count": 1,
   "id": "865d54d7-b239-49eb-be92-484d63c870d5",
   "metadata": {
    "tags": []
   },
   "outputs": [
    {
     "name": "stdout",
     "output_type": "stream",
     "text": [
      "local\n"
     ]
    }
   ],
   "source": [
    "import sys\n",
    "sys.path.append('/mnt/d/ariel2/code/core/')\n",
    "import subprocess\n",
    "import kaggle_support as kgs"
   ]
  },
  {
   "cell_type": "code",
   "execution_count": 2,
   "id": "6dfdc927-8258-45b7-aed2-9a3fc3348bbd",
   "metadata": {
    "tags": []
   },
   "outputs": [],
   "source": [
    "def do_upload(library_name, local_dir):\n",
    "    if kgs.env=='vast':\n",
    "        raise 'todo'\n",
    "        subprocess.run('rm -rf /kaggle_temp', shell=True)\n",
    "        subprocess.run('mkdir /kaggle_temp/', shell=True)\n",
    "        subprocess.run('kaggle datasets metadata -p /kaggle_temp/ ' + library_name, shell=True)\n",
    "        subprocess.run('cp '+local_dir+' /kaggle_temp/', shell=True)\n",
    "        subprocess.run('kaggle datasets version -p /kaggle_temp/ -m '+kgs.git_commit_id, shell=True)\n",
    "    else:\n",
    "        subprocess.run('rm -rf /mnt/d/kaggle_temp', shell=True)\n",
    "        subprocess.run('mkdir /mnt/d/kaggle_temp', shell=True)\n",
    "        subprocess.run('kaggle datasets metadata -p /mnt/d/kaggle_temp ' + library_name, shell=True)\n",
    "        subprocess.run('cp '+local_dir+' /mnt/d/kaggle_temp/', shell=True)\n",
    "        print('kaggle datasets version -p /mnt/d//kaggle_temp/ -m '+kgs.git_commit_id)\n",
    "        subprocess.run('kaggle datasets version -p /mnt/d//kaggle_temp/ -m '+kgs.git_commit_id, shell=True)"
   ]
  },
  {
   "cell_type": "code",
   "execution_count": 3,
   "id": "8b8287d3-c79c-4329-8560-2cf42e8a8497",
   "metadata": {
    "tags": []
   },
   "outputs": [
    {
     "name": "stdout",
     "output_type": "stream",
     "text": [
      "Warning: Your Kaggle API key is readable by other users on this system! To fix this, you can run 'chmod 600 /home/jcottaar/.config/kaggle/kaggle.json'\n",
      "Warning: Looks like you're using an outdated API Version, please consider updating (server 1.7.4.2 / client 1.6.17)\n",
      "Downloaded metadata to /mnt/d/kaggle_temp/dataset-metadata.json\n",
      "kaggle datasets version -p /mnt/d//kaggle_temp/ -m 7577cd768439bed49768eb9e2104aa1ee33801b4\n",
      "Warning: Your Kaggle API key is readable by other users on this system! To fix this, you can run 'chmod 600 /home/jcottaar/.config/kaggle/kaggle.json'\n",
      "Starting upload for file ariel_diagnostics.py\n",
      "Warning: Looks like you're using an outdated API Version, please consider updating (server 1.7.4.2 / client 1.6.17)\n"
     ]
    },
    {
     "name": "stderr",
     "output_type": "stream",
     "text": [
      "100%|██████████| 1.38k/1.38k [00:00<00:00, 3.45kB/s]\n",
      "  0%|          | 0.00/71.2k [00:00<?, ?B/s]"
     ]
    },
    {
     "name": "stdout",
     "output_type": "stream",
     "text": [
      "Upload successful: ariel_diagnostics.py (1KB)\n",
      "Starting upload for file ariel_gp.py\n"
     ]
    },
    {
     "name": "stderr",
     "output_type": "stream",
     "text": [
      "100%|██████████| 71.2k/71.2k [00:00<00:00, 138kB/s]\n",
      "  0%|          | 0.00/39.5k [00:00<?, ?B/s]"
     ]
    },
    {
     "name": "stdout",
     "output_type": "stream",
     "text": [
      "Upload successful: ariel_gp.py (71KB)\n",
      "Starting upload for file ariel_load.py\n"
     ]
    },
    {
     "name": "stderr",
     "output_type": "stream",
     "text": [
      "100%|██████████| 39.5k/39.5k [00:00<00:00, 98.0kB/s]\n",
      "  0%|          | 0.00/7.26k [00:00<?, ?B/s]"
     ]
    },
    {
     "name": "stdout",
     "output_type": "stream",
     "text": [
      "Upload successful: ariel_load.py (40KB)\n",
      "Starting upload for file ariel_load_AIRS.py\n"
     ]
    },
    {
     "name": "stderr",
     "output_type": "stream",
     "text": [
      "100%|██████████| 7.26k/7.26k [00:00<00:00, 17.5kB/s]\n",
      "  0%|          | 0.00/11.6k [00:00<?, ?B/s]"
     ]
    },
    {
     "name": "stdout",
     "output_type": "stream",
     "text": [
      "Upload successful: ariel_load_AIRS.py (7KB)\n",
      "Starting upload for file ariel_load_FGS.py\n"
     ]
    },
    {
     "name": "stderr",
     "output_type": "stream",
     "text": [
      "100%|██████████| 11.6k/11.6k [00:00<00:00, 29.1kB/s]\n",
      "  0%|          | 0.00/17.8k [00:00<?, ?B/s]"
     ]
    },
    {
     "name": "stdout",
     "output_type": "stream",
     "text": [
      "Upload successful: ariel_load_FGS.py (12KB)\n",
      "Starting upload for file ariel_model.py\n"
     ]
    },
    {
     "name": "stderr",
     "output_type": "stream",
     "text": [
      "100%|██████████| 17.8k/17.8k [00:00<00:00, 40.4kB/s]\n",
      "  0%|          | 0.00/26.0k [00:00<?, ?B/s]"
     ]
    },
    {
     "name": "stdout",
     "output_type": "stream",
     "text": [
      "Upload successful: ariel_model.py (18KB)\n",
      "Starting upload for file ariel_numerics.py\n"
     ]
    },
    {
     "name": "stderr",
     "output_type": "stream",
     "text": [
      "100%|██████████| 26.0k/26.0k [00:00<00:00, 59.1kB/s]\n",
      "  0%|          | 0.00/3.68k [00:00<?, ?B/s]"
     ]
    },
    {
     "name": "stdout",
     "output_type": "stream",
     "text": [
      "Upload successful: ariel_numerics.py (26KB)\n",
      "Starting upload for file ariel_pca.py\n"
     ]
    },
    {
     "name": "stderr",
     "output_type": "stream",
     "text": [
      "100%|██████████| 3.68k/3.68k [00:00<00:00, 8.49kB/s]\n",
      "  0%|          | 0.00/18.7k [00:00<?, ?B/s]"
     ]
    },
    {
     "name": "stdout",
     "output_type": "stream",
     "text": [
      "Upload successful: ariel_pca.py (4KB)\n",
      "Starting upload for file ariel_simple.py\n"
     ]
    },
    {
     "name": "stderr",
     "output_type": "stream",
     "text": [
      "100%|██████████| 18.7k/18.7k [00:00<00:00, 45.6kB/s]\n",
      "  0%|          | 0.00/22.1k [00:00<?, ?B/s]"
     ]
    },
    {
     "name": "stdout",
     "output_type": "stream",
     "text": [
      "Upload successful: ariel_simple.py (19KB)\n",
      "Starting upload for file ariel_simple2.py\n"
     ]
    },
    {
     "name": "stderr",
     "output_type": "stream",
     "text": [
      "100%|██████████| 22.1k/22.1k [00:00<00:00, 48.8kB/s]\n",
      "  0%|          | 0.00/2.64k [00:00<?, ?B/s]"
     ]
    },
    {
     "name": "stdout",
     "output_type": "stream",
     "text": [
      "Upload successful: ariel_simple2.py (22KB)\n",
      "Starting upload for file ariel_test.py\n"
     ]
    },
    {
     "name": "stderr",
     "output_type": "stream",
     "text": [
      "100%|██████████| 2.64k/2.64k [00:00<00:00, 6.12kB/s]\n",
      "  0%|          | 0.00/6.55k [00:00<?, ?B/s]"
     ]
    },
    {
     "name": "stdout",
     "output_type": "stream",
     "text": [
      "Upload successful: ariel_test.py (3KB)\n",
      "Starting upload for file ariel_transit.py\n"
     ]
    },
    {
     "name": "stderr",
     "output_type": "stream",
     "text": [
      "100%|██████████| 6.55k/6.55k [00:00<00:00, 15.2kB/s]\n",
      "  0%|          | 0.00/431 [00:00<?, ?B/s]"
     ]
    },
    {
     "name": "stdout",
     "output_type": "stream",
     "text": [
      "Upload successful: ariel_transit.py (7KB)\n",
      "Starting upload for file drift_hyperparameters.pickle\n"
     ]
    },
    {
     "name": "stderr",
     "output_type": "stream",
     "text": [
      "100%|██████████| 431/431 [00:00<00:00, 998B/s]\n",
      "  0%|          | 0.00/265 [00:00<?, ?B/s]"
     ]
    },
    {
     "name": "stdout",
     "output_type": "stream",
     "text": [
      "Upload successful: drift_hyperparameters.pickle (431B)\n",
      "Starting upload for file drift_hyperparameters_fgs.pickle\n"
     ]
    },
    {
     "name": "stderr",
     "output_type": "stream",
     "text": [
      "100%|██████████| 265/265 [00:00<00:00, 641B/s]\n",
      "  0%|          | 0.00/589 [00:00<?, ?B/s]"
     ]
    },
    {
     "name": "stdout",
     "output_type": "stream",
     "text": [
      "Upload successful: drift_hyperparameters_fgs.pickle (265B)\n",
      "Starting upload for file drift_hyperparameters_fgs_old.pickle\n"
     ]
    },
    {
     "name": "stderr",
     "output_type": "stream",
     "text": [
      "100%|██████████| 589/589 [00:00<00:00, 1.47kB/s]\n",
      "  0%|          | 0.00/1.46k [00:00<?, ?B/s]"
     ]
    },
    {
     "name": "stdout",
     "output_type": "stream",
     "text": [
      "Upload successful: drift_hyperparameters_fgs_old.pickle (589B)\n",
      "Starting upload for file drift_hyperparameters_old.pickle\n"
     ]
    },
    {
     "name": "stderr",
     "output_type": "stream",
     "text": [
      "100%|██████████| 1.46k/1.46k [00:00<00:00, 3.45kB/s]\n",
      "  0%|          | 0.00/64.7k [00:00<?, ?B/s]"
     ]
    },
    {
     "name": "stdout",
     "output_type": "stream",
     "text": [
      "Upload successful: drift_hyperparameters_old.pickle (1KB)\n",
      "Starting upload for file gp.py\n"
     ]
    },
    {
     "name": "stderr",
     "output_type": "stream",
     "text": [
      "100%|██████████| 64.7k/64.7k [00:00<00:00, 111kB/s]\n",
      "  0%|          | 0.00/469k [00:00<?, ?B/s]"
     ]
    },
    {
     "name": "stdout",
     "output_type": "stream",
     "text": [
      "Upload successful: gp.py (65KB)\n",
      "Starting upload for file ingress_egress_window3.pickle\n"
     ]
    },
    {
     "name": "stderr",
     "output_type": "stream",
     "text": [
      "100%|██████████| 469k/469k [00:00<00:00, 572kB/s] \n",
      "  0%|          | 0.00/36.4k [00:00<?, ?B/s]"
     ]
    },
    {
     "name": "stdout",
     "output_type": "stream",
     "text": [
      "Upload successful: ingress_egress_window3.pickle (469KB)\n",
      "Starting upload for file kaggle_support.py\n"
     ]
    },
    {
     "name": "stderr",
     "output_type": "stream",
     "text": [
      "100%|██████████| 36.4k/36.4k [00:00<00:00, 79.1kB/s]\n",
      "  0%|          | 0.00/2.43M [00:00<?, ?B/s]"
     ]
    },
    {
     "name": "stdout",
     "output_type": "stream",
     "text": [
      "Upload successful: kaggle_support.py (36KB)\n",
      "Starting upload for file loader_test.pickle\n"
     ]
    },
    {
     "name": "stderr",
     "output_type": "stream",
     "text": [
      "100%|██████████| 2.43M/2.43M [00:01<00:00, 1.91MB/s]\n",
      "  0%|          | 0.00/1.86M [00:00<?, ?B/s]"
     ]
    },
    {
     "name": "stdout",
     "output_type": "stream",
     "text": [
      "Upload successful: loader_test.pickle (2MB)\n",
      "Starting upload for file model_baseline_test.pickle\n"
     ]
    },
    {
     "name": "stderr",
     "output_type": "stream",
     "text": [
      "100%|██████████| 1.86M/1.86M [00:01<00:00, 1.49MB/s]\n",
      "  0%|          | 0.00/1.85M [00:00<?, ?B/s]"
     ]
    },
    {
     "name": "stdout",
     "output_type": "stream",
     "text": [
      "Upload successful: model_baseline_test.pickle (2MB)\n",
      "Starting upload for file model_simple_test.pickle\n"
     ]
    },
    {
     "name": "stderr",
     "output_type": "stream",
     "text": [
      "100%|██████████| 1.85M/1.85M [00:01<00:00, 1.66MB/s]\n",
      "  0%|          | 0.00/89.0k [00:00<?, ?B/s]"
     ]
    },
    {
     "name": "stdout",
     "output_type": "stream",
     "text": [
      "Upload successful: model_simple_test.pickle (2MB)\n",
      "Starting upload for file reference_submission.ipynb\n"
     ]
    },
    {
     "name": "stderr",
     "output_type": "stream",
     "text": [
      "100%|██████████| 89.0k/89.0k [00:00<00:00, 185kB/s]\n",
      "  0%|          | 0.00/630k [00:00<?, ?B/s]"
     ]
    },
    {
     "name": "stdout",
     "output_type": "stream",
     "text": [
      "Upload successful: reference_submission.ipynb (89KB)\n",
      "Starting upload for file transit_depth_gp_with_pca.pickle\n"
     ]
    },
    {
     "name": "stderr",
     "output_type": "stream",
     "text": [
      "100%|██████████| 630k/630k [00:00<00:00, 676kB/s] \n",
      "  0%|          | 0.00/614 [00:00<?, ?B/s]"
     ]
    },
    {
     "name": "stdout",
     "output_type": "stream",
     "text": [
      "Upload successful: transit_depth_gp_with_pca.pickle (630KB)\n",
      "Starting upload for file transit_depth_new.pickle\n"
     ]
    },
    {
     "name": "stderr",
     "output_type": "stream",
     "text": [
      "100%|██████████| 614/614 [00:00<00:00, 1.48kB/s]\n"
     ]
    },
    {
     "name": "stdout",
     "output_type": "stream",
     "text": [
      "Upload successful: transit_depth_new.pickle (614B)\n",
      "Dataset version is being created. Please check progress at https://www.kaggle.com/datasets/jeroencottaar/my-ariel2-library\n"
     ]
    }
   ],
   "source": [
    "if kgs.env=='vast':\n",
    "    raise 'todo'\n",
    "    do_upload('jeroencottaar/my-seismic-library', '/seismic/code/core/*.*')\n",
    "else:\n",
    "    do_upload('jeroencottaar/my-ariel2-library', '/mnt/d/ariel2/code/core/*.*')"
   ]
  },
  {
   "cell_type": "code",
   "execution_count": 4,
   "id": "bc318cda-2137-468f-b541-8a5c58b5fc80",
   "metadata": {
    "tags": []
   },
   "outputs": [
    {
     "name": "stdout",
     "output_type": "stream",
     "text": [
      "Warning: Your Kaggle API key is readable by other users on this system! To fix this, you can run 'chmod 600 /home/jcottaar/.config/kaggle/kaggle.json'\n",
      "Warning: Looks like you're using an outdated API Version, please consider updating (server 1.7.4.2 / client 1.6.17)\n",
      "Downloaded metadata to /mnt/d/kaggle_temp/dataset-metadata.json\n",
      "kaggle datasets version -p /mnt/d//kaggle_temp/ -m 32682897d50294d30a690bb71a405ad018469a34\n",
      "Warning: Your Kaggle API key is readable by other users on this system! To fix this, you can run 'chmod 600 /home/jcottaar/.config/kaggle/kaggle.json'\n",
      "Starting upload for file evaluate_model_New AIRS__1099.pickle\n",
      "Warning: Looks like you're using an outdated API Version, please consider updating (server 1.7.4.2 / client 1.6.17)\n"
     ]
    },
    {
     "name": "stderr",
     "output_type": "stream",
     "text": [
      "100%|██████████| 1.34G/1.34G [05:13<00:00, 4.58MB/s]\n",
      "  0%|          | 0.00/1.34G [00:00<?, ?B/s]"
     ]
    },
    {
     "name": "stdout",
     "output_type": "stream",
     "text": [
      "Upload successful: evaluate_model_New AIRS__1099.pickle (1GB)\n",
      "Starting upload for file evaluate_model_New new baseline__1099.pickle\n"
     ]
    },
    {
     "name": "stderr",
     "output_type": "stream",
     "text": [
      "100%|██████████| 1.34G/1.34G [06:20<00:00, 3.77MB/s]\n",
      "  0%|          | 0.00/1.34G [00:00<?, ?B/s]"
     ]
    },
    {
     "name": "stdout",
     "output_type": "stream",
     "text": [
      "Upload successful: evaluate_model_New new baseline__1099.pickle (1GB)\n",
      "Starting upload for file evaluate_model_Ts slopes__1099.pickle\n"
     ]
    },
    {
     "name": "stderr",
     "output_type": "stream",
     "text": [
      "100%|██████████| 1.34G/1.34G [05:37<00:00, 4.26MB/s] \n"
     ]
    },
    {
     "name": "stdout",
     "output_type": "stream",
     "text": [
      "Upload successful: evaluate_model_Ts slopes__1099.pickle (1GB)\n",
      "Dataset version is being created. Please check progress at https://www.kaggle.com/datasets/jeroencottaar/my-ariel2-model\n"
     ]
    }
   ],
   "source": [
    "do_upload('jeroencottaar/my-ariel2-model', '/mnt/d/ariel2/temp/evaluate_model_*1099*.pickle')    "
   ]
  },
  {
   "cell_type": "code",
   "execution_count": 4,
   "id": "4278384a-a17f-4d49-b614-31f408987588",
   "metadata": {
    "tags": []
   },
   "outputs": [
    {
     "name": "stdout",
     "output_type": "stream",
     "text": [
      "Warning: Your Kaggle API key is readable by other users on this system! To fix this, you can run 'chmod 600 /home/jcottaar/.config/kaggle/kaggle.json'\n",
      "Warning: Looks like you're using an outdated API Version, please consider updating (server 1.7.4.2 / client 1.6.17)\n",
      "Downloaded metadata to /mnt/d/kaggle_temp/dataset-metadata.json\n",
      "kaggle datasets version -p /mnt/d//kaggle_temp/ -m 7577cd768439bed49768eb9e2104aa1ee33801b4\n",
      "Warning: Your Kaggle API key is readable by other users on this system! To fix this, you can run 'chmod 600 /home/jcottaar/.config/kaggle/kaggle.json'\n",
      "Starting upload for file AIRS_base_scaling.pickle\n",
      "Warning: Looks like you're using an outdated API Version, please consider updating (server 1.7.4.2 / client 1.6.17)\n"
     ]
    },
    {
     "name": "stderr",
     "output_type": "stream",
     "text": [
      "100%|██████████| 2.38k/2.38k [00:00<00:00, 5.72kB/s]\n",
      "  0%|          | 0.00/2.38k [00:00<?, ?B/s]"
     ]
    },
    {
     "name": "stdout",
     "output_type": "stream",
     "text": [
      "Upload successful: AIRS_base_scaling.pickle (2KB)\n",
      "Starting upload for file AIRS_base_scaling6.pickle\n"
     ]
    },
    {
     "name": "stderr",
     "output_type": "stream",
     "text": [
      "100%|██████████| 2.38k/2.38k [00:00<00:00, 5.07kB/s]\n",
      "  0%|          | 0.00/70.7k [00:00<?, ?B/s]"
     ]
    },
    {
     "name": "stdout",
     "output_type": "stream",
     "text": [
      "Upload successful: AIRS_base_scaling6.pickle (2KB)\n",
      "Starting upload for file AIRS_C0.pickle\n"
     ]
    },
    {
     "name": "stderr",
     "output_type": "stream",
     "text": [
      "100%|██████████| 70.7k/70.7k [00:00<00:00, 137kB/s]\n",
      "  0%|          | 0.00/70.7k [00:00<?, ?B/s]"
     ]
    },
    {
     "name": "stdout",
     "output_type": "stream",
     "text": [
      "Upload successful: AIRS_C0.pickle (71KB)\n",
      "Starting upload for file AIRS_C0_2.pickle\n"
     ]
    },
    {
     "name": "stderr",
     "output_type": "stream",
     "text": [
      "100%|██████████| 70.7k/70.7k [00:00<00:00, 122kB/s]\n",
      "  0%|          | 0.00/212k [00:00<?, ?B/s]"
     ]
    },
    {
     "name": "stdout",
     "output_type": "stream",
     "text": [
      "Upload successful: AIRS_C0_2.pickle (71KB)\n",
      "Starting upload for file AIRS_C6.pickle\n"
     ]
    },
    {
     "name": "stderr",
     "output_type": "stream",
     "text": [
      "100%|██████████| 212k/212k [00:00<00:00, 265kB/s] \n",
      "  0%|          | 0.00/28.0M [00:00<?, ?B/s]"
     ]
    },
    {
     "name": "stdout",
     "output_type": "stream",
     "text": [
      "Upload successful: AIRS_C6.pickle (212KB)\n",
      "Starting upload for file AIRS_jitter.pickle\n"
     ]
    },
    {
     "name": "stderr",
     "output_type": "stream",
     "text": [
      "100%|██████████| 28.0M/28.0M [00:09<00:00, 2.97MB/s]\n",
      "  0%|          | 0.00/28.5M [00:00<?, ?B/s]"
     ]
    },
    {
     "name": "stdout",
     "output_type": "stream",
     "text": [
      "Upload successful: AIRS_jitter.pickle (28MB)\n",
      "Starting upload for file AIRS_jitter6.pickle\n"
     ]
    },
    {
     "name": "stderr",
     "output_type": "stream",
     "text": [
      "100%|██████████| 28.5M/28.5M [00:05<00:00, 5.61MB/s]\n",
      "  0%|          | 0.00/5.00 [00:00<?, ?B/s]"
     ]
    },
    {
     "name": "stdout",
     "output_type": "stream",
     "text": [
      "Upload successful: AIRS_jitter6.pickle (29MB)\n",
      "Starting upload for file AIRS_rr.pickle\n"
     ]
    },
    {
     "name": "stderr",
     "output_type": "stream",
     "text": [
      "100%|██████████| 5.00/5.00 [00:00<00:00, 12.7B/s]\n",
      "  0%|          | 0.00/208 [00:00<?, ?B/s]"
     ]
    },
    {
     "name": "stdout",
     "output_type": "stream",
     "text": [
      "Upload successful: AIRS_rr.pickle (5B)\n",
      "Starting upload for file AIRS_rr2.pickle\n"
     ]
    },
    {
     "name": "stderr",
     "output_type": "stream",
     "text": [
      "100%|██████████| 208/208 [00:00<00:00, 509B/s]\n",
      "  0%|          | 0.00/205 [00:00<?, ?B/s]"
     ]
    },
    {
     "name": "stdout",
     "output_type": "stream",
     "text": [
      "Upload successful: AIRS_rr2.pickle (208B)\n",
      "Starting upload for file AIRS_weights6.pickle\n"
     ]
    },
    {
     "name": "stderr",
     "output_type": "stream",
     "text": [
      "100%|██████████| 205/205 [00:00<00:00, 479B/s]\n",
      "  0%|          | 0.00/289M [00:00<?, ?B/s]"
     ]
    },
    {
     "name": "stdout",
     "output_type": "stream",
     "text": [
      "Upload successful: AIRS_weights6.pickle (205B)\n",
      "Starting upload for file explore_bad_pixels_pca.pickle\n"
     ]
    },
    {
     "name": "stderr",
     "output_type": "stream",
     "text": [
      "100%|██████████| 289M/289M [00:52<00:00, 5.74MB/s] \n",
      "  0%|          | 0.00/171k [00:00<?, ?B/s]"
     ]
    },
    {
     "name": "stdout",
     "output_type": "stream",
     "text": [
      "Upload successful: explore_bad_pixels_pca.pickle (289MB)\n",
      "Starting upload for file explore_base_shape_from_pca_coeff_list.pickle\n"
     ]
    },
    {
     "name": "stderr",
     "output_type": "stream",
     "text": [
      "100%|██████████| 171k/171k [00:00<00:00, 241kB/s] \n"
     ]
    },
    {
     "name": "stdout",
     "output_type": "stream",
     "text": [
      "Upload successful: explore_base_shape_from_pca_coeff_list.pickle (171KB)\n",
      "Starting upload for file FGS_C0_2.pickle\n"
     ]
    },
    {
     "name": "stderr",
     "output_type": "stream",
     "text": [
      "100%|██████████| 8.21k/8.21k [00:00<00:00, 20.6kB/s]\n",
      "  0%|          | 0.00/24.1M [00:00<?, ?B/s]"
     ]
    },
    {
     "name": "stdout",
     "output_type": "stream",
     "text": [
      "Upload successful: FGS_C0_2.pickle (8KB)\n",
      "Starting upload for file FGS_jitter.pickle\n"
     ]
    },
    {
     "name": "stderr",
     "output_type": "stream",
     "text": [
      "100%|██████████| 24.1M/24.1M [00:07<00:00, 3.18MB/s]\n",
      "  0%|          | 0.00/253 [00:00<?, ?B/s]"
     ]
    },
    {
     "name": "stdout",
     "output_type": "stream",
     "text": [
      "Upload successful: FGS_jitter.pickle (24MB)\n",
      "Starting upload for file FGS_weights.pickle\n"
     ]
    },
    {
     "name": "stderr",
     "output_type": "stream",
     "text": [
      "100%|██████████| 253/253 [00:00<00:00, 626B/s]\n",
      "  0%|          | 0.00/1.25k [00:00<?, ?B/s]"
     ]
    },
    {
     "name": "stdout",
     "output_type": "stream",
     "text": [
      "Upload successful: FGS_weights.pickle (253B)\n",
      "Starting upload for file transit_model_tuning28.pickle\n"
     ]
    },
    {
     "name": "stderr",
     "output_type": "stream",
     "text": [
      "100%|██████████| 1.25k/1.25k [00:00<00:00, 3.22kB/s]\n",
      "  0%|          | 0.00/1.25k [00:00<?, ?B/s]"
     ]
    },
    {
     "name": "stdout",
     "output_type": "stream",
     "text": [
      "Upload successful: transit_model_tuning28.pickle (1KB)\n",
      "Starting upload for file transit_model_tuning9.pickle\n"
     ]
    },
    {
     "name": "stderr",
     "output_type": "stream",
     "text": [
      "100%|██████████| 1.25k/1.25k [00:00<00:00, 3.34kB/s]\n"
     ]
    },
    {
     "name": "stdout",
     "output_type": "stream",
     "text": [
      "Upload successful: transit_model_tuning9.pickle (1KB)\n",
      "Dataset version is being created. Please check progress at https://www.kaggle.com/datasets/jeroencottaar/my-ariel2-calibration\n"
     ]
    }
   ],
   "source": [
    "do_upload('jeroencottaar/my-ariel2-calibration', '/mnt/d/ariel2/calibration/*.pickle')    "
   ]
  },
  {
   "cell_type": "code",
   "execution_count": null,
   "id": "b9453353-4e56-4128-871b-12bc8c0c731a",
   "metadata": {},
   "outputs": [],
   "source": []
  }
 ],
 "metadata": {
  "kernelspec": {
   "display_name": "Python 3 (ipykernel)",
   "language": "python",
   "name": "python3"
  },
  "language_info": {
   "codemirror_mode": {
    "name": "ipython",
    "version": 3
   },
   "file_extension": ".py",
   "mimetype": "text/x-python",
   "name": "python",
   "nbconvert_exporter": "python",
   "pygments_lexer": "ipython3",
   "version": "3.11.13"
  }
 },
 "nbformat": 4,
 "nbformat_minor": 5
}
