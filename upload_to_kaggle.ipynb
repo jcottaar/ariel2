{
 "cells": [
  {
   "cell_type": "code",
   "execution_count": 1,
   "id": "865d54d7-b239-49eb-be92-484d63c870d5",
   "metadata": {
    "tags": []
   },
   "outputs": [
    {
     "name": "stdout",
     "output_type": "stream",
     "text": [
      "local\n"
     ]
    }
   ],
   "source": [
    "import sys\n",
    "sys.path.append('/mnt/d/ariel2/code/core/')\n",
    "import subprocess\n",
    "import kaggle_support as kgs"
   ]
  },
  {
   "cell_type": "code",
   "execution_count": 2,
   "id": "6dfdc927-8258-45b7-aed2-9a3fc3348bbd",
   "metadata": {
    "tags": []
   },
   "outputs": [],
   "source": [
    "def do_upload(library_name, local_dir):\n",
    "    if kgs.env=='vast':\n",
    "        raise 'todo'\n",
    "        subprocess.run('rm -rf /kaggle_temp', shell=True)\n",
    "        subprocess.run('mkdir /kaggle_temp/', shell=True)\n",
    "        subprocess.run('kaggle datasets metadata -p /kaggle_temp/ ' + library_name, shell=True)\n",
    "        subprocess.run('cp '+local_dir+' /kaggle_temp/', shell=True)\n",
    "        subprocess.run('kaggle datasets version -p /kaggle_temp/ -m '+kgs.git_commit_id, shell=True)\n",
    "    else:\n",
    "        subprocess.run('rm -rf /mnt/d/kaggle_temp', shell=True)\n",
    "        subprocess.run('mkdir /mnt/d/kaggle_temp', shell=True)\n",
    "        subprocess.run('kaggle datasets metadata -p /mnt/d/kaggle_temp ' + library_name, shell=True)\n",
    "        subprocess.run('cp '+local_dir+' /mnt/d/kaggle_temp/', shell=True)\n",
    "        print('kaggle datasets version -p /mnt/d//kaggle_temp/ -m '+kgs.git_commit_id)\n",
    "        subprocess.run('kaggle datasets version -p /mnt/d//kaggle_temp/ -m '+kgs.git_commit_id, shell=True)"
   ]
  },
  {
   "cell_type": "code",
   "execution_count": 3,
   "id": "8b8287d3-c79c-4329-8560-2cf42e8a8497",
   "metadata": {
    "tags": []
   },
   "outputs": [
    {
     "name": "stdout",
     "output_type": "stream",
     "text": [
      "Warning: Your Kaggle API key is readable by other users on this system! To fix this, you can run 'chmod 600 /home/jcottaar/.config/kaggle/kaggle.json'\n",
      "Warning: Looks like you're using an outdated API Version, please consider updating (server 1.7.4.2 / client 1.6.17)\n",
      "Downloaded metadata to /mnt/d/kaggle_temp/dataset-metadata.json\n",
      "kaggle datasets version -p /mnt/d//kaggle_temp/ -m b92d4f37e24f663e3fa9d395dbe1c89122a77807\n",
      "Warning: Your Kaggle API key is readable by other users on this system! To fix this, you can run 'chmod 600 /home/jcottaar/.config/kaggle/kaggle.json'\n",
      "Starting upload for file ariel_diagnostics.py\n",
      "Warning: Looks like you're using an outdated API Version, please consider updating (server 1.7.4.2 / client 1.6.17)\n"
     ]
    },
    {
     "name": "stderr",
     "output_type": "stream",
     "text": [
      "100%|██████████| 1.38k/1.38k [00:00<00:00, 3.22kB/s]\n",
      "  0%|          | 0.00/40.6k [00:00<?, ?B/s]"
     ]
    },
    {
     "name": "stdout",
     "output_type": "stream",
     "text": [
      "Upload successful: ariel_diagnostics.py (1KB)\n",
      "Starting upload for file ariel_gp-Copy1.py\n"
     ]
    },
    {
     "name": "stderr",
     "output_type": "stream",
     "text": [
      "100%|██████████| 40.6k/40.6k [00:00<00:00, 81.1kB/s]\n",
      "  0%|          | 0.00/66.9k [00:00<?, ?B/s]"
     ]
    },
    {
     "name": "stdout",
     "output_type": "stream",
     "text": [
      "Upload successful: ariel_gp-Copy1.py (41KB)\n",
      "Starting upload for file ariel_gp.py\n"
     ]
    },
    {
     "name": "stderr",
     "output_type": "stream",
     "text": [
      "100%|██████████| 66.9k/66.9k [00:00<00:00, 122kB/s]\n",
      "  0%|          | 0.00/39.4k [00:00<?, ?B/s]"
     ]
    },
    {
     "name": "stdout",
     "output_type": "stream",
     "text": [
      "Upload successful: ariel_gp.py (67KB)\n",
      "Starting upload for file ariel_load.py\n"
     ]
    },
    {
     "name": "stderr",
     "output_type": "stream",
     "text": [
      "100%|██████████| 39.4k/39.4k [00:00<00:00, 77.8kB/s]\n",
      "  0%|          | 0.00/11.6k [00:00<?, ?B/s]"
     ]
    },
    {
     "name": "stdout",
     "output_type": "stream",
     "text": [
      "Upload successful: ariel_load.py (39KB)\n",
      "Starting upload for file ariel_load_FGS.py\n"
     ]
    },
    {
     "name": "stderr",
     "output_type": "stream",
     "text": [
      "100%|██████████| 11.6k/11.6k [00:00<00:00, -81.0kB/s]\n",
      "  0%|          | 0.00/14.9k [00:00<?, ?B/s]"
     ]
    },
    {
     "name": "stdout",
     "output_type": "stream",
     "text": [
      "Upload successful: ariel_load_FGS.py (12KB)\n",
      "Starting upload for file ariel_model.py\n"
     ]
    },
    {
     "name": "stderr",
     "output_type": "stream",
     "text": [
      "100%|██████████| 14.9k/14.9k [00:00<00:00, 32.2kB/s]\n"
     ]
    },
    {
     "name": "stdout",
     "output_type": "stream",
     "text": [
      "Upload successful: ariel_model.py (15KB)\n",
      "Starting upload for file ariel_numerics.py\n"
     ]
    },
    {
     "name": "stderr",
     "output_type": "stream",
     "text": [
      "100%|██████████| 26.0k/26.0k [00:00<00:00, 58.3kB/s]\n",
      "  0%|          | 0.00/18.7k [00:00<?, ?B/s]"
     ]
    },
    {
     "name": "stdout",
     "output_type": "stream",
     "text": [
      "Upload successful: ariel_numerics.py (26KB)\n",
      "Starting upload for file ariel_simple.py\n"
     ]
    },
    {
     "name": "stderr",
     "output_type": "stream",
     "text": [
      "100%|██████████| 18.7k/18.7k [00:00<00:00, 46.1kB/s]\n",
      "  0%|          | 0.00/21.2k [00:00<?, ?B/s]"
     ]
    },
    {
     "name": "stdout",
     "output_type": "stream",
     "text": [
      "Upload successful: ariel_simple.py (19KB)\n",
      "Starting upload for file ariel_simple2.py\n"
     ]
    },
    {
     "name": "stderr",
     "output_type": "stream",
     "text": [
      "100%|██████████| 21.2k/21.2k [00:00<00:00, 53.0kB/s]\n",
      "  0%|          | 0.00/2.40k [00:00<?, ?B/s]"
     ]
    },
    {
     "name": "stdout",
     "output_type": "stream",
     "text": [
      "Upload successful: ariel_simple2.py (21KB)\n",
      "Starting upload for file ariel_test.py\n"
     ]
    },
    {
     "name": "stderr",
     "output_type": "stream",
     "text": [
      "100%|██████████| 2.40k/2.40k [00:00<00:00, 4.48kB/s]\n",
      "  0%|          | 0.00/5.70k [00:00<?, ?B/s]"
     ]
    },
    {
     "name": "stdout",
     "output_type": "stream",
     "text": [
      "Upload successful: ariel_test.py (2KB)\n",
      "Starting upload for file ariel_transit.py\n"
     ]
    },
    {
     "name": "stderr",
     "output_type": "stream",
     "text": [
      "100%|██████████| 5.70k/5.70k [00:00<00:00, 13.8kB/s]\n",
      "  0%|          | 0.00/431 [00:00<?, ?B/s]"
     ]
    },
    {
     "name": "stdout",
     "output_type": "stream",
     "text": [
      "Upload successful: ariel_transit.py (6KB)\n",
      "Starting upload for file drift_hyperparameters.pickle\n"
     ]
    },
    {
     "name": "stderr",
     "output_type": "stream",
     "text": [
      "100%|██████████| 431/431 [00:00<00:00, 1.04kB/s]\n",
      "  0%|          | 0.00/265 [00:00<?, ?B/s]"
     ]
    },
    {
     "name": "stdout",
     "output_type": "stream",
     "text": [
      "Upload successful: drift_hyperparameters.pickle (431B)\n",
      "Starting upload for file drift_hyperparameters_fgs.pickle\n"
     ]
    },
    {
     "name": "stderr",
     "output_type": "stream",
     "text": [
      "100%|██████████| 265/265 [00:00<00:00, 637B/s]\n",
      "  0%|          | 0.00/589 [00:00<?, ?B/s]"
     ]
    },
    {
     "name": "stdout",
     "output_type": "stream",
     "text": [
      "Upload successful: drift_hyperparameters_fgs.pickle (265B)\n",
      "Starting upload for file drift_hyperparameters_fgs_old.pickle\n"
     ]
    },
    {
     "name": "stderr",
     "output_type": "stream",
     "text": [
      "100%|██████████| 589/589 [00:00<00:00, 1.39kB/s]\n",
      "  0%|          | 0.00/1.46k [00:00<?, ?B/s]"
     ]
    },
    {
     "name": "stdout",
     "output_type": "stream",
     "text": [
      "Upload successful: drift_hyperparameters_fgs_old.pickle (589B)\n",
      "Starting upload for file drift_hyperparameters_old.pickle\n"
     ]
    },
    {
     "name": "stderr",
     "output_type": "stream",
     "text": [
      "100%|██████████| 1.46k/1.46k [00:00<00:00, 3.47kB/s]\n"
     ]
    },
    {
     "name": "stdout",
     "output_type": "stream",
     "text": [
      "Upload successful: drift_hyperparameters_old.pickle (1KB)\n",
      "Starting upload for file gp.py\n"
     ]
    },
    {
     "name": "stderr",
     "output_type": "stream",
     "text": [
      "100%|██████████| 64.6k/64.6k [00:00<00:00, 113kB/s]\n",
      "  0%|          | 0.00/469k [00:00<?, ?B/s]"
     ]
    },
    {
     "name": "stdout",
     "output_type": "stream",
     "text": [
      "Upload successful: gp.py (65KB)\n",
      "Starting upload for file ingress_egress_window3.pickle\n"
     ]
    },
    {
     "name": "stderr",
     "output_type": "stream",
     "text": [
      "100%|██████████| 469k/469k [00:00<00:00, 491kB/s] \n",
      "  0%|          | 0.00/36.1k [00:00<?, ?B/s]"
     ]
    },
    {
     "name": "stdout",
     "output_type": "stream",
     "text": [
      "Upload successful: ingress_egress_window3.pickle (469KB)\n",
      "Starting upload for file kaggle_support.py\n"
     ]
    },
    {
     "name": "stderr",
     "output_type": "stream",
     "text": [
      "100%|██████████| 36.1k/36.1k [00:00<00:00, 80.2kB/s]\n",
      "  0%|          | 0.00/2.43M [00:00<?, ?B/s]"
     ]
    },
    {
     "name": "stdout",
     "output_type": "stream",
     "text": [
      "Upload successful: kaggle_support.py (36KB)\n",
      "Starting upload for file loader_test.pickle\n"
     ]
    },
    {
     "name": "stderr",
     "output_type": "stream",
     "text": [
      "100%|██████████| 2.43M/2.43M [00:01<00:00, 2.44MB/s]\n",
      "  0%|          | 0.00/1.86M [00:00<?, ?B/s]"
     ]
    },
    {
     "name": "stdout",
     "output_type": "stream",
     "text": [
      "Upload successful: loader_test.pickle (2MB)\n",
      "Starting upload for file model_baseline_test.pickle\n"
     ]
    },
    {
     "name": "stderr",
     "output_type": "stream",
     "text": [
      "100%|██████████| 1.86M/1.86M [00:01<00:00, 1.57MB/s]\n",
      "  0%|          | 0.00/1.85M [00:00<?, ?B/s]"
     ]
    },
    {
     "name": "stdout",
     "output_type": "stream",
     "text": [
      "Upload successful: model_baseline_test.pickle (2MB)\n",
      "Starting upload for file model_simple_test.pickle\n"
     ]
    },
    {
     "name": "stderr",
     "output_type": "stream",
     "text": [
      "100%|██████████| 1.85M/1.85M [00:01<00:00, 1.72MB/s]\n",
      "  0%|          | 0.00/89.0k [00:00<?, ?B/s]"
     ]
    },
    {
     "name": "stdout",
     "output_type": "stream",
     "text": [
      "Upload successful: model_simple_test.pickle (2MB)\n",
      "Starting upload for file reference_submission.ipynb\n"
     ]
    },
    {
     "name": "stderr",
     "output_type": "stream",
     "text": [
      "100%|██████████| 89.0k/89.0k [00:00<00:00, 151kB/s]\n",
      "  0%|          | 0.00/630k [00:00<?, ?B/s]"
     ]
    },
    {
     "name": "stdout",
     "output_type": "stream",
     "text": [
      "Upload successful: reference_submission.ipynb (89KB)\n",
      "Starting upload for file transit_depth_gp_with_pca.pickle\n"
     ]
    },
    {
     "name": "stderr",
     "output_type": "stream",
     "text": [
      "100%|██████████| 630k/630k [00:01<00:00, 585kB/s] \n",
      "  0%|          | 0.00/614 [00:00<?, ?B/s]"
     ]
    },
    {
     "name": "stdout",
     "output_type": "stream",
     "text": [
      "Upload successful: transit_depth_gp_with_pca.pickle (630KB)\n",
      "Starting upload for file transit_depth_new.pickle\n"
     ]
    },
    {
     "name": "stderr",
     "output_type": "stream",
     "text": [
      "100%|██████████| 614/614 [00:00<00:00, 1.36kB/s]\n"
     ]
    },
    {
     "name": "stdout",
     "output_type": "stream",
     "text": [
      "Upload successful: transit_depth_new.pickle (614B)\n",
      "Dataset version is being created. Please check progress at https://www.kaggle.com/datasets/jeroencottaar/my-ariel2-library\n"
     ]
    }
   ],
   "source": [
    "if kgs.env=='vast':\n",
    "    raise 'todo'\n",
    "    do_upload('jeroencottaar/my-seismic-library', '/seismic/code/core/*.*')\n",
    "else:\n",
    "    do_upload('jeroencottaar/my-ariel2-library', '/mnt/d/ariel2/code/core/*.*')"
   ]
  },
  {
   "cell_type": "code",
   "execution_count": null,
   "id": "bc318cda-2137-468f-b541-8a5c58b5fc80",
   "metadata": {
    "tags": []
   },
   "outputs": [],
   "source": [
    "do_upload('jeroencottaar/my-ariel2-model', '/mnt/d/ariel2/temp/evaluate_model_*1099*.pickle')    "
   ]
  },
  {
   "cell_type": "code",
   "execution_count": null,
   "id": "4278384a-a17f-4d49-b614-31f408987588",
   "metadata": {
    "tags": []
   },
   "outputs": [],
   "source": [
    "do_upload('jeroencottaar/my-ariel2-calibration', '/mnt/d/ariel2/calibration/*.pickle')    "
   ]
  },
  {
   "cell_type": "code",
   "execution_count": null,
   "id": "b9453353-4e56-4128-871b-12bc8c0c731a",
   "metadata": {},
   "outputs": [],
   "source": []
  }
 ],
 "metadata": {
  "kernelspec": {
   "display_name": "Python 3 (ipykernel)",
   "language": "python",
   "name": "python3"
  },
  "language_info": {
   "codemirror_mode": {
    "name": "ipython",
    "version": 3
   },
   "file_extension": ".py",
   "mimetype": "text/x-python",
   "name": "python",
   "nbconvert_exporter": "python",
   "pygments_lexer": "ipython3",
   "version": "3.11.13"
  }
 },
 "nbformat": 4,
 "nbformat_minor": 5
}
