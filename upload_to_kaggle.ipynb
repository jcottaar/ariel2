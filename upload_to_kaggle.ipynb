{
 "cells": [
  {
   "cell_type": "code",
   "execution_count": 1,
   "id": "865d54d7-b239-49eb-be92-484d63c870d5",
   "metadata": {
    "tags": []
   },
   "outputs": [
    {
     "name": "stdout",
     "output_type": "stream",
     "text": [
      "local\n"
     ]
    }
   ],
   "source": [
    "import sys\n",
    "sys.path.append('/mnt/d/ariel2/code/core/')\n",
    "import subprocess\n",
    "import kaggle_support as kgs"
   ]
  },
  {
   "cell_type": "code",
   "execution_count": 2,
   "id": "6dfdc927-8258-45b7-aed2-9a3fc3348bbd",
   "metadata": {
    "tags": []
   },
   "outputs": [],
   "source": [
    "def do_upload(library_name, local_dir):\n",
    "    if kgs.env=='vast':\n",
    "        raise 'todo'\n",
    "        subprocess.run('rm -rf /kaggle_temp', shell=True)\n",
    "        subprocess.run('mkdir /kaggle_temp/', shell=True)\n",
    "        subprocess.run('kaggle datasets metadata -p /kaggle_temp/ ' + library_name, shell=True)\n",
    "        subprocess.run('cp '+local_dir+' /kaggle_temp/', shell=True)\n",
    "        subprocess.run('kaggle datasets version -p /kaggle_temp/ -m '+kgs.git_commit_id, shell=True)\n",
    "    else:\n",
    "        subprocess.run('rm -rf /mnt/d/kaggle_temp', shell=True)\n",
    "        subprocess.run('mkdir /mnt/d/kaggle_temp', shell=True)\n",
    "        subprocess.run('kaggle datasets metadata -p /mnt/d/kaggle_temp ' + library_name, shell=True)\n",
    "        subprocess.run('cp '+local_dir+' /mnt/d/kaggle_temp/', shell=True)\n",
    "        print('kaggle datasets version -p /mnt/d//kaggle_temp/ -m '+kgs.git_commit_id)\n",
    "        subprocess.run('kaggle datasets version -p /mnt/d//kaggle_temp/ -m '+kgs.git_commit_id, shell=True)"
   ]
  },
  {
   "cell_type": "code",
   "execution_count": 3,
   "id": "8b8287d3-c79c-4329-8560-2cf42e8a8497",
   "metadata": {
    "tags": []
   },
   "outputs": [
    {
     "name": "stdout",
     "output_type": "stream",
     "text": [
      "Warning: Your Kaggle API key is readable by other users on this system! To fix this, you can run 'chmod 600 /home/jcottaar/.config/kaggle/kaggle.json'\n",
      "Warning: Looks like you're using an outdated API Version, please consider updating (server 1.7.4.2 / client 1.6.17)\n",
      "Downloaded metadata to /mnt/d/kaggle_temp/dataset-metadata.json\n",
      "kaggle datasets version -p /mnt/d//kaggle_temp/ -m e7b5dcf946c98d76b6bb1873334bbf872c9e443a\n",
      "Warning: Your Kaggle API key is readable by other users on this system! To fix this, you can run 'chmod 600 /home/jcottaar/.config/kaggle/kaggle.json'\n",
      "Starting upload for file ariel_diagnostics.py\n",
      "Warning: Looks like you're using an outdated API Version, please consider updating (server 1.7.4.2 / client 1.6.17)\n"
     ]
    },
    {
     "name": "stderr",
     "output_type": "stream",
     "text": [
      "100%|██████████| 1.38k/1.38k [00:00<00:00, 3.12kB/s]\n",
      "  0%|          | 0.00/40.6k [00:00<?, ?B/s]"
     ]
    },
    {
     "name": "stdout",
     "output_type": "stream",
     "text": [
      "Upload successful: ariel_diagnostics.py (1KB)\n",
      "Starting upload for file ariel_gp-Copy1.py\n"
     ]
    },
    {
     "name": "stderr",
     "output_type": "stream",
     "text": [
      "100%|██████████| 40.6k/40.6k [00:00<00:00, 79.7kB/s]\n"
     ]
    },
    {
     "name": "stdout",
     "output_type": "stream",
     "text": [
      "Upload successful: ariel_gp-Copy1.py (41KB)\n",
      "Starting upload for file ariel_gp.py\n"
     ]
    },
    {
     "name": "stderr",
     "output_type": "stream",
     "text": [
      "100%|██████████| 57.7k/57.7k [00:00<00:00, 113kB/s]\n"
     ]
    },
    {
     "name": "stdout",
     "output_type": "stream",
     "text": [
      "Upload successful: ariel_gp.py (58KB)\n",
      "Starting upload for file ariel_load.py\n"
     ]
    },
    {
     "name": "stderr",
     "output_type": "stream",
     "text": [
      "100%|██████████| 36.9k/36.9k [00:00<00:00, 72.7kB/s]\n",
      "  0%|          | 0.00/10.7k [00:00<?, ?B/s]"
     ]
    },
    {
     "name": "stdout",
     "output_type": "stream",
     "text": [
      "Upload successful: ariel_load.py (37KB)\n",
      "Starting upload for file ariel_load_FGS.py\n"
     ]
    },
    {
     "name": "stderr",
     "output_type": "stream",
     "text": [
      "100%|██████████| 10.7k/10.7k [00:00<00:00, 24.5kB/s]\n",
      "  0%|          | 0.00/2.39k [00:00<?, ?B/s]"
     ]
    },
    {
     "name": "stdout",
     "output_type": "stream",
     "text": [
      "Upload successful: ariel_load_FGS.py (11KB)\n",
      "Starting upload for file ariel_model.py\n"
     ]
    },
    {
     "name": "stderr",
     "output_type": "stream",
     "text": [
      "100%|██████████| 2.39k/2.39k [00:00<00:00, 5.42kB/s]\n",
      "  0%|          | 0.00/22.2k [00:00<?, ?B/s]"
     ]
    },
    {
     "name": "stdout",
     "output_type": "stream",
     "text": [
      "Upload successful: ariel_model.py (2KB)\n",
      "Starting upload for file ariel_numerics.py\n"
     ]
    },
    {
     "name": "stderr",
     "output_type": "stream",
     "text": [
      "100%|██████████| 22.2k/22.2k [00:00<00:00, 48.7kB/s]\n",
      "  0%|          | 0.00/11.6k [00:00<?, ?B/s]"
     ]
    },
    {
     "name": "stdout",
     "output_type": "stream",
     "text": [
      "Upload successful: ariel_numerics.py (22KB)\n",
      "Starting upload for file ariel_simple.py\n"
     ]
    },
    {
     "name": "stderr",
     "output_type": "stream",
     "text": [
      "100%|██████████| 11.6k/11.6k [00:00<00:00, 24.7kB/s]\n",
      "  0%|          | 0.00/2.10k [00:00<?, ?B/s]"
     ]
    },
    {
     "name": "stdout",
     "output_type": "stream",
     "text": [
      "Upload successful: ariel_simple.py (12KB)\n",
      "Starting upload for file ariel_test.py\n"
     ]
    },
    {
     "name": "stderr",
     "output_type": "stream",
     "text": [
      "100%|██████████| 2.10k/2.10k [00:00<00:00, 4.96kB/s]\n",
      "  0%|          | 0.00/5.29k [00:00<?, ?B/s]"
     ]
    },
    {
     "name": "stdout",
     "output_type": "stream",
     "text": [
      "Upload successful: ariel_test.py (2KB)\n",
      "Starting upload for file ariel_transit.py\n"
     ]
    },
    {
     "name": "stderr",
     "output_type": "stream",
     "text": [
      "100%|██████████| 5.29k/5.29k [00:00<00:00, 11.2kB/s]\n",
      "  0%|          | 0.00/431 [00:00<?, ?B/s]"
     ]
    },
    {
     "name": "stdout",
     "output_type": "stream",
     "text": [
      "Upload successful: ariel_transit.py (5KB)\n",
      "Starting upload for file drift_hyperparameters.pickle\n"
     ]
    },
    {
     "name": "stderr",
     "output_type": "stream",
     "text": [
      "100%|██████████| 431/431 [00:00<00:00, 969B/s]\n",
      "  0%|          | 0.00/265 [00:00<?, ?B/s]"
     ]
    },
    {
     "name": "stdout",
     "output_type": "stream",
     "text": [
      "Upload successful: drift_hyperparameters.pickle (431B)\n",
      "Starting upload for file drift_hyperparameters_fgs.pickle\n"
     ]
    },
    {
     "name": "stderr",
     "output_type": "stream",
     "text": [
      "100%|██████████| 265/265 [00:00<00:00, 582B/s]\n",
      "  0%|          | 0.00/589 [00:00<?, ?B/s]"
     ]
    },
    {
     "name": "stdout",
     "output_type": "stream",
     "text": [
      "Upload successful: drift_hyperparameters_fgs.pickle (265B)\n",
      "Starting upload for file drift_hyperparameters_fgs_old.pickle\n"
     ]
    },
    {
     "name": "stderr",
     "output_type": "stream",
     "text": [
      "100%|██████████| 589/589 [00:00<00:00, -639B/s]\n",
      "  0%|          | 0.00/1.46k [00:00<?, ?B/s]"
     ]
    },
    {
     "name": "stdout",
     "output_type": "stream",
     "text": [
      "Upload successful: drift_hyperparameters_fgs_old.pickle (589B)\n",
      "Starting upload for file drift_hyperparameters_old.pickle\n"
     ]
    },
    {
     "name": "stderr",
     "output_type": "stream",
     "text": [
      "100%|██████████| 1.46k/1.46k [00:00<00:00, 2.96kB/s]\n"
     ]
    },
    {
     "name": "stdout",
     "output_type": "stream",
     "text": [
      "Upload successful: drift_hyperparameters_old.pickle (1KB)\n",
      "Starting upload for file gp.py\n"
     ]
    },
    {
     "name": "stderr",
     "output_type": "stream",
     "text": [
      "100%|██████████| 58.9k/58.9k [00:00<00:00, 122kB/s]\n",
      "  0%|          | 0.00/469k [00:00<?, ?B/s]"
     ]
    },
    {
     "name": "stdout",
     "output_type": "stream",
     "text": [
      "Upload successful: gp.py (59KB)\n",
      "Starting upload for file ingress_egress_window3.pickle\n"
     ]
    },
    {
     "name": "stderr",
     "output_type": "stream",
     "text": [
      "100%|██████████| 469k/469k [00:00<00:00, 484kB/s] \n",
      "  0%|          | 0.00/30.9k [00:00<?, ?B/s]"
     ]
    },
    {
     "name": "stdout",
     "output_type": "stream",
     "text": [
      "Upload successful: ingress_egress_window3.pickle (469KB)\n",
      "Starting upload for file kaggle_support.py\n"
     ]
    },
    {
     "name": "stderr",
     "output_type": "stream",
     "text": [
      "100%|██████████| 30.9k/30.9k [00:00<00:00, 72.0kB/s]\n",
      "  0%|          | 0.00/2.43M [00:00<?, ?B/s]"
     ]
    },
    {
     "name": "stdout",
     "output_type": "stream",
     "text": [
      "Upload successful: kaggle_support.py (31KB)\n",
      "Starting upload for file loader_test.pickle\n"
     ]
    },
    {
     "name": "stderr",
     "output_type": "stream",
     "text": [
      "100%|██████████| 2.43M/2.43M [00:01<00:00, 2.01MB/s]\n",
      "  0%|          | 0.00/1.85M [00:00<?, ?B/s]"
     ]
    },
    {
     "name": "stdout",
     "output_type": "stream",
     "text": [
      "Upload successful: loader_test.pickle (2MB)\n",
      "Starting upload for file model_gp_test.pickle\n"
     ]
    },
    {
     "name": "stderr",
     "output_type": "stream",
     "text": [
      "100%|██████████| 1.85M/1.85M [00:01<00:00, 1.54MB/s]\n",
      "  0%|          | 0.00/1.85M [00:00<?, ?B/s]"
     ]
    },
    {
     "name": "stdout",
     "output_type": "stream",
     "text": [
      "Upload successful: model_gp_test.pickle (2MB)\n",
      "Starting upload for file model_simple_test.pickle\n"
     ]
    },
    {
     "name": "stderr",
     "output_type": "stream",
     "text": [
      "100%|██████████| 1.85M/1.85M [00:01<00:00, 1.51MB/s]\n",
      "  0%|          | 0.00/89.0k [00:00<?, ?B/s]"
     ]
    },
    {
     "name": "stdout",
     "output_type": "stream",
     "text": [
      "Upload successful: model_simple_test.pickle (2MB)\n",
      "Starting upload for file reference_submission.ipynb\n"
     ]
    },
    {
     "name": "stderr",
     "output_type": "stream",
     "text": [
      "100%|██████████| 89.0k/89.0k [00:00<00:00, 147kB/s]\n",
      "  0%|          | 0.00/630k [00:00<?, ?B/s]"
     ]
    },
    {
     "name": "stdout",
     "output_type": "stream",
     "text": [
      "Upload successful: reference_submission.ipynb (89KB)\n",
      "Starting upload for file transit_depth_gp_with_pca.pickle\n"
     ]
    },
    {
     "name": "stderr",
     "output_type": "stream",
     "text": [
      "100%|██████████| 630k/630k [00:01<00:00, 634kB/s] \n"
     ]
    },
    {
     "name": "stdout",
     "output_type": "stream",
     "text": [
      "Upload successful: transit_depth_gp_with_pca.pickle (630KB)\n",
      "Dataset version is being created. Please check progress at https://www.kaggle.com/jeroencottaar/my-ariel2-library\n"
     ]
    }
   ],
   "source": [
    "if kgs.env=='vast':\n",
    "    raise 'todo'\n",
    "    do_upload('jeroencottaar/my-seismic-library', '/seismic/code/core/*.*')\n",
    "else:\n",
    "    do_upload('jeroencottaar/my-ariel2-library', '/mnt/d/ariel2/code/core/*.*')"
   ]
  },
  {
   "cell_type": "code",
   "execution_count": 4,
   "id": "bc318cda-2137-468f-b541-8a5c58b5fc80",
   "metadata": {
    "tags": []
   },
   "outputs": [
    {
     "name": "stdout",
     "output_type": "stream",
     "text": [
      "Warning: Your Kaggle API key is readable by other users on this system! To fix this, you can run 'chmod 600 /home/jcottaar/.config/kaggle/kaggle.json'\n",
      "Warning: Looks like you're using an outdated API Version, please consider updating (server 1.7.4.2 / client 1.6.17)\n",
      "Downloaded metadata to /mnt/d/kaggle_temp/dataset-metadata.json\n",
      "kaggle datasets version -p /mnt/d//kaggle_temp/ -m e7b5dcf946c98d76b6bb1873334bbf872c9e443a\n",
      "Warning: Your Kaggle API key is readable by other users on this system! To fix this, you can run 'chmod 600 /home/jcottaar/.config/kaggle/kaggle.json'\n",
      "Starting upload for file evaluate_model_All + poly23__1099.pickle\n",
      "Warning: Looks like you're using an outdated API Version, please consider updating (server 1.7.4.2 / client 1.6.17)\n"
     ]
    },
    {
     "name": "stderr",
     "output_type": "stream",
     "text": [
      "100%|██████████| 1.32G/1.32G [03:03<00:00, 7.76MB/s]\n",
      "  0%|          | 0.00/1.32G [00:00<?, ?B/s]"
     ]
    },
    {
     "name": "stdout",
     "output_type": "stream",
     "text": [
      "Upload successful: evaluate_model_All + poly23__1099.pickle (1GB)\n",
      "Starting upload for file evaluate_model_All + poly31__1099.pickle\n"
     ]
    },
    {
     "name": "stderr",
     "output_type": "stream",
     "text": [
      "100%|██████████| 1.32G/1.32G [03:51<00:00, 6.15MB/s]\n"
     ]
    },
    {
     "name": "stdout",
     "output_type": "stream",
     "text": [
      "Upload successful: evaluate_model_All + poly31__1099.pickle (1GB)\n",
      "Starting upload for file evaluate_model_All + poly32__1099.pickle\n"
     ]
    },
    {
     "name": "stderr",
     "output_type": "stream",
     "text": [
      "100%|██████████| 1.32G/1.32G [03:12<00:00, 7.39MB/s]\n"
     ]
    },
    {
     "name": "stdout",
     "output_type": "stream",
     "text": [
      "Upload successful: evaluate_model_All + poly32__1099.pickle (1GB)\n",
      "Starting upload for file evaluate_model_All + poly33__1099.pickle\n"
     ]
    },
    {
     "name": "stderr",
     "output_type": "stream",
     "text": [
      "100%|██████████| 1.32G/1.32G [04:26<00:00, 5.33MB/s]\n",
      "  0%|          | 0.00/1.32G [00:00<?, ?B/s]"
     ]
    },
    {
     "name": "stdout",
     "output_type": "stream",
     "text": [
      "Upload successful: evaluate_model_All + poly33__1099.pickle (1GB)\n",
      "Starting upload for file evaluate_model_All + poly34__1099.pickle\n"
     ]
    },
    {
     "name": "stderr",
     "output_type": "stream",
     "text": [
      "100%|██████████| 1.32G/1.32G [04:09<00:00, 5.71MB/s]\n"
     ]
    },
    {
     "name": "stdout",
     "output_type": "stream",
     "text": [
      "Upload successful: evaluate_model_All + poly34__1099.pickle (1GB)\n",
      "Starting upload for file evaluate_model_All + poly43__1099.pickle\n"
     ]
    },
    {
     "name": "stderr",
     "output_type": "stream",
     "text": [
      "100%|██████████| 1.32G/1.32G [03:48<00:00, 6.22MB/s]\n",
      "  0%|          | 0.00/1.32G [00:00<?, ?B/s]"
     ]
    },
    {
     "name": "stdout",
     "output_type": "stream",
     "text": [
      "Upload successful: evaluate_model_All + poly43__1099.pickle (1GB)\n",
      "Starting upload for file evaluate_model_Baseline GP__1099.pickle\n"
     ]
    },
    {
     "name": "stderr",
     "output_type": "stream",
     "text": [
      "100%|██████████| 1.32G/1.32G [04:48<00:00, 4.94MB/s]\n"
     ]
    },
    {
     "name": "stdout",
     "output_type": "stream",
     "text": [
      "Upload successful: evaluate_model_Baseline GP__1099.pickle (1GB)\n",
      "Starting upload for file evaluate_model_New AIRS no residual threshold__1099.pickle\n"
     ]
    },
    {
     "name": "stderr",
     "output_type": "stream",
     "text": [
      "100%|██████████| 1.32G/1.32G [03:21<00:00, 7.05MB/s]\n"
     ]
    },
    {
     "name": "stdout",
     "output_type": "stream",
     "text": [
      "Upload successful: evaluate_model_New AIRS no residual threshold__1099.pickle (1GB)\n",
      "Starting upload for file evaluate_model_New AIRS residual threshold 50__1099.pickle\n"
     ]
    },
    {
     "name": "stderr",
     "output_type": "stream",
     "text": [
      "100%|██████████| 1.32G/1.32G [03:36<00:00, 6.56MB/s]\n"
     ]
    },
    {
     "name": "stdout",
     "output_type": "stream",
     "text": [
      "Upload successful: evaluate_model_New AIRS residual threshold 50__1099.pickle (1GB)\n",
      "Starting upload for file evaluate_model_New FGS mf+ poly FGS + new AIRS__1099.pickle\n"
     ]
    },
    {
     "name": "stderr",
     "output_type": "stream",
     "text": [
      "100%|██████████| 1.32G/1.32G [04:26<00:00, 5.34MB/s]\n",
      "  0%|          | 0.00/1.32G [00:00<?, ?B/s]"
     ]
    },
    {
     "name": "stdout",
     "output_type": "stream",
     "text": [
      "Upload successful: evaluate_model_New FGS mf+ poly FGS + new AIRS__1099.pickle (1GB)\n",
      "Starting upload for file evaluate_model_New FGS mf+ poly FGS__1099.pickle\n"
     ]
    },
    {
     "name": "stderr",
     "output_type": "stream",
     "text": [
      "100%|██████████| 1.32G/1.32G [03:36<00:00, 6.58MB/s]\n"
     ]
    },
    {
     "name": "stdout",
     "output_type": "stream",
     "text": [
      "Upload successful: evaluate_model_New FGS mf+ poly FGS__1099.pickle (1GB)\n",
      "Starting upload for file evaluate_model_New FGS mf__1099.pickle\n"
     ]
    },
    {
     "name": "stderr",
     "output_type": "stream",
     "text": [
      "100%|██████████| 1.32G/1.32G [03:22<00:00, 7.04MB/s]\n"
     ]
    },
    {
     "name": "stdout",
     "output_type": "stream",
     "text": [
      "Upload successful: evaluate_model_New FGS mf__1099.pickle (1GB)\n",
      "Starting upload for file evaluate_model_New FGS__1099.pickle\n"
     ]
    },
    {
     "name": "stderr",
     "output_type": "stream",
     "text": [
      "100%|██████████| 1.32G/1.32G [03:01<00:00, 7.85MB/s]\n"
     ]
    },
    {
     "name": "stdout",
     "output_type": "stream",
     "text": [
      "Upload successful: evaluate_model_New FGS__1099.pickle (1GB)\n",
      "Dataset version is being created. Please check progress at https://www.kaggle.com/jeroencottaar/my-ariel2-model\n"
     ]
    }
   ],
   "source": [
    "do_upload('jeroencottaar/my-ariel2-model', '/mnt/d/ariel2/temp/evaluate_model_*1099*.pickle')    "
   ]
  },
  {
   "cell_type": "code",
   "execution_count": 5,
   "id": "4278384a-a17f-4d49-b614-31f408987588",
   "metadata": {
    "tags": []
   },
   "outputs": [
    {
     "name": "stdout",
     "output_type": "stream",
     "text": [
      "Warning: Your Kaggle API key is readable by other users on this system! To fix this, you can run 'chmod 600 /home/jcottaar/.config/kaggle/kaggle.json'\n",
      "Warning: Looks like you're using an outdated API Version, please consider updating (server 1.7.4.2 / client 1.6.17)\n",
      "Downloaded metadata to /mnt/d/kaggle_temp/dataset-metadata.json\n",
      "kaggle datasets version -p /mnt/d//kaggle_temp/ -m e7b5dcf946c98d76b6bb1873334bbf872c9e443a\n",
      "Warning: Your Kaggle API key is readable by other users on this system! To fix this, you can run 'chmod 600 /home/jcottaar/.config/kaggle/kaggle.json'\n",
      "Starting upload for file AIRS_base_scaling.pickle\n",
      "Warning: Looks like you're using an outdated API Version, please consider updating (server 1.7.4.2 / client 1.6.17)\n"
     ]
    },
    {
     "name": "stderr",
     "output_type": "stream",
     "text": [
      "100%|██████████| 2.38k/2.38k [00:00<00:00, 5.55kB/s]\n"
     ]
    },
    {
     "name": "stdout",
     "output_type": "stream",
     "text": [
      "Upload successful: AIRS_base_scaling.pickle (2KB)\n",
      "Starting upload for file AIRS_C0.pickle\n"
     ]
    },
    {
     "name": "stderr",
     "output_type": "stream",
     "text": [
      "100%|██████████| 70.7k/70.7k [00:00<00:00, 121kB/s]\n",
      "  0%|          | 0.00/70.7k [00:00<?, ?B/s]"
     ]
    },
    {
     "name": "stdout",
     "output_type": "stream",
     "text": [
      "Upload successful: AIRS_C0.pickle (71KB)\n",
      "Starting upload for file AIRS_C0_2.pickle\n"
     ]
    },
    {
     "name": "stderr",
     "output_type": "stream",
     "text": [
      "100%|██████████| 70.7k/70.7k [00:00<00:00, 123kB/s]\n"
     ]
    },
    {
     "name": "stdout",
     "output_type": "stream",
     "text": [
      "Upload successful: AIRS_C0_2.pickle (71KB)\n",
      "Starting upload for file AIRS_jitter.pickle\n"
     ]
    },
    {
     "name": "stderr",
     "output_type": "stream",
     "text": [
      "100%|██████████| 28.0M/28.0M [00:03<00:00, 8.32MB/s]\n"
     ]
    },
    {
     "name": "stdout",
     "output_type": "stream",
     "text": [
      "Upload successful: AIRS_jitter.pickle (28MB)\n",
      "Starting upload for file AIRS_rr.pickle\n"
     ]
    },
    {
     "name": "stderr",
     "output_type": "stream",
     "text": [
      "100%|██████████| 5.00/5.00 [00:00<00:00, 11.4B/s]\n",
      "  0%|          | 0.00/208 [00:00<?, ?B/s]"
     ]
    },
    {
     "name": "stdout",
     "output_type": "stream",
     "text": [
      "Upload successful: AIRS_rr.pickle (5B)\n",
      "Starting upload for file AIRS_rr2.pickle\n"
     ]
    },
    {
     "name": "stderr",
     "output_type": "stream",
     "text": [
      "100%|██████████| 208/208 [00:00<00:00, 478B/s]\n",
      "  0%|          | 0.00/289M [00:00<?, ?B/s]"
     ]
    },
    {
     "name": "stdout",
     "output_type": "stream",
     "text": [
      "Upload successful: AIRS_rr2.pickle (208B)\n",
      "Starting upload for file explore_bad_pixels_pca.pickle\n"
     ]
    },
    {
     "name": "stderr",
     "output_type": "stream",
     "text": [
      "100%|██████████| 289M/289M [00:30<00:00, 9.80MB/s] \n",
      "  0%|          | 0.00/171k [00:00<?, ?B/s]"
     ]
    },
    {
     "name": "stdout",
     "output_type": "stream",
     "text": [
      "Upload successful: explore_bad_pixels_pca.pickle (289MB)\n",
      "Starting upload for file explore_base_shape_from_pca_coeff_list.pickle\n"
     ]
    },
    {
     "name": "stderr",
     "output_type": "stream",
     "text": [
      "100%|██████████| 171k/171k [00:00<00:00, 242kB/s]\n",
      "  0%|          | 0.00/8.21k [00:00<?, ?B/s]"
     ]
    },
    {
     "name": "stdout",
     "output_type": "stream",
     "text": [
      "Upload successful: explore_base_shape_from_pca_coeff_list.pickle (171KB)\n",
      "Starting upload for file FGS_C0_2.pickle\n"
     ]
    },
    {
     "name": "stderr",
     "output_type": "stream",
     "text": [
      "100%|██████████| 8.21k/8.21k [00:00<00:00, 18.0kB/s]\n",
      "  0%|          | 0.00/24.1M [00:00<?, ?B/s]"
     ]
    },
    {
     "name": "stdout",
     "output_type": "stream",
     "text": [
      "Upload successful: FGS_C0_2.pickle (8KB)\n",
      "Starting upload for file FGS_jitter.pickle\n"
     ]
    },
    {
     "name": "stderr",
     "output_type": "stream",
     "text": [
      "100%|██████████| 24.1M/24.1M [00:03<00:00, 7.89MB/s]\n",
      "  0%|          | 0.00/253 [00:00<?, ?B/s]"
     ]
    },
    {
     "name": "stdout",
     "output_type": "stream",
     "text": [
      "Upload successful: FGS_jitter.pickle (24MB)\n",
      "Starting upload for file FGS_weights.pickle\n"
     ]
    },
    {
     "name": "stderr",
     "output_type": "stream",
     "text": [
      "100%|██████████| 253/253 [00:00<00:00, 610B/s]\n"
     ]
    },
    {
     "name": "stdout",
     "output_type": "stream",
     "text": [
      "Upload successful: FGS_weights.pickle (253B)\n",
      "Dataset version is being created. Please check progress at https://www.kaggle.com/jeroencottaar/my-ariel2-calibration\n"
     ]
    }
   ],
   "source": [
    "do_upload('jeroencottaar/my-ariel2-calibration', '/mnt/d/ariel2/calibration/*.pickle')    "
   ]
  },
  {
   "cell_type": "code",
   "execution_count": null,
   "id": "b9453353-4e56-4128-871b-12bc8c0c731a",
   "metadata": {},
   "outputs": [],
   "source": []
  }
 ],
 "metadata": {
  "kernelspec": {
   "display_name": "Python 3 (ipykernel)",
   "language": "python",
   "name": "python3"
  },
  "language_info": {
   "codemirror_mode": {
    "name": "ipython",
    "version": 3
   },
   "file_extension": ".py",
   "mimetype": "text/x-python",
   "name": "python",
   "nbconvert_exporter": "python",
   "pygments_lexer": "ipython3",
   "version": "3.11.13"
  }
 },
 "nbformat": 4,
 "nbformat_minor": 5
}
