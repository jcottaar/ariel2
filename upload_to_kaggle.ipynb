{
 "cells": [
  {
   "cell_type": "code",
   "execution_count": 1,
   "id": "865d54d7-b239-49eb-be92-484d63c870d5",
   "metadata": {
    "tags": []
   },
   "outputs": [
    {
     "name": "stdout",
     "output_type": "stream",
     "text": [
      "local\n"
     ]
    }
   ],
   "source": [
    "import sys\n",
    "sys.path.append('/mnt/d/ariel2/code/core/')\n",
    "import subprocess\n",
    "import kaggle_support as kgs"
   ]
  },
  {
   "cell_type": "code",
   "execution_count": 2,
   "id": "6dfdc927-8258-45b7-aed2-9a3fc3348bbd",
   "metadata": {
    "tags": []
   },
   "outputs": [],
   "source": [
    "def do_upload(library_name, local_dir):\n",
    "    if kgs.env=='vast':\n",
    "        raise 'todo'\n",
    "        subprocess.run('rm -rf /kaggle_temp', shell=True)\n",
    "        subprocess.run('mkdir /kaggle_temp/', shell=True)\n",
    "        subprocess.run('kaggle datasets metadata -p /kaggle_temp/ ' + library_name, shell=True)\n",
    "        subprocess.run('cp '+local_dir+' /kaggle_temp/', shell=True)\n",
    "        subprocess.run('kaggle datasets version -p /kaggle_temp/ -m '+kgs.git_commit_id, shell=True)\n",
    "    else:\n",
    "        subprocess.run('rm -rf /mnt/d/kaggle_temp', shell=True)\n",
    "        subprocess.run('mkdir /mnt/d/kaggle_temp', shell=True)\n",
    "        subprocess.run('kaggle datasets metadata -p /mnt/d/kaggle_temp ' + library_name, shell=True)\n",
    "        subprocess.run('cp '+local_dir+' /mnt/d/kaggle_temp/', shell=True)\n",
    "        subprocess.run('kaggle datasets version -p /mnt/d//kaggle_temp/ -m '+kgs.git_commit_id, shell=True)"
   ]
  },
  {
   "cell_type": "code",
   "execution_count": 3,
   "id": "10bcf65e-a373-42cc-ba2f-3d0197112ec4",
   "metadata": {
    "tags": []
   },
   "outputs": [
    {
     "name": "stdout",
     "output_type": "stream",
     "text": [
      "Warning: Your Kaggle API key is readable by other users on this system! To fix this, you can run 'chmod 600 /home/jcottaar/.config/kaggle/kaggle.json'\n",
      "Warning: Looks like you're using an outdated API Version, please consider updating (server 1.7.4.2 / client 1.6.17)\n",
      "Downloaded metadata to /mnt/d/kaggle_temp/dataset-metadata.json\n",
      "Warning: Your Kaggle API key is readable by other users on this system! To fix this, you can run 'chmod 600 /home/jcottaar/.config/kaggle/kaggle.json'\n",
      "Starting upload for file ariel_diagnostics.py\n",
      "Warning: Looks like you're using an outdated API Version, please consider updating (server 1.7.4.2 / client 1.6.17)\n"
     ]
    },
    {
     "name": "stderr",
     "output_type": "stream",
     "text": [
      "100%|██████████| 1.38k/1.38k [00:00<00:00, 3.35kB/s]\n",
      "  0%|          | 0.00/17.2k [00:00<?, ?B/s]"
     ]
    },
    {
     "name": "stdout",
     "output_type": "stream",
     "text": [
      "Upload successful: ariel_diagnostics.py (1KB)\n",
      "Starting upload for file ariel_load.py\n"
     ]
    },
    {
     "name": "stderr",
     "output_type": "stream",
     "text": [
      "100%|██████████| 17.2k/17.2k [00:00<00:00, 41.1kB/s]\n",
      "  0%|          | 0.00/2.36k [00:00<?, ?B/s]"
     ]
    },
    {
     "name": "stdout",
     "output_type": "stream",
     "text": [
      "Upload successful: ariel_load.py (17KB)\n",
      "Starting upload for file ariel_model.py\n"
     ]
    },
    {
     "name": "stderr",
     "output_type": "stream",
     "text": [
      "100%|██████████| 2.36k/2.36k [00:00<00:00, 5.69kB/s]\n",
      "  0%|          | 0.00/2.20k [00:00<?, ?B/s]"
     ]
    },
    {
     "name": "stdout",
     "output_type": "stream",
     "text": [
      "Upload successful: ariel_model.py (2KB)\n",
      "Starting upload for file ariel_numerics.py\n"
     ]
    },
    {
     "name": "stderr",
     "output_type": "stream",
     "text": [
      "100%|██████████| 2.20k/2.20k [00:00<00:00, 5.10kB/s]\n",
      "  0%|          | 0.00/12.3k [00:00<?, ?B/s]"
     ]
    },
    {
     "name": "stdout",
     "output_type": "stream",
     "text": [
      "Upload successful: ariel_numerics.py (2KB)\n",
      "Starting upload for file ariel_simple.py\n"
     ]
    },
    {
     "name": "stderr",
     "output_type": "stream",
     "text": [
      "100%|██████████| 12.3k/12.3k [00:00<00:00, 29.4kB/s]\n",
      "  0%|          | 0.00/1.93k [00:00<?, ?B/s]"
     ]
    },
    {
     "name": "stdout",
     "output_type": "stream",
     "text": [
      "Upload successful: ariel_simple.py (12KB)\n",
      "Starting upload for file ariel_test.py\n"
     ]
    },
    {
     "name": "stderr",
     "output_type": "stream",
     "text": [
      "100%|██████████| 1.93k/1.93k [00:00<00:00, 4.56kB/s]\n",
      "  0%|          | 0.00/27.6k [00:00<?, ?B/s]"
     ]
    },
    {
     "name": "stdout",
     "output_type": "stream",
     "text": [
      "Upload successful: ariel_test.py (2KB)\n",
      "Starting upload for file kaggle_support.py\n"
     ]
    },
    {
     "name": "stderr",
     "output_type": "stream",
     "text": [
      "100%|██████████| 27.6k/27.6k [00:00<00:00, 59.8kB/s]\n",
      "  0%|          | 0.00/1.23M [00:00<?, ?B/s]"
     ]
    },
    {
     "name": "stdout",
     "output_type": "stream",
     "text": [
      "Upload successful: kaggle_support.py (28KB)\n",
      "Starting upload for file loader_simple.pickle\n"
     ]
    },
    {
     "name": "stderr",
     "output_type": "stream",
     "text": [
      "100%|██████████| 1.23M/1.23M [00:01<00:00, 1.27MB/s]\n",
      "  0%|          | 0.00/2.43M [00:00<?, ?B/s]"
     ]
    },
    {
     "name": "stdout",
     "output_type": "stream",
     "text": [
      "Upload successful: loader_simple.pickle (1MB)\n",
      "Starting upload for file loader_test.pickle\n"
     ]
    },
    {
     "name": "stderr",
     "output_type": "stream",
     "text": [
      "100%|██████████| 2.43M/2.43M [00:01<00:00, 2.35MB/s]\n",
      "  0%|          | 0.00/4.91M [00:00<?, ?B/s]"
     ]
    },
    {
     "name": "stdout",
     "output_type": "stream",
     "text": [
      "Upload successful: loader_test.pickle (2MB)\n",
      "Starting upload for file model_simple.pickle\n"
     ]
    },
    {
     "name": "stderr",
     "output_type": "stream",
     "text": [
      "100%|██████████| 4.91M/4.91M [00:01<00:00, 4.61MB/s]\n",
      "  0%|          | 0.00/89.0k [00:00<?, ?B/s]"
     ]
    },
    {
     "name": "stdout",
     "output_type": "stream",
     "text": [
      "Upload successful: model_simple.pickle (5MB)\n",
      "Starting upload for file reference_submission.ipynb\n"
     ]
    },
    {
     "name": "stderr",
     "output_type": "stream",
     "text": [
      "100%|██████████| 89.0k/89.0k [00:00<00:00, 162kB/s]\n"
     ]
    },
    {
     "name": "stdout",
     "output_type": "stream",
     "text": [
      "Upload successful: reference_submission.ipynb (89KB)\n",
      "Dataset version is being created. Please check progress at https://www.kaggle.com/jeroencottaar/my-ariel2-library\n"
     ]
    }
   ],
   "source": [
    "if kgs.env=='vast':\n",
    "    raise 'todo'\n",
    "    do_upload('jeroencottaar/my-seismic-library', '/seismic/code/core/*.*')\n",
    "else:\n",
    "    do_upload('jeroencottaar/my-ariel2-library', '/mnt/d/ariel2/code/core/*.*')"
   ]
  },
  {
   "cell_type": "code",
   "execution_count": 4,
   "id": "4278384a-a17f-4d49-b614-31f408987588",
   "metadata": {
    "tags": []
   },
   "outputs": [
    {
     "data": {
      "text/plain": [
       "3102000000"
      ]
     },
     "execution_count": 4,
     "metadata": {},
     "output_type": "execute_result"
    }
   ],
   "source": [
    "282*11000*1000"
   ]
  },
  {
   "cell_type": "code",
   "execution_count": null,
   "id": "b9453353-4e56-4128-871b-12bc8c0c731a",
   "metadata": {},
   "outputs": [],
   "source": []
  }
 ],
 "metadata": {
  "kernelspec": {
   "display_name": "Python 3 (ipykernel)",
   "language": "python",
   "name": "python3"
  },
  "language_info": {
   "codemirror_mode": {
    "name": "ipython",
    "version": 3
   },
   "file_extension": ".py",
   "mimetype": "text/x-python",
   "name": "python",
   "nbconvert_exporter": "python",
   "pygments_lexer": "ipython3",
   "version": "3.11.13"
  }
 },
 "nbformat": 4,
 "nbformat_minor": 5
}
