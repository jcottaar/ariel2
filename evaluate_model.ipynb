{
 "cells": [
  {
   "cell_type": "code",
   "execution_count": 1,
   "id": "f83b89e4-ae65-4669-9e78-15f817bc2b71",
   "metadata": {
    "tags": []
   },
   "outputs": [
    {
     "name": "stdout",
     "output_type": "stream",
     "text": [
      "local\n"
     ]
    }
   ],
   "source": [
    "import sys\n",
    "sys.path.append('/mnt/d/ariel2/code/core/')\n",
    "sys.path.append('d:/ariel2/code/core/')\n",
    "sys.path.append('/kaggle/input/my-ariel2-library')\n",
    "import kaggle_support as kgs\n",
    "import ariel_model\n",
    "import ariel_simple\n",
    "import ariel_gp\n",
    "import ariel_load\n",
    "import os\n",
    "import numpy as np\n",
    "import matplotlib.pyplot as plt\n",
    "import copy\n",
    "from tqdm import tqdm\n",
    "kgs.debugging_mode = 1"
   ]
  },
  {
   "cell_type": "code",
   "execution_count": 2,
   "id": "99b7ffc2-2f42-4ba8-a481-813c55251753",
   "metadata": {
    "tags": []
   },
   "outputs": [],
   "source": [
    "train_data = kgs.load_all_train_data()\n",
    "train_data = train_data"
   ]
  },
  {
   "cell_type": "code",
   "execution_count": null,
   "id": "471168ba-8789-460e-afb7-ac652d28d785",
   "metadata": {},
   "outputs": [],
   "source": []
  },
  {
   "cell_type": "code",
   "execution_count": 3,
   "id": "a106ffc1-e11b-4201-b7bf-09612a9cac25",
   "metadata": {
    "tags": []
   },
   "outputs": [],
   "source": [
    "todo = dict()\n",
    "\n",
    "model = ariel_model.Fudger(model=ariel_gp.PredictionModel())\n",
    "model.model.run_in_parallel = True\n",
    "todo['Baseline GP'] = model\n",
    "\n",
    "model = ariel_model.Fudger(model=ariel_gp.PredictionModel())\n",
    "loaders = model.model.starter_model.loaders\n",
    "loaders[1].apply_full_sensor_corrections.inpainting_wavelength = False\n",
    "loaders[1].apply_pixel_corrections.mask_hot = False\n",
    "loaders[1].apply_full_sensor_corrections.use_pca_for_background_removal = False\n",
    "loaders[1].apply_full_sensor_corrections.remove_background_based_on_rows = False\n",
    "loaders[1].apply_full_sensor_corrections.remove_background_remove_used_rows = False\n",
    "loaders[1].apply_wavelength_binning = ariel_load.ApplyWavelengthBinningAIRS2()\n",
    "loaders[1].apply_wavelength_binning.make_diagnostic_plots = False\n",
    "loaders[1].apply_wavelength_binning.residual_threshold = np.inf\n",
    "model.model.run_in_parallel = True\n",
    "todo['New AIRS no residual threshold'] = model\n",
    "\n",
    "model = ariel_model.Fudger(model=ariel_gp.PredictionModel())\n",
    "loaders = model.model.starter_model.loaders\n",
    "loaders[1].apply_full_sensor_corrections.inpainting_wavelength = False\n",
    "loaders[1].apply_pixel_corrections.mask_hot = False\n",
    "loaders[1].apply_full_sensor_corrections.use_pca_for_background_removal = False\n",
    "loaders[1].apply_full_sensor_corrections.remove_background_based_on_rows = False\n",
    "loaders[1].apply_full_sensor_corrections.remove_background_remove_used_rows = False\n",
    "loaders[1].apply_wavelength_binning = ariel_load.ApplyWavelengthBinningAIRS2()\n",
    "loaders[1].apply_wavelength_binning.make_diagnostic_plots = False\n",
    "loaders[1].apply_wavelength_binning.residual_threshold = 50\n",
    "model.model.run_in_parallel = True\n",
    "todo['New AIRS residual threshold 50'] = model"
   ]
  },
  {
   "cell_type": "code",
   "execution_count": null,
   "id": "95753661-c746-46ae-8fc0-93bf4f6abb52",
   "metadata": {},
   "outputs": [
    {
     "name": "stdout",
     "output_type": "stream",
     "text": [
      "Baseline GP\n"
     ]
    },
    {
     "name": "stderr",
     "output_type": "stream",
     "text": [
      "100%|███████████████████████████████████████████████████████████████████████████████| 1099/1099 [00:12<00:00, 87.28it/s]\n",
      "Processing in parallel: 100%|█████████████████████████████████████████████████████| 1099/1099 [1:38:08<00:00,  5.36s/it]\n"
     ]
    },
    {
     "name": "stdout",
     "output_type": "stream",
     "text": [
      "local\n",
      "SpawnPoolWorker-2 2\n",
      "CUDA_VISIBLE_DEVICES= 0\n",
      "local\n",
      "SpawnPoolWorker-3 3\n",
      "CUDA_VISIBLE_DEVICES= 0\n",
      "local\n",
      "SpawnPoolWorker-1 1\n",
      "CUDA_VISIBLE_DEVICES= 0\n",
      "Opt time 659.6480560302734\n",
      "Baseline GP\n",
      "Score:          0.6053\n",
      "RMS error FGS:  211.91 ppm\n",
      "RMS error AIRS: 163.05 ppm\n",
      "New AIRS no residual threshold\n"
     ]
    },
    {
     "name": "stderr",
     "output_type": "stream",
     "text": [
      "100%|█████████████████████████████████████████████████████████████████████████████| 1099/1099 [1:18:35<00:00,  4.29s/it]\n",
      "Processing in parallel: 100%|█████████████████████████████████████████████████████| 1099/1099 [1:38:29<00:00,  5.38s/it]\n"
     ]
    },
    {
     "name": "stdout",
     "output_type": "stream",
     "text": [
      "local\n",
      "SpawnPoolWorker-6 6\n",
      "CUDA_VISIBLE_DEVICES= 0\n",
      "local\n",
      "SpawnPoolWorker-4 4\n",
      "CUDA_VISIBLE_DEVICES= 0\n",
      "local\n",
      "SpawnPoolWorker-5 5\n",
      "CUDA_VISIBLE_DEVICES= 0\n",
      "Opt time 281.28699016571045\n",
      "New AIRS no residual threshold\n",
      "Score:          0.6070\n",
      "RMS error FGS:  210.09 ppm\n",
      "RMS error AIRS: 156.96 ppm\n",
      "New AIRS residual threshold 50\n"
     ]
    },
    {
     "name": "stderr",
     "output_type": "stream",
     "text": [
      " 46%|████████████████████████████████████▉                                           | 508/1099 [34:59<37:37,  3.82s/it]"
     ]
    }
   ],
   "source": [
    "kgs.sanity_checks_active = True\n",
    "def fname(k):\n",
    "    return kgs.temp_dir + 'evaluate_model_'+k+'__'+str(len(train_data))+'.pickle'\n",
    "for k,v in todo.items():\n",
    "    if not os.path.isfile(fname(k)):\n",
    "        print(k)\n",
    "        model = copy.deepcopy(v)\n",
    "        \n",
    "        # Precache data\n",
    "        for d in tqdm(train_data):\n",
    "            copy.deepcopy(d).load_to_step(5,model.model.starter_model.loaders)\n",
    "        \n",
    "        \n",
    "        model.train(train_data)\n",
    "        inferred_data = model.infer(train_data)\n",
    "        print(k)\n",
    "        kgs.score_metric(inferred_data, train_data)\n",
    "        kgs.dill_save(fname(k), (inferred_data,model,kgs.git_commit_id))\n",
    "    else:\n",
    "        print(k)\n",
    "        (inferred_data,model,_) = kgs.dill_load(fname(k))\n",
    "        kgs.score_metric(inferred_data, train_data)"
   ]
  },
  {
   "cell_type": "code",
   "execution_count": null,
   "id": "7bf28b67-2c01-4037-8e1f-1f16920de4eb",
   "metadata": {
    "tags": []
   },
   "outputs": [],
   "source": [
    "def basics():\n",
    "    plt.grid(True)\n",
    "    plt.box(True)\n",
    "def plot_two_sensors(func, xl, yl, mod):\n",
    "    _,ax = plt.subplots(1,2,figsize=(12,6))\n",
    "    plt.sca(ax[0]);basics()\n",
    "    plt.title('FGS')\n",
    "    plt.xlabel(xl)\n",
    "    plt.ylabel(yl)\n",
    "    func(slice(0,1), 'blue', 'FGS')\n",
    "    mod()\n",
    "    \n",
    "    plt.sca(ax[1]);basics()\n",
    "    plt.title('AIRS')\n",
    "    plt.xlabel(xl)\n",
    "    func(slice(1,283), 'red', 'AIRS')\n",
    "    mod()\n",
    "    \n",
    "    plt.pause(0.001)\n",
    "\n",
    "def report_extreme_ratios(x,y,name):\n",
    "    print(name)\n",
    "    inds = np.argsort(np.abs(y/x))[::-1]\n",
    "    for ii in inds[:5]:\n",
    "        print(f'{inferred_data[ii].planet_id}, ratio:{np.abs(y[ii]/x[ii]):.3f}, x:{x[ii]:.3e}, y:{y[ii]:.3e}, RMS:{kgs.rms(error_matrix[ii,:]):.3e}')\n",
    "    \n",
    "    \n",
    "for k,v in todo.items():\n",
    "    (inferred_data,model,_) = kgs.dill_load(fname(k))\n",
    "    #model.bias_a[0]+=0.006\n",
    "    #model.bias_a[1]-=0.0002\n",
    "    #inferred_data = model.infer(train_data)\n",
    "    print(k)\n",
    "    print(model.bias_a)\n",
    "    print(model.bias_b)\n",
    "    print(model.sigma_fudge)\n",
    "    kgs.score_metric(inferred_data, train_data)\n",
    "    print('')\n",
    "    print('20')\n",
    "    kgs.score_metric(inferred_data[:20], train_data[:20]) \n",
    "    print('')\n",
    "    print('No fudge')\n",
    "    model.sigma_fudge = [1,1]\n",
    "    #model.bias_a = [1,1]\n",
    "    #model.bias_b = [0,0]\n",
    "    # print('!!!')\n",
    "    inferred_data = model.infer(train_data)\n",
    "    kgs.score_metric(inferred_data, train_data)     \n",
    "    error_matrix = np.array([d.spectrum - t.spectrum for d,t in zip(inferred_data,train_data)])\n",
    "    true_matrix = np.array([t.spectrum for d,t in zip(inferred_data,train_data)])\n",
    "    \n",
    "    def plot_prediction_vs_true(slic, col, name):\n",
    "        x = np.mean(true_matrix[:,slic],1)\n",
    "        y = np.mean(error_matrix[:,slic],1)\n",
    "        plt.scatter(x,y,color = col)\n",
    "        \n",
    "    plot_two_sensors(plot_prediction_vs_true, 'True value (mean)', 'Prediction error (mean)', lambda:0)\n",
    "    \n",
    "    def plot_mean_error_vs_sigma(slic,col, name):\n",
    "        x = [np.sqrt(np.sum(d.spectrum_cov[slic,slic])/(slic.stop-slic.start)**2) for d in inferred_data]\n",
    "        y = np.mean(error_matrix[:,slic],1)\n",
    "        plt.scatter(x,y,color = col)\n",
    "        report_extreme_ratios(x,y,name)\n",
    "    def mod():\n",
    "        plt.axline((0,0), slope=3, color='black')\n",
    "        plt.axline((0,0), slope=-3, color = 'black')        \n",
    "    plot_two_sensors(plot_mean_error_vs_sigma, 'Sigma prediction (mean)', 'Prediction error (mean)', mod)\n",
    "    \n",
    "    plt.figure(); basics()\n",
    "    plt.title('AIRS variation per planet')\n",
    "    plt.xlabel('Sigma prediction')\n",
    "    plt.ylabel('STD error')\n",
    "    n=282\n",
    "    x=np.sqrt([(np.trace(d.spectrum_cov[1:,1:]) - np.sum(d.spectrum_cov[1:,1:]) / n) / n for d in inferred_data])\n",
    "    y=np.sqrt(np.var(error_matrix[:,1:],1))\n",
    "    plt.scatter(x, y, color='red')\n",
    "    plt.axline((0,0), slope=1, color='black')\n",
    "    report_extreme_ratios(x,y,'AIRS variation')    \n",
    "    plt.pause(0.001)"
   ]
  },
  {
   "cell_type": "code",
   "execution_count": null,
   "id": "56ae0f42-086f-4c38-a75e-d33341de8e1f",
   "metadata": {
    "tags": []
   },
   "outputs": [],
   "source": [
    "compare1= list(todo.keys())[0]\n",
    "data1 = kgs.dill_load(fname(compare1))[0]\n",
    "for k,v in todo.items():    \n",
    "    compare2= k\n",
    "    if compare2==compare1:\n",
    "        continue    \n",
    "    data2 = kgs.dill_load(fname(compare2))[0]\n",
    "    error1 = np.array([d.spectrum - t.spectrum for d,t in zip(data1,train_data)])\n",
    "    error2 = np.array([d.spectrum - t.spectrum for d,t in zip(data2,train_data)])\n",
    "    def plot_prediction_vs_true(slic, col, name):\n",
    "        x = np.mean(error1[:,slic],1)\n",
    "        y = np.mean(error2[:,slic],1)\n",
    "        plt.scatter(x,y,color = col)\n",
    "\n",
    "    plot_two_sensors(plot_prediction_vs_true, compare1+' (mean)', compare2+' (mean)', lambda:plt.axline((0,0),slope=1,color='black'))\n",
    "\n",
    "    plt.figure(); basics()\n",
    "    plt.title('AIRS variation per planet')\n",
    "    plt.xlabel(compare1)\n",
    "    plt.ylabel(compare2)\n",
    "    x=np.sqrt(np.var(error1[:,1:],1))\n",
    "    y=np.sqrt(np.var(error2[:,1:],1))\n",
    "    plt.scatter(x, y, color='red')\n",
    "    plt.axline((0,0), slope=1, color='black')\n",
    "    plt.pause(0.001)"
   ]
  },
  {
   "cell_type": "code",
   "execution_count": null,
   "id": "476f6bc8-683e-4ba1-8660-9b49a80f1e80",
   "metadata": {
    "tags": []
   },
   "outputs": [],
   "source": [
    "# import subprocess\n",
    "\n",
    "# # Hibernate Windows\n",
    "# subprocess.run(\n",
    "#     [\"/mnt/c/Windows/System32/shutdown.exe\", \"/h\"],  # add \"/f\" to force-close apps\n",
    "#     check=True\n",
    "# )"
   ]
  },
  {
   "cell_type": "code",
   "execution_count": null,
   "id": "c0e66cdc-78c8-4086-a1ef-bfa8bed7a771",
   "metadata": {},
   "outputs": [],
   "source": []
  }
 ],
 "metadata": {
  "kernelspec": {
   "display_name": "Python 3 (ipykernel)",
   "language": "python",
   "name": "python3"
  },
  "language_info": {
   "codemirror_mode": {
    "name": "ipython",
    "version": 3
   },
   "file_extension": ".py",
   "mimetype": "text/x-python",
   "name": "python",
   "nbconvert_exporter": "python",
   "pygments_lexer": "ipython3",
   "version": "3.11.13"
  }
 },
 "nbformat": 4,
 "nbformat_minor": 5
}
