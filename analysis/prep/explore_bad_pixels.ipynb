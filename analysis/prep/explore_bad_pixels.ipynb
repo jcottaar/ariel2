{
 "cells": [
  {
   "cell_type": "code",
   "execution_count": 1,
   "id": "45952298-7dea-4acf-9574-b7cac9bb630a",
   "metadata": {
    "tags": []
   },
   "outputs": [
    {
     "name": "stdout",
     "output_type": "stream",
     "text": [
      "local\n"
     ]
    }
   ],
   "source": [
    "import sys\n",
    "sys.path.append('/mnt/d/ariel2/code/core/')\n",
    "sys.path.append('d:/ariel2/code/core/')\n",
    "sys.path.append('/kaggle/input/my-ariel2-library')\n",
    "import kaggle_support as kgs\n",
    "import ariel_model\n",
    "import ariel_gp\n",
    "import time\n",
    "import numpy as np\n",
    "import cupy as cp\n",
    "import multiprocess\n",
    "from tqdm import tqdm\n",
    "import copy\n",
    "import matplotlib.pyplot as plt\n",
    "import ariel_numerics\n",
    "import ariel_load"
   ]
  },
  {
   "cell_type": "code",
   "execution_count": 2,
   "id": "575a2331-7cfe-442a-9903-2ce848b901cc",
   "metadata": {
    "tags": []
   },
   "outputs": [
    {
     "name": "stdout",
     "output_type": "stream",
     "text": [
      "1099\n"
     ]
    }
   ],
   "source": [
    "train_data = kgs.load_all_train_data()\n",
    "print(len(train_data))"
   ]
  },
  {
   "cell_type": "code",
   "execution_count": null,
   "id": "91491463-e683-44a6-ac6c-9094301e455d",
   "metadata": {
    "tags": []
   },
   "outputs": [
    {
     "name": "stderr",
     "output_type": "stream",
     "text": [
      "  2%|█▌                                                                               | 22/1099 [00:33<31:11,  1.74s/it]"
     ]
    }
   ],
   "source": [
    "# FGS = []\n",
    "# AIRS = []\n",
    "# N_FGS=2500\n",
    "# N_AIRS=250\n",
    "# loaders = ariel_load.default_loaders()\n",
    "# for d in tqdm(train_data):\n",
    "#     for t in d.transits:\n",
    "#         tt = copy.deepcopy(t)\n",
    "#         tt.load_to_step(2, d, loaders)\n",
    "#         for ii in range(tt.data[0].data.shape[0]//N_FGS):\n",
    "#             FGS.append(cp.mean(tt.data[0].data[N_FGS*ii:(N_FGS)*(ii+1),...],0).get())\n",
    "#         for ii in range(tt.data[1].data.shape[0]//N_AIRS):\n",
    "#             AIRS.append(cp.mean(tt.data[1].data[N_AIRS*ii:(N_AIRS)*(ii+1),...],0).get())\n",
    "# del tt\n",
    "# FGS = cp.array(FGS)\n",
    "# AIRS = cp.array(AIRS)\n",
    "# data = [FGS, AIRS]\n",
    "# kgs.dill_save(kgs.temp_dir + '/explore_bad_pixels.pickle', data)\n",
    "data_modes = kgs.dill_load(kgs.temp_dir + '/explore_bad_pixels.pickle')"
   ]
  },
  {
   "cell_type": "code",
   "execution_count": null,
   "id": "d5ff7346-dfff-4cfc-b951-03d1b4916b85",
   "metadata": {
    "tags": []
   },
   "outputs": [],
   "source": [
    "n_components = [10]+[5]*282\n",
    "S = []\n",
    "components = []\n",
    "for i_wavelength in range(3):\n",
    "    if i_wavelength==0:\n",
    "        this_data = copy.deepcopy(data_modes[0].reshape(-1,1024))\n",
    "    else:\n",
    "        this_data = copy.deepcopy(data_modes[1][:,:,i_wavelength-1])\n",
    "    print(i_wavelength, end =\" \")\n",
    "    dat = this_data\n",
    "    S.append([]);components.append([]);\n",
    "    for ii in range(n_components[i_wavelength]):\n",
    "        this_weights, this_components, this_S = ariel_numerics.nan_pca(dat, 1, tol=1e-1, verbose=False)\n",
    "        #print(this_S)\n",
    "        #dat = dat - weights[:,0][:,None,None]*components[0,:][None,:,:]\n",
    "        dat -= this_weights * this_components\n",
    "        S[-1].append(this_S)\n",
    "        components[-1].append(this_components)\n",
    "        #plt.figure();plt.semilogy(S.get())\n",
    "        #weights,components,S = ariel_numerics.nan_pca(data_residual, 4, tol=1e-1, verbose=True)\n",
    "        #plt.figure();plt.semilogy(S.get())\n",
    "        #weights,components,S = ariel_numerics.nan_pca(data_residual, 5, tol=1e-1, verbose=True)\n",
    "    S[-1]=cp.array(S[-1])[:,0]"
   ]
  },
  {
   "cell_type": "code",
   "execution_count": null,
   "id": "ccf12e5d-c458-4190-bff8-c42cb2493bd4",
   "metadata": {
    "tags": []
   },
   "outputs": [],
   "source": [
    "plt.figure()\n",
    "plt.semilogy(S[0].get())\n",
    "plt.figure()\n",
    "SS = cp.stack(S[1:]).T\n",
    "plt.imshow(cp.log(SS).get()/np.log(10), aspect='auto')\n",
    "plt.colorbar()"
   ]
  },
  {
   "cell_type": "code",
   "execution_count": null,
   "id": "260fe634-a986-4f84-bc20-33e596681b05",
   "metadata": {
    "tags": []
   },
   "outputs": [],
   "source": []
  },
  {
   "cell_type": "code",
   "execution_count": null,
   "id": "7ed7b4cd-6a6e-402e-bb64-18ddb9d79350",
   "metadata": {
    "tags": []
   },
   "outputs": [],
   "source": [
    "#plt.plot(cp.nanmean(all_b,1).get())\n",
    "print(np.max(cp.nanmedian(all_b,0).get()))\n",
    "ind = np.argmax(cp.nanmedian(all_b,0).get())\n",
    "plt.plot(all_b[:,ind].get())\n",
    "np.nanmedian(all_b[:,ind].get())\n",
    "#plot_all(all_a[ind,:])\n",
    "#plot_all(all_b[ind,:])"
   ]
  },
  {
   "cell_type": "code",
   "execution_count": null,
   "id": "ac63d48f-69c3-4f5a-ac27-0125fe29c623",
   "metadata": {
    "tags": []
   },
   "outputs": [],
   "source": [
    "import ariel_numerics\n",
    "import importlib\n",
    "importlib.reload(ariel_numerics)\n",
    "weights,components,S = ariel_numerics.nan_pca(all_a-a, 10, tol=1e-5, verbose=True)\n",
    "plt.figure();plt.plot(S.get())\n",
    "plt.figure();plt.imshow(a.reshape(32,32).get())\n",
    "plt.figure();plt.imshow(components[0,:].reshape(32,32).get())\n",
    "plt.figure();plt.imshow(components[1,:].reshape(32,32).get())"
   ]
  },
  {
   "cell_type": "code",
   "execution_count": null,
   "id": "6aa1a494-84dd-4790-9044-676f7cc23293",
   "metadata": {
    "tags": []
   },
   "outputs": [],
   "source": [
    "import ariel_numerics\n",
    "import importlib\n",
    "importlib.reload(ariel_numerics)\n",
    "weights2,components2,S2 = ariel_numerics.nan_pca(all_b-b, 10, tol=1e-5, verbose=True)\n",
    "plt.figure();plt.plot(S.get())\n",
    "plt.figure();plt.imshow(b.reshape(32,32).get())\n",
    "plt.figure();plt.imshow(components2[0,:].reshape(32,32).get())\n",
    "plt.figure();plt.imshow((components2[1,:]).reshape(32,32).get())"
   ]
  },
  {
   "cell_type": "code",
   "execution_count": null,
   "id": "04b79cf8-cb0e-4e33-86e1-1e5b6b6aa5d3",
   "metadata": {
    "tags": []
   },
   "outputs": [],
   "source": [
    "weights.shape"
   ]
  },
  {
   "cell_type": "code",
   "execution_count": null,
   "id": "5ce98864-04ca-49cf-8e7f-81412cd465d0",
   "metadata": {
    "tags": []
   },
   "outputs": [],
   "source": [
    "S,S2"
   ]
  },
  {
   "cell_type": "code",
   "execution_count": null,
   "id": "26cf3913-804c-4900-9dde-11fc8483ca69",
   "metadata": {},
   "outputs": [],
   "source": []
  }
 ],
 "metadata": {
  "kernelspec": {
   "display_name": "Python 3 (ipykernel)",
   "language": "python",
   "name": "python3"
  },
  "language_info": {
   "codemirror_mode": {
    "name": "ipython",
    "version": 3
   },
   "file_extension": ".py",
   "mimetype": "text/x-python",
   "name": "python",
   "nbconvert_exporter": "python",
   "pygments_lexer": "ipython3",
   "version": "3.11.13"
  }
 },
 "nbformat": 4,
 "nbformat_minor": 5
}
