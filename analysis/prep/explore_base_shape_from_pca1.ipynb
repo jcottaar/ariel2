{
 "cells": [
  {
   "cell_type": "code",
   "execution_count": 1,
   "id": "45952298-7dea-4acf-9574-b7cac9bb630a",
   "metadata": {
    "tags": []
   },
   "outputs": [
    {
     "name": "stdout",
     "output_type": "stream",
     "text": [
      "local\n"
     ]
    }
   ],
   "source": [
    "import sys\n",
    "sys.path.append('/mnt/d/ariel2/code/core/')\n",
    "sys.path.append('d:/ariel2/code/core/')\n",
    "sys.path.append('/kaggle/input/my-ariel2-library')\n",
    "import kaggle_support as kgs\n",
    "import ariel_model\n",
    "import ariel_gp\n",
    "import ariel_load\n",
    "import ariel_numerics\n",
    "import time\n",
    "import numpy as np\n",
    "import cupy as cp\n",
    "import multiprocess\n",
    "from tqdm import tqdm\n",
    "import scipy\n",
    "import copy\n",
    "import matplotlib.pyplot as plt"
   ]
  },
  {
   "cell_type": "code",
   "execution_count": 2,
   "id": "6c151aee-eb22-42f2-bfb2-9561436b6aab",
   "metadata": {
    "tags": []
   },
   "outputs": [],
   "source": [
    "train_data = kgs.load_all_train_data()\n",
    "train_data = train_data[:750]\n",
    "kgs.debugging_mode = 1\n",
    "model = ariel_gp.PredictionModel()\n",
    "model.run_in_parallel = False\n",
    "model.model_options.n_iter=0\n",
    "model.model_options.use_training_labels = True\n",
    "kgs.sanity_checks_active = True\n",
    "model.train(train_data)"
   ]
  },
  {
   "cell_type": "code",
   "execution_count": null,
   "id": "05309d69-3039-4faf-9830-a42673fdcba5",
   "metadata": {
    "tags": []
   },
   "outputs": [],
   "source": []
  },
  {
   "cell_type": "code",
   "execution_count": 3,
   "id": "4afe1008-9243-4a6e-9791-138da1d14789",
   "metadata": {
    "tags": []
   },
   "outputs": [],
   "source": [
    "# for d,r in (zip(train_data,loaded_res)):\n",
    "#     mm= copy.deepcopy(model.results['model_mean'])\n",
    "#     mm.set_parameters(r[0])\n",
    "#     mm.m['signal'].m['main'].m['transit'].depth_model.offset = -d.diagnostics['training_spectrum']\n",
    "#     obs_transit = copy.deepcopy(model.results['obs'])\n",
    "    \n",
    "#     stellar_labels = mm.m['signal'].m['main'].m['spectrum'].get_prediction(obs_transit)\n",
    "#     transit_labels = mm.m['signal'].m['main'].m['transit'].get_prediction(obs_transit)\n",
    "#     obs_transit.labels = stellar_labels*transit_labels\n",
    "#     #obs_transit.labels = model.results['model_mean'].m['signal'].m['main'].m['transit'].get_prediction(obs_transit)\n",
    "#     #obs_transit.labels = mm.m['signal'].m['main'].get_prediction(obs_transit)\n",
    "#     #obs_transit.labels = mm.m['signal'].get_prediction(obs_transit)\n",
    "#     #print(mm.m['signal'].m['main'].m['transit'].get_parameters())\n",
    "#     d.diagnostics['transit'] = obs_transit"
   ]
  },
  {
   "cell_type": "code",
   "execution_count": 4,
   "id": "95fde8bc-b7d2-42d7-920f-b0f57dd20263",
   "metadata": {
    "tags": []
   },
   "outputs": [],
   "source": [
    "S,components,weights = kgs.dill_load(kgs.temp_dir + '/explore_bad_pixels_pca.pickle')"
   ]
  },
  {
   "cell_type": "code",
   "execution_count": 5,
   "id": "f0d7727b-aa2a-4321-b5f9-5b40492013f3",
   "metadata": {},
   "outputs": [
    {
     "name": "stderr",
     "output_type": "stream",
     "text": [
      "100%|█████████████████████████████████████████████████████████████████████████████████| 750/750 [28:55<00:00,  2.31s/it]\n"
     ]
    }
   ],
   "source": [
    "#loaded_res = kgs.dill_load(kgs.temp_dir + '/prep.pickle')\n",
    "#model.infer(train_data[0:1]);\n",
    "def f(d):\n",
    "    \n",
    "    d=copy.deepcopy(d)\n",
    "    \n",
    "#     mm= copy.deepcopy(model.results['model_mean'])\n",
    "#     mm.set_parameters(r[0])\n",
    "#     mm.m['signal'].m['main'].m['transit'].depth_model.offset = -d.diagnostics['training_spectrum']\n",
    "#     obs_transit = copy.deepcopy(model.results['obs'])\n",
    "    \n",
    "#     stellar_labels = mm.m['signal'].m['main'].m['spectrum'].get_prediction(obs_transit)\n",
    "#     transit_labels = mm.m['signal'].m['main'].m['transit'].get_prediction(obs_transit)\n",
    "#     obs_transit.labels = stellar_labels*transit_labels\n",
    "#     #obs_transit.labels = model.results['model_mean'].m['signal'].m['main'].m['transit'].get_prediction(obs_transit)\n",
    "#     #obs_transit.labels = mm.m['signal'].m['main'].get_prediction(obs_transit)\n",
    "#     #obs_transit.labels = mm.m['signal'].get_prediction(obs_transit)\n",
    "#     #print(mm.m['signal'].m['main'].m['transit'].get_parameters())\n",
    "#     d.diagnostics['transit'] = obs_transit\n",
    "    \n",
    "    kgs.debugging_mode = 1\n",
    "    #model = kgs.dill_load(kgs.temp_dir + '/parallel.pickle')\n",
    "    #d = model.infer([d])[0]\n",
    "    d.load_to_step(3, ariel_load.default_loaders())\n",
    "    #obs_transit = d.diagnostics['transit']\n",
    "    coeffs = []\n",
    "    for i_wavelength in range(283):\n",
    "        if i_wavelength==0:\n",
    "            # times_obs = np.unique(obs_transit.df['time'][~obs_transit.df['is_AIRS']])\n",
    "            # transit_obs = obs_transit.export_matrix(False)[:,0]\n",
    "            # times_data = d.transits[0].data[0].times.get()/3600   \n",
    "            # transit_data = cp.array(scipy.interpolate.interp1d(times_obs, transit_obs, kind='cubic', fill_value=\"extrapolate\")(times_data))\n",
    "            # times_data = cp.array(times_data)     \n",
    "            # data = d.transits[0].data[0].data\n",
    "            # data = np.reshape(data, (data.shape[0],-1))\n",
    "            # print(len(times_obs),len(times_data))\n",
    "            #transit_data = cp.array(obs_transit.export_matrix(False)[:,0])\n",
    "            data = d.transits[0].data[0].data\n",
    "            data = np.reshape(data, (data.shape[0],-1))\n",
    "        else:\n",
    "            data = d.transits[0].data[1].data[:,:,i_wavelength-1]\n",
    "            \n",
    "    \n",
    "        #noise_est = cp.ones(data.shape[1])\n",
    "        #for ii in range(data.shape[1]):\n",
    "        #   noise_est[ii] = ariel_numerics.estimate_noise_cp(data[:,ii])\n",
    "        noise_est = ariel_numerics.estimate_noise_cp(data)\n",
    "        noise_est[cp.isnan(noise_est)]=cp.nanmean(noise_est)\n",
    "        noise_est[noise_est<1] = 1\n",
    "\n",
    "        # Fit the PCA components to the data\n",
    "        #design_matrix = cp.stack([c[0,:] for c in components[i_wavelength]]+[cp.ones(data.shape[1])]).T\n",
    "        design_matrix = cp.stack([c[0,:] for c in components[i_wavelength]]).T\n",
    "        coeffs.append(ariel_numerics.lstsq_nanrows_normal_eq_with_pinv_sigma(data.T, design_matrix, sigma=noise_est, return_A_pinv_w=False)[0].get())\n",
    "        \n",
    "    d.load_to_step(0, ariel_load.default_loaders())\n",
    "    return coeffs\n",
    " \n",
    "\n",
    "res = [f(d) for d in tqdm(train_data)]\n",
    "kgs.dill_save(kgs.temp_dir+'/explore_base_shape_from_pca.pickle', res)"
   ]
  },
  {
   "cell_type": "code",
   "execution_count": null,
   "id": "c3a7d0f4-7958-4666-b74c-b3552ab7390b",
   "metadata": {},
   "outputs": [],
   "source": []
  }
 ],
 "metadata": {
  "kernelspec": {
   "display_name": "Python 3 (ipykernel)",
   "language": "python",
   "name": "python3"
  },
  "language_info": {
   "codemirror_mode": {
    "name": "ipython",
    "version": 3
   },
   "file_extension": ".py",
   "mimetype": "text/x-python",
   "name": "python",
   "nbconvert_exporter": "python",
   "pygments_lexer": "ipython3",
   "version": "3.11.13"
  }
 },
 "nbformat": 4,
 "nbformat_minor": 5
}
