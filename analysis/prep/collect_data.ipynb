{
 "cells": [
  {
   "cell_type": "code",
   "execution_count": 1,
   "id": "3251ad06-7248-4ca9-9d08-e9670005b9aa",
   "metadata": {
    "tags": []
   },
   "outputs": [
    {
     "name": "stdout",
     "output_type": "stream",
     "text": [
      "local\n"
     ]
    }
   ],
   "source": [
    "import sys\n",
    "sys.path.append('/mnt/d/ariel2/code/core/')\n",
    "sys.path.append('d:/ariel2/code/core/')\n",
    "sys.path.append('/kaggle/input/my-ariel2-library')\n",
    "import kaggle_support as kgs\n",
    "import ariel_model\n",
    "import ariel_gp\n",
    "import time\n",
    "import numpy as np\n",
    "import multiprocess\n",
    "from tqdm import tqdm"
   ]
  },
  {
   "cell_type": "code",
   "execution_count": 2,
   "id": "575a2331-7cfe-442a-9903-2ce848b901cc",
   "metadata": {
    "tags": []
   },
   "outputs": [],
   "source": [
    "train_data = kgs.load_all_train_data()[:100]\n",
    "kgs.debugging_mode = 1\n",
    "model = ariel_gp.PredictionModel()\n",
    "model.run_in_parallel = True\n",
    "model.model_options.use_training_labels = True\n",
    "#model.model_options.make_noise_consistent = True\n",
    "model.model_options.n_samples_sigma_est = 2\n",
    "kgs.sanity_checks_active = False\n",
    "model.train(train_data)"
   ]
  },
  {
   "cell_type": "code",
   "execution_count": 3,
   "id": "1d6ae8c0-0350-4041-a50c-591e71437635",
   "metadata": {
    "tags": []
   },
   "outputs": [
    {
     "name": "stderr",
     "output_type": "stream",
     "text": [
      "Processing in parallel: 100%|█████████████████████████████████████████████████████████| 100/100 [03:05<00:00,  1.86s/it]\n"
     ]
    },
    {
     "name": "stdout",
     "output_type": "stream",
     "text": [
      "local\n",
      "SpawnPoolWorker-3 3\n",
      "CUDA_VISIBLE_DEVICES= 0\n",
      "New solver/alternative transit parameters fallback for planet id 166602615\n",
      "local\n",
      "SpawnPoolWorker-1 1\n",
      "CUDA_VISIBLE_DEVICES= 0\n",
      "New solver/alternative transit parameters fallback for planet id 152245846\n",
      "local\n",
      "SpawnPoolWorker-6 6\n",
      "CUDA_VISIBLE_DEVICES= 0\n",
      "New solver/alternative transit parameters fallback for planet id 237793157\n",
      "New solver/alternative transit parameters fallback for planet id 291916399\n",
      "New solver/alternative transit parameters fallback for planet id 342072318\n",
      "local\n",
      "SpawnPoolWorker-4 4\n",
      "CUDA_VISIBLE_DEVICES= 0\n",
      "local\n",
      "SpawnPoolWorker-5 5\n",
      "CUDA_VISIBLE_DEVICES= 0\n",
      "New solver/alternative transit parameters fallback for planet id 128610134\n",
      "local\n",
      "SpawnPoolWorker-2 2\n",
      "CUDA_VISIBLE_DEVICES= 0\n",
      "New solver/alternative transit parameters fallback for planet id 94572221\n",
      "New solver/alternative transit parameters fallback for planet id 155501234\n",
      "New solver/alternative transit parameters fallback for planet id 205266886\n"
     ]
    }
   ],
   "source": [
    "model.run_in_parallel = False\n",
    "def f(d):\n",
    "    import kaggle_support as kgs\n",
    "    import numpy as np\n",
    "    kgs.debugging_mode = 1\n",
    "    kgs.sanity_checks_active = False\n",
    "    model = kgs.dill_load(kgs.temp_dir + '/parallelx.pickle')\n",
    "    d = model.infer([d])[0]\n",
    "    return [model.results['model_mean'].get_parameters(), model.results['model_mean'].m['signal'].m['main'].m['transit'].transit_params]\n",
    "data = train_data\n",
    "kgs.dill_save(kgs.temp_dir + '/parallelx.pickle', model)\n",
    "with multiprocess.Pool(6) as p:                   \n",
    "    result = list(tqdm(\n",
    "        p.imap(f, data),\n",
    "        total=len(data),\n",
    "        desc=\"Processing in parallel\", smoothing = 0.05\n",
    "        ))\n",
    "kgs.dill_save(kgs.temp_dir + '/prep3.pickle', result)"
   ]
  }
 ],
 "metadata": {
  "kernelspec": {
   "display_name": "Python 3 (ipykernel)",
   "language": "python",
   "name": "python3"
  },
  "language_info": {
   "codemirror_mode": {
    "name": "ipython",
    "version": 3
   },
   "file_extension": ".py",
   "mimetype": "text/x-python",
   "name": "python",
   "nbconvert_exporter": "python",
   "pygments_lexer": "ipython3",
   "version": "3.11.13"
  }
 },
 "nbformat": 4,
 "nbformat_minor": 5
}
