{
 "cells": [
  {
   "cell_type": "code",
   "execution_count": 1,
   "id": "45952298-7dea-4acf-9574-b7cac9bb630a",
   "metadata": {
    "tags": []
   },
   "outputs": [
    {
     "name": "stdout",
     "output_type": "stream",
     "text": [
      "local\n"
     ]
    }
   ],
   "source": [
    "import sys\n",
    "sys.path.append('/mnt/d/ariel2/code/core/')\n",
    "sys.path.append('d:/ariel2/code/core/')\n",
    "sys.path.append('/kaggle/input/my-ariel2-library')\n",
    "import kaggle_support as kgs\n",
    "import ariel_model\n",
    "import ariel_gp\n",
    "import time\n",
    "import numpy as np\n",
    "import multiprocess\n",
    "from tqdm import tqdm"
   ]
  },
  {
   "cell_type": "code",
   "execution_count": 2,
   "id": "575a2331-7cfe-442a-9903-2ce848b901cc",
   "metadata": {
    "tags": []
   },
   "outputs": [],
   "source": [
    "train_data = kgs.load_all_train_data()\n",
    "kgs.debugging_mode = 1\n",
    "model = ariel_gp.PredictionModel()\n",
    "model.run_in_parallel = True\n",
    "model.model_options.use_training_labels = True\n",
    "kgs.sanity_checks_active = True\n",
    "model.train(train_data)"
   ]
  },
  {
   "cell_type": "code",
   "execution_count": 3,
   "id": "1d6ae8c0-0350-4041-a50c-591e71437635",
   "metadata": {
    "tags": []
   },
   "outputs": [
    {
     "name": "stderr",
     "output_type": "stream",
     "text": [
      "Processing in parallel:   0%|                                                                  | 0/1100 [00:00<?, ?it/s]"
     ]
    },
    {
     "name": "stdout",
     "output_type": "stream",
     "text": [
      "local\n",
      "local\n",
      "SpawnPoolWorker-1 1\n",
      "SpawnPoolWorker-3 3\n",
      "CUDA_VISIBLE_DEVICES= 0\n",
      "CUDA_VISIBLE_DEVICES= 0\n",
      "local\n",
      "SpawnPoolWorker-2 2\n",
      "CUDA_VISIBLE_DEVICES= 0\n"
     ]
    },
    {
     "name": "stderr",
     "output_type": "stream",
     "text": [
      "Processing in parallel: 100%|█████████████████████████████████████████████████████| 1100/1100 [1:52:47<00:00,  6.15s/it]\n"
     ]
    }
   ],
   "source": [
    "model.run_in_parallel = False\n",
    "def f(d):\n",
    "    import kaggle_support as kgs\n",
    "    import numpy as np\n",
    "    kgs.debugging_mode = 1\n",
    "    model = kgs.dill_load(kgs.temp_dir + '/parallel.pickle')\n",
    "    d = model.infer([d])[0]\n",
    "    return [model.results['model_mean'].get_parameters()]\n",
    "data = train_data\n",
    "kgs.dill_save(kgs.temp_dir + '/parallel.pickle', model)\n",
    "with multiprocess.Pool(3) as p:                   \n",
    "    result = list(tqdm(\n",
    "        p.imap(f, data),\n",
    "        total=len(data),\n",
    "        desc=\"Processing in parallel\", smoothing = 0.05\n",
    "        ))\n",
    "kgs.dill_save(kgs.temp_dir + '/prep.pickle', result)"
   ]
  },
  {
   "cell_type": "code",
   "execution_count": null,
   "id": "21caa087-3a8b-4a88-ba2a-589dfae6f446",
   "metadata": {},
   "outputs": [],
   "source": []
  }
 ],
 "metadata": {
  "kernelspec": {
   "display_name": "Python 3 (ipykernel)",
   "language": "python",
   "name": "python3"
  },
  "language_info": {
   "codemirror_mode": {
    "name": "ipython",
    "version": 3
   },
   "file_extension": ".py",
   "mimetype": "text/x-python",
   "name": "python",
   "nbconvert_exporter": "python",
   "pygments_lexer": "ipython3",
   "version": "3.11.13"
  }
 },
 "nbformat": 4,
 "nbformat_minor": 5
}
