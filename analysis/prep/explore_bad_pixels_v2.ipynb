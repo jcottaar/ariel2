{
 "cells": [
  {
   "cell_type": "code",
   "execution_count": 1,
   "id": "45952298-7dea-4acf-9574-b7cac9bb630a",
   "metadata": {
    "tags": []
   },
   "outputs": [
    {
     "name": "stdout",
     "output_type": "stream",
     "text": [
      "local\n"
     ]
    }
   ],
   "source": [
    "import sys\n",
    "sys.path.append('/mnt/d/ariel2/code/core/')\n",
    "sys.path.append('d:/ariel2/code/core/')\n",
    "sys.path.append('/kaggle/input/my-ariel2-library')\n",
    "import kaggle_support as kgs\n",
    "import ariel_model\n",
    "import ariel_gp\n",
    "import time\n",
    "import numpy as np\n",
    "import cupy as cp\n",
    "import multiprocess\n",
    "from tqdm import tqdm\n",
    "import copy\n",
    "import matplotlib.pyplot as plt\n",
    "import ariel_numerics\n",
    "import ariel_load"
   ]
  },
  {
   "cell_type": "code",
   "execution_count": 2,
   "id": "575a2331-7cfe-442a-9903-2ce848b901cc",
   "metadata": {
    "tags": []
   },
   "outputs": [
    {
     "name": "stdout",
     "output_type": "stream",
     "text": [
      "1099\n"
     ]
    }
   ],
   "source": [
    "train_data = kgs.load_all_train_data()\n",
    "print(len(train_data))\n",
    "#train_data = train_data[:20]"
   ]
  },
  {
   "cell_type": "code",
   "execution_count": 3,
   "id": "d052d8c5-effd-4c4b-bf37-e7096ff81e24",
   "metadata": {
    "tags": []
   },
   "outputs": [],
   "source": [
    "# FGS = []\n",
    "# AIRS = []\n",
    "# N_FGS=1250\n",
    "# N_AIRS=125\n",
    "# loaders = ariel_load.default_loaders()\n",
    "# for d in tqdm(train_data):\n",
    "#     for t in d.transits:\n",
    "#         tt = copy.deepcopy(t)\n",
    "#         tt.load_to_step(2, d, loaders)\n",
    "#         for ii in range(tt.data[0].data.shape[0]//N_FGS):\n",
    "#             FGS.append(cp.mean(tt.data[0].data[N_FGS*ii:(N_FGS)*(ii+1),...],0).get() - cp.mean(tt.data[0].data,0).get())\n",
    "#         for ii in range(tt.data[1].data.shape[0]//N_AIRS):\n",
    "#             AIRS.append(cp.mean(tt.data[1].data[N_AIRS*ii:(N_AIRS)*(ii+1),...],0).get()  - cp.mean(tt.data[1].data,0).get())\n",
    "# del tt\n",
    "# FGS = np.array(FGS)\n",
    "# AIRS = np.array(AIRS)\n",
    "# data = [FGS, AIRS]\n",
    "# kgs.dill_save(kgs.temp_dir + '/explore_bad_pixels_v2.pickle', data)\n",
    "# del data\n"
   ]
  },
  {
   "cell_type": "code",
   "execution_count": null,
   "id": "eb3660e0-799d-41d8-ac23-d13af1ae4bb5",
   "metadata": {
    "tags": []
   },
   "outputs": [],
   "source": []
  },
  {
   "cell_type": "code",
   "execution_count": null,
   "id": "23870c35-0eca-465c-9dc9-31cb76602126",
   "metadata": {
    "tags": []
   },
   "outputs": [],
   "source": [
    "# data_modes = kgs.dill_load(kgs.temp_dir + '/explore_bad_pixels_v2.pickle')\n",
    "# for ii in range(data_modes[1].shape[1]):\n",
    "#     for jj in range(data_modes[1].shape[2]):\n",
    "#         if np.all(np.isnan(data_modes[1][:,ii,jj])):\n",
    "#             data_modes[1][:,ii,jj] = data_modes[1][:,ii,jj+1]/2 + data_modes[1][:,ii,jj-1]/2\n",
    "# import importlib\n",
    "# importlib.reload(ariel_numerics)\n",
    "# n_components = [10]+[5]*282\n",
    "# S = []\n",
    "# components = []\n",
    "# weights = []\n",
    "# for i_wavelength in tqdm(range(0,283,1)):\n",
    "#     if i_wavelength==0:\n",
    "#         this_data = cp.array(copy.deepcopy(data_modes[0].reshape(-1,1024)))\n",
    "#     else:\n",
    "#         this_data = cp.array(copy.deepcopy(data_modes[1][:,:,i_wavelength-1]))\n",
    "#     #print(i_wavelength, end =\" \")\n",
    "#     dat = this_data\n",
    "#     S.append([]);components.append([]);weights.append([])\n",
    "#     for ii in range(n_components[i_wavelength]):\n",
    "#         this_weights, this_components, this_S = ariel_numerics.nan_pca(dat, 1, tol=1e-1, verbose=False, w_batch = 4096, c_batch=4096)\n",
    "#         #print(this_S)\n",
    "#         #dat = dat - weights[:,0][:,None,None]*components[0,:][None,:,:]\n",
    "#         dat -= this_weights * this_components\n",
    "#         S[-1].append(this_S)\n",
    "#         components[-1].append(this_components)\n",
    "#         weights[-1].append(this_weights)\n",
    "#         #plt.figure();plt.semilogy(S.get())\n",
    "#         #weights,components,S = ariel_numerics.nan_pca(data_residual, 4, tol=1e-1, verbose=True)\n",
    "#         #plt.figure();plt.semilogy(S.get())\n",
    "#         #weights,components,S = ariel_numerics.nan_pca(data_residual, 5, tol=1e-1, verbose=True)\n",
    "#     S[-1]=cp.array(S[-1])[:,0]\n",
    "# kgs.dill_save(kgs.temp_dir + '/explore_bad_pixels_pca_v2.pickle', (S,components,weights))\n",
    "S,components,weights = kgs.dill_load(kgs.temp_dir + '/explore_bad_pixels_pca_v2.pickle')\n",
    "data_modes = kgs.dill_load(kgs.temp_dir + '/explore_bad_pixels_v2.pickle')"
   ]
  },
  {
   "cell_type": "code",
   "execution_count": null,
   "id": "79573e4c-29c9-440c-aa37-388d4e56b109",
   "metadata": {
    "tags": []
   },
   "outputs": [],
   "source": [
    "plt.figure()\n",
    "plt.semilogy(S[0].get())\n",
    "plt.figure()\n",
    "plt.semilogy(S[1].get())\n",
    "plt.figure()\n",
    "SS = cp.stack(S[1:]).T\n",
    "SS = SS/SS[0,:]\n",
    "plt.imshow(cp.log(SS).get()/np.log(10), aspect='auto', interpolation='none')\n",
    "plt.colorbar()"
   ]
  },
  {
   "cell_type": "code",
   "execution_count": null,
   "id": "4faa4b73-93b7-49fb-800f-c7bb10ed84a9",
   "metadata": {
    "tags": []
   },
   "outputs": [],
   "source": [
    "for ii in range(5):\n",
    "    plt.figure()\n",
    "    plt.imshow(components[0][ii].reshape(32,32).get())\n",
    "    plt.title(ii)\n",
    "    plt.colorbar()\n",
    "for ii in range(5):\n",
    "    plt.figure()\n",
    "    plt.imshow(np.stack([(c[ii]/kgs.rms(c[ii])*cp.sign(cp.mean(c[ii][0,10:20]))).get() for c in components[1:]])[:,0,:].T,aspect='auto',interpolation ='none')\n",
    "    plt.title(ii)\n",
    "    plt.colorbar()"
   ]
  },
  {
   "cell_type": "code",
   "execution_count": null,
   "id": "5758e298-4d93-4893-9a1f-de2397b8dd8c",
   "metadata": {
    "tags": []
   },
   "outputs": [],
   "source": [
    "n_components_use = [4]+[3]*282 # 4 verified for FGS, 3 for AIRS needs more consideration\n",
    "kgs.sanity_checks_active = False\n",
    "for iii,d in enumerate(train_data[0:10]):\n",
    "    dd = copy.deepcopy(d)\n",
    "    dd.transits = dd.transits[0:1]\n",
    "    loader = ariel_load.default_loaders()\n",
    "    for ii in range(2):\n",
    "        loader[ii].apply_pixel_corrections.mask_dead= True\n",
    "        loader[ii].apply_pixel_corrections.mask_hot = False\n",
    "    dd.load_to_step(2, loader)\n",
    "    residuals = []\n",
    "    for i_wavelength in tqdm(range(0,283,1)):\n",
    "        if i_wavelength==0:\n",
    "            this_data = dd.transits[0].data[0].data.reshape(-1,1024)\n",
    "        else:\n",
    "            this_data = dd.transits[0].data[1].data[:,:,i_wavelength-1]\n",
    "        n_removed=0\n",
    "        noise_est = cp.ones(this_data.shape[1])\n",
    "        for ii in range(this_data.shape[1]):\n",
    "           noise_est[ii] = ariel_numerics.estimate_noise_cp(this_data[:,ii])\n",
    "        noise_est[cp.isnan(noise_est)]=cp.nanmean(noise_est)\n",
    "        noise_est[noise_est<10] = 10\n",
    "        data_mean = cp.mean(this_data,0)\n",
    "        for ii in range(this_data.shape[1]):\n",
    "            if not cp.isnan(data_mean[ii]) and (data_mean[ii]<0 or noise_est[ii]>100*cp.sqrt(data_mean[ii])):\n",
    "                print(i_wavelength, 'noise_est', noise_est[ii]/cp.sqrt(data_mean[ii]))\n",
    "                this_data[:,ii] = cp.nan\n",
    "                noise_est[ii] = cp.nan\n",
    "        while True:            \n",
    "            #this_data[:,15*32+15]=0\n",
    "            #print(this_data.shape)\n",
    "            data_mean = cp.mean(this_data,0)\n",
    "            #print(data_mean.shape)\n",
    "            design_matrix = cp.stack([cp.ones(data_mean.shape[0])]+[c[0,:] for c in components[i_wavelength][0:n_components_use[i_wavelength]]]).T#[\n",
    "            #print(design_matrix.shape)            \n",
    "            coeffs = ariel_numerics.lstsq_nanrows_normal_eq_with_pinv_sigma(data_mean[:,None], design_matrix, sigma=noise_est, return_A_pinv_w=False)\n",
    "            residual = (data_mean[:,None]-design_matrix@coeffs[0])[:,0]\n",
    "            residual_scaled = residual/noise_est*cp.sqrt(this_data.shape[0])\n",
    "            residual_scaled[cp.isnan(residual_scaled)] = 0\n",
    "            if cp.any(cp.abs(residual_scaled)>5):\n",
    "                print(i_wavelength, cp.max(cp.abs(residual_scaled)))\n",
    "                this_data[:,cp.argmax(cp.abs(residual_scaled))] = cp.nan\n",
    "                noise_est[cp.argmax(cp.abs(residual_scaled))] = cp.nan\n",
    "                n_removed+=1\n",
    "            else:\n",
    "                break\n",
    "        if i_wavelength==0:\n",
    "            print('mean_val', coeffs[0][0])\n",
    "        residuals.append(( residual  , noise_est, data_mean, n_removed ))\n",
    "    del this_data, dd\n",
    "    # plt.figure()\n",
    "    # plt.imshow((residuals[0][0]).reshape(32,32).get())\n",
    "    # plt.colorbar()\n",
    "    # plt.figure()\n",
    "    # plt.imshow((residuals[0][1]).reshape(32,32).get())\n",
    "    # plt.colorbar()\n",
    "    print(iii)\n",
    "    plt.figure()\n",
    "    plt.imshow((residuals[0][0]/residuals[0][1]*cp.sqrt(67500)).reshape(32,32).get())\n",
    "    plt.colorbar()\n",
    "    plt.figure()\n",
    "    plt.imshow(cp.stack([r[0]/r[1]*cp.sqrt(5625) for r in residuals[1:]]).get().T, aspect='auto', interpolation='none')\n",
    "    plt.colorbar()\n",
    "    #plt.figure()\n",
    "    #plt.clim([-10,10])\n",
    "    # plt.imshow(cp.stack([r[0]/r[1]*cp.sqrt(5625) for r in residuals[1:]]).get().T, aspect='auto', interpolation='none')\n",
    "    # plt.colorbar()\n",
    "    # plt.clim([-10,10])\n",
    "    vals = residuals[0][0]/residuals[0][1]*cp.sqrt(67500)\n",
    "    print(np.nanpercentile(cp.abs(vals).get(),100))\n",
    "    vals = cp.stack([r[0]/r[1]*cp.sqrt(5625) for r in residuals[1:]])\n",
    "    print(np.nanpercentile(cp.abs(vals.flatten()).get(),100))\n",
    "    plt.pause(0.001)"
   ]
  },
  {
   "cell_type": "code",
   "execution_count": null,
   "id": "b3c2c7e1-b8c8-48d4-9a7f-8f5eb2c219af",
   "metadata": {
    "tags": []
   },
   "outputs": [],
   "source": [
    "# plt.figure()\n",
    "# i_wavelength = 83\n",
    "# dat = data_modes[1][:,:,i_wavelength]\n",
    "# dat = dat - weights[i_wavelength+1][0]*components[i_wavelength+1][0]\n",
    "# #dat = dat - weights[i_wavelength+1][1]*components[i_wavelength+1][1]\n",
    "# plt.imshow(dat.get().T, aspect='auto', interpolation='none')\n",
    "# plt.colorbar()\n",
    "# #plt.figure()\n",
    "# # plt.scatter([cp.mean(data_modes[1][ii,:,261]).get() for ii in range(data_modes[1].shape[0])],[cp.nanmean(data_modes[1][ii,15,261]).get() for ii in range(data_modes[1].shape[0])])\n",
    "# # plt.figure()\n",
    "# # plt.scatter([cp.mean(data_modes[1][ii,:,261]).get() for ii in range(data_modes[1].shape[0])],[cp.nanmean(data_modes[1][ii,16,261]).get() for ii in range(data_modes[1].shape[0])])\n",
    "# #data_modes[1].shape"
   ]
  },
  {
   "cell_type": "code",
   "execution_count": null,
   "id": "c22fadcd-5210-4042-86df-bb0206b05a45",
   "metadata": {
    "tags": []
   },
   "outputs": [],
   "source": [
    "### plt.figure()\n",
    "plt.imshow(residuals[0][0].reshape(32,32).get())\n",
    "plt.colorbar()\n",
    "plt.figure()\n",
    "plt.imshow(cp.log(residuals[0][1]).reshape(32,32).get()/np.log(10))\n",
    "plt.colorbar()\n",
    "plt.figure()\n",
    "plt.imshow((residuals[0][1]/cp.sqrt(residuals[0][2])).reshape(32,32).get())\n",
    "plt.colorbar()\n",
    "plt.figure()\n",
    "plt.imshow((residuals[0][0]/residuals[0][1]*cp.sqrt(67500)).reshape(32,32).get())\n",
    "plt.colorbar()\n",
    "vals = residuals[0][0]/residuals[0][1]*cp.sqrt(67500)\n",
    "np.nanpercentile(cp.abs(vals).get(),100)\n",
    "#plt.figure();plt.plot(vals.get())"
   ]
  },
  {
   "cell_type": "code",
   "execution_count": null,
   "id": "b1b23ad0-f3cc-426a-b278-7afbc4b9b810",
   "metadata": {
    "tags": []
   },
   "outputs": [],
   "source": [
    "plt.figure()\n",
    "plt.plot([r[3] for r in residuals[1:]])\n",
    "plt.figure()\n",
    "plt.imshow(cp.stack(r[0] for r in residuals[1:]).get().T, aspect='auto', interpolation='none')\n",
    "plt.colorbar()\n",
    "plt.figure()\n",
    "plt.imshow(cp.log(cp.stack(r[1] for r in residuals[1:])).get().T/np.log(10), aspect='auto', interpolation='none')\n",
    "plt.colorbar()\n",
    "plt.figure()\n",
    "plt.imshow(cp.log(cp.stack(r[2] for r in residuals[1:])).get().T/np.log(10), aspect='auto', interpolation='none')\n",
    "plt.colorbar()\n",
    "plt.figure()\n",
    "plt.imshow((cp.stack(r[1]/cp.sqrt(r[2]) for r in residuals[1:])).get().T, aspect='auto', interpolation='none')\n",
    "plt.colorbar()\n",
    "plt.figure()\n",
    "plt.imshow(cp.stack([r[0]/r[1]*cp.sqrt(5625) for r in residuals[1:]]).get().T, aspect='auto', interpolation='none')\n",
    "plt.colorbar()\n",
    "#plt.figure()\n",
    "#plt.clim([-10,10])\n",
    "# plt.imshow(cp.stack([r[0]/r[1]*cp.sqrt(5625) for r in residuals[1:]]).get().T, aspect='auto', interpolation='none')\n",
    "# plt.colorbar()\n",
    "# plt.clim([-10,10])\n",
    "vals = cp.stack([r[0]/r[1]*cp.sqrt(5625) for r in residuals[1:]])\n",
    "np.nanpercentile(cp.abs(vals.flatten()).get(),100)\n",
    "#plt.figure();plt.semilogy(cp.sort(vals.flatten()).get())"
   ]
  },
  {
   "cell_type": "code",
   "execution_count": null,
   "id": "8d7b2c91-af99-4198-a091-210509d8902e",
   "metadata": {
    "tags": []
   },
   "outputs": [],
   "source": [
    "plt.figure()\n",
    "plt.imshow(cp.isnan(residuals[0][0]).reshape(32,32).get())\n",
    "plt.figure()\n",
    "plt.imshow(np.isnan([r[0].get() for r in residuals[1:]]).T, aspect='auto', interpolation='none')"
   ]
  },
  {
   "cell_type": "code",
   "execution_count": null,
   "id": "95a83810-40b8-4645-8139-3add0ab8ecc3",
   "metadata": {
    "tags": []
   },
   "outputs": [],
   "source": [
    "import importlib\n",
    "kgs.profiling=True\n",
    "kgs.sanity_checks_active=False\n",
    "importlib.reload(ariel_load)\n",
    "importlib.reload(ariel_numerics)\n",
    "loaders = ariel_load.default_loaders()\n",
    "for ii in range(2):\n",
    "    loaders[ii].apply_pixel_corrections.mask_dead = False\n",
    "    loaders[ii].apply_pixel_corrections.mask_hot = False\n",
    "    loaders[ii].apply_full_sensor_corrections.remove_bad_pixels_pca = True\n",
    "    loaders[ii].apply_full_sensor_corrections.inpainting_wavelength = False\n",
    "    loaders[ii].apply_full_sensor_corrections.inpainting_2d = False\n",
    "    loaders[ii].apply_full_sensor_corrections.remove_background_based_on_rows = False\n",
    "    loaders[ii].apply_full_sensor_corrections.remove_background_based_on_pixels = False\n",
    "dd = train_data[6]\n",
    "dd.load_to_step(0,loaders)\n",
    "dd.load_to_step(3,loaders)\n",
    "\n",
    "print(cp.sum(cp.isnan(dd.transits[0].data[0].data)))\n",
    "\n",
    "plt.figure()\n",
    "plt.imshow(cp.isnan(dd.transits[0].data[0].data[0,...]).reshape(32,32).get())\n",
    "plt.figure()\n",
    "plt.imshow(cp.isnan(dd.transits[0].data[1].data[0,...]).get(), aspect='auto', interpolation='none')"
   ]
  },
  {
   "cell_type": "code",
   "execution_count": null,
   "id": "b6102352-21d9-4b84-a3dc-841a7b49d6a7",
   "metadata": {
    "tags": []
   },
   "outputs": [],
   "source": [
    "%debug"
   ]
  },
  {
   "cell_type": "code",
   "execution_count": null,
   "id": "6ac79163-c260-4de6-852d-8d0449df1ce4",
   "metadata": {
    "tags": []
   },
   "outputs": [],
   "source": [
    "dd.transits[0].data[1].data.shape"
   ]
  },
  {
   "cell_type": "code",
   "execution_count": null,
   "id": "6c92505b-7d01-4c41-9438-931a5e8e8fb2",
   "metadata": {
    "tags": []
   },
   "outputs": [],
   "source": [
    "dd.transits[0].data[0].data.shape"
   ]
  },
  {
   "cell_type": "code",
   "execution_count": null,
   "id": "60dc8e74-3d51-48b1-8d51-f4818179dcf2",
   "metadata": {},
   "outputs": [],
   "source": []
  }
 ],
 "metadata": {
  "kernelspec": {
   "display_name": "Python 3 (ipykernel)",
   "language": "python",
   "name": "python3"
  },
  "language_info": {
   "codemirror_mode": {
    "name": "ipython",
    "version": 3
   },
   "file_extension": ".py",
   "mimetype": "text/x-python",
   "name": "python",
   "nbconvert_exporter": "python",
   "pygments_lexer": "ipython3",
   "version": "3.11.13"
  }
 },
 "nbformat": 4,
 "nbformat_minor": 5
}
