{
 "cells": [
  {
   "cell_type": "code",
   "execution_count": 3,
   "id": "f83b89e4-ae65-4669-9e78-15f817bc2b71",
   "metadata": {
    "tags": []
   },
   "outputs": [
    {
     "name": "stdout",
     "output_type": "stream",
     "text": [
      "local\n"
     ]
    }
   ],
   "source": [
    "import sys\n",
    "sys.path.append('/mnt/d/ariel2/code/core/')\n",
    "sys.path.append('d:/ariel2/code/core/')\n",
    "sys.path.append('/kaggle/input/my-ariel2-library')\n",
    "import kaggle_support as kgs\n",
    "import ariel_model\n",
    "import ariel_simple\n",
    "import ariel_gp\n",
    "import ariel_load\n",
    "import ariel_load_FGS\n",
    "import os\n",
    "import numpy as np\n",
    "import matplotlib.pyplot as plt\n",
    "import copy\n",
    "import importlib\n",
    "from tqdm import tqdm\n",
    "kgs.debugging_mode = 1\n",
    "kgs.profiling=False\n",
    "kgs.n_workers = 4"
   ]
  },
  {
   "cell_type": "code",
   "execution_count": 4,
   "id": "1d51b008-8696-47a9-ace8-2dc939e9753d",
   "metadata": {
    "tags": []
   },
   "outputs": [],
   "source": [
    "train_data = kgs.load_all_train_data()\n",
    "train_data = train_data[:1099]"
   ]
  },
  {
   "cell_type": "code",
   "execution_count": 5,
   "id": "deea412e-b674-422b-b87c-f38350b0139e",
   "metadata": {
    "tags": []
   },
   "outputs": [],
   "source": [
    "# importlib.reload(kgs)\n",
    "# for d in train_data:\n",
    "#     d.spectrum_cov = np.ones((283,283))\n",
    "# kgs.mats_to_data(train_data, train_data, kgs.data_to_mats(train_data,train_data))\n",
    "# kgs.score_metric(train_data, train_data)"
   ]
  },
  {
   "cell_type": "code",
   "execution_count": 6,
   "id": "30761346-7832-44c3-ba09-8a1894252b68",
   "metadata": {
    "tags": []
   },
   "outputs": [
    {
     "name": "stderr",
     "output_type": "stream",
     "text": [
      "100%|███████████████████████████████████████████████████████████████████████████████| 1099/1099 [00:14<00:00, 75.18it/s]\n"
     ]
    }
   ],
   "source": [
    "import cupy as cp\n",
    "def get_brightness(d):\n",
    "    d = copy.deepcopy(d)\n",
    "    d.load_to_step(5, ariel_load.default_loaders())\n",
    "    return cp.sum(d.transits[0].data[0].data).get()\n",
    "brightness = [get_brightness(d) for d in tqdm(train_data)]\n",
    "kgs.clear_gpu()"
   ]
  },
  {
   "cell_type": "code",
   "execution_count": 24,
   "id": "5008d1c9-c2b1-4758-a3bf-4873429b6234",
   "metadata": {
    "tags": []
   },
   "outputs": [],
   "source": [
    "loaded = kgs.dill_load(kgs.temp_dir + 'evaluate_model_New transit prior, alpha=1.0, FGSs=0.0001__1099.pickle')"
   ]
  },
  {
   "cell_type": "code",
   "execution_count": 25,
   "id": "50ef97ea-e43b-4005-91b3-0a3adbf2a409",
   "metadata": {
    "tags": []
   },
   "outputs": [
    {
     "name": "stdout",
     "output_type": "stream",
     "text": [
      "2.4519319490767026 [-1.102304551152567e-06, 8.49708607848487e-06]\n"
     ]
    },
    {
     "data": {
      "text/plain": [
       "1.1822606382489244e-09"
      ]
     },
     "execution_count": 25,
     "metadata": {},
     "output_type": "execute_result"
    }
   ],
   "source": [
    "model = copy.deepcopy(loaded[1])\n",
    "print(model.sigma_fudge_FGS, model.sigma_offset)\n",
    "model.sigma_fudge_FGS = 1.\n",
    "model.sigma_fudge_AIRS_mean = 1.\n",
    "model.sigma_fudge_AIRS_var = 1.\n",
    "model.sigma_offset = [0.,0.]\n",
    "inferred_data = model.infer(train_data);\n",
    "inferred_data[0].spectrum_cov[0,0]"
   ]
  },
  {
   "cell_type": "code",
   "execution_count": 26,
   "id": "565ab530-a873-4bd4-96b2-f9f5939ac3da",
   "metadata": {
    "tags": []
   },
   "outputs": [
    {
     "name": "stdout",
     "output_type": "stream",
     "text": [
      "336892234.03466225\n",
      "326385128.20089495\n"
     ]
    },
    {
     "data": {
      "text/plain": [
       "(-10.0, 10.0)"
      ]
     },
     "execution_count": 26,
     "metadata": {},
     "output_type": "execute_result"
    },
    {
     "data": {
      "image/png": "[encoded data removed]",
      "text/plain": [
       "<Figure size 640x480 with 1 Axes>"
      ]
     },
     "metadata": {},
     "output_type": "display_data"
    }
   ],
   "source": [
    "import scipy.stats as stats\n",
    "import matplotlib.pyplot as plt\n",
    "    \n",
    "error_matrix = np.array([d.spectrum - t.spectrum for d,t in zip(inferred_data,train_data)])\n",
    "true_matrix = np.array([t.spectrum for d,t in zip(inferred_data,train_data)])\n",
    "\n",
    "\n",
    "slic = slice(2,283)\n",
    "y = np.mean(error_matrix[:,slic],1)\n",
    "sigma = np.array([np.sqrt(np.mean(d.spectrum_cov[slic,slic])) for d in inferred_data])\n",
    "y_norm = y/sigma\n",
    "\n",
    "splitter = sigma\n",
    "#splitter = np.mean(true_matrix,1)\n",
    "#splitter = np.array([d.planet_id for d in train_data])\n",
    "splitter = np.array(brightness)\n",
    "#inds = np.argsort(splitter)\n",
    "\n",
    "plt.figure()\n",
    "plt.grid(True)\n",
    "N_split = 200\n",
    "for i_half in [0,1]:\n",
    "\n",
    "    if i_half==0:\n",
    "        y_norm_here = y_norm[inds[:N_split]]\n",
    "        print(np.mean(splitter[inds[:N_split]]))\n",
    "    else:\n",
    "        y_norm_here = y_norm[inds[N_split:]]\n",
    "        print(np.mean(splitter[inds[N_split:]]))\n",
    "    \n",
    "    #y_norm_here =  y_norm\n",
    "\n",
    "    osm, osr = stats.probplot(y_norm_here, dist=\"norm\", plot=None, fit=False)\n",
    "    plt.scatter(osm,osr)\n",
    "plt.axline( (0,0), slope=1, color='black')\n",
    "plt.ylim([-10,10])\n",
    "#plt.xlim([-4,4])"
   ]
  },
  {
   "cell_type": "code",
   "execution_count": 20,
   "id": "7df44c3c-09c3-4b96-8e48-c14f71774739",
   "metadata": {
    "tags": []
   },
   "outputs": [
    {
     "ename": "KeyboardInterrupt",
     "evalue": "",
     "output_type": "error",
     "traceback": [
      "\u001b[0;31m---------------------------------------------------------------------------\u001b[0m",
      "\u001b[0;31mKeyboardInterrupt\u001b[0m                         Traceback (most recent call last)",
      "\u001b[0;32m/tmp/ipykernel_13191/2989161475.py\u001b[0m in \u001b[0;36m<cell line: 0>\u001b[0;34m()\u001b[0m\n\u001b[1;32m      6\u001b[0m     \u001b[0mmodel\u001b[0m\u001b[0;34m.\u001b[0m\u001b[0mmodel_options\u001b[0m\u001b[0;34m.\u001b[0m\u001b[0muse_training_labels\u001b[0m \u001b[0;34m=\u001b[0m \u001b[0;32mTrue\u001b[0m\u001b[0;34m\u001b[0m\u001b[0;34m\u001b[0m\u001b[0m\n\u001b[1;32m      7\u001b[0m     \u001b[0mmodel\u001b[0m\u001b[0;34m.\u001b[0m\u001b[0mtrain\u001b[0m\u001b[0;34m(\u001b[0m\u001b[0mtrain_data\u001b[0m\u001b[0;34m)\u001b[0m\u001b[0;34m\u001b[0m\u001b[0;34m\u001b[0m\u001b[0m\n\u001b[0;32m----> 8\u001b[0;31m     \u001b[0mloaded_res\u001b[0m \u001b[0;34m=\u001b[0m \u001b[0mkgs\u001b[0m\u001b[0;34m.\u001b[0m\u001b[0mdill_load\u001b[0m\u001b[0;34m(\u001b[0m\u001b[0mkgs\u001b[0m\u001b[0;34m.\u001b[0m\u001b[0mtemp_dir\u001b[0m \u001b[0;34m+\u001b[0m \u001b[0;34m'/prep2.pickle'\u001b[0m\u001b[0;34m)\u001b[0m\u001b[0;34m\u001b[0m\u001b[0;34m\u001b[0m\u001b[0m\n\u001b[0m\u001b[1;32m      9\u001b[0m     \u001b[0mmodel\u001b[0m\u001b[0;34m.\u001b[0m\u001b[0minfer\u001b[0m\u001b[0;34m(\u001b[0m\u001b[0mtrain_data\u001b[0m\u001b[0;34m[\u001b[0m\u001b[0;36m0\u001b[0m\u001b[0;34m:\u001b[0m\u001b[0;36m1\u001b[0m\u001b[0;34m]\u001b[0m\u001b[0;34m)\u001b[0m\u001b[0;34m;\u001b[0m\u001b[0;34m\u001b[0m\u001b[0;34m\u001b[0m\u001b[0m\n\u001b[1;32m     10\u001b[0m     \u001b[0mtransits\u001b[0m \u001b[0;34m=\u001b[0m \u001b[0;34m[\u001b[0m\u001b[0;34m]\u001b[0m\u001b[0;34m\u001b[0m\u001b[0;34m\u001b[0m\u001b[0m\n",
      "\u001b[0;32m/mnt/d/ariel2/code/core/kaggle_support.py\u001b[0m in \u001b[0;36mdill_load\u001b[0;34m(filename)\u001b[0m\n\u001b[1;32m    157\u001b[0m \u001b[0;32mdef\u001b[0m \u001b[0mdill_load\u001b[0m\u001b[0;34m(\u001b[0m\u001b[0mfilename\u001b[0m\u001b[0;34m)\u001b[0m\u001b[0;34m:\u001b[0m\u001b[0;34m\u001b[0m\u001b[0;34m\u001b[0m\u001b[0m\n\u001b[1;32m    158\u001b[0m     \u001b[0mfilehandler\u001b[0m \u001b[0;34m=\u001b[0m \u001b[0mopen\u001b[0m\u001b[0;34m(\u001b[0m\u001b[0mfilename\u001b[0m\u001b[0;34m,\u001b[0m \u001b[0;34m'rb'\u001b[0m\u001b[0;34m)\u001b[0m\u001b[0;34m;\u001b[0m\u001b[0;34m\u001b[0m\u001b[0;34m\u001b[0m\u001b[0m\n\u001b[0;32m--> 159\u001b[0;31m     \u001b[0mdata\u001b[0m \u001b[0;34m=\u001b[0m \u001b[0mdill\u001b[0m\u001b[0;34m.\u001b[0m\u001b[0mload\u001b[0m\u001b[0;34m(\u001b[0m\u001b[0mfilehandler\u001b[0m\u001b[0;34m)\u001b[0m\u001b[0;34m\u001b[0m\u001b[0;34m\u001b[0m\u001b[0m\n\u001b[0m\u001b[1;32m    160\u001b[0m     \u001b[0mfilehandler\u001b[0m\u001b[0;34m.\u001b[0m\u001b[0mclose\u001b[0m\u001b[0;34m(\u001b[0m\u001b[0;34m)\u001b[0m\u001b[0;34m\u001b[0m\u001b[0;34m\u001b[0m\u001b[0m\n\u001b[1;32m    161\u001b[0m     \u001b[0;32mreturn\u001b[0m \u001b[0mdata\u001b[0m\u001b[0;34m\u001b[0m\u001b[0;34m\u001b[0m\u001b[0m\n",
      "\u001b[0;32m~/miniconda3/envs/xlab/lib/python3.11/site-packages/dill/_dill.py\u001b[0m in \u001b[0;36mload\u001b[0;34m(file, ignore, **kwds)\u001b[0m\n\u001b[1;32m    287\u001b[0m     \u001b[0mSee\u001b[0m \u001b[0;34m:\u001b[0m\u001b[0mfunc\u001b[0m\u001b[0;34m:\u001b[0m\u001b[0;31m`\u001b[0m\u001b[0mloads\u001b[0m\u001b[0;31m`\u001b[0m \u001b[0;32mfor\u001b[0m \u001b[0mkeyword\u001b[0m \u001b[0marguments\u001b[0m\u001b[0;34m.\u001b[0m\u001b[0;34m\u001b[0m\u001b[0;34m\u001b[0m\u001b[0m\n\u001b[1;32m    288\u001b[0m     \"\"\"\n\u001b[0;32m--> 289\u001b[0;31m     \u001b[0;32mreturn\u001b[0m \u001b[0mUnpickler\u001b[0m\u001b[0;34m(\u001b[0m\u001b[0mfile\u001b[0m\u001b[0;34m,\u001b[0m \u001b[0mignore\u001b[0m\u001b[0;34m=\u001b[0m\u001b[0mignore\u001b[0m\u001b[0;34m,\u001b[0m \u001b[0;34m**\u001b[0m\u001b[0mkwds\u001b[0m\u001b[0;34m)\u001b[0m\u001b[0;34m.\u001b[0m\u001b[0mload\u001b[0m\u001b[0;34m(\u001b[0m\u001b[0;34m)\u001b[0m\u001b[0;34m\u001b[0m\u001b[0;34m\u001b[0m\u001b[0m\n\u001b[0m\u001b[1;32m    290\u001b[0m \u001b[0;34m\u001b[0m\u001b[0m\n\u001b[1;32m    291\u001b[0m \u001b[0;32mdef\u001b[0m \u001b[0mloads\u001b[0m\u001b[0;34m(\u001b[0m\u001b[0mstr\u001b[0m\u001b[0;34m,\u001b[0m \u001b[0mignore\u001b[0m\u001b[0;34m=\u001b[0m\u001b[0;32mNone\u001b[0m\u001b[0;34m,\u001b[0m \u001b[0;34m**\u001b[0m\u001b[0mkwds\u001b[0m\u001b[0;34m)\u001b[0m\u001b[0;34m:\u001b[0m\u001b[0;34m\u001b[0m\u001b[0;34m\u001b[0m\u001b[0m\n",
      "\u001b[0;32m~/miniconda3/envs/xlab/lib/python3.11/site-packages/dill/_dill.py\u001b[0m in \u001b[0;36mload\u001b[0;34m(self)\u001b[0m\n\u001b[1;32m    442\u001b[0m \u001b[0;34m\u001b[0m\u001b[0m\n\u001b[1;32m    443\u001b[0m     \u001b[0;32mdef\u001b[0m \u001b[0mload\u001b[0m\u001b[0;34m(\u001b[0m\u001b[0mself\u001b[0m\u001b[0;34m)\u001b[0m\u001b[0;34m:\u001b[0m \u001b[0;31m#NOTE: if settings change, need to update attributes\u001b[0m\u001b[0;34m\u001b[0m\u001b[0;34m\u001b[0m\u001b[0m\n\u001b[0;32m--> 444\u001b[0;31m         \u001b[0mobj\u001b[0m \u001b[0;34m=\u001b[0m \u001b[0mStockUnpickler\u001b[0m\u001b[0;34m.\u001b[0m\u001b[0mload\u001b[0m\u001b[0;34m(\u001b[0m\u001b[0mself\u001b[0m\u001b[0;34m)\u001b[0m\u001b[0;34m\u001b[0m\u001b[0;34m\u001b[0m\u001b[0m\n\u001b[0m\u001b[1;32m    445\u001b[0m         \u001b[0;32mif\u001b[0m \u001b[0mtype\u001b[0m\u001b[0;34m(\u001b[0m\u001b[0mobj\u001b[0m\u001b[0;34m)\u001b[0m\u001b[0;34m.\u001b[0m\u001b[0m__module__\u001b[0m \u001b[0;34m==\u001b[0m \u001b[0mgetattr\u001b[0m\u001b[0;34m(\u001b[0m\u001b[0m_main_module\u001b[0m\u001b[0;34m,\u001b[0m \u001b[0;34m'__name__'\u001b[0m\u001b[0;34m,\u001b[0m \u001b[0;34m'__main__'\u001b[0m\u001b[0;34m)\u001b[0m\u001b[0;34m:\u001b[0m\u001b[0;34m\u001b[0m\u001b[0;34m\u001b[0m\u001b[0m\n\u001b[1;32m    446\u001b[0m             \u001b[0;32mif\u001b[0m \u001b[0;32mnot\u001b[0m \u001b[0mself\u001b[0m\u001b[0;34m.\u001b[0m\u001b[0m_ignore\u001b[0m\u001b[0;34m:\u001b[0m\u001b[0;34m\u001b[0m\u001b[0;34m\u001b[0m\u001b[0m\n",
      "\u001b[0;32m~/miniconda3/envs/xlab/lib/python3.11/site-packages/dill/_dill.py\u001b[0m in \u001b[0;36m_create_array\u001b[0;34m(f, args, state, npdict)\u001b[0m\n\u001b[1;32m    946\u001b[0m     \u001b[0;32mreturn\u001b[0m \u001b[0meval\u001b[0m\u001b[0;34m(\u001b[0m\u001b[0mrepr_str\u001b[0m\u001b[0;34m)\u001b[0m\u001b[0;34m\u001b[0m\u001b[0;34m\u001b[0m\u001b[0m\n\u001b[1;32m    947\u001b[0m \u001b[0;34m\u001b[0m\u001b[0m\n\u001b[0;32m--> 948\u001b[0;31m \u001b[0;32mdef\u001b[0m \u001b[0m_create_array\u001b[0m\u001b[0;34m(\u001b[0m\u001b[0mf\u001b[0m\u001b[0;34m,\u001b[0m \u001b[0margs\u001b[0m\u001b[0;34m,\u001b[0m \u001b[0mstate\u001b[0m\u001b[0;34m,\u001b[0m \u001b[0mnpdict\u001b[0m\u001b[0;34m=\u001b[0m\u001b[0;32mNone\u001b[0m\u001b[0;34m)\u001b[0m\u001b[0;34m:\u001b[0m\u001b[0;34m\u001b[0m\u001b[0;34m\u001b[0m\u001b[0m\n\u001b[0m\u001b[1;32m    949\u001b[0m    \u001b[0;31m#array = numpy.core.multiarray._reconstruct(*args)\u001b[0m\u001b[0;34m\u001b[0m\u001b[0;34m\u001b[0m\u001b[0m\n\u001b[1;32m    950\u001b[0m     \u001b[0marray\u001b[0m \u001b[0;34m=\u001b[0m \u001b[0mf\u001b[0m\u001b[0;34m(\u001b[0m\u001b[0;34m*\u001b[0m\u001b[0margs\u001b[0m\u001b[0;34m)\u001b[0m\u001b[0;34m\u001b[0m\u001b[0;34m\u001b[0m\u001b[0m\n",
      "\u001b[0;31mKeyboardInterrupt\u001b[0m: "
     ]
    }
   ],
   "source": [
    "if True:\n",
    "    kgs.debugging_mode = 1\n",
    "    model = ariel_gp.PredictionModel()\n",
    "    model.run_in_parallel = False\n",
    "    model.model_options.n_iter=0\n",
    "    model.model_options.use_training_labels = True\n",
    "    model.train(train_data)\n",
    "    loaded_res = kgs.dill_load(kgs.temp_dir + '/prep2.pickle')\n",
    "    model.infer(train_data[0:1]);\n",
    "    transits = []\n",
    "    times=[]\n",
    "    FGS_noise = []\n",
    "    for d,r in tqdm(zip(train_data,loaded_res)):\n",
    "        mm= copy.deepcopy(model.results['model_mean'])\n",
    "        mm= copy.deepcopy(model.results['model_mean'])\n",
    "        mm.m['signal'].m['main'].m['transit'].transit_params[0][0] = d.transit_params\n",
    "        mm.m['signal'].m['main'].m['transit'].transit_params[0][0].u = [0,0]\n",
    "        mm.m['signal'].m['main'].m['transit'].transit_params[0][1] = d.transit_params\n",
    "        mm.m['signal'].m['main'].m['transit'].transit_params[0][1].u = [0,0]\n",
    "        mm.set_parameters(r[0])\n",
    "        mm.m['signal'].m['main'].m['transit'].depth_model.offset = -d.diagnostics['training_spectrum']    \n",
    "        obs_transit = copy.deepcopy(model.results['obs'])\n",
    "        \n",
    "        obs_noise = copy.deepcopy(model.results['obs'])\n",
    "        noise_labels = mm.m['noise'].get_prediction(obs_noise)\n",
    "        obs_noise.labels= noise_labels\n",
    "        FGS_noise.append(obs_noise.export_matrix(False))\n",
    "\n",
    "        #stellar_labels = mm.m['signal'].m['main'].m['spectrum'].get_prediction(obs_transit)\n",
    "        transit_labels = mm.m['signal'].m['main'].m['transit'].get_prediction(obs_transit)\n",
    "        obs_transit.labels = transit_labels\n",
    "        #obs_transit.labels = model.results['model_mean'].m['signal'].m['main'].m['transit'].get_prediction(obs_transit)\n",
    "        #obs_transit.labels = mm.m['signal'].m['main'].get_prediction(obs_transit)\n",
    "        #obs_transit.labels = mm.m['signal'].get_prediction(obs_transit)\n",
    "        #print(mm.m['signal'].m['main'].m['transit'].get_parameters())\n",
    "        #d.diagnostics['transit'] = obs_transit        \n",
    "        transits.append(copy.deepcopy(obs_transit.export_matrix(False)))\n",
    "        obs_transit.labels = obs_transit.df['time'].to_numpy()[:,None]\n",
    "        times.append(copy.deepcopy(obs_transit.export_matrix(False)))                     \n",
    "    del loaded_res\n",
    "    del mm\n",
    "    del model\n",
    "    transits = np.array(np.stack(transits))\n",
    "    times = np.array(np.stack(times))\n",
    "    FGS_noise = np.array(np.stack(FGS_noise))\n",
    "    kgs.dill_save(kgs.temp_dir + 'FGS_transit_zones.pickle', (FGS_noise,transits,times))\n",
    "    \n",
    "FGS_noise,transits,times = kgs.dill_load(kgs.temp_dir + 'FGS_transit_zones.pickle')"
   ]
  },
  {
   "cell_type": "code",
   "execution_count": null,
   "id": "838c358e-d1b9-4a19-9e51-aba9b884144a",
   "metadata": {
    "tags": []
   },
   "outputs": [],
   "source": [
    "# noise_arrays = []\n",
    "# for d,tran in zip(tqdm(train_data), transits):\n",
    "#     d=copy.deepcopy(d)\n",
    "#     d.load_to_step(5, ariel_load.default_loaders())\n",
    "#     FGS_data = d.transits[0].data[0].data.get()[:,0]\n",
    "#     tran = tran[:,0]\n",
    "#     mid_ind = np.argwhere(tran<1)[0][0]\n",
    "#     noise_arrays.append(FGS_data[:mid_ind][tran[:mid_ind]==1])\n",
    "#     noise_arrays.append(FGS_data[mid_ind:][tran[mid_ind:]==1])\n",
    "#     #FGS_data_no_transit = FGS_data[:,0][tran[:,0]==1]"
   ]
  },
  {
   "cell_type": "code",
   "execution_count": null,
   "id": "41bcf796-c46c-4d64-9a31-e3dadf0277bf",
   "metadata": {
    "tags": []
   },
   "outputs": [],
   "source": [
    "#plt.figure()\n",
    "import ariel_numerics\n",
    "\n",
    "plt.figure()\n",
    "for synth in [False, True]:\n",
    "    \n",
    "    result= []\n",
    "    n_done = 0\n",
    "    for d,tim,tran in zip(train_data,tqdm(times),transits):\n",
    "        d=copy.deepcopy(d)\n",
    "        d.load_to_step(5, ariel_load.default_loaders())\n",
    "        tim = copy.deepcopy(tim[:,0])\n",
    "        tran = copy.deepcopy(tran[:,0])\n",
    "        mid_ind = np.argwhere(tran<1)[0][0]        \n",
    "        FGS_data = d.transits[0].data[0].data.get()[:,0]\n",
    "        if synth:\n",
    "            FGS_data = np.random.default_rng(seed=np.round(np.abs(FGS_data[0])).astype(int)).standard_normal(FGS_data.shape)\n",
    "            \n",
    "    \n",
    "        if np.sum(tran==1)<100:\n",
    "            continue\n",
    "        ft = np.polynomial.polynomial.Polynomial.fit(tim[tran==1], FGS_data[tran==1], 3)\n",
    "        FGS_data = FGS_data - ft(tim)        \n",
    "        \n",
    "        noise_arrays=[]\n",
    "        noise_arrays.append(FGS_data[:mid_ind][tran[:mid_ind]==1])\n",
    "        noise_arrays.append(FGS_data[mid_ind:][tran[mid_ind:]==1])\n",
    "        for n in noise_arrays:\n",
    "            if len(n)>200:\n",
    "                #print(len(n))\n",
    "                #x=np.arange(len(n))      \n",
    "                #if synth:\n",
    "                #    n = np.random.default_rng(seed=np.round(n[0]).astype(int)).standard_normal(n.shape)\n",
    "                #ft = np.polynomial.polynomial.Polynomial.fit(x, n, 2)\n",
    "                #res = n - ft(x)            \n",
    "                #plt.plot(res)\n",
    "                \n",
    "                res = copy.deepcopy(n)\n",
    "                \n",
    "                \n",
    "\n",
    "                base_noise_est = ariel_numerics.estimate_noise_cp(cp.array(res), window_size=25, degree=3)\n",
    "                \n",
    "                #plt.plot(res/base_noise_est)\n",
    "\n",
    "\n",
    "                lf_content = res - ariel_numerics.remove_trend_cp(cp.array(res), window_size=25, degree=3).get()\n",
    "\n",
    "                result.append(base_noise_est/kgs.rms(lf_content))\n",
    "                n_done+=1\n",
    "    print(np.mean(result), np.std(result), np.std(result)/np.sqrt(n_done))\n",
    "    plt.plot(result)\n",
    "plt.legend(('Real', 'Synthetic'))\n",
    "            \n",
    "            \n",
    "        \n",
    "#         y = res\n",
    "        \n",
    "#         def autocorr(x, max_lag=None):\n",
    "#             x = np.asarray(x)\n",
    "#             x = x - np.mean(x)\n",
    "#             result = np.correlate(x, x, mode='full')\n",
    "#             result = result[result.size // 2:]  # keep non-negative lags\n",
    "#             result /= result[0]  # normalize\n",
    "#             if max_lag is not None:\n",
    "#                 result = result[:max_lag+1]\n",
    "#             return result\n",
    "\n",
    "#         # compute autocorrelation\n",
    "#         lags = 40\n",
    "#         ac = autocorr(y, max_lag=lags)\n",
    "\n",
    "#         # plot\n",
    "#         plt.figure()\n",
    "#         plt.stem(range(len(ac)), ac, use_line_collection=True)\n",
    "#         plt.xlabel(\"Lag\")\n",
    "#         plt.ylabel(\"Autocorrelation\")\n",
    "#         plt.title(\"Autocorrelation plot\")\n",
    "#         #plt.show()"
   ]
  },
  {
   "cell_type": "code",
   "execution_count": null,
   "id": "5b6bf34d-89eb-490c-bca9-a6ccafaa26c4",
   "metadata": {
    "tags": []
   },
   "outputs": [],
   "source": [
    "NN=200\n",
    "n_list = []\n",
    "for n,tran in zip(FGS_noise, transits):\n",
    "    n = n/kgs.rms(n)\n",
    "    start_ind = np.argwhere(tran!=1)[0][0]\n",
    "    if not start_ind<NN:        \n",
    "        n_list.append(n[start_ind-NN:start_ind+NN,0])\n",
    "    end_ind = np.argwhere(tran!=1)[-1][0]\n",
    "    if not len(n)-end_ind<NN+1:\n",
    "        n_list.append(n[end_ind-NN:end_ind+NN,0][::-1])\n",
    "n_list=np.array(n_list)\n",
    "plt.figure()\n",
    "xx=np.std(n_list,0)\n",
    "plt.plot(xx)\n",
    "plt.plot(xx-ariel_numerics.remove_trend_cp(cp.array(xx),window_size=50).get())"
   ]
  },
  {
   "cell_type": "code",
   "execution_count": null,
   "id": "a05f577b-d356-4d7b-b77d-812472afc5c4",
   "metadata": {
    "tags": []
   },
   "outputs": [],
   "source": [
    "plt.figure()\n",
    "plt.plot(n_list.T);"
   ]
  },
  {
   "cell_type": "code",
   "execution_count": 33,
   "id": "10e7a110-4843-41ee-927a-eb28e16c0803",
   "metadata": {},
   "outputs": [
    {
     "data": {
      "text/plain": [
       "[<matplotlib.lines.Line2D at 0x79a6e9720d90>]"
      ]
     },
     "execution_count": 33,
     "metadata": {},
     "output_type": "execute_result"
    },
    {
     "data": {
      "image/png": "[encoded data removed]",
      "text/plain": [
       "<Figure size 640x480 with 1 Axes>"
      ]
     },
     "metadata": {},
     "output_type": "display_data"
    }
   ],
   "source": [
    "plt.semilogy(np.sort(sigma))"
   ]
  },
  {
   "cell_type": "code",
   "execution_count": 15,
   "id": "0e7df647-8f21-48de-914f-19876bf99745",
   "metadata": {
    "tags": []
   },
   "outputs": [
    {
     "name": "stderr",
     "output_type": "stream",
     "text": [
      "100%|███████████████████████████████████████████████████████████████████████████████████| 10/10 [04:11<00:00, 25.12s/it]\n"
     ]
    }
   ],
   "source": [
    "fudge_vals = np.linspace(0.8,1.7,10)\n",
    "offset_vals = np.linspace(0.,1.5e-4,10)\n",
    "result = np.zeros((len(fudge_vals), len(offset_vals)))\n",
    "for i,f in enumerate(tqdm(fudge_vals)):\n",
    "    for j,o in enumerate(offset_vals):\n",
    "        model = copy.deepcopy(loaded[1])\n",
    "        #print(model.sigma_fudge_FGS, model.sigma_offset)\n",
    "        model.sigma_fudge_FGS = f\n",
    "        #model.sigma_fudge_AIRS_mean = 1.\n",
    "        #model.sigma_fudge_AIRS_var = 1.\n",
    "        model.sigma_offset = [o,0.]\n",
    "        inferred_data = model.infer(train_data);\n",
    "        inferred_data[0].spectrum_cov[0,0]\n",
    "        result[i,j] = kgs.score_metric(inferred_data,train_data,print_results=False)[0]"
   ]
  },
  {
   "cell_type": "code",
   "execution_count": 16,
   "id": "4e0e098b-23e5-4180-a3e8-0ac802991b48",
   "metadata": {
    "tags": []
   },
   "outputs": [
    {
     "data": {
      "image/png": "[encoded data removed]",
      "text/plain": [
       "<Figure size 800x600 with 2 Axes>"
      ]
     },
     "metadata": {},
     "output_type": "display_data"
    }
   ],
   "source": [
    "plt.figure(figsize=(8,6))\n",
    "im = plt.imshow(result, \n",
    "                origin=\"lower\", \n",
    "                aspect=\"auto\", \n",
    "                extent=[offset_vals[0], offset_vals[-1],\n",
    "                        fudge_vals[0], fudge_vals[-1]])\n",
    "plt.clim([0.369, 0.372])\n",
    "plt.colorbar(im, label=\"Score\")\n",
    "\n",
    "plt.xlabel(\"offset_vals\")\n",
    "plt.ylabel(\"fudge_vals\")\n",
    "\n",
    "plt.title(\"Score heatmap\")\n",
    "plt.tight_layout()\n",
    "plt.show()"
   ]
  },
  {
   "cell_type": "code",
   "execution_count": null,
   "id": "c97fb23f-40ae-41ce-98de-cda05b8d3b70",
   "metadata": {},
   "outputs": [],
   "source": []
  }
 ],
 "metadata": {
  "kernelspec": {
   "display_name": "Python 3 (ipykernel)",
   "language": "python",
   "name": "python3"
  },
  "language_info": {
   "codemirror_mode": {
    "name": "ipython",
    "version": 3
   },
   "file_extension": ".py",
   "mimetype": "text/x-python",
   "name": "python",
   "nbconvert_exporter": "python",
   "pygments_lexer": "ipython3",
   "version": "3.11.13"
  }
 },
 "nbformat": 4,
 "nbformat_minor": 5
}
