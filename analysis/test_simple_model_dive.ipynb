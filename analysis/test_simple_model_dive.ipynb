{
 "cells": [
  {
   "cell_type": "code",
   "execution_count": 1,
   "id": "f83b89e4-ae65-4669-9e78-15f817bc2b71",
   "metadata": {
    "tags": []
   },
   "outputs": [
    {
     "name": "stdout",
     "output_type": "stream",
     "text": [
      "local\n",
      "local\n"
     ]
    }
   ],
   "source": [
    "import sys\n",
    "sys.path.append('/mnt/d/ariel2/code/core/')\n",
    "import kaggle_support as kgs\n",
    "import importlib\n",
    "import matplotlib.pyplot as plt\n",
    "import numpy as np\n",
    "import cupy as cp\n",
    "import ariel_load\n",
    "import tqdm\n",
    "importlib.reload(kgs);"
   ]
  },
  {
   "cell_type": "code",
   "execution_count": 2,
   "id": "c4065aaf-1709-4e0d-a74b-e25bd753261d",
   "metadata": {
    "tags": []
   },
   "outputs": [
    {
     "name": "stdout",
     "output_type": "stream",
     "text": [
      "CPU times: user 517 ms, sys: 86.4 ms, total: 603 ms\n",
      "Wall time: 1.73 s\n"
     ]
    }
   ],
   "source": [
    "%%time\n",
    "train_data = kgs.load_all_train_data()\n",
    "test_data = kgs.load_all_test_data()\n",
    "len(train_data), len(test_data)\n",
    "data = train_data[0]"
   ]
  },
  {
   "cell_type": "code",
   "execution_count": 3,
   "id": "ef5b893b-953d-4273-b2e9-9e2aaabad4ec",
   "metadata": {
    "tags": []
   },
   "outputs": [],
   "source": [
    "#(data,inferred_data) = kgs.dill_load(kgs.temp_dir + '/test_simple.pickle')"
   ]
  },
  {
   "cell_type": "code",
   "execution_count": 4,
   "id": "add092f3-a15b-4c7d-b368-302f5953ced4",
   "metadata": {
    "tags": []
   },
   "outputs": [],
   "source": [
    "def robust_linear_fit_rms(X, Y, drop_frac=0.05):\n",
    "    X = np.asarray(X)\n",
    "    Y = np.asarray(Y)\n",
    "\n",
    "    # Fit Y = aX + b using least squares\n",
    "    A = np.vstack([X, np.ones_like(X)]).T\n",
    "    a, b = np.linalg.lstsq(A, Y, rcond=None)[0]\n",
    "\n",
    "    # Predicted Y and residuals\n",
    "    Y_pred = a * X + b\n",
    "    residuals = Y - Y_pred\n",
    "    abs_resid = np.abs(residuals)\n",
    "\n",
    "    # Remove worst 5% (highest absolute residuals)\n",
    "    if drop_frac>0:\n",
    "        n = len(residuals)\n",
    "        keep = int(n * (1 - drop_frac))\n",
    "        indices = np.argpartition(abs_resid, keep)[:keep]\n",
    "    #print(keep, len(residuals))\n",
    "    else:\n",
    "        indices = np.arange(len(residuals))\n",
    "\n",
    "    # Compute RMS of the remaining residuals\n",
    "    rms = np.sqrt(np.mean(residuals[indices] ** 2))\n",
    "    print(a,b)\n",
    "    return rms"
   ]
  },
  {
   "cell_type": "code",
   "execution_count": 5,
   "id": "1eaf8628-3632-4b29-bb3f-019d22d654b5",
   "metadata": {
    "tags": []
   },
   "outputs": [],
   "source": [
    "data,inferred_data,kgs.sanity_checks = kgs.dill_load(kgs.temp_dir + '/test_simple.pickle')"
   ]
  },
  {
   "cell_type": "code",
   "execution_count": 6,
   "id": "24898bf0-d016-4847-87b5-7e2396c7cefc",
   "metadata": {
    "tags": []
   },
   "outputs": [
    {
     "ename": "KeyError",
     "evalue": "'simple_residual_diff_AIRS'",
     "output_type": "error",
     "traceback": [
      "\u001b[0;31m---------------------------------------------------------------------------\u001b[0m",
      "\u001b[0;31mKeyError\u001b[0m                                  Traceback (most recent call last)",
      "\u001b[0;32m/tmp/ipykernel_24752/3949366809.py\u001b[0m in \u001b[0;36m<cell line: 0>\u001b[0;34m()\u001b[0m\n\u001b[1;32m      4\u001b[0m \u001b[0;32mimport\u001b[0m \u001b[0mcopy\u001b[0m\u001b[0;34m\u001b[0m\u001b[0;34m\u001b[0m\u001b[0m\n\u001b[1;32m      5\u001b[0m \u001b[0mimportlib\u001b[0m\u001b[0;34m.\u001b[0m\u001b[0mreload\u001b[0m\u001b[0;34m(\u001b[0m\u001b[0mariel_simple\u001b[0m\u001b[0;34m)\u001b[0m\u001b[0;34m\u001b[0m\u001b[0;34m\u001b[0m\u001b[0m\n\u001b[0;32m----> 6\u001b[0;31m \u001b[0mind\u001b[0m\u001b[0;34m=\u001b[0m\u001b[0mnp\u001b[0m\u001b[0;34m.\u001b[0m\u001b[0margsort\u001b[0m\u001b[0;34m(\u001b[0m\u001b[0mkgs\u001b[0m\u001b[0;34m.\u001b[0m\u001b[0msanity_checks\u001b[0m\u001b[0;34m[\u001b[0m\u001b[0;34m'simple_residual_diff_AIRS'\u001b[0m\u001b[0;34m]\u001b[0m\u001b[0;34m.\u001b[0m\u001b[0mseen_all\u001b[0m\u001b[0;34m)\u001b[0m\u001b[0;34m[\u001b[0m\u001b[0;34m-\u001b[0m\u001b[0;36m1\u001b[0m\u001b[0;34m]\u001b[0m\u001b[0;34m\u001b[0m\u001b[0;34m\u001b[0m\u001b[0m\n\u001b[0m\u001b[1;32m      7\u001b[0m \u001b[0;32mfor\u001b[0m \u001b[0mdd\u001b[0m \u001b[0;32min\u001b[0m \u001b[0;34m[\u001b[0m\u001b[0mtrain_data\u001b[0m\u001b[0;34m[\u001b[0m\u001b[0mind\u001b[0m\u001b[0;34m]\u001b[0m\u001b[0;34m]\u001b[0m\u001b[0;34m:\u001b[0m\u001b[0;31m#[train_data[0], train_data[ind]]:\u001b[0m\u001b[0;34m\u001b[0m\u001b[0;34m\u001b[0m\u001b[0m\n\u001b[1;32m      8\u001b[0m     \u001b[0mdata\u001b[0m \u001b[0;34m=\u001b[0m \u001b[0mcopy\u001b[0m\u001b[0;34m.\u001b[0m\u001b[0mdeepcopy\u001b[0m\u001b[0;34m(\u001b[0m\u001b[0;34m[\u001b[0m\u001b[0mdd\u001b[0m\u001b[0;34m]\u001b[0m\u001b[0;34m)\u001b[0m\u001b[0;34m\u001b[0m\u001b[0;34m\u001b[0m\u001b[0m\n",
      "\u001b[0;31mKeyError\u001b[0m: 'simple_residual_diff_AIRS'"
     ]
    }
   ],
   "source": [
    "data,inferred_data,kgs.sanity_checks = kgs.dill_load(kgs.temp_dir + '/test_simple.pickle')\n",
    "kgs.sanity_checks_without_errors = True\n",
    "import ariel_simple\n",
    "import copy\n",
    "importlib.reload(ariel_simple)\n",
    "ind=np.argsort(kgs.sanity_checks['simple_residual_diff_AIRS'].seen_all)[-1]\n",
    "for dd in [train_data[ind]]:#[train_data[0], train_data[ind]]:\n",
    "    data = copy.deepcopy([dd])\n",
    "    #data[0].planet_id = train_data[ind].planet_id\n",
    "    #data[0].spectrum = train_data[ind].spectrum    \n",
    "    print(data[0].i)\n",
    "    #data[0].i=89.\n",
    "    #kgs.list_attrs(data[0])\n",
    "    model = ariel_simple.SimpleModel()     \n",
    "    model.do_plots = True\n",
    "    model.train(train_data)\n",
    "    #model.weights=[0.,1.]\n",
    "    #model.limb_dark = 'nonlinear'\n",
    "    #model.u_init = [[0.1 for i in range(4)] for j in range(2)]\n",
    "    #print(model.u)\n",
    "    #data[0].load_to_step(0,model.loaders)        \n",
    "    #data[0].load_to_step(5,model.loaders)                         \n",
    "    #for ii in range(2):\n",
    "    #    model.loaders[ii].apply_pixel_corrections.remove_first_and_last_frame = True\n",
    "    #data[0].transits[0].data[1].times = data[0].transits[0].data[1].times[:-1]\n",
    "    #data[0].transits[0].data[1].time_intervals = data[0].transits[0].data[1].time_intervals[:-1]\n",
    "    #data[0].transits[0].data[1].data = data[0].transits[0].data[1].data[:-1,:]\n",
    "    #data = [train_data[ind]]\n",
    "    inferred_data = model.infer(data)\n",
    "    print(model.inc)\n",
    "    solution = kgs.make_submission_dataframe(data, include_sigma=False)\n",
    "    submission = kgs.make_submission_dataframe(inferred_data, False)\n",
    "    print(kgs.sanity_checks['simple_residual_diff_AIRS'].seen_all[-1], np.mean(solution.iloc[:,2:284].to_numpy()-submission.iloc[:,2:284].to_numpy(),1))"
   ]
  },
  {
   "cell_type": "code",
   "execution_count": 7,
   "id": "fa42fcda-462f-4c87-a0c4-4cea10dbbb84",
   "metadata": {
    "tags": []
   },
   "outputs": [
    {
     "name": "stdout",
     "output_type": "stream",
     "text": [
      "1100\n"
     ]
    }
   ],
   "source": [
    "print(len(kgs.sanity_checks['simple_residual_ratio_AIRS'].seen_all))"
   ]
  },
  {
   "cell_type": "code",
   "execution_count": 10,
   "id": "048096fd-ed70-4ef7-b4ab-e97d4c9bff22",
   "metadata": {
    "tags": []
   },
   "outputs": [
    {
     "data": {
      "text/plain": [
       "<matplotlib.collections.PathCollection at 0x7d9df6f71a10>"
      ]
     },
     "execution_count": 10,
     "metadata": {},
     "output_type": "execute_result"
    },
    {
     "data": {
      "image/png": "[encoded data removed]",
      "text/plain": [
       "<Figure size 640x480 with 1 Axes>"
      ]
     },
     "metadata": {},
     "output_type": "display_data"
    }
   ],
   "source": [
    "plt.scatter([d.i for d in train_data],kgs.sanity_checks['simple_residual_diff_AIRS'].seen_all)"
   ]
  },
  {
   "cell_type": "code",
   "execution_count": 9,
   "id": "2dd899fd-2036-4504-b194-51477aa51574",
   "metadata": {
    "tags": []
   },
   "outputs": [
    {
     "data": {
      "image/png": "[encoded data removed]",
      "text/plain": [
       "<Figure size 640x480 with 1 Axes>"
      ]
     },
     "metadata": {},
     "output_type": "display_data"
    }
   ],
   "source": [
    "inferred_data[0].load_to_step(5,model.loaders)\n",
    "plt.figure();plt.plot(inferred_data[0].transits[0].data[1].times.get(), np.mean(inferred_data[0].transits[0].data[1].data.get(),1));"
   ]
  },
  {
   "cell_type": "code",
   "execution_count": 10,
   "id": "e91a4cc2-623e-4939-bece-57fa9b9d73cc",
   "metadata": {
    "tags": []
   },
   "outputs": [
    {
     "data": {
      "text/plain": [
       "array([47292.65685818, 47296.55435704, 47296.72898545, 47305.52385139,\n",
       "       47288.39141773])"
      ]
     },
     "execution_count": 10,
     "metadata": {},
     "output_type": "execute_result"
    }
   ],
   "source": [
    "np.mean(inferred_data[0].transits[0].data[1].data.get(),1)[-5:]"
   ]
  },
  {
   "cell_type": "code",
   "execution_count": 11,
   "id": "b4be80a7-81e4-42c6-aa43-af33f68ffb2f",
   "metadata": {
    "tags": []
   },
   "outputs": [
    {
     "name": "stdout",
     "output_type": "stream",
     "text": [
      "Score:     -3.5131\n",
      "RMS error: 1860.4502 ppm\n"
     ]
    }
   ],
   "source": [
    "score, rms_err = kgs.score_metric(inferred_data, data)\n",
    "#np.sqrt(np.diag(inferred_data[0].spectrum_cov))"
   ]
  },
  {
   "cell_type": "code",
   "execution_count": 12,
   "id": "84ab98e6-c66d-4ed1-8caa-d6818d95c986",
   "metadata": {
    "tags": []
   },
   "outputs": [
    {
     "name": "stdout",
     "output_type": "stream",
     "text": [
      "Theoretical\n",
      "Score:     -0.9692\n",
      "RMS error: 1886.7539 ppm\n"
     ]
    }
   ],
   "source": [
    "import copy\n",
    "data_sim = copy.deepcopy(data)\n",
    "sig = rms_err\n",
    "for ii,d in enumerate(data_sim):\n",
    "    d.spectrum += np.random.default_rng(seed=ii).normal(0,sig,size=d.spectrum.shape)\n",
    "    d.spectrum_cov = np.diag(0*d.spectrum+sig**2)\n",
    "    d.check_constraints()\n",
    "print('Theoretical')\n",
    "kgs.score_metric(data_sim, data);"
   ]
  },
  {
   "cell_type": "code",
   "execution_count": 13,
   "id": "d97c3dd0-0665-4117-82e3-61ce8b94ae8f",
   "metadata": {
    "tags": []
   },
   "outputs": [
    {
     "data": {
      "text/plain": [
       "[Planet(planet_id=3326797063, is_train=True, Rs=0.9310100746217564, Ms=0.8758432302557226, Ts=5540.088113442507, Mp=0.9438478952643332, e=0.0, P=7.504197697856942, sma=18.428815922759604, i=90.0, spectrum=array([0.02101458, 0.02108453, 0.02107777, 0.02106513, 0.02105282,\n",
       "        0.0210468 , 0.02104845, 0.02105335, 0.02105483, 0.02104939,\n",
       "        0.02103876, 0.02102706, 0.02101666, 0.0210074 , 0.02099913,\n",
       "        0.0209929 , 0.02098955, 0.02098854, 0.02098883, 0.02099033,\n",
       "        0.02099348, 0.02099848, 0.02100541, 0.02101473, 0.02102685,\n",
       "        0.02104135, 0.02105755, 0.02107626, 0.02109901, 0.02112398,\n",
       "        0.02114378, 0.02115181, 0.02115069, 0.02115073, 0.02115821,\n",
       "        0.02116932, 0.02117749, 0.02118269, 0.02118987, 0.02120044,\n",
       "        0.0212095 , 0.02121194, 0.02120873, 0.02120639, 0.02121075,\n",
       "        0.02122103, 0.02123059, 0.02123403, 0.02123322, 0.02123397,\n",
       "        0.02123685, 0.02123455, 0.02122088, 0.0212001 , 0.02118268,\n",
       "        0.02117366, 0.02116967, 0.02116633, 0.02116377, 0.02116247,\n",
       "        0.02115985, 0.02115242, 0.02113969, 0.02112596, 0.02111842,\n",
       "        0.02112148, 0.02113013, 0.02113391, 0.02112696, 0.02111317,\n",
       "        0.02110114, 0.02109354, 0.0210877 , 0.02108338, 0.02108696,\n",
       "        0.02109924, 0.02110921, 0.02110698, 0.021099  , 0.02109953,\n",
       "        0.02110853, 0.02111366, 0.02111119, 0.02111285, 0.02112813,\n",
       "        0.02115092, 0.02116808, 0.02117472, 0.02118108, 0.02120157,\n",
       "        0.02123423, 0.02125859, 0.02125833, 0.02124228, 0.02122972,\n",
       "        0.02122425, 0.02121441, 0.02119773, 0.0211894 , 0.02120304,\n",
       "        0.02122997, 0.02124446, 0.02123228, 0.02120524, 0.02118776,\n",
       "        0.02119511, 0.02122144, 0.02124265, 0.02123848, 0.02121748,\n",
       "        0.02120386, 0.02120208, 0.0211961 , 0.02117947, 0.02116331,\n",
       "        0.02115765, 0.0211617 , 0.02116715, 0.02116395, 0.02114825,\n",
       "        0.02112548, 0.02110475, 0.02109328, 0.02109401, 0.02109957,\n",
       "        0.02109955, 0.02109728, 0.0211023 , 0.02110946, 0.02110577,\n",
       "        0.02109663, 0.02109987, 0.02111883, 0.02113593, 0.02113645,\n",
       "        0.02112351, 0.02111159, 0.02110999, 0.02111706, 0.02112705,\n",
       "        0.02113874, 0.02115431, 0.02117132, 0.02118191, 0.02118405,\n",
       "        0.02118558, 0.02119466, 0.0212111 , 0.02122868, 0.02124301,\n",
       "        0.02125672, 0.02127574, 0.02130074, 0.02132442, 0.02133748,\n",
       "        0.02134011, 0.02134212, 0.0213472 , 0.0213478 , 0.02134035,\n",
       "        0.02133249, 0.02133229, 0.02134049, 0.0213488 , 0.02134836,\n",
       "        0.02134194, 0.02133674, 0.02132978, 0.02131749, 0.02130848,\n",
       "        0.02130837, 0.02130791, 0.0212997 , 0.02128901, 0.02128063,\n",
       "        0.02127264, 0.02126731, 0.02127452, 0.02130559, 0.0213628 ,\n",
       "        0.02142767, 0.02147124, 0.02148341, 0.0214732 , 0.02144943,\n",
       "        0.02141781, 0.02138367, 0.02135378, 0.02133378, 0.02132046,\n",
       "        0.02130797, 0.02129652, 0.02128749, 0.02128379, 0.02129012,\n",
       "        0.02130131, 0.02130852, 0.02131143, 0.02131333, 0.02131294,\n",
       "        0.02130981, 0.02130651, 0.02130444, 0.02129957, 0.02129296,\n",
       "        0.02129515, 0.02130298, 0.02130666, 0.02130672, 0.02130105,\n",
       "        0.0212916 , 0.02128705, 0.02128447, 0.02128296, 0.02128525,\n",
       "        0.02128866, 0.02129329, 0.02129233, 0.02128107, 0.02127277,\n",
       "        0.02126656, 0.02125519, 0.02124909, 0.02124852, 0.02124522,\n",
       "        0.0212406 , 0.02123457, 0.02122599, 0.02121878, 0.02121407,\n",
       "        0.02120828, 0.02120247, 0.02120051, 0.02119886, 0.02119241,\n",
       "        0.02118354, 0.02117801, 0.0211776 , 0.02117644, 0.02116704,\n",
       "        0.02115571, 0.02115393, 0.02115583, 0.02115052, 0.02114698,\n",
       "        0.02114644, 0.02113587, 0.02112769, 0.02112917, 0.02112358,\n",
       "        0.02111343, 0.02110891, 0.02110764, 0.0211053 , 0.02109943,\n",
       "        0.02109768, 0.02110577, 0.02111412, 0.02111534, 0.02110692,\n",
       "        0.02109458, 0.02109042, 0.0210933 , 0.0210909 , 0.02108597,\n",
       "        0.02108481, 0.02108308, 0.02108013, 0.0210755 , 0.0210686 ,\n",
       "        0.02106158, 0.02106296, 0.02107036, 0.02106948, 0.0210591 ,\n",
       "        0.02105734, 0.02106444, 0.02106903, 0.02107708, 0.02108018,\n",
       "        0.02107148, 0.02106466, 0.02106251]), spectrum_cov=None, transits=[Transit(observation_number=0, loading_step=0, data=[SensorData(is_FGS=True, loading_step=0, data=None, times=None, time_intervals=None, wavelengths=None), SensorData(is_FGS=False, loading_step=0, data=None, times=None, time_intervals=None, wavelengths=None)])])]"
      ]
     },
     "execution_count": 13,
     "metadata": {},
     "output_type": "execute_result"
    }
   ],
   "source": [
    "data"
   ]
  },
  {
   "cell_type": "code",
   "execution_count": 14,
   "id": "88e2018e-8cdf-4600-bfd9-4ae6724d3148",
   "metadata": {
    "tags": []
   },
   "outputs": [
    {
     "ename": "ValueError",
     "evalue": "x and y must be the same size",
     "output_type": "error",
     "traceback": [
      "\u001b[0;31m---------------------------------------------------------------------------\u001b[0m",
      "\u001b[0;31mValueError\u001b[0m                                Traceback (most recent call last)",
      "\u001b[0;32m/tmp/ipykernel_14079/1978803159.py\u001b[0m in \u001b[0;36m<cell line: 0>\u001b[0;34m()\u001b[0m\n\u001b[1;32m      1\u001b[0m \u001b[0mplt\u001b[0m\u001b[0;34m.\u001b[0m\u001b[0mfigure\u001b[0m\u001b[0;34m(\u001b[0m\u001b[0;34m)\u001b[0m\u001b[0;34m;\u001b[0m\u001b[0;34m\u001b[0m\u001b[0;34m\u001b[0m\u001b[0m\n\u001b[0;32m----> 2\u001b[0;31m \u001b[0mplt\u001b[0m\u001b[0;34m.\u001b[0m\u001b[0mscatter\u001b[0m\u001b[0;34m(\u001b[0m\u001b[0mkgs\u001b[0m\u001b[0;34m.\u001b[0m\u001b[0msanity_checks\u001b[0m\u001b[0;34m[\u001b[0m\u001b[0;34m'simple_residual_ratio_FGS'\u001b[0m\u001b[0;34m]\u001b[0m\u001b[0;34m.\u001b[0m\u001b[0mseen_all\u001b[0m\u001b[0;34m,\u001b[0m \u001b[0msolution\u001b[0m\u001b[0;34m.\u001b[0m\u001b[0miloc\u001b[0m\u001b[0;34m[\u001b[0m\u001b[0;34m:\u001b[0m\u001b[0;34m,\u001b[0m\u001b[0;36m1\u001b[0m\u001b[0;34m]\u001b[0m\u001b[0;34m.\u001b[0m\u001b[0mto_numpy\u001b[0m\u001b[0;34m(\u001b[0m\u001b[0;34m)\u001b[0m\u001b[0;34m-\u001b[0m\u001b[0msubmission\u001b[0m\u001b[0;34m.\u001b[0m\u001b[0miloc\u001b[0m\u001b[0;34m[\u001b[0m\u001b[0;34m:\u001b[0m\u001b[0;34m,\u001b[0m\u001b[0;36m1\u001b[0m\u001b[0;34m]\u001b[0m\u001b[0;34m.\u001b[0m\u001b[0mto_numpy\u001b[0m\u001b[0;34m(\u001b[0m\u001b[0;34m)\u001b[0m\u001b[0;34m)\u001b[0m\u001b[0;34m\u001b[0m\u001b[0;34m\u001b[0m\u001b[0m\n\u001b[0m\u001b[1;32m      3\u001b[0m \u001b[0mplt\u001b[0m\u001b[0;34m.\u001b[0m\u001b[0mfigure\u001b[0m\u001b[0;34m(\u001b[0m\u001b[0;34m)\u001b[0m\u001b[0;34m;\u001b[0m\u001b[0;34m\u001b[0m\u001b[0;34m\u001b[0m\u001b[0m\n\u001b[1;32m      4\u001b[0m \u001b[0mplt\u001b[0m\u001b[0;34m.\u001b[0m\u001b[0mscatter\u001b[0m\u001b[0;34m(\u001b[0m\u001b[0mkgs\u001b[0m\u001b[0;34m.\u001b[0m\u001b[0msanity_checks\u001b[0m\u001b[0;34m[\u001b[0m\u001b[0;34m'simple_residual_ratio_AIRS'\u001b[0m\u001b[0;34m]\u001b[0m\u001b[0;34m.\u001b[0m\u001b[0mseen_all\u001b[0m\u001b[0;34m,\u001b[0m \u001b[0mnp\u001b[0m\u001b[0;34m.\u001b[0m\u001b[0mmean\u001b[0m\u001b[0;34m(\u001b[0m\u001b[0msolution\u001b[0m\u001b[0;34m.\u001b[0m\u001b[0miloc\u001b[0m\u001b[0;34m[\u001b[0m\u001b[0;34m:\u001b[0m\u001b[0;34m,\u001b[0m\u001b[0;36m2\u001b[0m\u001b[0;34m:\u001b[0m\u001b[0;36m284\u001b[0m\u001b[0;34m]\u001b[0m\u001b[0;34m.\u001b[0m\u001b[0mto_numpy\u001b[0m\u001b[0;34m(\u001b[0m\u001b[0;34m)\u001b[0m\u001b[0;34m-\u001b[0m\u001b[0msubmission\u001b[0m\u001b[0;34m.\u001b[0m\u001b[0miloc\u001b[0m\u001b[0;34m[\u001b[0m\u001b[0;34m:\u001b[0m\u001b[0;34m,\u001b[0m\u001b[0;36m2\u001b[0m\u001b[0;34m:\u001b[0m\u001b[0;36m284\u001b[0m\u001b[0;34m]\u001b[0m\u001b[0;34m.\u001b[0m\u001b[0mto_numpy\u001b[0m\u001b[0;34m(\u001b[0m\u001b[0;34m)\u001b[0m\u001b[0;34m,\u001b[0m\u001b[0;36m1\u001b[0m\u001b[0;34m)\u001b[0m\u001b[0;34m)\u001b[0m\u001b[0;34m\u001b[0m\u001b[0;34m\u001b[0m\u001b[0m\n",
      "\u001b[0;32m~/miniconda3/envs/xlab/lib/python3.11/site-packages/matplotlib/pyplot.py\u001b[0m in \u001b[0;36mscatter\u001b[0;34m(x, y, s, c, marker, cmap, norm, vmin, vmax, alpha, linewidths, edgecolors, plotnonfinite, data, **kwargs)\u001b[0m\n\u001b[1;32m   2860\u001b[0m         \u001b[0mvmin\u001b[0m\u001b[0;34m=\u001b[0m\u001b[0;32mNone\u001b[0m\u001b[0;34m,\u001b[0m \u001b[0mvmax\u001b[0m\u001b[0;34m=\u001b[0m\u001b[0;32mNone\u001b[0m\u001b[0;34m,\u001b[0m \u001b[0malpha\u001b[0m\u001b[0;34m=\u001b[0m\u001b[0;32mNone\u001b[0m\u001b[0;34m,\u001b[0m \u001b[0mlinewidths\u001b[0m\u001b[0;34m=\u001b[0m\u001b[0;32mNone\u001b[0m\u001b[0;34m,\u001b[0m \u001b[0;34m*\u001b[0m\u001b[0;34m,\u001b[0m\u001b[0;34m\u001b[0m\u001b[0;34m\u001b[0m\u001b[0m\n\u001b[1;32m   2861\u001b[0m         edgecolors=None, plotnonfinite=False, data=None, **kwargs):\n\u001b[0;32m-> 2862\u001b[0;31m     __ret = gca().scatter(\n\u001b[0m\u001b[1;32m   2863\u001b[0m         \u001b[0mx\u001b[0m\u001b[0;34m,\u001b[0m \u001b[0my\u001b[0m\u001b[0;34m,\u001b[0m \u001b[0ms\u001b[0m\u001b[0;34m=\u001b[0m\u001b[0ms\u001b[0m\u001b[0;34m,\u001b[0m \u001b[0mc\u001b[0m\u001b[0;34m=\u001b[0m\u001b[0mc\u001b[0m\u001b[0;34m,\u001b[0m \u001b[0mmarker\u001b[0m\u001b[0;34m=\u001b[0m\u001b[0mmarker\u001b[0m\u001b[0;34m,\u001b[0m \u001b[0mcmap\u001b[0m\u001b[0;34m=\u001b[0m\u001b[0mcmap\u001b[0m\u001b[0;34m,\u001b[0m \u001b[0mnorm\u001b[0m\u001b[0;34m=\u001b[0m\u001b[0mnorm\u001b[0m\u001b[0;34m,\u001b[0m\u001b[0;34m\u001b[0m\u001b[0;34m\u001b[0m\u001b[0m\n\u001b[1;32m   2864\u001b[0m         \u001b[0mvmin\u001b[0m\u001b[0;34m=\u001b[0m\u001b[0mvmin\u001b[0m\u001b[0;34m,\u001b[0m \u001b[0mvmax\u001b[0m\u001b[0;34m=\u001b[0m\u001b[0mvmax\u001b[0m\u001b[0;34m,\u001b[0m \u001b[0malpha\u001b[0m\u001b[0;34m=\u001b[0m\u001b[0malpha\u001b[0m\u001b[0;34m,\u001b[0m \u001b[0mlinewidths\u001b[0m\u001b[0;34m=\u001b[0m\u001b[0mlinewidths\u001b[0m\u001b[0;34m,\u001b[0m\u001b[0;34m\u001b[0m\u001b[0;34m\u001b[0m\u001b[0m\n",
      "\u001b[0;32m~/miniconda3/envs/xlab/lib/python3.11/site-packages/matplotlib/__init__.py\u001b[0m in \u001b[0;36minner\u001b[0;34m(ax, data, *args, **kwargs)\u001b[0m\n\u001b[1;32m   1444\u001b[0m     \u001b[0;32mdef\u001b[0m \u001b[0minner\u001b[0m\u001b[0;34m(\u001b[0m\u001b[0max\u001b[0m\u001b[0;34m,\u001b[0m \u001b[0;34m*\u001b[0m\u001b[0margs\u001b[0m\u001b[0;34m,\u001b[0m \u001b[0mdata\u001b[0m\u001b[0;34m=\u001b[0m\u001b[0;32mNone\u001b[0m\u001b[0;34m,\u001b[0m \u001b[0;34m**\u001b[0m\u001b[0mkwargs\u001b[0m\u001b[0;34m)\u001b[0m\u001b[0;34m:\u001b[0m\u001b[0;34m\u001b[0m\u001b[0;34m\u001b[0m\u001b[0m\n\u001b[1;32m   1445\u001b[0m         \u001b[0;32mif\u001b[0m \u001b[0mdata\u001b[0m \u001b[0;32mis\u001b[0m \u001b[0;32mNone\u001b[0m\u001b[0;34m:\u001b[0m\u001b[0;34m\u001b[0m\u001b[0;34m\u001b[0m\u001b[0m\n\u001b[0;32m-> 1446\u001b[0;31m             \u001b[0;32mreturn\u001b[0m \u001b[0mfunc\u001b[0m\u001b[0;34m(\u001b[0m\u001b[0max\u001b[0m\u001b[0;34m,\u001b[0m \u001b[0;34m*\u001b[0m\u001b[0mmap\u001b[0m\u001b[0;34m(\u001b[0m\u001b[0msanitize_sequence\u001b[0m\u001b[0;34m,\u001b[0m \u001b[0margs\u001b[0m\u001b[0;34m)\u001b[0m\u001b[0;34m,\u001b[0m \u001b[0;34m**\u001b[0m\u001b[0mkwargs\u001b[0m\u001b[0;34m)\u001b[0m\u001b[0;34m\u001b[0m\u001b[0;34m\u001b[0m\u001b[0m\n\u001b[0m\u001b[1;32m   1447\u001b[0m \u001b[0;34m\u001b[0m\u001b[0m\n\u001b[1;32m   1448\u001b[0m         \u001b[0mbound\u001b[0m \u001b[0;34m=\u001b[0m \u001b[0mnew_sig\u001b[0m\u001b[0;34m.\u001b[0m\u001b[0mbind\u001b[0m\u001b[0;34m(\u001b[0m\u001b[0max\u001b[0m\u001b[0;34m,\u001b[0m \u001b[0;34m*\u001b[0m\u001b[0margs\u001b[0m\u001b[0;34m,\u001b[0m \u001b[0;34m**\u001b[0m\u001b[0mkwargs\u001b[0m\u001b[0;34m)\u001b[0m\u001b[0;34m\u001b[0m\u001b[0;34m\u001b[0m\u001b[0m\n",
      "\u001b[0;32m~/miniconda3/envs/xlab/lib/python3.11/site-packages/matplotlib/axes/_axes.py\u001b[0m in \u001b[0;36mscatter\u001b[0;34m(self, x, y, s, c, marker, cmap, norm, vmin, vmax, alpha, linewidths, edgecolors, plotnonfinite, **kwargs)\u001b[0m\n\u001b[1;32m   4576\u001b[0m         \u001b[0my\u001b[0m \u001b[0;34m=\u001b[0m \u001b[0mnp\u001b[0m\u001b[0;34m.\u001b[0m\u001b[0mma\u001b[0m\u001b[0;34m.\u001b[0m\u001b[0mravel\u001b[0m\u001b[0;34m(\u001b[0m\u001b[0my\u001b[0m\u001b[0;34m)\u001b[0m\u001b[0;34m\u001b[0m\u001b[0;34m\u001b[0m\u001b[0m\n\u001b[1;32m   4577\u001b[0m         \u001b[0;32mif\u001b[0m \u001b[0mx\u001b[0m\u001b[0;34m.\u001b[0m\u001b[0msize\u001b[0m \u001b[0;34m!=\u001b[0m \u001b[0my\u001b[0m\u001b[0;34m.\u001b[0m\u001b[0msize\u001b[0m\u001b[0;34m:\u001b[0m\u001b[0;34m\u001b[0m\u001b[0;34m\u001b[0m\u001b[0m\n\u001b[0;32m-> 4578\u001b[0;31m             \u001b[0;32mraise\u001b[0m \u001b[0mValueError\u001b[0m\u001b[0;34m(\u001b[0m\u001b[0;34m\"x and y must be the same size\"\u001b[0m\u001b[0;34m)\u001b[0m\u001b[0;34m\u001b[0m\u001b[0;34m\u001b[0m\u001b[0m\n\u001b[0m\u001b[1;32m   4579\u001b[0m \u001b[0;34m\u001b[0m\u001b[0m\n\u001b[1;32m   4580\u001b[0m         \u001b[0;32mif\u001b[0m \u001b[0ms\u001b[0m \u001b[0;32mis\u001b[0m \u001b[0;32mNone\u001b[0m\u001b[0;34m:\u001b[0m\u001b[0;34m\u001b[0m\u001b[0;34m\u001b[0m\u001b[0m\n",
      "\u001b[0;31mValueError\u001b[0m: x and y must be the same size"
     ]
    },
    {
     "data": {
      "image/png": "[encoded data removed]",
      "text/plain": [
       "<Figure size 640x480 with 1 Axes>"
      ]
     },
     "metadata": {},
     "output_type": "display_data"
    }
   ],
   "source": [
    "plt.figure();\n",
    "plt.scatter(kgs.sanity_checks['simple_residual_ratio_FGS'].seen_all, solution.iloc[:,1].to_numpy()-submission.iloc[:,1].to_numpy())\n",
    "plt.figure();\n",
    "plt.scatter(kgs.sanity_checks['simple_residual_ratio_AIRS'].seen_all, np.mean(solution.iloc[:,2:284].to_numpy()-submission.iloc[:,2:284].to_numpy(),1))"
   ]
  },
  {
   "cell_type": "code",
   "execution_count": null,
   "id": "bd5e68a4-3f5b-48be-9d59-73cbdd9b14fc",
   "metadata": {
    "tags": []
   },
   "outputs": [],
   "source": [
    "plt.figure()\n",
    "plt.plot(kgs.sanity_checks['simple_residual_ratio_FGS'].seen_all)\n",
    "plt.plot(kgs.sanity_checks['simple_residual_ratio_AIRS'].seen_all)\n",
    "plt.legend(('FGS', 'AIRS'))\n",
    "plt.grid(True)"
   ]
  },
  {
   "cell_type": "code",
   "execution_count": null,
   "id": "54ee3b08-5a25-4831-9c83-beefa76dc5f2",
   "metadata": {
    "tags": []
   },
   "outputs": [],
   "source": [
    "solution = kgs.make_submission_dataframe(data, include_sigma=False)\n",
    "submission = kgs.make_submission_dataframe(inferred_data, False)\n"
   ]
  },
  {
   "cell_type": "code",
   "execution_count": null,
   "id": "c3c86eff-7034-4ab9-9764-54467da159e8",
   "metadata": {
    "tags": []
   },
   "outputs": [],
   "source": [
    "kgs.rms(solution.iloc[:,1:2].to_numpy()-submission.iloc[:,1:2].to_numpy()),kgs.rms(solution.iloc[:,2:284].to_numpy()-submission.iloc[:,2:284].to_numpy())"
   ]
  },
  {
   "cell_type": "code",
   "execution_count": null,
   "id": "0fd6096d-bea3-484c-ae89-4802a5da7965",
   "metadata": {
    "tags": []
   },
   "outputs": [],
   "source": [
    "_,ax=plt.subplots(1,2,figsize=(10,5))\n",
    "plt.sca(ax[0])\n",
    "plt.box(True);plt.grid(True);\n",
    "plt.scatter(solution.iloc[:,1].to_numpy(), solution.iloc[:,1].to_numpy()-submission.iloc[:,1].to_numpy())\n",
    "plt.title(1e6*kgs.rms(solution.iloc[:,1:2].to_numpy()-submission.iloc[:,1:2].to_numpy()))\n",
    "plt.sca(ax[1])\n",
    "plt.box(True);plt.grid(True);\n",
    "plt.scatter(np.mean(solution.iloc[:,2:284].to_numpy(),1), np.mean(solution.iloc[:,2:284].to_numpy()-submission.iloc[:,2:284].to_numpy(),1))\n",
    "plt.title(1e6*kgs.rms(solution.iloc[:,2:284].to_numpy()-submission.iloc[:,2:284].to_numpy()))"
   ]
  },
  {
   "cell_type": "code",
   "execution_count": null,
   "id": "89944a58-59de-4ba0-8175-317b08e3a1ff",
   "metadata": {
    "tags": []
   },
   "outputs": [],
   "source": [
    "ind = np.argmax(np.abs(np.mean(solution.iloc[:,2:284].to_numpy()-submission.iloc[:,2:284].to_numpy(),1)))\n",
    "ind"
   ]
  },
  {
   "cell_type": "code",
   "execution_count": null,
   "id": "03a83ae5-e147-47ec-a641-4df23e8c0755",
   "metadata": {},
   "outputs": [],
   "source": [
    "import ariel_simple\n",
    "import copy\n",
    "kgs.sanity_checks_active = False\n",
    "importlib.reload(ariel_simple)\n",
    "ind=968\n",
    "model = ariel_simple.SimpleModel()\n",
    "model.run_in_parallel = False\n",
    "model.do_plots = True\n",
    "model.use_correction_factor = True\n",
    "model.train(train_data)\n",
    "data = copy.deepcopy(train_data[ind:ind+1])\n",
    "#kgs.list_attrs(data[0])\n",
    "# for d_ref in train_data:\n",
    "#     dat = copy.deepcopy(d_ref)\n",
    "#     dat.spectrum = train_data[ind].spectrum\n",
    "#     dat.planet_id = train_data[ind].planet_id\n",
    "#     data = [dat]\n",
    "    #data[0].sma = sma\n",
    "    #for ii in range(2):\n",
    "    #    pass\n",
    "       #model.loaders[ii].apply_full_sensor_corrections.remove_background_based_on_pixels = False    \n",
    "       #model.loaders[ii].apply_full_sensor_corrections.remove_background_based_on_rows = False    \n",
    "     #   model.loaders[ii].apply_pixel_corrections.mask_hot = False\n",
    "     #   model.loaders[ii].apply_pixel_corrections.mask_hot = False\n",
    "inferred_data = model.infer(data)\n",
    "print(model.correction_factor)\n",
    "print(np.mean(data[0].spectrum[:1]-inferred_data[0].spectrum[:1]), np.mean(data[0].spectrum[1:]-inferred_data[0].spectrum[1:]), kgs.rms(model.pred[1]-model._targets[1]))"
   ]
  },
  {
   "cell_type": "code",
   "execution_count": null,
   "id": "c26a9f83-d639-4627-b694-83480ec77ae8",
   "metadata": {},
   "outputs": [],
   "source": []
  }
 ],
 "metadata": {
  "kernelspec": {
   "display_name": "Python 3 (ipykernel)",
   "language": "python",
   "name": "python3"
  },
  "language_info": {
   "codemirror_mode": {
    "name": "ipython",
    "version": 3
   },
   "file_extension": ".py",
   "mimetype": "text/x-python",
   "name": "python",
   "nbconvert_exporter": "python",
   "pygments_lexer": "ipython3",
   "version": "3.11.13"
  }
 },
 "nbformat": 4,
 "nbformat_minor": 5
}
