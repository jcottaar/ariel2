{
 "cells": [
  {
   "cell_type": "code",
   "execution_count": 1,
   "id": "f83b89e4-ae65-4669-9e78-15f817bc2b71",
   "metadata": {
    "tags": []
   },
   "outputs": [
    {
     "name": "stdout",
     "output_type": "stream",
     "text": [
      "local\n"
     ]
    }
   ],
   "source": [
    "import sys\n",
    "sys.path.append('/mnt/d/ariel2/code/core/')\n",
    "sys.path.append('d:/ariel2/code/core/')\n",
    "sys.path.append('/kaggle/input/my-ariel2-library')\n",
    "import kaggle_support as kgs\n",
    "import ariel_model\n",
    "import ariel_simple\n",
    "import ariel_gp\n",
    "import time\n",
    "import numpy as np"
   ]
  },
  {
   "cell_type": "code",
   "execution_count": 2,
   "id": "99b7ffc2-2f42-4ba8-a481-813c55251753",
   "metadata": {
    "tags": []
   },
   "outputs": [],
   "source": [
    "train_data = kgs.load_all_train_data()\n",
    "test_data = kgs.load_all_test_data()\n",
    "kgs.debugging_mode = 1\n",
    "model = ariel_gp.PredictionModel()\n",
    "model.run_in_parallel = True\n",
    "kgs.sanity_checks_active=True\n",
    "model.train(train_data)"
   ]
  },
  {
   "cell_type": "code",
   "execution_count": 3,
   "id": "8ab06445-2bfd-4b18-9d1d-57e6e1bd0cc5",
   "metadata": {
    "tags": []
   },
   "outputs": [
    {
     "name": "stdout",
     "output_type": "stream",
     "text": [
      "24\n",
      "24\n"
     ]
    },
    {
     "name": "stderr",
     "output_type": "stream",
     "text": [
      "Processing in parallel:   0%|                                                                    | 0/24 [00:00<?, ?it/s]"
     ]
    },
    {
     "name": "stdout",
     "output_type": "stream",
     "text": [
      "local\n",
      "local\n",
      "SpawnPoolWorker-1 1\n",
      "CUDA_VISIBLE_DEVICES= 0\n",
      "local\n",
      "SpawnPoolWorker-2 2\n",
      "CUDA_VISIBLE_DEVICES= 0\n",
      "SpawnPoolWorker-3 3\n",
      "CUDA_VISIBLE_DEVICES= 0\n"
     ]
    },
    {
     "name": "stderr",
     "output_type": "stream",
     "text": [
      "Processing in parallel: 100%|███████████████████████████████████████████████████████████| 24/24 [01:29<00:00,  3.72s/it]\n"
     ]
    },
    {
     "name": "stdout",
     "output_type": "stream",
     "text": [
      "[[89.59347415]\n",
      " [ 0.        ]\n",
      " [ 0.        ]\n",
      " [ 0.        ]]\n"
     ]
    },
    {
     "name": "stderr",
     "output_type": "stream",
     "text": [
      "Processing in parallel:   0%|                                                                    | 0/24 [00:00<?, ?it/s]"
     ]
    },
    {
     "name": "stdout",
     "output_type": "stream",
     "text": [
      "local\n",
      "local\n",
      "local\n",
      "local\n",
      "SpawnPoolWorker-6 6\n",
      "SpawnPoolWorker-7 7\n",
      "CUDA_VISIBLE_DEVICES= 0\n",
      "CUDA_VISIBLE_DEVICES= 0\n",
      "SpawnPoolWorker-5 5\n",
      "CUDA_VISIBLE_DEVICES= 0\n",
      "SpawnPoolWorker-4 4\n",
      "CUDA_VISIBLE_DEVICES= 0\n"
     ]
    },
    {
     "name": "stderr",
     "output_type": "stream",
     "text": [
      "Processing in parallel: 100%|███████████████████████████████████████████████████████████| 24/24 [01:11<00:00,  2.99s/it]\n"
     ]
    },
    {
     "name": "stdout",
     "output_type": "stream",
     "text": [
      "[[89.59347415]\n",
      " [72.01500082]\n",
      " [ 0.        ]\n",
      " [ 0.        ]]\n"
     ]
    },
    {
     "name": "stderr",
     "output_type": "stream",
     "text": [
      "Processing in parallel:   0%|                                                                    | 0/24 [00:00<?, ?it/s]"
     ]
    },
    {
     "name": "stdout",
     "output_type": "stream",
     "text": [
      "local\n",
      "local\n",
      "SpawnPoolWorker-11 11\n",
      "CUDA_VISIBLE_DEVICES= 0\n",
      "local\n",
      "local\n",
      "SpawnPoolWorker-12 12\n",
      "CUDA_VISIBLE_DEVICES= 0\n",
      "local\n",
      "SpawnPoolWorker-9 9\n",
      "CUDA_VISIBLE_DEVICES= 0\n",
      "SpawnPoolWorker-10 10\n",
      "CUDA_VISIBLE_DEVICES= 0\n",
      "SpawnPoolWorker-13 13\n",
      "CUDA_VISIBLE_DEVICES= 0\n",
      "local\n",
      "SpawnPoolWorker-8 8\n",
      "CUDA_VISIBLE_DEVICES= 0\n"
     ]
    },
    {
     "name": "stderr",
     "output_type": "stream",
     "text": [
      "Processing in parallel: 100%|███████████████████████████████████████████████████████████| 24/24 [00:57<00:00,  2.41s/it]\n"
     ]
    },
    {
     "name": "stdout",
     "output_type": "stream",
     "text": [
      "[[89.59347415]\n",
      " [72.01500082]\n",
      " [58.27366614]\n",
      " [ 0.        ]]\n"
     ]
    },
    {
     "name": "stderr",
     "output_type": "stream",
     "text": [
      "Processing in parallel:   0%|                                                                    | 0/24 [00:00<?, ?it/s]"
     ]
    },
    {
     "name": "stdout",
     "output_type": "stream",
     "text": [
      "local\n",
      "local\n",
      "SpawnPoolWorker-15 15\n",
      "CUDA_VISIBLE_DEVICES= 0\n",
      "local\n",
      "local\n",
      "local\n",
      "local\n",
      "SpawnPoolWorker-18 18\n",
      "CUDA_VISIBLE_DEVICES= 0\n",
      "local\n",
      "SpawnPoolWorker-17 17\n",
      "CUDA_VISIBLE_DEVICES= 0\n",
      "SpawnPoolWorker-16 16\n",
      "CUDA_VISIBLE_DEVICES= 0\n",
      "SpawnPoolWorker-19 19\n",
      "CUDA_VISIBLE_DEVICES= 0\n",
      "local\n",
      "SpawnPoolWorker-21 21\n",
      "CUDA_VISIBLE_DEVICES= 0\n",
      "SpawnPoolWorker-20 20\n",
      "CUDA_VISIBLE_DEVICES= 0\n",
      "SpawnPoolWorker-14 14\n",
      "CUDA_VISIBLE_DEVICES= 0\n"
     ]
    },
    {
     "name": "stderr",
     "output_type": "stream",
     "text": [
      "Processing in parallel: 100%|███████████████████████████████████████████████████████████| 24/24 [00:58<00:00,  2.42s/it]\n"
     ]
    },
    {
     "name": "stdout",
     "output_type": "stream",
     "text": [
      "[[89.59347415]\n",
      " [72.01500082]\n",
      " [58.27366614]\n",
      " [58.62956095]]\n",
      "[[89.59347415]\n",
      " [72.01500082]\n",
      " [58.27366614]\n",
      " [58.62956095]]\n",
      "           1 threads\n",
      "3 workers     89.593\n",
      "4 workers     72.015\n",
      "6 workers     58.274\n",
      "8 workers     58.630\n"
     ]
    }
   ],
   "source": [
    "n_workers_list = [3,4,6,8]\n",
    "n_threads_list = [1]\n",
    "N=24\n",
    "\n",
    "res = np.zeros((len(n_workers_list), len(n_threads_list)))\n",
    "# Warmup\n",
    "print(N)\n",
    "#kgs.n_workers = 2\n",
    "#kgs.n_threads = 1\n",
    "print(len(train_data[:N]))\n",
    "#model.infer(train_data[:N])\n",
    "for i in range(len(n_workers_list)):\n",
    "    for j in range(len(n_threads_list)):\n",
    "        kgs.n_workers = n_workers_list[i]\n",
    "        kgs.n_threads = n_threads_list[j]\n",
    "        #print(kgs.n_threads)\n",
    "        tt=time.time()\n",
    "        model.run_in_parallel = (kgs.n_workers>0)\n",
    "        if kgs.n_workers<=2 or kgs.n_threads<=2:\n",
    "            model.infer(train_data[:N])\n",
    "        res[i,j] = time.time()-tt\n",
    "        print(res)\n",
    "\n",
    "# Improve this part        \n",
    "print(res)\n",
    "\n",
    "import pandas as pd\n",
    "\n",
    "# Create a DataFrame for nice formatting\n",
    "df = pd.DataFrame(\n",
    "    res,\n",
    "    index=[f\"{w} workers\" for w in n_workers_list],\n",
    "    columns=[f\"{t} threads\" for t in n_threads_list]\n",
    ")\n",
    "\n",
    "# Print as a table with 3 decimal places\n",
    "print(df.round(3).to_string())"
   ]
  },
  {
   "cell_type": "code",
   "execution_count": 4,
   "id": "a9b0b9c1-a550-40b1-9fd2-f44d9ba0b319",
   "metadata": {},
   "outputs": [
    {
     "name": "stderr",
     "output_type": "stream",
     "text": [
      "ERROR:root:No traceback has been produced, nothing to debug.\n"
     ]
    }
   ],
   "source": [
    "%debug"
   ]
  },
  {
   "cell_type": "code",
   "execution_count": 5,
   "id": "95753661-c746-46ae-8fc0-93bf4f6abb52",
   "metadata": {},
   "outputs": [
    {
     "ename": "AttributeError",
     "evalue": "'PredictionModel' object has no attribute 'bias_a'",
     "output_type": "error",
     "traceback": [
      "\u001b[0;31m---------------------------------------------------------------------------\u001b[0m",
      "\u001b[0;31mAttributeError\u001b[0m                            Traceback (most recent call last)",
      "\u001b[0;32m/tmp/ipykernel_17480/927453393.py\u001b[0m in \u001b[0;36m<cell line: 0>\u001b[0;34m()\u001b[0m\n\u001b[0;32m----> 1\u001b[0;31m \u001b[0mmodel\u001b[0m\u001b[0;34m.\u001b[0m\u001b[0mbias_a\u001b[0m\u001b[0;34m\u001b[0m\u001b[0;34m\u001b[0m\u001b[0m\n\u001b[0m",
      "\u001b[0;31mAttributeError\u001b[0m: 'PredictionModel' object has no attribute 'bias_a'"
     ]
    }
   ],
   "source": [
    "model.bias_a"
   ]
  },
  {
   "cell_type": "code",
   "execution_count": null,
   "id": "d7b8c34f-029e-486e-aa64-6846cd9c5fb8",
   "metadata": {},
   "outputs": [],
   "source": []
  }
 ],
 "metadata": {
  "kernelspec": {
   "display_name": "Python 3 (ipykernel)",
   "language": "python",
   "name": "python3"
  },
  "language_info": {
   "codemirror_mode": {
    "name": "ipython",
    "version": 3
   },
   "file_extension": ".py",
   "mimetype": "text/x-python",
   "name": "python",
   "nbconvert_exporter": "python",
   "pygments_lexer": "ipython3",
   "version": "3.11.13"
  }
 },
 "nbformat": 4,
 "nbformat_minor": 5
}
