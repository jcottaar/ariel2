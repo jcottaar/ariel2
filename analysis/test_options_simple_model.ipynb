{
 "cells": [
  {
   "cell_type": "code",
   "execution_count": 1,
   "id": "f83b89e4-ae65-4669-9e78-15f817bc2b71",
   "metadata": {
    "tags": []
   },
   "outputs": [
    {
     "name": "stdout",
     "output_type": "stream",
     "text": [
      "local\n"
     ]
    }
   ],
   "source": [
    "import sys\n",
    "sys.path.append('/mnt/d/ariel2/code/core/')\n",
    "import kaggle_support as kgs\n",
    "import importlib\n",
    "import matplotlib.pyplot as plt\n",
    "import numpy as np\n",
    "import cupy as cp\n",
    "import ariel_load\n",
    "import ariel_simple\n",
    "import tqdm"
   ]
  },
  {
   "cell_type": "code",
   "execution_count": 2,
   "id": "34c09eb5-452c-4b2d-8892-48eb82f160f5",
   "metadata": {
    "tags": []
   },
   "outputs": [
    {
     "name": "stdout",
     "output_type": "stream",
     "text": [
      "CPU times: user 964 ms, sys: 183 ms, total: 1.15 s\n",
      "Wall time: 3.29 s\n"
     ]
    },
    {
     "data": {
      "text/plain": [
       "(1100, 1)"
      ]
     },
     "execution_count": 2,
     "metadata": {},
     "output_type": "execute_result"
    }
   ],
   "source": [
    "%%time\n",
    "train_data = kgs.load_all_train_data()\n",
    "test_data = kgs.load_all_test_data()\n",
    "len(train_data), len(test_data)"
   ]
  },
  {
   "cell_type": "code",
   "execution_count": 3,
   "id": "add092f3-a15b-4c7d-b368-302f5953ced4",
   "metadata": {
    "tags": []
   },
   "outputs": [],
   "source": [
    "def robust_linear_fit_rms(X, Y, drop_frac=0.05, do_print=False):\n",
    "    X = np.asarray(X)\n",
    "    Y = np.asarray(Y)\n",
    "\n",
    "    # Fit Y = aX + b using least squares\n",
    "    A = np.vstack([X, np.ones_like(X)]).T\n",
    "    a, b = np.linalg.lstsq(A, Y, rcond=None)[0]\n",
    "\n",
    "    # Predicted Y and residuals\n",
    "    Y_pred = a * X + b\n",
    "    residuals = Y - Y_pred\n",
    "    abs_resid = np.abs(residuals)\n",
    "\n",
    "    # Remove worst 5% (highest absolute residuals)\n",
    "    if drop_frac>0:\n",
    "        n = len(residuals)\n",
    "        keep = int(n * (1 - drop_frac))\n",
    "        indices = np.argpartition(abs_resid, keep)[:keep]\n",
    "    #print(keep, len(residuals))\n",
    "    else:\n",
    "        indices = np.arange(len(residuals))\n",
    "\n",
    "    # Compute RMS of the remaining residuals\n",
    "    rms = np.sqrt(np.mean(residuals[indices] ** 2))\n",
    "    if do_print:\n",
    "        print(a,b)\n",
    "    return rms,residuals"
   ]
  },
  {
   "cell_type": "code",
   "execution_count": null,
   "id": "1eaf8628-3632-4b29-bb3f-019d22d654b5",
   "metadata": {
    "tags": []
   },
   "outputs": [
    {
     "name": "stderr",
     "output_type": "stream",
     "text": [
      "Processing in parallel:   0%|                                                                  | 0/1100 [00:00<?, ?it/s]"
     ]
    },
    {
     "name": "stdout",
     "output_type": "stream",
     "text": [
      "local\n",
      "local\n",
      "local\n",
      "local\n",
      "local\n",
      "local\n",
      "local\n"
     ]
    },
    {
     "name": "stderr",
     "output_type": "stream",
     "text": [
      "Processing in parallel: 100%|███████████████████████████████████████████████████████| 1100/1100 [07:11<00:00,  2.55it/s]\n"
     ]
    },
    {
     "name": "stdout",
     "output_type": "stream",
     "text": [
      "Default\n",
      "178.4929154418088 296.4701367272985\n",
      "78.93757942054788 203.07053082721023\n"
     ]
    },
    {
     "name": "stderr",
     "output_type": "stream",
     "text": [
      "Processing in parallel:   0%|                                                                  | 0/1100 [00:00<?, ?it/s]"
     ]
    },
    {
     "name": "stdout",
     "output_type": "stream",
     "text": [
      "local\n",
      "local\n",
      "local\n",
      "local\n",
      "local\n",
      "local\n",
      "local\n"
     ]
    },
    {
     "name": "stderr",
     "output_type": "stream",
     "text": [
      "Processing in parallel: 100%|███████████████████████████████████████████████████████| 1100/1100 [15:32<00:00,  1.18it/s]\n"
     ]
    },
    {
     "name": "stdout",
     "output_type": "stream",
     "text": [
      "Supersample\n",
      "182.77557466948127 309.8766964519231\n",
      "76.99328969241745 211.6311795625154\n"
     ]
    },
    {
     "name": "stderr",
     "output_type": "stream",
     "text": [
      "Processing in parallel:   0%|                                                                  | 0/1100 [00:00<?, ?it/s]"
     ]
    },
    {
     "name": "stdout",
     "output_type": "stream",
     "text": [
      "local\n",
      "local\n",
      "local\n",
      "local\n",
      "local\n",
      "local\n",
      "local\n"
     ]
    },
    {
     "name": "stderr",
     "output_type": "stream",
     "text": [
      "Processing in parallel: 100%|███████████████████████████████████████████████████████| 1100/1100 [07:24<00:00,  2.48it/s]\n"
     ]
    },
    {
     "name": "stdout",
     "output_type": "stream",
     "text": [
      "Fit eccentricity\n",
      "177.07325706231543 283.0428304261293\n",
      "76.83788458882636 216.8438874295818\n"
     ]
    },
    {
     "name": "stderr",
     "output_type": "stream",
     "text": [
      "Processing in parallel:   0%|                                                                  | 0/1100 [00:00<?, ?it/s]"
     ]
    },
    {
     "name": "stdout",
     "output_type": "stream",
     "text": [
      "local\n",
      "local\n",
      "local\n",
      "local\n",
      "local\n",
      "local\n",
      "local\n"
     ]
    },
    {
     "name": "stderr",
     "output_type": "stream",
     "text": [
      "Processing in parallel: 100%|███████████████████████████████████████████████████████| 1100/1100 [06:27<00:00,  2.84it/s]\n"
     ]
    },
    {
     "name": "stdout",
     "output_type": "stream",
     "text": [
      "Correction factor\n",
      "220.18984721947587 334.3936587047069\n",
      "87.1514205781326 239.72748535899663\n"
     ]
    },
    {
     "name": "stderr",
     "output_type": "stream",
     "text": [
      "Processing in parallel:   0%|                                                                  | 0/1100 [00:00<?, ?it/s]"
     ]
    },
    {
     "name": "stdout",
     "output_type": "stream",
     "text": [
      "local\n",
      "local\n",
      "local\n",
      "local\n",
      "local\n",
      "local\n",
      "local\n"
     ]
    },
    {
     "name": "stderr",
     "output_type": "stream",
     "text": [
      "Processing in parallel: 100%|███████████████████████████████████████████████████████| 1100/1100 [05:10<00:00,  3.54it/s]\n"
     ]
    },
    {
     "name": "stdout",
     "output_type": "stream",
     "text": [
      "4th order\n",
      "153.60367000646355 264.9329797359857\n",
      "69.57088140922706 196.40767404769832\n"
     ]
    },
    {
     "name": "stderr",
     "output_type": "stream",
     "text": [
      "Processing in parallel:   0%|                                                                  | 0/1100 [00:00<?, ?it/s]"
     ]
    },
    {
     "name": "stdout",
     "output_type": "stream",
     "text": [
      "local\n",
      "local\n",
      "local\n",
      "local\n",
      "local\n",
      "local\n",
      "local\n"
     ]
    },
    {
     "name": "stderr",
     "output_type": "stream",
     "text": [
      "Processing in parallel: 100%|███████████████████████████████████████████████████████| 1100/1100 [06:29<00:00,  2.82it/s]\n"
     ]
    },
    {
     "name": "stdout",
     "output_type": "stream",
     "text": [
      "6th order\n",
      "207.91568872624228 316.84165785211724\n",
      "96.67052743259785 224.5989298636515\n"
     ]
    },
    {
     "name": "stderr",
     "output_type": "stream",
     "text": [
      "Inferring:  30%|████████████████████▌                                                | 328/1100 [12:12<41:13,  3.20s/it]"
     ]
    }
   ],
   "source": [
    "df = 0.05\n",
    "kgs.sanity_checks_without_errors = True\n",
    "for jj in range(13):\n",
    "    model = ariel_simple.SimpleModel()\n",
    "    model.run_in_parallel = (jj<6)\n",
    "    match jj:\n",
    "        case 0:\n",
    "            name = 'Default'\n",
    "        case 1:\n",
    "            name = 'Supersample'\n",
    "            model.supersample_factor = 5\n",
    "        case 2:\n",
    "            name = 'Fit eccentricity'\n",
    "            model.fit_ecc = True\n",
    "        case 3:\n",
    "            name = 'Correction factor'\n",
    "            model.use_correction_factor = True\n",
    "        case 4:\n",
    "            name = '4th order'\n",
    "            model.order_list = [0,1,2,3,4]\n",
    "        case 5:\n",
    "            name = '6th order'\n",
    "            model.order_list = [0,1,2,3,4,5,6]\n",
    "        case 6:\n",
    "            name = 'Use more AIRS rows'\n",
    "            model.loaders[1].apply_full_sensor_corrections.remove_background_n_rows = 4            \n",
    "        case 7:\n",
    "            name = 'Don''t mask hot'\n",
    "            for ii in range(2):\n",
    "                model.loaders[ii].apply_pixel_corrections.mask_hot = False\n",
    "            model.run_in_parallel = False\n",
    "        case 8:\n",
    "            name = 'No linear correction'\n",
    "            for ii in range(2):\n",
    "                model.loaders[ii].apply_pixel_corrections.linear_correction = False\n",
    "        case 9:\n",
    "            name = 'Dark current sign'\n",
    "            for ii in range(2):\n",
    "                model.loaders[ii].apply_pixel_corrections.dark_current_sign *= -1\n",
    "        case 10:\n",
    "            name = 'ADC sign'\n",
    "            for ii in range(2):\n",
    "                model.loaders[ii].apply_pixel_corrections.adc_offset_sign *= -1\n",
    "        case 11:\n",
    "            name = 'No flat field'\n",
    "            for ii in range(2):\n",
    "                model.loaders[ii].apply_pixel_corrections.flat_field = False\n",
    "        case 12:\n",
    "            name = 'Time binning x2'\n",
    "            for ii in range(2):\n",
    "                model.loaders[ii].apply_time_binning.time_binning*=2                \n",
    "    model.train(train_data)\n",
    "    data = train_data\n",
    "    inferred_data = model.infer(data)\n",
    "    print(name)\n",
    "    solution = kgs.make_submission_dataframe(data, include_sigma=False)\n",
    "    submission = kgs.make_submission_dataframe(inferred_data, False)\n",
    "    print(1e6*robust_linear_fit_rms(solution.iloc[:,1].to_numpy(), solution.iloc[:,1].to_numpy()-submission.iloc[:,1].to_numpy(), drop_frac=df)[0], 1e6*robust_linear_fit_rms(solution.iloc[:,1].to_numpy(), solution.iloc[:,1].to_numpy()-submission.iloc[:,1].to_numpy(), drop_frac=0)[0])\n",
    "    print(1e6*robust_linear_fit_rms(np.mean(solution.iloc[:,2:284].to_numpy(),1), np.mean(solution.iloc[:,2:284].to_numpy()-submission.iloc[:,2:284].to_numpy(),1),drop_frac=df)[0],\n",
    "         1e6*robust_linear_fit_rms(np.mean(solution.iloc[:,2:284].to_numpy(),1), np.mean(solution.iloc[:,2:284].to_numpy()-submission.iloc[:,2:284].to_numpy(),1),drop_frac=0)[0])\n",
    "    kgs.sanity_checks['simple_residual_diff_FGS'] = kgs.SanityCheckValue('simple_residual_diff_FGS', 12, [-1,1])\n",
    "    kgs.sanity_checks['simple_residual_diff_FGS'].seen_all = [d.diagnostics['simple_residual_diff_FGS'] for d in inferred_data]\n",
    "    kgs.sanity_checks['simple_residual_diff_AIRS'] = kgs.SanityCheckValue('simple_residual_diff_AIRS', 12, [-1,1])\n",
    "    kgs.sanity_checks['simple_residual_diff_AIRS'].seen_all = [d.diagnostics['simple_residual_diff_AIRS'] for d in inferred_data]\n",
    "    kgs.dill_save(kgs.temp_dir + '/compare_simple'+str(jj)+'.pickle', (data,inferred_data,kgs.sanity_checks,name))"
   ]
  },
  {
   "cell_type": "code",
   "execution_count": null,
   "id": "1b3dc88c-bb65-4670-a702-6e154490ac0a",
   "metadata": {
    "tags": []
   },
   "outputs": [],
   "source": [
    "def process_solution(dat):\n",
    "    solution = kgs.make_submission_dataframe(dat[0], include_sigma=False)\n",
    "    submission = kgs.make_submission_dataframe(dat[1], False)\n",
    "    fgs_err = robust_linear_fit_rms(solution.iloc[:,1].to_numpy(), solution.iloc[:,1].to_numpy()-submission.iloc[:,1].to_numpy(), do_print=False)[1]\n",
    "    airs_err = robust_linear_fit_rms(np.mean(solution.iloc[:,2:284].to_numpy(),1), np.mean(solution.iloc[:,2:284].to_numpy()-submission.iloc[:,2:284].to_numpy(),1), do_print=False)[1]\n",
    "    return fgs_err,airs_err,dat[3]\n",
    "dat_base = process_solution(kgs.dill_load(kgs.temp_dir + '/compare_simple'+str(0)+'.pickle'))\n",
    "for jj in range(1,13):\n",
    "    dat_this = process_solution(kgs.dill_load(kgs.temp_dir + '/compare_simple'+str(jj)+'.pickle'))\n",
    "    _,ax = plt.subplots(1,2,figsize=(8,4))\n",
    "    for ii in range(2):\n",
    "        plt.sca(ax[ii])\n",
    "        plt.grid(True)\n",
    "        plt.scatter(dat_base[ii], dat_this[ii])\n",
    "        plt.axline((0,0), slope=1, color='black')\n",
    "        plt.title(f'{1e6*kgs.rms(dat_base[ii]):.4f}->{1e6*kgs.rms(dat_this[ii]):.4f}')\n",
    "        plt.xlabel(dat_base[2])\n",
    "        plt.ylabel(dat_this[2])"
   ]
  }
 ],
 "metadata": {
  "kernelspec": {
   "display_name": "Python 3 (ipykernel)",
   "language": "python",
   "name": "python3"
  },
  "language_info": {
   "codemirror_mode": {
    "name": "ipython",
    "version": 3
   },
   "file_extension": ".py",
   "mimetype": "text/x-python",
   "name": "python",
   "nbconvert_exporter": "python",
   "pygments_lexer": "ipython3",
   "version": "3.11.13"
  }
 },
 "nbformat": 4,
 "nbformat_minor": 5
}
