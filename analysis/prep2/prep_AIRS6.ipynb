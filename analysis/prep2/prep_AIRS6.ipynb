{
 "cells": [
  {
   "cell_type": "code",
   "execution_count": 1,
   "id": "c059fe79-d65a-4d97-91fa-a80590aca048",
   "metadata": {
    "tags": []
   },
   "outputs": [
    {
     "name": "stdout",
     "output_type": "stream",
     "text": [
      "local\n"
     ]
    }
   ],
   "source": [
    "import sys\n",
    "sys.path.append('/mnt/d/ariel2/code/core/')\n",
    "sys.path.append('d:/ariel2/code/core/')\n",
    "sys.path.append('/kaggle/input/my-ariel2-library')\n",
    "import kaggle_support as kgs\n",
    "import ariel_model\n",
    "import ariel_numerics\n",
    "import ariel_gp\n",
    "import ariel_load\n",
    "import time\n",
    "import numpy as np\n",
    "import multiprocess\n",
    "import importlib\n",
    "import copy\n",
    "import cupy as cp\n",
    "import matplotlib.pyplot as plt\n",
    "from tqdm import tqdm"
   ]
  },
  {
   "cell_type": "code",
   "execution_count": 2,
   "id": "735eed1a-4b9a-4b8f-b081-fe075340d431",
   "metadata": {
    "tags": []
   },
   "outputs": [],
   "source": [
    "train_data=kgs.load_all_train_data()\n",
    "train_data=train_data"
   ]
  },
  {
   "cell_type": "code",
   "execution_count": 3,
   "id": "e599128b-d1a9-4961-8851-434734cf20a9",
   "metadata": {
    "tags": []
   },
   "outputs": [
    {
     "name": "stderr",
     "output_type": "stream",
     "text": [
      "10it [00:26,  2.65s/it]\n"
     ]
    }
   ],
   "source": [
    "if True:\n",
    "    R = 1125*len(train_data)\n",
    "    C = 32*282\n",
    "\n",
    "    A_row = np.memmap(kgs.temp_dir + 'AIRS_mm_row.memmap',  dtype=np.float32, mode='w+', shape=(R, C), order='C')\n",
    "    A_col = np.memmap(kgs.temp_dir + 'AIRS_mm_col.memmap',  dtype=np.float32, mode='w+', shape=(R, C), order='F')\n",
    "    \n",
    "    B_row = np.memmap(kgs.temp_dir + 'AIRS_s_row.memmap',  dtype=np.float32, mode='w+', shape=(R, C), order='C')\n",
    "    B_col = np.memmap(kgs.temp_dir + 'AIRS_s_col.memmap',  dtype=np.float32, mode='w+', shape=(R, C), order='F')\n",
    "\n",
    "    loaders = ariel_load.default_loaders()\n",
    "    for ii in range(2):\n",
    "        loaders[ii].apply_pixel_corrections.mask_hot= False\n",
    "    for ii,d in tqdm(enumerate(train_data)):\n",
    "        d = copy.deepcopy(d)\n",
    "\n",
    "        d.load_to_step(3, loaders)    \n",
    "        data = copy.deepcopy(d.transits[0].data[1].data)\n",
    "        \n",
    "        data = data-np.mean(data,0)    \n",
    "\n",
    "        A_row[1125*ii:1125*(ii+1),:] = data.reshape(1125,32*282).get()\n",
    "        A_col[1125*ii:1125*(ii+1),:] = data.reshape(1125,32*282).get()\n",
    "        \n",
    "        data_base = copy.deepcopy(d.transits[0].data[1].data)\n",
    "        data = copy.deepcopy(d.transits[0].data[1].data)\n",
    "        \n",
    "        ariel_load.inpaint_vectorized(data)\n",
    "        assert not cp.any(cp.isnan(data))\n",
    "        x=cp.mean(data,(0,1))\n",
    "        if d.planet_id == train_data[0].planet_id:\n",
    "            base_scaling = x\n",
    "            kgs.dill_save(kgs.calibration_dir + 'AIRS_base_scaling6.pickle', base_scaling.get())\n",
    "        data_base = data_base/x*base_scaling\n",
    "        \n",
    "        #data = data-np.mean(data,0)    \n",
    "\n",
    "        B_row[1125*ii:1125*(ii+1),:] = data_base.reshape(1125,32*282).get()\n",
    "        B_col[1125*ii:1125*(ii+1),:] = data_base.reshape(1125,32*282).get()\n",
    "\n",
    "\n",
    "        if ii%20==0:\n",
    "            A_row.flush()\n",
    "            A_col.flush()\n",
    "            B_row.flush()\n",
    "            B_col.flush()\n",
    "\n",
    "    A_row.flush()\n",
    "    A_col.flush()\n",
    "    B_row.flush()\n",
    "    B_col.flush()\n",
    "    kgs.clear_gpu()\n",
    "base_scaling = cp.array(kgs.dill_load(kgs.calibration_dir + 'AIRS_base_scaling6.pickle'))"
   ]
  },
  {
   "cell_type": "code",
   "execution_count": 4,
   "id": "d56e329f-5828-4db9-8586-e5ce5170e823",
   "metadata": {
    "tags": []
   },
   "outputs": [
    {
     "name": "stderr",
     "output_type": "stream",
     "text": [
      "100%|█████████████████████████████████████████████████████████████████████████████████████| 3/3 [00:01<00:00,  2.35it/s]\n",
      "100%|████████████████████████████████████████████████████████████████████████████████| 282/282 [00:00<00:00, 538.19it/s]\n"
     ]
    },
    {
     "name": "stdout",
     "output_type": "stream",
     "text": [
      "iter 01  ΔC_rel=1.000e+00\n"
     ]
    },
    {
     "name": "stderr",
     "output_type": "stream",
     "text": [
      "100%|█████████████████████████████████████████████████████████████████████████████████████| 3/3 [00:01<00:00,  2.78it/s]\n",
      "100%|████████████████████████████████████████████████████████████████████████████████| 282/282 [00:00<00:00, 526.83it/s]\n"
     ]
    },
    {
     "name": "stdout",
     "output_type": "stream",
     "text": [
      "iter 02  ΔC_rel=7.120e-05\n"
     ]
    },
    {
     "name": "stderr",
     "output_type": "stream",
     "text": [
      "100%|█████████████████████████████████████████████████████████████████████████████████████| 3/3 [00:01<00:00,  2.79it/s]\n",
      "100%|████████████████████████████████████████████████████████████████████████████████| 282/282 [00:00<00:00, 481.81it/s]\n"
     ]
    },
    {
     "name": "stdout",
     "output_type": "stream",
     "text": [
      "iter 03  ΔC_rel=5.233e-08\n"
     ]
    },
    {
     "name": "stderr",
     "output_type": "stream",
     "text": [
      "100%|█████████████████████████████████████████████████████████████████████████████████████| 3/3 [00:01<00:00,  2.59it/s]\n",
      "100%|████████████████████████████████████████████████████████████████████████████████| 282/282 [00:00<00:00, 412.53it/s]\n"
     ]
    },
    {
     "name": "stdout",
     "output_type": "stream",
     "text": [
      "iter 01  ΔC_rel=1.000e+00\n"
     ]
    },
    {
     "name": "stderr",
     "output_type": "stream",
     "text": [
      "100%|█████████████████████████████████████████████████████████████████████████████████████| 3/3 [00:01<00:00,  2.52it/s]\n",
      "100%|████████████████████████████████████████████████████████████████████████████████| 282/282 [00:00<00:00, 496.10it/s]\n"
     ]
    },
    {
     "name": "stdout",
     "output_type": "stream",
     "text": [
      "iter 02  ΔC_rel=1.971e+00\n"
     ]
    },
    {
     "name": "stderr",
     "output_type": "stream",
     "text": [
      "100%|█████████████████████████████████████████████████████████████████████████████████████| 3/3 [00:01<00:00,  2.30it/s]\n",
      "100%|████████████████████████████████████████████████████████████████████████████████| 282/282 [00:00<00:00, 353.66it/s]\n"
     ]
    },
    {
     "name": "stdout",
     "output_type": "stream",
     "text": [
      "iter 03  ΔC_rel=1.995e+00\n"
     ]
    },
    {
     "name": "stderr",
     "output_type": "stream",
     "text": [
      "100%|█████████████████████████████████████████████████████████████████████████████████████| 3/3 [00:01<00:00,  2.50it/s]\n",
      "100%|████████████████████████████████████████████████████████████████████████████████| 282/282 [00:00<00:00, 509.03it/s]\n"
     ]
    },
    {
     "name": "stdout",
     "output_type": "stream",
     "text": [
      "iter 04  ΔC_rel=1.999e+00\n"
     ]
    },
    {
     "name": "stderr",
     "output_type": "stream",
     "text": [
      "100%|█████████████████████████████████████████████████████████████████████████████████████| 3/3 [00:01<00:00,  2.79it/s]\n",
      "100%|████████████████████████████████████████████████████████████████████████████████| 282/282 [00:00<00:00, 519.26it/s]\n"
     ]
    },
    {
     "name": "stdout",
     "output_type": "stream",
     "text": [
      "iter 05  ΔC_rel=2.000e+00\n"
     ]
    },
    {
     "name": "stderr",
     "output_type": "stream",
     "text": [
      "100%|█████████████████████████████████████████████████████████████████████████████████████| 3/3 [00:01<00:00,  2.63it/s]\n",
      "100%|████████████████████████████████████████████████████████████████████████████████| 282/282 [00:00<00:00, 445.74it/s]\n"
     ]
    },
    {
     "name": "stdout",
     "output_type": "stream",
     "text": [
      "iter 06  ΔC_rel=2.000e+00\n"
     ]
    },
    {
     "name": "stderr",
     "output_type": "stream",
     "text": [
      "100%|█████████████████████████████████████████████████████████████████████████████████████| 3/3 [00:01<00:00,  2.68it/s]\n",
      "100%|████████████████████████████████████████████████████████████████████████████████| 282/282 [00:00<00:00, 401.04it/s]\n"
     ]
    },
    {
     "name": "stdout",
     "output_type": "stream",
     "text": [
      "iter 07  ΔC_rel=2.000e+00\n"
     ]
    },
    {
     "name": "stderr",
     "output_type": "stream",
     "text": [
      "100%|█████████████████████████████████████████████████████████████████████████████████████| 3/3 [00:01<00:00,  2.39it/s]\n",
      "100%|████████████████████████████████████████████████████████████████████████████████| 282/282 [00:00<00:00, 450.67it/s]\n"
     ]
    },
    {
     "name": "stdout",
     "output_type": "stream",
     "text": [
      "iter 08  ΔC_rel=2.000e+00\n"
     ]
    },
    {
     "name": "stderr",
     "output_type": "stream",
     "text": [
      "100%|█████████████████████████████████████████████████████████████████████████████████████| 3/3 [00:01<00:00,  2.62it/s]\n",
      "100%|████████████████████████████████████████████████████████████████████████████████| 282/282 [00:00<00:00, 509.70it/s]\n"
     ]
    },
    {
     "name": "stdout",
     "output_type": "stream",
     "text": [
      "iter 09  ΔC_rel=2.000e+00\n"
     ]
    },
    {
     "name": "stderr",
     "output_type": "stream",
     "text": [
      "100%|█████████████████████████████████████████████████████████████████████████████████████| 3/3 [00:01<00:00,  2.65it/s]\n",
      "100%|████████████████████████████████████████████████████████████████████████████████| 282/282 [00:00<00:00, 286.73it/s]\n"
     ]
    },
    {
     "name": "stdout",
     "output_type": "stream",
     "text": [
      "iter 10  ΔC_rel=2.000e+00\n"
     ]
    },
    {
     "name": "stderr",
     "output_type": "stream",
     "text": [
      "100%|█████████████████████████████████████████████████████████████████████████████████████| 3/3 [00:01<00:00,  2.73it/s]\n",
      "100%|████████████████████████████████████████████████████████████████████████████████| 282/282 [00:00<00:00, 394.67it/s]\n"
     ]
    },
    {
     "name": "stdout",
     "output_type": "stream",
     "text": [
      "iter 11  ΔC_rel=2.000e+00\n"
     ]
    },
    {
     "name": "stderr",
     "output_type": "stream",
     "text": [
      "100%|█████████████████████████████████████████████████████████████████████████████████████| 3/3 [00:01<00:00,  2.63it/s]\n",
      "100%|██████████████████████████████████████████████████████████████████████████████| 282/282 [00:00<00:00, -1562.61it/s]\n"
     ]
    },
    {
     "name": "stdout",
     "output_type": "stream",
     "text": [
      "iter 12  ΔC_rel=2.000e+00\n"
     ]
    },
    {
     "name": "stderr",
     "output_type": "stream",
     "text": [
      "100%|█████████████████████████████████████████████████████████████████████████████████████| 3/3 [00:01<00:00,  2.61it/s]\n",
      "100%|████████████████████████████████████████████████████████████████████████████████| 282/282 [00:00<00:00, 307.63it/s]\n"
     ]
    },
    {
     "name": "stdout",
     "output_type": "stream",
     "text": [
      "iter 13  ΔC_rel=2.000e+00\n"
     ]
    },
    {
     "name": "stderr",
     "output_type": "stream",
     "text": [
      "100%|█████████████████████████████████████████████████████████████████████████████████████| 3/3 [00:01<00:00,  2.38it/s]\n",
      "100%|████████████████████████████████████████████████████████████████████████████████| 282/282 [00:00<00:00, 496.34it/s]\n"
     ]
    },
    {
     "name": "stdout",
     "output_type": "stream",
     "text": [
      "iter 14  ΔC_rel=2.000e+00\n"
     ]
    },
    {
     "name": "stderr",
     "output_type": "stream",
     "text": [
      "100%|█████████████████████████████████████████████████████████████████████████████████████| 3/3 [00:01<00:00,  2.64it/s]\n",
      "100%|████████████████████████████████████████████████████████████████████████████████| 282/282 [00:00<00:00, 423.72it/s]\n"
     ]
    },
    {
     "name": "stdout",
     "output_type": "stream",
     "text": [
      "iter 15  ΔC_rel=2.000e+00\n"
     ]
    },
    {
     "name": "stderr",
     "output_type": "stream",
     "text": [
      "100%|█████████████████████████████████████████████████████████████████████████████████████| 3/3 [00:01<00:00,  2.49it/s]\n",
      "100%|████████████████████████████████████████████████████████████████████████████████| 282/282 [00:00<00:00, 564.74it/s]\n"
     ]
    },
    {
     "name": "stdout",
     "output_type": "stream",
     "text": [
      "iter 01  ΔC_rel=1.000e+00\n"
     ]
    },
    {
     "name": "stderr",
     "output_type": "stream",
     "text": [
      "100%|█████████████████████████████████████████████████████████████████████████████████████| 3/3 [00:01<00:00,  2.55it/s]\n",
      "100%|████████████████████████████████████████████████████████████████████████████████| 282/282 [00:00<00:00, 291.03it/s]\n"
     ]
    },
    {
     "name": "stdout",
     "output_type": "stream",
     "text": [
      "iter 02  ΔC_rel=1.977e+00\n"
     ]
    },
    {
     "name": "stderr",
     "output_type": "stream",
     "text": [
      "100%|█████████████████████████████████████████████████████████████████████████████████████| 3/3 [00:01<00:00,  2.35it/s]\n",
      "100%|████████████████████████████████████████████████████████████████████████████████| 282/282 [00:00<00:00, 335.27it/s]\n"
     ]
    },
    {
     "name": "stdout",
     "output_type": "stream",
     "text": [
      "iter 03  ΔC_rel=1.994e+00\n"
     ]
    },
    {
     "name": "stderr",
     "output_type": "stream",
     "text": [
      "100%|█████████████████████████████████████████████████████████████████████████████████████| 3/3 [00:01<00:00,  2.41it/s]\n",
      "100%|████████████████████████████████████████████████████████████████████████████████| 282/282 [00:00<00:00, 486.91it/s]\n"
     ]
    },
    {
     "name": "stdout",
     "output_type": "stream",
     "text": [
      "iter 04  ΔC_rel=8.640e-02\n"
     ]
    },
    {
     "name": "stderr",
     "output_type": "stream",
     "text": [
      "100%|█████████████████████████████████████████████████████████████████████████████████████| 3/3 [00:01<00:00,  2.42it/s]\n",
      "100%|████████████████████████████████████████████████████████████████████████████████| 282/282 [00:00<00:00, 321.08it/s]\n"
     ]
    },
    {
     "name": "stdout",
     "output_type": "stream",
     "text": [
      "iter 05  ΔC_rel=2.438e-01\n"
     ]
    },
    {
     "name": "stderr",
     "output_type": "stream",
     "text": [
      "100%|█████████████████████████████████████████████████████████████████████████████████████| 3/3 [00:01<00:00,  2.43it/s]\n",
      "100%|████████████████████████████████████████████████████████████████████████████████| 282/282 [00:00<00:00, 589.09it/s]\n"
     ]
    },
    {
     "name": "stdout",
     "output_type": "stream",
     "text": [
      "iter 06  ΔC_rel=1.976e+00\n"
     ]
    },
    {
     "name": "stderr",
     "output_type": "stream",
     "text": [
      "100%|█████████████████████████████████████████████████████████████████████████████████████| 3/3 [00:01<00:00,  2.55it/s]\n",
      "100%|████████████████████████████████████████████████████████████████████████████████| 282/282 [00:00<00:00, 482.61it/s]\n"
     ]
    },
    {
     "name": "stdout",
     "output_type": "stream",
     "text": [
      "iter 07  ΔC_rel=1.137e-01\n"
     ]
    },
    {
     "name": "stderr",
     "output_type": "stream",
     "text": [
      "100%|█████████████████████████████████████████████████████████████████████████████████████| 3/3 [00:01<00:00,  2.53it/s]\n",
      "100%|████████████████████████████████████████████████████████████████████████████████| 282/282 [00:00<00:00, 601.42it/s]\n"
     ]
    },
    {
     "name": "stdout",
     "output_type": "stream",
     "text": [
      "iter 08  ΔC_rel=1.867e+00\n"
     ]
    },
    {
     "name": "stderr",
     "output_type": "stream",
     "text": [
      "100%|█████████████████████████████████████████████████████████████████████████████████████| 3/3 [00:01<00:00,  2.45it/s]\n",
      "100%|████████████████████████████████████████████████████████████████████████████████| 282/282 [00:00<00:00, 294.25it/s]\n"
     ]
    },
    {
     "name": "stdout",
     "output_type": "stream",
     "text": [
      "iter 09  ΔC_rel=6.476e-01\n"
     ]
    },
    {
     "name": "stderr",
     "output_type": "stream",
     "text": [
      "100%|█████████████████████████████████████████████████████████████████████████████████████| 3/3 [00:01<00:00,  2.41it/s]\n",
      "100%|████████████████████████████████████████████████████████████████████████████████| 282/282 [00:00<00:00, 586.38it/s]\n"
     ]
    },
    {
     "name": "stdout",
     "output_type": "stream",
     "text": [
      "iter 10  ΔC_rel=1.350e-01\n"
     ]
    },
    {
     "name": "stderr",
     "output_type": "stream",
     "text": [
      "100%|█████████████████████████████████████████████████████████████████████████████████████| 3/3 [00:01<00:00,  2.56it/s]\n",
      "100%|████████████████████████████████████████████████████████████████████████████████| 282/282 [00:00<00:00, 574.93it/s]\n"
     ]
    },
    {
     "name": "stdout",
     "output_type": "stream",
     "text": [
      "iter 11  ΔC_rel=1.983e+00\n"
     ]
    },
    {
     "name": "stderr",
     "output_type": "stream",
     "text": [
      "100%|█████████████████████████████████████████████████████████████████████████████████████| 3/3 [00:01<00:00,  2.62it/s]\n",
      "100%|████████████████████████████████████████████████████████████████████████████████| 282/282 [00:00<00:00, 587.92it/s]\n"
     ]
    },
    {
     "name": "stdout",
     "output_type": "stream",
     "text": [
      "iter 12  ΔC_rel=1.609e-01\n"
     ]
    },
    {
     "name": "stderr",
     "output_type": "stream",
     "text": [
      "100%|█████████████████████████████████████████████████████████████████████████████████████| 3/3 [00:01<00:00,  2.49it/s]\n",
      "100%|████████████████████████████████████████████████████████████████████████████████| 282/282 [00:01<00:00, 275.75it/s]\n"
     ]
    },
    {
     "name": "stdout",
     "output_type": "stream",
     "text": [
      "iter 13  ΔC_rel=2.977e-01\n"
     ]
    },
    {
     "name": "stderr",
     "output_type": "stream",
     "text": [
      "100%|█████████████████████████████████████████████████████████████████████████████████████| 3/3 [00:01<00:00,  2.43it/s]\n",
      "100%|████████████████████████████████████████████████████████████████████████████████| 282/282 [00:00<00:00, 591.58it/s]\n"
     ]
    },
    {
     "name": "stdout",
     "output_type": "stream",
     "text": [
      "iter 14  ΔC_rel=1.965e+00\n"
     ]
    },
    {
     "name": "stderr",
     "output_type": "stream",
     "text": [
      "100%|█████████████████████████████████████████████████████████████████████████████████████| 3/3 [00:01<00:00,  2.58it/s]\n",
      "100%|████████████████████████████████████████████████████████████████████████████████| 282/282 [00:01<00:00, 248.90it/s]\n"
     ]
    },
    {
     "name": "stdout",
     "output_type": "stream",
     "text": [
      "iter 15  ΔC_rel=1.161e-01\n"
     ]
    },
    {
     "data": {
      "image/png": "[encoded data removed]",
      "text/plain": [
       "<Figure size 640x480 with 1 Axes>"
      ]
     },
     "metadata": {},
     "output_type": "display_data"
    },
    {
     "data": {
      "image/png": "[encoded data removed]",
      "text/plain": [
       "<Figure size 640x480 with 1 Axes>"
      ]
     },
     "metadata": {},
     "output_type": "display_data"
    },
    {
     "data": {
      "image/png": "[encoded data removed]",
      "text/plain": [
       "<Figure size 640x480 with 1 Axes>"
      ]
     },
     "metadata": {},
     "output_type": "display_data"
    }
   ],
   "source": [
    "if True:\n",
    "    R_row = np.memmap(kgs.temp_dir + 'AIRS_s_row.memmap',  dtype=np.float32, mode='r', shape=(1105*len(train_data), 32*282), order='C')#[:5000,...]\n",
    "    R_col = np.memmap(kgs.temp_dir + 'AIRS_s_col.memmap',  dtype=np.float32, mode='r', shape=(1105*len(train_data), 32*282), order='F')#[:5000,...]\n",
    "    import mmap\n",
    "    R_row._mmap.madvise(mmap.MADV_SEQUENTIAL)\n",
    "    R_col._mmap.madvise(mmap.MADV_SEQUENTIAL)\n",
    "    importlib.reload(ariel_numerics)\n",
    "    kgs.profiling = False\n",
    "    W_combined = np.zeros((R_row.shape[0],0))\n",
    "    C_combined = np.zeros((0,R_row.shape[1]))\n",
    "    for ii in range(3):\n",
    "        W,C,S=ariel_numerics.nan_pca_rank1_memmap(R_row, R_col, W_combined, C_combined, row_batch = 4096, col_batch = 32, verbose=True, acc_dtype=np.float32, max_iter=15)\n",
    "        W_combined = np.concatenate((W_combined, W[:,None]),1)\n",
    "        C_combined = np.concatenate((C_combined, C),0)\n",
    "        \n",
    "        \n",
    "    kgs.dill_save(kgs.calibration_dir + 'AIRS_jitter6.pickle', (C_combined, W_combined))\n",
    "\n",
    "C_combined, W_combined = kgs.dill_load(kgs.calibration_dir + 'AIRS_jitter6.pickle')\n",
    "for ii in range(3):\n",
    "    #plt.figure(figsize=(20,20))\n",
    "    plt.figure()\n",
    "    plt.imshow(C_combined[ii,:].reshape(32,282), aspect='auto', interpolation='none')"
   ]
  },
  {
   "cell_type": "code",
   "execution_count": 5,
   "id": "528784a5-ed0b-4900-8708-48aed16081d2",
   "metadata": {
    "tags": []
   },
   "outputs": [],
   "source": [
    "import subprocess\n",
    "\n",
    "# Hibernate Windows\n",
    "# subprocess.run(\n",
    "#     [\"/mnt/c/Windows/System32/shutdown.exe\", \"/a\"],  # add \"/f\" to force-close apps\n",
    "#     check=True\n",
    "# )\n",
    "# subprocess.run(\n",
    "#     [\"/mnt/c/Windows/System32/shutdown.exe\", \"/h\"],  # add \"/f\" to force-close apps\n",
    "#     check=True\n",
    "# )"
   ]
  },
  {
   "cell_type": "code",
   "execution_count": 6,
   "id": "d7ac73e7-ab4d-440a-9318-3ec49697d094",
   "metadata": {
    "tags": []
   },
   "outputs": [
    {
     "ename": "TypeError",
     "evalue": "exceptions must derive from BaseException",
     "output_type": "error",
     "traceback": [
      "\u001b[0;31m---------------------------------------------------------------------------\u001b[0m",
      "\u001b[0;31mTypeError\u001b[0m                                 Traceback (most recent call last)",
      "\u001b[0;32m/tmp/ipykernel_3040/70333560.py\u001b[0m in \u001b[0;36m<cell line: 0>\u001b[0;34m()\u001b[0m\n\u001b[0;32m----> 1\u001b[0;31m \u001b[0;32mraise\u001b[0m \u001b[0;34m'stop'\u001b[0m\u001b[0;34m\u001b[0m\u001b[0;34m\u001b[0m\u001b[0m\n\u001b[0m",
      "\u001b[0;31mTypeError\u001b[0m: exceptions must derive from BaseException"
     ]
    }
   ],
   "source": [
    "raise 'stop'"
   ]
  },
  {
   "cell_type": "code",
   "execution_count": null,
   "id": "691e26dc-5386-4f90-806c-1f13a2ee106b",
   "metadata": {
    "tags": []
   },
   "outputs": [],
   "source": [
    "if False:\n",
    "    def correct_AIRS_jitter(data):\n",
    "\n",
    "        data_inpaint = copy.deepcopy(data)\n",
    "\n",
    "        # Rescale\n",
    "        ariel_load.inpaint_vectorized(data_inpaint)\n",
    "        if kgs.debugging_mode>=1:\n",
    "            assert not cp.any(cp.isnan(data_inpaint))\n",
    "        x=cp.mean(data_inpaint,(0,1))\n",
    "        data[...] = data/x*base_scaling\n",
    "        orig_shape = data.shape   \n",
    "        data = data.reshape(-1,orig_shape[1]*orig_shape[2])\n",
    "\n",
    "        design_matrix = cp.array(C_combined)[:2,:]\n",
    "        coeffs = ariel_numerics.lstsq_nanrows_normal_eq_with_pinv_sigma(data.T, design_matrix.T, return_A_pinv_w=False)[0]\n",
    "        data -= (design_matrix.T@coeffs).T\n",
    "\n",
    "        # Unscale\n",
    "        data = data.reshape(orig_shape)\n",
    "        data[...] = data*x/base_scaling\n",
    "\n",
    "        return data\n",
    "\n",
    "\n",
    "    R_row = np.memmap(kgs.temp_dir + 'AIRS_row.memmap',  dtype=np.float32, mode='r', shape=(1125*len(train_data), 32*282), order='C')#[:50000,...]\n",
    "    \n",
    "    jitter_corrected_col = np.memmap(kgs.temp_dir + 'AIRS_jitter_corrected_col.memmap',  dtype=np.float32, mode='w+', shape=(10*len(train_data), 32*282), order='F')#[:50000,...]\n",
    "\n",
    "    data = []\n",
    "    for ii in tqdm(range(len(train_data))):\n",
    "        #this_data = cp.array(np.mean(R_row[1125*ii:1125*(ii+1),...],0), dtype=cp.float64).reshape(1,32,282)\n",
    "        \n",
    "        #this_data = this_data - np.mean(this_data,0)\n",
    "        #this_data = correct_AIRS_jitter(this_data)\n",
    "        #data.append(this_data)\n",
    "        this_data_full = cp.array(R_row[1125*ii:1125*(ii+1),...], dtype=cp.float64).reshape(-1,32,282)\n",
    "        \n",
    "        this_data = cp.zeros((10,32,282))\n",
    "        for iii in range(10):\n",
    "            this_data[iii,...] = cp.mean(this_data_full[100*iii:100*(iii+1),...],0)\n",
    "        #plt.figure()\n",
    "        #plt.imshow(this_data[0,...].get())\n",
    "        \n",
    "        #plt.figure()\n",
    "        #plt.imshow(this_data[0,...].get())\n",
    "        #print(np.mean(this_data,0).shape)\n",
    "        this_data = correct_AIRS_jitter(this_data)\n",
    "        #plt.figure()\n",
    "        #plt.imshow(this_data[0,...].get())\n",
    "        this_data = this_data - np.mean(this_data,0)\n",
    "        jitter_corrected_col[10*ii:10*(ii+1),...] = this_data.reshape(-1,32*282).get()\n",
    "        #plt.figure()\n",
    "        #plt.imshow(this_data[0,...].get())\n",
    "        #plt.pause(0.001)\n",
    "        if ii%20==0:\n",
    "            jitter_corrected_col.flush()\n",
    "    jitter_corrected_col.flush()"
   ]
  },
  {
   "cell_type": "code",
   "execution_count": null,
   "id": "fdf4d85b-3508-4470-8d3b-d68d99dcfbfd",
   "metadata": {
    "tags": []
   },
   "outputs": [],
   "source": [
    "# jitter_corrected_col = np.memmap(kgs.temp_dir + 'AIRS_jitter_corrected_col.memmap',  dtype=np.float32, mode='r', shape=(1125*len(train_data), 32*282), order='F').reshape(-1,32,282)\n",
    "# import ariel_diagnostics\n",
    "# ariel_diagnostics.animate_3d_matrix(jitter_corrected_col[::100,:,:])"
   ]
  },
  {
   "cell_type": "code",
   "execution_count": null,
   "id": "55e00932-e291-4d1b-a5c9-bbf0f0db9fc4",
   "metadata": {
    "tags": []
   },
   "outputs": [],
   "source": [
    "if False:\n",
    "    jitter_corrected_col = np.memmap(kgs.temp_dir + 'AIRS_jitter_corrected_col.memmap',  dtype=np.float32, mode='r', shape=(10*len(train_data), 32*282), order='F').reshape(-1,32,282)\n",
    "    #data = cp.concatenate(data)\n",
    "    ##data = data-cp.mean(data,0)\n",
    "    #data.shape\n",
    "    C0_combined = cp.zeros( (32,282) )\n",
    "    for i_wavelength in tqdm(range(282)):\n",
    "        this_data = cp.array(jitter_corrected_col[:,:,i_wavelength],dtype=cp.float64)\n",
    "        #this_data = this_data - np.mean(this_data,0)\n",
    "        C0_combined[:,i_wavelength]=ariel_numerics.nan_pca(this_data,1)[1][0,:]\n",
    "        C0_combined[:,i_wavelength] = C0_combined[:,i_wavelength]*np.sign(C0_combined[15,i_wavelength])\n",
    "        \n",
    "    kgs.dill_save(kgs.calibration_dir + 'AIRS_C0_2.pickle', (C0_combined))\n",
    "    "
   ]
  },
  {
   "cell_type": "code",
   "execution_count": null,
   "id": "0641806f-45f5-460d-8f98-20fe4d05f5a0",
   "metadata": {
    "tags": []
   },
   "outputs": [],
   "source": [
    "C0_combined = kgs.dill_load(kgs.calibration_dir + 'AIRS_C0_2.pickle')\n",
    "plt.figure(figsize=(12,12))\n",
    "plt.imshow(cp.log(C0_combined).get(), aspect='auto', interpolation='none')\n",
    "plt.colorbar()\n",
    "plt.figure(figsize=(12,12))\n",
    "plt.imshow(C0_combined.get(), aspect='auto', interpolation='none')\n",
    "plt.colorbar()"
   ]
  },
  {
   "cell_type": "code",
   "execution_count": null,
   "id": "65899785-8413-4173-a58d-1fc2e773bd16",
   "metadata": {},
   "outputs": [],
   "source": [
    "def get_coeffs(data):\n",
    "    \n",
    "   # data_inpaint = copy.deepcopy(data)\n",
    "\n",
    "    # Rescale\n",
    "    #ariel_load.inpaint_vectorized(data_inpaint)\n",
    "    #if kgs.debugging_mode>=1:\n",
    "    #    assert not cp.any(cp.isnan(data_inpaint))\n",
    "    #x=cp.mean(data_inpaint,1)\n",
    "    #data[...] = data/x[:,None,:]*base_scaling\n",
    "    #orig_shape = data.shape   \n",
    "    #data = data.reshape(-1,orig_shape[1]*orig_shape[2])\n",
    "    \n",
    "#    noise_est = ariel_numerics.estimate_noise_cp(data)\n",
    "    \n",
    "#     plt.figure()\n",
    "#     plt.imshow(cp.mean(data,0).reshape(32,282).get(), interpolation='none', aspect='auto')\n",
    "    \n",
    "#     plt.figure()\n",
    "#     plt.imshow(ariel_numerics.estimate_noise_cov_cp(data.reshape(1125,32,282)[:,:,0]).get())\n",
    "#     plt.colorbar()\n",
    "        \n",
    "\n",
    "#         plt.figure()\n",
    "#         plt.plot(noise_est.get())\n",
    "\n",
    "#         design_matrix = cp.zeros((3*282,32*282))\n",
    "#         #design_matrix[:2,:] = cp.array(C_combined[:2,:])\n",
    "#         for i_wavelength in range(282):\n",
    "#             #design_matrix[i_wavelength+2,32*i_wavelength:32*(i_wavelength+1)] = C0_combined[:,i_wavelength]\n",
    "#             design_matrix[3*i_wavelength,i_wavelength::282] = C0_combined[:,i_wavelength]\n",
    "#             design_matrix[3*i_wavelength+1:3*i_wavelength+2,i_wavelength::282] = C_combined[:2,:]\n",
    "            \n",
    "# #         plt.figure()\n",
    "# #         plt.plot(cp.log(cp.sum(design_matrix,0)).get())\n",
    "        \n",
    "# #         plt.figure()\n",
    "# #         plt.plot(cp.log(cp.sum(design_matrix,1)).get())\n",
    "        \n",
    "#         assert not cp.any(cp.isnan(design_matrix))\n",
    " \n",
    "#         #noise_est = cp.sqrt(cp.abs(C0_combined)).flatten()\n",
    "#         for ii in range(8):\n",
    "#             noise_est[282*ii:282*(ii+1)]*=10000\n",
    "#             #noise_est[31-ii::32]*=100\n",
    "#         for ii in range(24,32):\n",
    "#             noise_est[282*ii:282*(ii+1)]*=10000\n",
    "#         res = ariel_numerics.lstsq_nanrows_normal_eq_with_pinv_sigma(data.T, design_matrix.T, return_A_pinv_w=True, sigma=noise_est)  \n",
    "#         coeffs = res[0]\n",
    "        \n",
    "#         A_pinv_w = res[1]\n",
    "#         A_pinv_w_full = cp.zeros((284,9024))\n",
    "#         A_pinv_w_full[:,~cp.isnan(data[0,:])] = A_pinv_w\n",
    "#         # plt.figure()\n",
    "#         # plt.plot(A_pinv_w_full[2,::282].get())\n",
    "#         #plt.plot(design_matrix[2,::282].get())\n",
    "#         #plt.plot((noise_est[::282]/kgs.rms(noise_est[::282])).get())\n",
    "        \n",
    "#         xx = noise_est[::282]/cp.sqrt(design_matrix[2,::282])\n",
    "#         #plt.semilogy((xx/kgs.rms(xx)).get())\n",
    "#         #print(A_pinv_w.shape, data.shape, design_matrix.shape)\n",
    "#         # sens = cp.zeros((32,282))\n",
    "#         # for i_wavelength in range(282):\n",
    "#         #     sens[:,i_wavelength] = A_pinv_w[:]\n",
    "#         #plt.figure()\n",
    "#         #plt.imshow(cp.mean(residual,0).reshape(32,282).get(), aspect='auto', interpolation='none')\n",
    "#         #plt.colorbar()\n",
    "    \n",
    "#         assert not cp.any(cp.isnan(coeffs))\n",
    "\n",
    "#         residual = (data.T - design_matrix.T@coeffs).T\n",
    "        \n",
    "#         # plt.figure()\n",
    "#         # plt.imshow(cp.mean(residual,0).reshape(32,282).get(), aspect='auto', interpolation='none')\n",
    "#         # plt.colorbar()\n",
    "        \n",
    "#         noise_est = ariel_numerics.estimate_noise_cp(residual)\n",
    "        \n",
    "#         # plt.figure()\n",
    "#         # plt.imshow(ariel_numerics.estimate_noise_cov_cp(residual.reshape(1125,32,282)[:,:,0]).get())\n",
    "#         # plt.colorbar()\n",
    "        \n",
    "#         plt.figure()\n",
    "#         plt.plot(cp.std(coeffs[2:,:],1).get())\n",
    "        \n",
    "       # plt.figure()\n",
    "       # plt.plot(cp.mean(coeffs[2:,:],1).get())\n",
    "\n",
    "    coeffs_wl = []\n",
    "#     noise_est = cp.sqrt(cp.abs(C0_combined))#ariel_numerics.estimate_noise_cp(data.reshape(-1,32*282)).reshape(32,282)\n",
    "#     noise_est[noise_est<0.1]=0.1\n",
    "\n",
    "#     plt.figure()\n",
    "#     plt.imshow(ariel_numerics.estimate_noise_cov_cp(data[:,:,0]).get())\n",
    "#     plt.colorbar()\n",
    "    \n",
    "#     x =cp.array(C_combined[:2,:].reshape(2,32,282)[0:1,:,0])\n",
    "#     plt.figure()\n",
    "#     plt.imshow((x.T@x).get())\n",
    "#     plt.colorbar()\n",
    "    \n",
    "#     x =cp.array(C_combined[:2,:].reshape(2,32,282)[1:2,:,0])\n",
    "#     plt.figure()\n",
    "#     plt.imshow((x.T@x).get())\n",
    "#     plt.colorbar()\n",
    "    \n",
    "#     rhs = ariel_numerics.estimate_noise_cov_cp(data[:,:,0]).flatten()\n",
    "    \n",
    "    # plt.figure()\n",
    "    # plt.imshow(ariel_numerics.estimate_noise_cov_cp(data[:,:,0]).get())\n",
    "    # plt.colorbar()\n",
    "    \n",
    "    #data = 0*data+50\n",
    "    \n",
    "    #data+=50\n",
    "    \n",
    "    residualf = copy.deepcopy(data)\n",
    "    \n",
    "    noise_output = cp.zeros(282)\n",
    "    noise_seen = cp.zeros(282)\n",
    "    noise_no_jitter = cp.zeros(282)\n",
    "    mean_vals = cp.zeros(282)\n",
    "    \n",
    "    noise_data_combined = cp.zeros((32,282))\n",
    "    residual_expected = cp.zeros((32,282))\n",
    "    \n",
    "   # wt1 = cp.zeros((1125,282))\n",
    "\n",
    "    for i_wavelength in range(282):\n",
    "        \n",
    "        isnan = cp.isnan(data[0,:,i_wavelength])\n",
    "        \n",
    "        rhs = ariel_numerics.estimate_noise_cov_cp(data[:,:,i_wavelength])\n",
    "        \n",
    "        rhs[isnan,:] = 0\n",
    "        rhs[:,isnan] = 0\n",
    "        \n",
    "        rhs=rhs.flatten()\n",
    "        \n",
    "       # plt.figure()\n",
    "       # plt.imshow(rhs.reshape(32,32).get())\n",
    "        \n",
    "        x = cp.array(C_combined[:2,:].reshape(2,32,282)[0:1,:,i_wavelength])\n",
    "        #rint(x.shape, isnan.shape)\n",
    "        x[:,isnan]=0\n",
    "        x1 = (x.T@x).flatten()\n",
    "        \n",
    "        \n",
    "        \n",
    "        \n",
    "        \n",
    "        x = cp.array(C_combined[:2,:].reshape(2,32,282)[1:2,:,i_wavelength])\n",
    "        x[:,isnan]=0\n",
    "        x2 = (x.T@x).flatten()\n",
    "        \n",
    "        x = C0_combined[:,i_wavelength]\n",
    "        x[isnan]=0\n",
    "        x3 = (x.T@x).flatten()\n",
    "        \n",
    "        design_matrix = cp.zeros((32*32, 3+32))\n",
    "        design_matrix[:,0] = x1\n",
    "        design_matrix[:,1] = x2\n",
    "        design_matrix[:,2] = x3\n",
    "        for ii in range(32):\n",
    "            design_matrix[33*ii,ii+3]=1\n",
    "            \n",
    "#         plt.figure()\n",
    "#         plt.imshow(design_matrix[:,0].reshape(32,32).get())\n",
    "        \n",
    "#         plt.figure()\n",
    "#         plt.imshow(design_matrix[:,17].reshape(32,32).get())\n",
    "\n",
    "\n",
    "        coeffs = cp.linalg.lstsq(design_matrix, rhs, rcond=None)[0]\n",
    "    \n",
    "        residual = rhs - design_matrix@coeffs\n",
    "        \n",
    "        noise_est = cp.sqrt(coeffs[3:])\n",
    "        \n",
    "        noise_data_combined[:,i_wavelength] = noise_est\n",
    "        \n",
    "        # if i_wavelength==0:\n",
    "        #     plt.figure()\n",
    "        #     plt.plot((noise_est/cp.sqrt(C0_combined[:,i_wavelength])).get())\n",
    "        #     plt.figure()\n",
    "        #     plt.imshow(rhs.reshape(32,32).get())\n",
    "        #     plt.colorbar()\n",
    "        #     plt.figure()\n",
    "        #     plt.imshow(residual.reshape(32,32).get())\n",
    "        #     plt.colorbar()\n",
    "            \n",
    "        \n",
    "        \n",
    "\n",
    "        mean_handled = False\n",
    "        while True:\n",
    "\n",
    "            if mean_handled:\n",
    "                design_matrix = cp.zeros((3,32))\n",
    "                design_matrix[0,:] = C0_combined[:,i_wavelength]\n",
    "                design_matrix[1:3,:] = cp.array(C_combined[:2,:].reshape(2,32,282)[:,:,i_wavelength])\n",
    "                #design_matrix[3,:] = 1\n",
    "            else:\n",
    "                design_matrix = cp.zeros((4,32))\n",
    "                design_matrix[0,:] = C0_combined[:,i_wavelength]\n",
    "                design_matrix[1:3,:] = cp.array(C_combined[:2,:].reshape(2,32,282)[:,:,i_wavelength])\n",
    "                design_matrix[3,:] = 1               \n",
    "            \n",
    "            N = design_matrix.shape[0]\n",
    "\n",
    "            #noise_est[:,i_wavelength] = cp.sqrt(cp.abs(design_matrix[0,:]))\n",
    "            #noise_est[:8,i_wavelength] *= 100000\n",
    "            #noise_est[24:,i_wavelength] *= 100000\n",
    "            #if ii==0:\n",
    "            res = ariel_numerics.lstsq_nanrows_normal_eq_with_pinv_sigma(data[:,:,i_wavelength].T, design_matrix.T, return_A_pinv_w=True, sigma=noise_est)\n",
    "            #else:\n",
    "            #    res = ariel_numerics.lstsq_nanrows_normal_eq_with_pinv_sigma(data[:,:,i_wavelength].T, design_matrix.T, return_A_pinv_w=True, sigma=noise_est[:,i_wavelength])\n",
    "            coeffs = res[0]\n",
    "            \n",
    "            #if i_wavelength==0:\n",
    "            #     plt.figure()\n",
    "            #     plt.plot(res[1].get().T[:,0])\n",
    "            \n",
    "          #  mapping = design_matrix.T@res[1]\n",
    "            #K_diff = design_matrix\n",
    "            \n",
    "            # if i_wavelength==0 and ii==0:\n",
    "            #     plt.figure()\n",
    "            #     plt.imshow(np.eye(32)- (mapping.T@mapping).get())\n",
    "            #     plt.colorbar()\n",
    "                \n",
    "\n",
    "\n",
    "            residualf[:,:,i_wavelength] = (data[:,:,i_wavelength].T - design_matrix.T@coeffs).T           #\n",
    "            \n",
    "            #print(res[1].shape, cp.diag(noise_est**2).shape)\n",
    "            A_pinv_w = res[1]\n",
    "            A_pinv_w_full = cp.zeros((N,32))\n",
    "            A_pinv_w_full[:,~cp.isnan(data[0,:,i_wavelength])] = A_pinv_w\n",
    "            noise_est[cp.isnan(data[0,:,i_wavelength])] = 0\n",
    "            noise_output[i_wavelength] = cp.sqrt((A_pinv_w_full@cp.diag(noise_est**2)@A_pinv_w_full.T)[0,0])\n",
    "            \n",
    "            noise_seen[i_wavelength] = ariel_numerics.estimate_noise_cp(coeffs[0,:])\n",
    "            \n",
    "#             res2 = ariel_numerics.lstsq_nanrows_normal_eq_with_pinv_sigma(data[:,:,i_wavelength].T, design_matrix[0:3,:].T, return_A_pinv_w=True, sigma=noise_est)\n",
    "            \n",
    "#             A_pinv_w = res2[1]\n",
    "#             A_pinv_w_full = cp.zeros((3,32))\n",
    "#             A_pinv_w_full[:,~cp.isnan(data[0,:,i_wavelength])] = A_pinv_w\n",
    "#             noise_est[cp.isnan(data[0,:,i_wavelength])] = 0\n",
    "#             noise_no_jitter[i_wavelength] = cp.sqrt((A_pinv_w_full@cp.diag(noise_est**2)@A_pinv_w_full.T)[0,0])\n",
    "            \n",
    "            mat = design_matrix.T@A_pinv_w_full\n",
    "            #print(mat.shape)\n",
    "            cov_expected = cp.diag(noise_est**2) - mat@cp.diag(noise_est**2)@mat.T\n",
    "            residual_expected[:,i_wavelength] = cp.sqrt(cp.diag(cov_expected))\n",
    "            \n",
    "            residual_expected_ratio = cp.mean(residualf[:,:,i_wavelength],0)/residual_expected[:,i_wavelength]*np.sqrt(1125)\n",
    "            residual_expected_ratio[cp.isnan(residual_expected_ratio)] = 0\n",
    "            \n",
    "            #if i_wavelength>200 and i_wavelength<220:\n",
    "            #    print(i_wavelength, residual_expected_ratio, cp.max(cp.abs(residual_expected_ratio)))\n",
    "            # if cp.max(cp.abs(residual_expected_ratio))==0:\n",
    "            #     plt.figure()\n",
    "            #     plt.imshow(cov_expected.get())\n",
    "            #     plt.figure()\n",
    "            #     #plt.plot(residual_expected[:,i_wavelength].get())\n",
    "            #     plt.plot(cp.std(residualf[:,:,i_wavelength].get()))\n",
    "            #     print(cp.std(residualf[:,:,i_wavelength].get()))\n",
    "            #     raise 'stop'\n",
    "            if cp.any(cp.abs(residual_expected_ratio)>30):\n",
    "                #print(i_wavelength, cp.max(cp.abs(residual_expected_ratio)), cp.argmax(cp.abs(residual_expected_ratio)), mean_handled)\n",
    "                data[:,cp.argmax(cp.abs(residual_expected_ratio)),i_wavelength] = cp.nan\n",
    "            else:\n",
    "                #mean_handled = True\n",
    "                if not mean_handled:\n",
    "                    #print(coeffs[3,:].shape)\n",
    "                    data[:,:,i_wavelength]-=np.mean(coeffs[3,:])    \n",
    "                    mean_vals[i_wavelength] = np.mean(coeffs[3,:])    \n",
    "                    mean_handled = True\n",
    "                else:\n",
    "                    coeffs_wl.append(coeffs)\n",
    "                    break\n",
    "            # if i_wavelength==0:\n",
    "            #     plt.figure()\n",
    "            #     plt.imshow(cp.diag(noise_est**2).get())\n",
    "            #     plt.colorbar()\n",
    "            #     plt.figure()\n",
    "            #     plt.imshow(cov_expected.get())\n",
    "            #     plt.colorbar()\n",
    "\n",
    "            #noise_est[:,i_wavelength] = ariel_numerics.estimate_noise_cp(residual)\n",
    "            \n",
    "            #H = design_matrix.T@(design_matrix@design_matrix.T)@design_matrix\n",
    "            \n",
    "            #if i_wavelength==281:\n",
    "            #    plt.figure()\n",
    "            #    plt.plot(noise_est[:,i_wavelength].get())\n",
    "#             noise_est[:,i_wavelength] /= cp.sqrt(1-cp.diag(H))\n",
    "#             #if i_wavelength==281:\n",
    "#             #    plt.plot((noise_est[8:24,i_wavelength]/cp.sqrt(design_matrix[0,8:24])).get())\n",
    "                \n",
    "#             noise_est[:,i_wavelength] = cp.sqrt(cp.abs(design_matrix[0,:]))\n",
    "            \n",
    "#             noise_est[:8,i_wavelength]*=100000\n",
    "#             noise_est[24:,i_wavelength]*=100000\n",
    "\n",
    "            # if i_wavelength==0 and ii==0:\n",
    "            #     plt.figure()\n",
    "            #     plt.imshow(ariel_numerics.estimate_noise_cov_cp(residual).get())\n",
    "            #     plt.colorbar()\n",
    "\n",
    "        \n",
    "            #coeffs_wl[-1] = coeffs_wl[-1] / base_scaling[i_wavelength] * x[:,i_wavelength]\n",
    "\n",
    "    coeffs_wl = [c.T.get() for c in coeffs_wl]\n",
    "    \n",
    "    #print(cp.mean(residualf[:,:,i_wavelength],0)/residual_expected[:,i_wavelength])\n",
    "#     plt.figure()\n",
    "#     plt.imshow((cp.mean(residualf,0)/residual_expected*np.sqrt(1125))[:,:].get(), interpolation='none', aspect='auto')\n",
    "#     plt.clim([-30,30])\n",
    "#     plt.colorbar()\n",
    "    \n",
    "# #     plt.figure()\n",
    "# #     plt.imshow((cp.mean(residualf,0))[:,:].get(), interpolation='none', aspect='auto')\n",
    "# #     #plt.clim([-50,50])\n",
    "# #     plt.colorbar()\n",
    "    \n",
    "#     plt.figure()\n",
    "#     plt.plot(mean_vals.get())\n",
    "    \n",
    "#     plt.figure()\n",
    "#     plt.imshow(cp.std(residualf,0)[:,:].get(), interpolation='none', aspect='auto')\n",
    "#     plt.clim([0,100])\n",
    "#     plt.colorbar()\n",
    "    \n",
    "#     plt.figure()\n",
    "#     plt.imshow(residual_expected.get(), interpolation='none', aspect='auto')\n",
    "#     plt.clim([0,100])\n",
    "#     plt.colorbar()\n",
    "    \n",
    "   # plt.figure()\n",
    "   # plt.plot([cp.mean(c[:,3])for c in coeffs_wl])\n",
    "    \n",
    "#     plt.figure()\n",
    "#     plt.imshow(noise_data_combined.get(), interpolation='none', aspect='auto')\n",
    "#     plt.clim([0,100])\n",
    "#     plt.colorbar()\n",
    "    \n",
    "    # plt.figure()\n",
    "    # plt.imshow(ariel_numerics.estimate_noise_cp(data.reshape(1125,-1)).reshape(32,282).get(), interpolation='none', aspect='auto')\n",
    "    # plt.colorbar()\n",
    "    \n",
    "#     plt.figure()\n",
    "#     plt.plot(noise_output.get())\n",
    "#     plt.plot(noise_seen.get())\n",
    "    #plt.plot(noise_no_jitter.get())\n",
    "    \n",
    "\n",
    "    return coeffs_wl\n",
    "\n",
    "if False:\n",
    "    R_row = np.memmap(kgs.temp_dir + 'AIRS_row.memmap',  dtype=np.float32, mode='r', shape=(1125*len(train_data), 32*282), order='C')#[:50000,...]\n",
    "    all_coeffs =[]\n",
    "    importlib.reload(ariel_load)\n",
    "    for ii in tqdm(range(len(train_data))):\n",
    "        # d = copy.deepcopy(train_data[ii])\n",
    "        # loaders = ariel_load.default_loaders()\n",
    "        # #loaders[0].cache_steps = []\n",
    "        # for iii in range(2):\n",
    "        #     loaders[iii].apply_pixel_corrections.mask_hot=False\n",
    "        # #loaders[1].apply_full_sensor_corrections.inpainting_2d = False\n",
    "        # loaders[1].apply_full_sensor_corrections.remove_background_based_on_rows = True\n",
    "        # loaders[1].apply_full_sensor_corrections.remove_background_remove_used_rows = False\n",
    "        # d.load_to_step(4,loaders)\n",
    "        # data = d.transits[0].data[1].data\n",
    "        data = cp.array(R_row[1125*ii:1125*(ii+1),...], dtype=cp.float64).reshape(1125,32,282)\n",
    "        all_coeffs.append(get_coeffs(data))\n",
    "        plt.pause(0.001)\n",
    "    #all_coeffs = cp.concatenate([c.T for c in all_coeffs])\n",
    "    #all_coeffs.shape\n",
    "    kgs.dill_save(kgs.temp_dir + 'AIRS_coeffs.pickle', all_coeffs)\n",
    "    \n",
    "all_coeffs = kgs.dill_load(kgs.temp_dir + 'AIRS_coeffs.pickle')"
   ]
  },
  {
   "cell_type": "code",
   "execution_count": null,
   "id": "2fd33791-c2de-4d2d-9669-3b856e43d7eb",
   "metadata": {
    "tags": []
   },
   "outputs": [],
   "source": [
    "# import subprocess\n",
    "\n",
    "# # Hibernate Windows\n",
    "# subprocess.run(\n",
    "#     [\"/mnt/c/Windows/System32/shutdown.exe\", \"/h\"],  # add \"/f\" to force-close apps\n",
    "#     check=True\n",
    "# )\n"
   ]
  },
  {
   "cell_type": "code",
   "execution_count": null,
   "id": "dbe96c38-bfab-4cb3-a5e2-a73c23938609",
   "metadata": {
    "tags": []
   },
   "outputs": [],
   "source": [
    "kgs.debugging_mode = 1\n",
    "model = ariel_gp.PredictionModel()\n",
    "model.run_in_parallel = False\n",
    "model.model_options.n_iter=0\n",
    "model.model_options.use_training_labels = True\n",
    "model.train(train_data)"
   ]
  },
  {
   "cell_type": "code",
   "execution_count": null,
   "id": "dd7f00d4-4325-4faa-99e4-094f073501e8",
   "metadata": {
    "tags": []
   },
   "outputs": [],
   "source": [
    "if False:\n",
    "    loaded_res = kgs.dill_load(kgs.temp_dir + '/prep.pickle')\n",
    "    model.infer(train_data[0:1]);\n",
    "    transits = []\n",
    "    for d,r in tqdm(zip(train_data,loaded_res)):\n",
    "        mm= copy.deepcopy(model.results['model_mean'])\n",
    "        mm= copy.deepcopy(model.results['model_mean'])\n",
    "        mm.m['signal'].m['main'].m['transit'].transit_params[0][0] = d.transit_params\n",
    "        mm.m['signal'].m['main'].m['transit'].transit_params[0][0].u = [0,0]\n",
    "        mm.m['signal'].m['main'].m['transit'].transit_params[0][1] = d.transit_params\n",
    "        mm.m['signal'].m['main'].m['transit'].transit_params[0][1].u = [0,0]\n",
    "        mm.set_parameters(r[0])\n",
    "        mm.m['signal'].m['main'].m['transit'].depth_model.offset = -d.diagnostics['training_spectrum']    \n",
    "        obs_transit = copy.deepcopy(model.results['obs'])\n",
    "\n",
    "        stellar_labels = mm.m['signal'].m['main'].m['spectrum'].get_prediction(obs_transit)\n",
    "        transit_labels = mm.m['signal'].m['main'].m['transit'].get_prediction(obs_transit)\n",
    "        obs_transit.labels = stellar_labels*transit_labels\n",
    "        #obs_transit.labels = model.results['model_mean'].m['signal'].m['main'].m['transit'].get_prediction(obs_transit)\n",
    "        #obs_transit.labels = mm.m['signal'].m['main'].get_prediction(obs_transit)\n",
    "        #obs_transit.labels = mm.m['signal'].get_prediction(obs_transit)\n",
    "        #print(mm.m['signal'].m['main'].m['transit'].get_parameters())\n",
    "        #d.diagnostics['transit'] = obs_transit\n",
    "        transits.append(obs_transit.export_matrix(True))\n",
    "    del loaded_res\n",
    "    del mm\n",
    "    del model\n",
    "    transits = np.array(np.concatenate(transits))\n",
    "    kgs.dill_save(kgs.temp_dir + 'AIRS_transits.pickle', transits)\n",
    "    \n",
    "transits = kgs.dill_load(kgs.temp_dir + 'AIRS_transits.pickle')"
   ]
  },
  {
   "cell_type": "code",
   "execution_count": null,
   "id": "356b5e4e-4ee3-481a-bc63-586bff44aafa",
   "metadata": {
    "tags": []
   },
   "outputs": [],
   "source": [
    "import scipy\n",
    "N=109\n",
    "train_data = kgs.load_all_train_data()[:N]\n",
    "order = 4\n",
    "design_matrix_base = scipy.sparse.lil_matrix((1125*len(train_data), order*len(train_data)))\n",
    "#design_matrix_base = np.zeros((1125*len(train_data), 4*len(train_data)))\n",
    "x = np.arange(1125)\n",
    "x_norm = 2*(x - x.min())/(x.max() - x.min()) - 1\n",
    "for ii in range(len(train_data)):\n",
    "    for i_order in range(order):\n",
    "        coeffs = np.zeros(order)\n",
    "        coeffs[i_order]=1\n",
    "        design_matrix_base[1125*ii:1125*(ii+1), order*ii+i_order] = np.polynomial.chebyshev.chebval(x_norm, coeffs)\n",
    "design_matrix_base = design_matrix_base.tocsr()\n",
    "\n",
    "design_matrix_fit = design_matrix_base[:1125,:order].todense()"
   ]
  },
  {
   "cell_type": "code",
   "execution_count": null,
   "id": "924a6835-c560-4c0c-9562-00f56bee2c37",
   "metadata": {
    "tags": []
   },
   "outputs": [],
   "source": [
    "rr=[]\n",
    "for i_wavelength in tqdm(range(1)):\n",
    "    f = np.zeros((2,3))\n",
    "    e = np.zeros((1125*len(train_data),2))\n",
    "    r = np.zeros((1,3))\n",
    "    r[0] = 1\n",
    "    poly_coeffs = np.zeros(order*len(train_data))\n",
    "    poly_coeffs[::order] = 1\n",
    "    t = copy.deepcopy(transits[:1125*N,i_wavelength])[:,None]\n",
    "    w = copy.deepcopy(np.concatenate([c[i_wavelength] for c in all_coeffs[:N]]))\n",
    "    \n",
    "    def calc_residual():\n",
    "        #print(r.shape, (design_matrix_base@poly_coeffs).shape, t.shape)\n",
    "        val = r* (design_matrix_base@poly_coeffs)[:,None] * t + e@f\n",
    "        residual = w-val\n",
    "        #plt.figure()\n",
    "        #plt.plot((residual[29*1125:30*1125,:]))\n",
    "        #plt.pause(0.001)\n",
    "        return residual\n",
    "        #print(val.shape)\n",
    "    \n",
    "    for i_iter in range(1000):\n",
    "        \n",
    "       # print('st', kgs.rms(calc_residual()))\n",
    "\n",
    "        # update r   \n",
    "        y = w - e@f\n",
    "        x = (design_matrix_base@poly_coeffs)[:,None] * t\n",
    "        x = x.flatten()\n",
    "        for ii in range(r.shape[1]):\n",
    "\n",
    "            #print(x.shape,y.shape)\n",
    "            r[0,ii] = np.sum(x*y[:,ii])/np.sum(x*x)\n",
    "\n",
    "       # print('r', kgs.rms(calc_residual()))\n",
    "\n",
    "        # update polynomial\n",
    "        yf = w - e@f\n",
    "        xf = r*t\n",
    "        for ii in range(N):\n",
    "            y = yf[1125*ii:1125*(ii+1),:].T.flatten()\n",
    "            x = xf[1125*ii:1125*(ii+1),:].T.flatten()\n",
    "            coeffs = np.linalg.lstsq(np.array(np.concatenate([design_matrix_fit]*3))*x[:,None], y, rcond=None)[0]\n",
    "            poly_coeffs[order*ii:order*(ii+1)]= coeffs\n",
    "        \n",
    "        #print('p', kgs.rms(calc_residual()), r)\n",
    "        \n",
    "        # if i_iter%10==0:\n",
    "        #     residual = calc_residual()\n",
    "        #     plt.figure()\n",
    "        #     plt.plot((residual[29*1125:30*1125,:]))\n",
    "        #     plt.pause(0.001)\n",
    "        \n",
    "        y = w - r * (design_matrix_base@poly_coeffs)[:,None] * t\n",
    "        \n",
    "        #from sklearn.decomposition import PCA\n",
    "        #pca = PCA(n_components=2)\n",
    "        #pca.fit(y)\n",
    "        #f = pca.components_          # Principal directions (eigenvectors)\n",
    "        #e = pca.transform(y)\n",
    "        #print(f.shape, e.shape)\n",
    "        f = np.array([[0,1,0],[0,0,1]], dtype=np.float64)\n",
    "        e = y[:,1:]        \n",
    "        #print(f.shape, e.shape)\n",
    "\n",
    "        explain_matrix = np.concatenate([r,f])\n",
    "        \n",
    "        print(explain_matrix)\n",
    "\n",
    "        matrix_inv = np.linalg.inv(explain_matrix.T)\n",
    "        apply_weights = matrix_inv[0,:]\n",
    "        \n",
    "        print(i_iter, apply_weights/kgs.rms(apply_weights), kgs.rms(calc_residual()))\n",
    "    \n",
    "    #print(apply_weights)\n",
    "    \n",
    "    rr.append(apply_weights)\n",
    "\n",
    "  #  print('f', kgs.rms(calc_residual()))\n",
    "\n",
    "    fit_orig = w[:,0]/r[0,0]\n",
    "    fit_new = np.sum(rr[-1]*w,1)\n",
    "    \n",
    "    # plt.figure()\n",
    "    # #plt.plot(coeffs_explained[slic,:]-np.mean(coeffs_explained[slic,:],0))\n",
    "    # plt.plot(fit_orig[slic])#-np.mean(fit_orig[slic]))\n",
    "    # plt.plot(fit_new[slic])#-np.mean(fit_new[slic]))\n",
    "    # plt.plot(this_transit[slic])\n",
    "        \n",
    "    \n",
    "    \n",
    "    \n",
    "    \n",
    "    #plt.plot(fit_new[slic]-np.mean(fit_new[slic])-500)\n",
    "    \n",
    "    print(rr[-1])\n",
    "    #print(weight_coeffs)\n",
    "    \n",
    "    slic = slice(29*1125,30*1125)\n",
    "    plt.figure(figsize=(10,10))\n",
    "    plt.plot( (fit_orig-fit_new)[slic] )\n",
    "    \n",
    "    plt.figure(figsize=(10,10))\n",
    "    plt.plot( (fit_orig/fit_new)[slic] )\n",
    "    \n",
    "    plt.pause(0.001)\n",
    "        \n",
    "kgs.dill_save(kgs.calibration_dir + 'AIRS_rr2.pickle', rr)"
   ]
  },
  {
   "cell_type": "code",
   "execution_count": null,
   "id": "c0193803-9f24-4974-9c60-5d8a5a570e03",
   "metadata": {},
   "outputs": [],
   "source": [
    "slic = slice(29*1125,30*1125)\n",
    "plt.figure(figsize=(10,10))\n",
    "plt.plot( (fit_orig-fit_new)[slic] )\n",
    "\n",
    "plt.figure(figsize=(10,10))\n",
    "plt.plot( (fit_orig/fit_new)[slic] )\n",
    "\n",
    "plt.figure(figsize=(10,10))\n",
    "y= (design_matrix_base@poly_coeffs)[:,None] * t\n",
    "plt.plot( (y[:,0]/fit_new)[slic] )\n",
    "\n",
    "plt.figure(figsize=(10,10))\n",
    "y= (design_matrix_base@poly_coeffs)[:,None] * t\n",
    "plt.plot( (y[:,0]/fit_orig)[slic] )\n",
    "\n",
    "plt.figure(figsize=(10,10))\n",
    "y= (design_matrix_base@poly_coeffs)[:,None]\n",
    "plt.plot(y[slic])"
   ]
  },
  {
   "cell_type": "code",
   "execution_count": null,
   "id": "ccc2f612-ce88-4d9e-96cd-66b0c782a7eb",
   "metadata": {
    "tags": []
   },
   "outputs": [],
   "source": [
    "t.shape"
   ]
  },
  {
   "cell_type": "code",
   "execution_count": null,
   "id": "51bf71c6-bd8e-423e-8d7a-3cf18ee1deb9",
   "metadata": {
    "tags": []
   },
   "outputs": [],
   "source": [
    "fit_new.shape"
   ]
  },
  {
   "cell_type": "code",
   "execution_count": null,
   "id": "07269595-4443-4876-9ce5-6f706c87f146",
   "metadata": {
    "tags": []
   },
   "outputs": [],
   "source": [
    "f"
   ]
  },
  {
   "cell_type": "code",
   "execution_count": null,
   "id": "e9718c79-6537-42ac-94d0-865d47cef896",
   "metadata": {},
   "outputs": [],
   "source": []
  }
 ],
 "metadata": {
  "kernelspec": {
   "display_name": "Python 3 (ipykernel)",
   "language": "python",
   "name": "python3"
  },
  "language_info": {
   "codemirror_mode": {
    "name": "ipython",
    "version": 3
   },
   "file_extension": ".py",
   "mimetype": "text/x-python",
   "name": "python",
   "nbconvert_exporter": "python",
   "pygments_lexer": "ipython3",
   "version": "3.11.13"
  }
 },
 "nbformat": 4,
 "nbformat_minor": 5
}
