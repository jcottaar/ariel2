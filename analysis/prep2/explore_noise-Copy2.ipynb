{
 "cells": [
  {
   "cell_type": "code",
   "execution_count": 1,
   "id": "c059fe79-d65a-4d97-91fa-a80590aca048",
   "metadata": {
    "tags": []
   },
   "outputs": [
    {
     "name": "stdout",
     "output_type": "stream",
     "text": [
      "local\n"
     ]
    }
   ],
   "source": [
    "import sys\n",
    "sys.path.append('/mnt/d/ariel2/code/core/')\n",
    "sys.path.append('d:/ariel2/code/core/')\n",
    "sys.path.append('/kaggle/input/my-ariel2-library')\n",
    "import kaggle_support as kgs\n",
    "import ariel_model\n",
    "import ariel_numerics\n",
    "import ariel_gp\n",
    "import ariel_load\n",
    "import time\n",
    "import numpy as np\n",
    "import multiprocess\n",
    "import importlib\n",
    "import copy\n",
    "import cupy as cp\n",
    "import matplotlib.pyplot as plt\n",
    "from tqdm import tqdm"
   ]
  },
  {
   "cell_type": "code",
   "execution_count": 2,
   "id": "f2853583-7943-4e8c-be2f-767f07d09e2a",
   "metadata": {
    "tags": []
   },
   "outputs": [],
   "source": [
    "train_data=kgs.load_all_train_data()"
   ]
  },
  {
   "cell_type": "code",
   "execution_count": 3,
   "id": "e599128b-d1a9-4961-8851-434734cf20a9",
   "metadata": {
    "tags": []
   },
   "outputs": [
    {
     "name": "stderr",
     "output_type": "stream",
     "text": [
      "100%|███████████████████████████████████████████████████████████████████████████████████| 20/20 [00:28<00:00,  1.42s/it]\n"
     ]
    },
    {
     "data": {
      "text/plain": [
       "<Figure size 640x480 with 0 Axes>"
      ]
     },
     "metadata": {},
     "output_type": "display_data"
    }
   ],
   "source": [
    "importlib.reload(ariel_numerics)\n",
    "loaders = ariel_load.default_loaders()\n",
    "for ii in range(2):\n",
    "    loaders[ii].apply_pixel_corrections.mask_hot= False\n",
    "res = []\n",
    "plt.figure()\n",
    "for d in tqdm(train_data[:20]):\n",
    "    d = copy.deepcopy(d)\n",
    "    d.load_to_step(3, loaders)\n",
    "    residuals = ariel_numerics.remove_trend_cp(d.transits[0].data[0].data)[10:-10,12:20,12:20]\n",
    "    \n",
    "    assert not cp.any(cp.isnan(residuals))\n",
    "    \n",
    "    # d.load_to_step(5, loaders)\n",
    "    # x=cp.mean(d.transits[0].data[1].data,0)\n",
    "    # x=x/kgs.rms(x)\n",
    "    # if d.planet_id == train_data[0].planet_id:\n",
    "    #     x0 = copy.deepcopy(x)\n",
    "    # else:\n",
    "    #     plt.plot((x/x0).get())\n",
    "    \n",
    "    res.append(residuals)\n",
    "        \n",
    "    d.load_to_step(0, ariel_load.default_loaders())\n",
    "    \n",
    "res = cp.concatenate(res)"
   ]
  },
  {
   "cell_type": "code",
   "execution_count": 4,
   "id": "15656534-f71a-495c-bcb5-fdfed946ef4e",
   "metadata": {
    "tags": []
   },
   "outputs": [
    {
     "data": {
      "text/plain": [
       "(26600, 8, 8)"
      ]
     },
     "execution_count": 4,
     "metadata": {},
     "output_type": "execute_result"
    }
   ],
   "source": [
    "res.shape"
   ]
  },
  {
   "cell_type": "code",
   "execution_count": 5,
   "id": "105f2ae4-23a4-46df-84d3-3f7966746f53",
   "metadata": {
    "tags": []
   },
   "outputs": [
    {
     "ename": "SyntaxError",
     "evalue": "invalid syntax (3275565107.py, line 1)",
     "output_type": "error",
     "traceback": [
      "\u001b[0;36m  File \u001b[0;32m\"/tmp/ipykernel_6834/3275565107.py\"\u001b[0;36m, line \u001b[0;32m1\u001b[0m\n\u001b[0;31m    pca.\u001b[0m\n\u001b[0m        ^\u001b[0m\n\u001b[0;31mSyntaxError\u001b[0m\u001b[0;31m:\u001b[0m invalid syntax\n"
     ]
    }
   ],
   "source": [
    "pca."
   ]
  },
  {
   "cell_type": "code",
   "execution_count": null,
   "id": "f020efb1-7633-4354-81ac-1990a91f51ff",
   "metadata": {
    "tags": []
   },
   "outputs": [],
   "source": [
    "N=15\n",
    "from sklearn.decomposition import PCA\n",
    "pca = PCA(n_components=N)\n",
    "dat = res.reshape(-1,64).get()\n",
    "pca.fit(dat)\n",
    "components = pca.components_          # Principal directions (eigenvectors)\n",
    "components.shape\n",
    "#explained_variance = 1-np.cumsum(pca.explained_variance_ratio_)  # Variance explained by each PC\n",
    "plt.figure()\n",
    "plt.semilogy(pca.explained_variance_)\n",
    "for ii in range(N):\n",
    "    #plt.figure()\n",
    "    #plt.imshow(components[ii,:].reshape(8,8))\n",
    "    \n",
    "    scores = pca.transform(dat)[:, :ii]             # (n_samples, ii)\n",
    "    recon = scores @ pca.components_[:ii, :]      # (n_samples, 64)\n",
    "    recon += pca.mean_                            # add back mean\n",
    "\n",
    "    # Residual\n",
    "    residual = dat - recon                          # (n_samples, 64)\n",
    "\n",
    "    # Example: visualize ith PC\n",
    "    #plt.figure()\n",
    "    #plt.imshow(components[ii-1, :].reshape(8, 8))\n",
    "\n",
    "    # Example: track residual norm\n",
    "    #res_norm = np.linalg.norm(residual) / np.linalg.norm(dat)\n",
    "    #print(f\"Residual ratio after {ii} components: {res_norm:.3f}\")\n",
    "    \n",
    "    cov = (residual.T@residual)/residual.shape[0]\n",
    "    plt.figure()\n",
    "    plt.imshow(cov)\n",
    "    plt.colorbar()\n",
    "    plt.title(ii)\n",
    "    \n",
    "    \n",
    "    # data = res.reshape(-1,64).get9)\n",
    "    # data = data - components[:ii+1,:]"
   ]
  },
  {
   "cell_type": "code",
   "execution_count": null,
   "id": "502d2028-838e-48e3-b0f8-6550db5efd72",
   "metadata": {
    "tags": []
   },
   "outputs": [],
   "source": [
    "components = pca.components_          # Principal directions (eigenvectors)\n",
    "components.shape\n",
    "explained_variance = 1-np.cumsum(pca.explained_variance_ratio_)  # Variance explained by each PC\n",
    "plt.figure()\n",
    "plt.plot(explained_variance)"
   ]
  },
  {
   "cell_type": "code",
   "execution_count": null,
   "id": "6c833f43-6446-40ba-a89f-6a21f036d9c3",
   "metadata": {
    "tags": []
   },
   "outputs": [],
   "source": [
    "import ariel_diagnostics\n",
    "ariel_diagnostics.animate_3d_matrix(res[10:20,...].get())"
   ]
  },
  {
   "cell_type": "code",
   "execution_count": null,
   "id": "bd90edce-ee15-4dbc-9fac-1c1194f6d40b",
   "metadata": {
    "tags": []
   },
   "outputs": [],
   "source": [
    "np.prod(residuals.shape)*8/1e9"
   ]
  },
  {
   "cell_type": "code",
   "execution_count": null,
   "id": "4ea85b21-eaf2-490e-bdd9-064b03de9233",
   "metadata": {
    "tags": []
   },
   "outputs": [],
   "source": [
    "# cov = (resF.T@resF)\n",
    "# plt.figure()\n",
    "# plt.imshow(cov[490:500,490:500].get())\n",
    "# plt.colorbar()"
   ]
  },
  {
   "cell_type": "code",
   "execution_count": null,
   "id": "5db3b63f-8d7a-444b-a327-b575fd9f3796",
   "metadata": {
    "tags": []
   },
   "outputs": [],
   "source": [
    "15*32+15"
   ]
  },
  {
   "cell_type": "code",
   "execution_count": null,
   "id": "fb2bbcbb-2514-4f3a-a657-eed9d3d459eb",
   "metadata": {
    "tags": []
   },
   "outputs": [],
   "source": [
    "S = [];components = []; weights = []\n",
    "dat = copy.deepcopy(res.reshape(res.shape[0],-1))\n",
    "for ii in tqdm(range(3)):\n",
    "    resF = dat#.reshape(-1,32,32)[:,14:18,14:18].reshape(-1,16)\n",
    "    cov = (resF.T@resF)/resF.shape[0]\n",
    "    plt.figure()\n",
    "    plt.imshow(cov.get())\n",
    "    plt.colorbar()\n",
    "    plt.title(ii)\n",
    "    this_weights, this_components, this_S = ariel_numerics.nan_pca(dat, 1, tol=1e-5, verbose=False)\n",
    "    dat -= this_weights * this_components\n",
    "    S.append(this_S.get())\n",
    "    components.append(this_components)\n",
    "    weights.append(this_weights)\n",
    "    resF = dat\n",
    "    cov = (resF.T@resF)/resF.shape[0]\n",
    "plt.figure()\n",
    "plt.semilogy(S)"
   ]
  },
  {
   "cell_type": "code",
   "execution_count": null,
   "id": "c1d4a070-8bde-4393-b519-6523e7590d52",
   "metadata": {
    "tags": []
   },
   "outputs": [],
   "source": [
    "for ii in range(len(components)):\n",
    "    plt.figure()\n",
    "    plt.imshow(components[ii].reshape(32,32).get(), aspect='auto', interpolation='none')\n",
    "    plt.colorbar()\n",
    "    plt.title(ii)"
   ]
  },
  {
   "cell_type": "code",
   "execution_count": null,
   "id": "6a6ac138-4d10-4973-8e9e-7cf851566bda",
   "metadata": {
    "tags": []
   },
   "outputs": [],
   "source": [
    "plt.plot(weights[0].get())\n",
    "plt.xlim([0,100])"
   ]
  },
  {
   "cell_type": "code",
   "execution_count": null,
   "id": "6eed58cf-9e8f-4edd-bccc-c7b94022ad90",
   "metadata": {},
   "outputs": [],
   "source": []
  }
 ],
 "metadata": {
  "kernelspec": {
   "display_name": "Python 3 (ipykernel)",
   "language": "python",
   "name": "python3"
  },
  "language_info": {
   "codemirror_mode": {
    "name": "ipython",
    "version": 3
   },
   "file_extension": ".py",
   "mimetype": "text/x-python",
   "name": "python",
   "nbconvert_exporter": "python",
   "pygments_lexer": "ipython3",
   "version": "3.11.13"
  }
 },
 "nbformat": 4,
 "nbformat_minor": 5
}
