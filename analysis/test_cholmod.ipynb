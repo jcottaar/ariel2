{
 "cells": [
  {
   "cell_type": "code",
   "execution_count": 7,
   "id": "52dec7d7-8fdd-42f8-af95-b0cc57ca13c7",
   "metadata": {
    "tags": []
   },
   "outputs": [
    {
     "name": "stdout",
     "output_type": "stream",
     "text": [
      "shape=(18000, 18000), nnz=3457658\n",
      "CPU: factor times 0.020s, 0.019s, 0.020s | solve ~0.000s | resid 1.86e-03\n",
      "GPU: factor times 0.023s, 0.020s, 0.021s | solve ~0.000s | resid 1.86e-03\n"
     ]
    }
   ],
   "source": [
    "#import ctypes, os\n",
    "#ctypes.CDLL(\"/usr/local/lib/libcholmod.so\", mode=ctypes.RTLD_GLOBAL)\n",
    "#import os, sys\n",
    "#os.environ[\"LD_LIBRARY_PATH\"] = \"/usr/local/cuda/lib64:/usr/local/lib:/usr/local/lib:/usr/local/lib:/home/jcottaar/SuiteSparse/build/lib:/SuiteSparse/build/lib:/usr/local/cuda-12.5/lib64:\"\n",
    "# now import\n",
    "from sksparse.cholmod import cholesky\n",
    "import os, time, numpy as np, scipy.sparse as sp\n",
    "from scipy.io import mmread\n",
    "from sksparse.cholmod import cholesky\n",
    "\n",
    "mtx = os.path.expanduser(\"~/nd6k.mtx\")\n",
    "A = mmread(mtx).tocsc()\n",
    "A = sp.triu(A).tocsc()  # keep upper; CHOLMOD expects symmetric\n",
    "n, nnz = A.shape[0], A.nnz\n",
    "print(f\"shape={A.shape}, nnz={nnz}\")\n",
    "\n",
    "# Sanity: this should be (18000, 18000) and ~3,457,658 nnz like the demo.\n",
    "assert n > 1000, \"Matrix looks tiny — are you sure this is nd6k.mtx?\"\n",
    "\n",
    "b = np.random.default_rng(0).standard_normal(n)\n",
    "\n",
    "def run_once(use_gpu):\n",
    "    os.environ[\"CHOLMOD_USE_GPU\"] = \"1\" if use_gpu else \"0\"\n",
    "    t0 = time.perf_counter(); F = cholesky(A); t1 = time.perf_counter()\n",
    "    x = F(b); t2 = time.perf_counter()\n",
    "    res = np.linalg.norm(A @ x - b) / (sp.linalg.norm(A)*np.linalg.norm(x) + np.linalg.norm(b))\n",
    "    return t1-t0, t2-t1, res\n",
    "\n",
    "# warmup + 3 steady timings\n",
    "for mode in (\"CPU\",\"GPU\"):\n",
    "    ft, st, r = run_once(mode==\"GPU\")  # warmup\n",
    "    times = [run_once(mode==\"GPU\")[0] for _ in range(3)]\n",
    "    print(f\"{mode}: factor times {', '.join(f'{t:.3f}s' for t in times)} | solve ~{st:.3f}s | resid {r:.2e}\")"
   ]
  },
  {
   "cell_type": "code",
   "execution_count": 2,
   "id": "0662d4b9-71d8-463c-aa98-ee74be37f267",
   "metadata": {
    "tags": []
   },
   "outputs": [
    {
     "data": {
      "text/plain": [
       "(dtype('float64'), 'csc', (18000, 18000), 3457658)"
      ]
     },
     "execution_count": 2,
     "metadata": {},
     "output_type": "execute_result"
    }
   ],
   "source": [
    "# 1) Confirm dtype + structure (CHOLMOD expects float64 CSC, symmetric upper)\n",
    "A.dtype, A.getformat(), A.shape, A.nnz"
   ]
  },
  {
   "cell_type": "code",
   "execution_count": 3,
   "id": "04a124d3-deb9-4e4c-9df9-4c2ba41fa5e1",
   "metadata": {
    "tags": []
   },
   "outputs": [
    {
     "data": {
      "text/plain": [
       "((18000, 18000), 18000, 0.015726660999462183, 0.0003520899999784888)"
      ]
     },
     "execution_count": 3,
     "metadata": {},
     "output_type": "execute_result"
    }
   ],
   "source": [
    "# 2) Force a full factorization and *materialize* L (this can't be ~10 ms)\n",
    "from sksparse.cholmod import cholesky\n",
    "import time\n",
    "t0 = time.perf_counter()\n",
    "F = cholesky(A)         # analyze + numeric factor\n",
    "t1 = time.perf_counter()\n",
    "L = F.L()               # build SciPy CSC copy of L (forces work if anything was lazy)\n",
    "t2 = time.perf_counter()\n",
    "t_factor = t1 - t0\n",
    "t_materialize = t2 - t1\n",
    "L.shape, L.nnz, t_factor, t_materialize"
   ]
  },
  {
   "cell_type": "code",
   "execution_count": 2,
   "id": "a7c09c0c-6a02-4abf-9ae5-0c62c46491d5",
   "metadata": {
    "tags": []
   },
   "outputs": [
    {
     "name": "stdout",
     "output_type": "stream",
     "text": [
      "/home/jcottaar/miniconda3/envs/xlab/lib/python3.11/site-packages/sksparse/cholmod.cpython-311-x86_64-linux-gnu.so\n"
     ]
    }
   ],
   "source": [
    "import sksparse.cholmod as c\n",
    "print(c.__file__)"
   ]
  },
  {
   "cell_type": "code",
   "execution_count": 7,
   "id": "38902a0c-2241-4f01-a4c4-ab6c98b5225a",
   "metadata": {
    "tags": []
   },
   "outputs": [
    {
     "data": {
      "text/plain": [
       "'/usr/local/cuda-12.5/lib64:'"
      ]
     },
     "execution_count": 7,
     "metadata": {},
     "output_type": "execute_result"
    }
   ],
   "source": [
    "os.environ[\"LD_LIBRARY_PATH\"]"
   ]
  },
  {
   "cell_type": "code",
   "execution_count": 2,
   "id": "933736d9-46ab-425c-8d22-1c41abe17a3d",
   "metadata": {
    "tags": []
   },
   "outputs": [
    {
     "name": "stdout",
     "output_type": "stream",
     "text": [
      "sksparse ext: /home/jcottaar/miniconda3/envs/xlab/lib/python3.11/site-packages/sksparse/cholmod.cpython-311-x86_64-linux-gnu.so\n",
      "\tlinux-vdso.so.1 (0x00007ffde15e3000)\n",
      "\tlibcholmod.so.5 => /usr/local/lib/libcholmod.so.5 (0x000074f5d2600000)\n",
      "\tlibc.so.6 => /lib/x86_64-linux-gnu/libc.so.6 (0x000074f5d2200000)\n",
      "\tlibamd.so.3 => /usr/local/lib/libamd.so.3 (0x000074f5d2acf000)\n",
      "\tlibcolamd.so.3 => /usr/local/lib/libcolamd.so.3 (0x000074f5d2ac6000)\n",
      "\tlibcamd.so.3 => /usr/local/lib/libcamd.so.3 (0x000074f5d2ab8000)\n",
      "\tlibccolamd.so.3 => /usr/local/lib/libccolamd.so.3 (0x000074f5d2aa9000)\n",
      "\tlibopenblas.so.0 => /lib/x86_64-linux-gnu/libopenblas.so.0 (0x000074f5cfe20000)\n",
      "\tlibcublas.so.12 => /usr/local/cuda/lib64/libcublas.so.12 (0x000074f5c9800000)\n",
      "\tlibsuitesparseconfig.so.7 => /usr/local/lib/libsuitesparseconfig.so.7 (0x000074f5d2aa3000)\n",
      "\tlibgomp.so.1 => /lib/x86_64-linux-gnu/libgomp.so.1 (0x000074f5d2a4d000)\n",
      "\tlibm.so.6 => /lib/x86_64-linux-gnu/libm.so.6 (0x000074f5d2964000)\n",
      "\t/lib64/ld-linux-x86-64.so.2 (0x000074f5d2b44000)\n",
      "\tlibgfortran.so.5 => /lib/x86_64-linux-gnu/libgfortran.so.5 (0x000074f5c9400000)\n",
      "\tlibcublasLt.so.12 => /usr/local/cuda/lib64/libcublasLt.so.12 (0x000074f5aae00000)\n",
      "\tlibrt.so.1 => /lib/x86_64-linux-gnu/librt.so.1 (0x000074f5d295d000)\n",
      "\tlibpthread.so.0 => /lib/x86_64-linux-gnu/libpthread.so.0 (0x000074f5d2958000)\n",
      "\tlibdl.so.2 => /lib/x86_64-linux-gnu/libdl.so.2 (0x000074f5d2953000)\n",
      "\tlibgcc_s.so.1 => /lib/x86_64-linux-gnu/libgcc_s.so.1 (0x000074f5d2923000)\n"
     ]
    },
    {
     "data": {
      "text/plain": [
       "CompletedProcess(args=['ldd', '/home/jcottaar/miniconda3/envs/xlab/lib/python3.11/site-packages/sksparse/cholmod.cpython-311-x86_64-linux-gnu.so'], returncode=0)"
      ]
     },
     "execution_count": 2,
     "metadata": {},
     "output_type": "execute_result"
    }
   ],
   "source": [
    "import sksparse.cholmod as c, subprocess\n",
    "print(\"sksparse ext:\", c.__file__)\n",
    "subprocess.run([\"ldd\", c.__file__])  # should point to /usr/local/lib/libcholmod.so"
   ]
  },
  {
   "cell_type": "code",
   "execution_count": 4,
   "id": "d18785f4-fca5-4103-8e97-cd057ad6a428",
   "metadata": {
    "tags": []
   },
   "outputs": [
    {
     "ename": "AttributeError",
     "evalue": "module 'numpy' has no attribute 'dtype'",
     "output_type": "error",
     "traceback": [
      "\u001b[0;31m---------------------------------------------------------------------------\u001b[0m",
      "\u001b[0;31mAttributeError\u001b[0m                            Traceback (most recent call last)",
      "\u001b[0;32m/tmp/ipykernel_46665/84102583.py\u001b[0m in \u001b[0;36m<cell line: 0>\u001b[0;34m()\u001b[0m\n\u001b[0;32m----> 1\u001b[0;31m \u001b[0;32mimport\u001b[0m \u001b[0msksparse\u001b[0m\u001b[0;34m.\u001b[0m\u001b[0mcholmod\u001b[0m\u001b[0;34m\u001b[0m\u001b[0;34m\u001b[0m\u001b[0m\n\u001b[0m",
      "\u001b[0;32msksparse/cholmod.pyx\u001b[0m in \u001b[0;36minit sksparse.cholmod\u001b[0;34m()\u001b[0m\n",
      "\u001b[0;31mAttributeError\u001b[0m: module 'numpy' has no attribute 'dtype'"
     ]
    }
   ],
   "source": [
    "import sksparse.cholmod"
   ]
  },
  {
   "cell_type": "code",
   "execution_count": 1,
   "id": "b09d07c6-0821-4a42-ba8e-1dc47bd1eed3",
   "metadata": {
    "tags": []
   },
   "outputs": [
    {
     "name": "stdout",
     "output_type": "stream",
     "text": [
      "Solution x: [-0.22159091  0.63636364  0.625     ]\n",
      "Residual: [0. 0. 0.]\n"
     ]
    }
   ],
   "source": [
    "import numpy as np\n",
    "import scipy.sparse as sp\n",
    "from sksparse.cholmod import cholesky\n",
    "\n",
    "# Small symmetric positive definite matrix\n",
    "A_dense = np.array([\n",
    "    [4.0, 1.0, 2.0],\n",
    "    [1.0, 3.0, 0.5],\n",
    "    [2.0, 0.5, 5.0]\n",
    "])\n",
    "\n",
    "# Convert to sparse CSC format (CHOLMOD prefers CSC)\n",
    "A_sparse = sp.csc_matrix(A_dense)\n",
    "\n",
    "# Right-hand side\n",
    "b = np.array([1.0, 2.0, 3.0])\n",
    "\n",
    "# Perform Cholesky factorization\n",
    "factor = cholesky(A_sparse)\n",
    "\n",
    "# Solve Ax = b\n",
    "x = factor(b)\n",
    "\n",
    "print(\"Solution x:\", x)\n",
    "\n",
    "# Optional: check residual\n",
    "residual = A_dense @ x - b\n",
    "print(\"Residual:\", residual)"
   ]
  },
  {
   "cell_type": "code",
   "execution_count": 3,
   "id": "1aae6948-00a3-48b6-a44d-c6f07eb9474f",
   "metadata": {
    "tags": []
   },
   "outputs": [],
   "source": [
    "import numpy"
   ]
  },
  {
   "cell_type": "code",
   "execution_count": 8,
   "id": "593281e0-af0f-4d35-b40f-f4a0c387e55f",
   "metadata": {
    "tags": []
   },
   "outputs": [
    {
     "name": "stdout",
     "output_type": "stream",
     "text": [
      "CHOLMOD_USE_GPU=1\n",
      "n=18000, nnz=6897316\n",
      "time: 6.444 s\n",
      "||residual||_2 = 3.205e-07\n"
     ]
    }
   ],
   "source": [
    "import os, time\n",
    "import numpy as np\n",
    "import scipy.sparse as sp\n",
    "from scipy.io import mmread\n",
    "from sksparse.cholmod import cholesky\n",
    "\n",
    "# ---- config ----\n",
    "MM_PATH = \"/home/jcottaar/nd6k.mtx\"          # adjust if your file lives elsewhere\n",
    "USE_GPU = True                # toggle here\n",
    "\n",
    "# CHOLMOD reads this at runtime\n",
    "os.environ[\"CHOLMOD_USE_GPU\"] = \"1\" if USE_GPU else \"0\"\n",
    "\n",
    "# ---- load matrix ----\n",
    "A = mmread(MM_PATH).astype(np.float64)   # COO\n",
    "A = A.tocsc()\n",
    "\n",
    "# Ensure SPD: if not symmetric, or has negatives on diag, build A^T A + eps*I\n",
    "if (A - A.T).nnz != 0:\n",
    "    A = (A.T @ A).tocsc()\n",
    "# small diagonal shift for numerical stability\n",
    "eps = 1e-10\n",
    "A = A + sp.eye(A.shape[0], format=\"csc\") * eps\n",
    "\n",
    "# rhs (any dense vector works)\n",
    "b = np.ones(A.shape[0], dtype=np.float64)\n",
    "\n",
    "# ---- factorize & solve ----\n",
    "t0 = time.time()\n",
    "factor = cholesky(A)     # CHOLMOD factorization\n",
    "x = factor(b)            # solve Ax=b\n",
    "t1 = time.time()\n",
    "\n",
    "# ---- checks ----\n",
    "res = A @ x - b\n",
    "print(f\"CHOLMOD_USE_GPU={os.environ['CHOLMOD_USE_GPU']}\")\n",
    "print(f\"n={A.shape[0]}, nnz={A.nnz}\")\n",
    "print(f\"time: {t1 - t0:.3f} s\")\n",
    "print(f\"||residual||_2 = {np.linalg.norm(res):.3e}\")"
   ]
  },
  {
   "cell_type": "code",
   "execution_count": null,
   "id": "a69b1ce2-203f-46f2-9e6d-0ed0657366c6",
   "metadata": {},
   "outputs": [],
   "source": []
  }
 ],
 "metadata": {
  "kernelspec": {
   "display_name": "Python 3 (ipykernel)",
   "language": "python",
   "name": "python3"
  },
  "language_info": {
   "codemirror_mode": {
    "name": "ipython",
    "version": 3
   },
   "file_extension": ".py",
   "mimetype": "text/x-python",
   "name": "python",
   "nbconvert_exporter": "python",
   "pygments_lexer": "ipython3",
   "version": "3.11.13"
  }
 },
 "nbformat": 4,
 "nbformat_minor": 5
}
