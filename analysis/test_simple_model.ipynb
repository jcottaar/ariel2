{
 "cells": [
  {
   "cell_type": "code",
   "execution_count": 1,
   "id": "f83b89e4-ae65-4669-9e78-15f817bc2b71",
   "metadata": {
    "tags": []
   },
   "outputs": [
    {
     "name": "stdout",
     "output_type": "stream",
     "text": [
      "local\n",
      "local\n"
     ]
    }
   ],
   "source": [
    "import sys\n",
    "sys.path.append('/mnt/d/ariel2/code/core/')\n",
    "import kaggle_support as kgs\n",
    "import importlib\n",
    "import matplotlib.pyplot as plt\n",
    "import numpy as np\n",
    "import cupy as cp\n",
    "import ariel_load\n",
    "import tqdm\n",
    "importlib.reload(kgs);"
   ]
  },
  {
   "cell_type": "code",
   "execution_count": 2,
   "id": "34c09eb5-452c-4b2d-8892-48eb82f160f5",
   "metadata": {
    "tags": []
   },
   "outputs": [
    {
     "name": "stdout",
     "output_type": "stream",
     "text": [
      "CPU times: user 472 ms, sys: 80.1 ms, total: 552 ms\n",
      "Wall time: 1.64 s\n"
     ]
    }
   ],
   "source": [
    "%%time\n",
    "train_data = kgs.load_all_train_data()\n",
    "test_data = kgs.load_all_test_data()\n",
    "len(train_data), len(test_data)\n",
    "data = train_data[0]"
   ]
  },
  {
   "cell_type": "code",
   "execution_count": 3,
   "id": "add092f3-a15b-4c7d-b368-302f5953ced4",
   "metadata": {
    "tags": []
   },
   "outputs": [],
   "source": [
    "def robust_linear_fit_rms(X, Y, drop_frac=0.05):\n",
    "    X = np.asarray(X)\n",
    "    Y = np.asarray(Y)\n",
    "\n",
    "    # Fit Y = aX + b using least squares\n",
    "    A = np.vstack([X, np.ones_like(X)]).T\n",
    "    a, b = np.linalg.lstsq(A, Y, rcond=None)[0]\n",
    "\n",
    "    # Predicted Y and residuals\n",
    "    Y_pred = a * X + b\n",
    "    residuals = Y - Y_pred\n",
    "    abs_resid = np.abs(residuals)\n",
    "\n",
    "    # Remove worst 5% (highest absolute residuals)\n",
    "    if drop_frac>0:\n",
    "        n = len(residuals)\n",
    "        keep = int(n * (1 - drop_frac))\n",
    "        indices = np.argpartition(abs_resid, keep)[:keep]\n",
    "    #print(keep, len(residuals))\n",
    "    else:\n",
    "        indices = np.arange(len(residuals))\n",
    "\n",
    "    # Compute RMS of the remaining residuals\n",
    "    rms = np.sqrt(np.mean(residuals[indices] ** 2))\n",
    "    print(a,b)\n",
    "    return rms"
   ]
  },
  {
   "cell_type": "code",
   "execution_count": null,
   "id": "1eaf8628-3632-4b29-bb3f-019d22d654b5",
   "metadata": {
    "tags": []
   },
   "outputs": [
    {
     "name": "stderr",
     "output_type": "stream",
     "text": [
      "Inferring:   5%|███▌                                                                  | 56/1100 [02:53<52:47,  3.03s/it]"
     ]
    }
   ],
   "source": [
    "import ariel_simple\n",
    "importlib.reload(ariel_simple)\n",
    "df = 0.05\n",
    "for jj in range(2):\n",
    "    model = ariel_simple.SimpleModel()\n",
    "    model.run_in_parallel = False\n",
    "    match jj:\n",
    "        case 0:\n",
    "            name = 'Default'\n",
    "        case 1:\n",
    "            name = 'Use correction factor'\n",
    "            model.use_correction_factor = True        \n",
    "    model.do_plots = False\n",
    "    model.train(train_data)\n",
    "    data = train_data\n",
    "    inferred_data = model.infer(data)\n",
    "    print(name)\n",
    "    solution = kgs.make_submission_dataframe(data, include_sigma=False)\n",
    "    submission = kgs.make_submission_dataframe(inferred_data, False)\n",
    "    print(1e6*robust_linear_fit_rms(solution.iloc[:,1].to_numpy(), solution.iloc[:,1].to_numpy()-submission.iloc[:,1].to_numpy(), drop_frac=df), 1e6*robust_linear_fit_rms(solution.iloc[:,1].to_numpy(), solution.iloc[:,1].to_numpy()-submission.iloc[:,1].to_numpy(), drop_frac=0))\n",
    "    print(1e6*robust_linear_fit_rms(np.mean(solution.iloc[:,2:284].to_numpy(),1), np.mean(solution.iloc[:,2:284].to_numpy()-submission.iloc[:,2:284].to_numpy(),1),drop_frac=df),\n",
    "         1e6*robust_linear_fit_rms(np.mean(solution.iloc[:,2:284].to_numpy(),1), np.mean(solution.iloc[:,2:284].to_numpy()-submission.iloc[:,2:284].to_numpy(),1),drop_frac=0))"
   ]
  },
  {
   "cell_type": "code",
   "execution_count": null,
   "id": "ca266ac9-6dfe-4f40-91e7-65fa30affa8a",
   "metadata": {
    "tags": []
   },
   "outputs": [],
   "source": [
    "print(1e6*robust_linear_fit_rms(solution.iloc[:,1].to_numpy(), solution.iloc[:,1].to_numpy()-submission.iloc[:,1].to_numpy(), drop_frac=df), 1e6*robust_linear_fit_rms(solution.iloc[:,1].to_numpy(), solution.iloc[:,1].to_numpy()-submission.iloc[:,1].to_numpy(), drop_frac=0))\n",
    "print(1e6*robust_linear_fit_rms(np.mean(solution.iloc[:,2:284].to_numpy(),1), np.mean(solution.iloc[:,2:284].to_numpy()-submission.iloc[:,2:284].to_numpy(),1),drop_frac=df),\n",
    "    1e6*robust_linear_fit_rms(np.mean(solution.iloc[:,2:284].to_numpy(),1), np.mean(solution.iloc[:,2:284].to_numpy()-submission.iloc[:,2:284].to_numpy(),1),drop_frac=0))"
   ]
  },
  {
   "cell_type": "code",
   "execution_count": null,
   "id": "15792e59-a1cb-47bf-886d-39c81a3d43d0",
   "metadata": {
    "tags": []
   },
   "outputs": [],
   "source": [
    "score, rms_err = kgs.score_metric(inferred_data, data)\n",
    "#np.sqrt(np.diag(inferred_data[0].spectrum_cov))"
   ]
  },
  {
   "cell_type": "code",
   "execution_count": null,
   "id": "84ab98e6-c66d-4ed1-8caa-d6818d95c986",
   "metadata": {
    "tags": []
   },
   "outputs": [],
   "source": [
    "import copy\n",
    "data_sim = copy.deepcopy(data)\n",
    "sig = rms_err\n",
    "for ii,d in enumerate(data_sim):\n",
    "    d.spectrum += np.random.default_rng(seed=ii).normal(0,sig,size=d.spectrum.shape)\n",
    "    d.spectrum_cov = np.diag(0*d.spectrum+sig**2)\n",
    "    d.check_constraints()\n",
    "print('Theoretical')\n",
    "kgs.score_metric(data_sim, data);"
   ]
  },
  {
   "cell_type": "code",
   "execution_count": null,
   "id": "d97c3dd0-0665-4117-82e3-61ce8b94ae8f",
   "metadata": {
    "tags": []
   },
   "outputs": [],
   "source": [
    "kgs.print_sanity_checks()"
   ]
  },
  {
   "cell_type": "code",
   "execution_count": null,
   "id": "e3708155-a231-49be-8cec-3a809314caaa",
   "metadata": {
    "tags": []
   },
   "outputs": [],
   "source": [
    "plt.figure()\n",
    "plt.plot(kgs.sanity_checks['simple_residual_ratio_FGS'].seen_all)\n",
    "plt.plot(kgs.sanity_checks['simple_residual_ratio_AIRS'].seen_all)\n",
    "plt.legend(('FGS', 'AIRS'))\n",
    "plt.grid(True)"
   ]
  },
  {
   "cell_type": "code",
   "execution_count": null,
   "id": "54ee3b08-5a25-4831-9c83-beefa76dc5f2",
   "metadata": {
    "tags": []
   },
   "outputs": [],
   "source": [
    "solution = kgs.make_submission_dataframe(data, include_sigma=False)\n",
    "submission = kgs.make_submission_dataframe(inferred_data, False)\n"
   ]
  },
  {
   "cell_type": "code",
   "execution_count": null,
   "id": "c3c86eff-7034-4ab9-9764-54467da159e8",
   "metadata": {
    "tags": []
   },
   "outputs": [],
   "source": [
    "kgs.rms(solution.iloc[:,1:2].to_numpy()-submission.iloc[:,1:2].to_numpy()),kgs.rms(solution.iloc[:,2:284].to_numpy()-submission.iloc[:,2:284].to_numpy())"
   ]
  },
  {
   "cell_type": "code",
   "execution_count": null,
   "id": "0fd6096d-bea3-484c-ae89-4802a5da7965",
   "metadata": {
    "tags": []
   },
   "outputs": [],
   "source": [
    "_,ax=plt.subplots(1,2,figsize=(10,5))\n",
    "plt.sca(ax[0])\n",
    "plt.box(True);plt.grid(True);\n",
    "plt.scatter(solution.iloc[:,1].to_numpy(), solution.iloc[:,1].to_numpy()-submission.iloc[:,1].to_numpy())\n",
    "plt.title(1e6*kgs.rms(solution.iloc[:,1:2].to_numpy()-submission.iloc[:,1:2].to_numpy()))\n",
    "plt.sca(ax[1])\n",
    "plt.box(True);plt.grid(True);\n",
    "plt.scatter(np.mean(solution.iloc[:,2:284].to_numpy(),1), np.mean(solution.iloc[:,2:284].to_numpy()-submission.iloc[:,2:284].to_numpy(),1))\n",
    "plt.title(1e6*kgs.rms(solution.iloc[:,2:284].to_numpy()-submission.iloc[:,2:284].to_numpy()))"
   ]
  },
  {
   "cell_type": "code",
   "execution_count": null,
   "id": "89944a58-59de-4ba0-8175-317b08e3a1ff",
   "metadata": {
    "tags": []
   },
   "outputs": [],
   "source": [
    "ind = np.argmax(np.abs(np.mean(solution.iloc[:,2:284].to_numpy()-submission.iloc[:,2:284].to_numpy(),1)))\n",
    "ind"
   ]
  },
  {
   "cell_type": "code",
   "execution_count": null,
   "id": "03a83ae5-e147-47ec-a641-4df23e8c0755",
   "metadata": {},
   "outputs": [],
   "source": [
    "import ariel_simple\n",
    "import copy\n",
    "kgs.sanity_checks_active = False\n",
    "importlib.reload(ariel_simple)\n",
    "ind=968\n",
    "model = ariel_simple.SimpleModel()\n",
    "model.run_in_parallel = False\n",
    "model.do_plots = True\n",
    "model.use_correction_factor = True\n",
    "model.train(train_data)\n",
    "data = copy.deepcopy(train_data[ind:ind+1])\n",
    "#kgs.list_attrs(data[0])\n",
    "# for d_ref in train_data:\n",
    "#     dat = copy.deepcopy(d_ref)\n",
    "#     dat.spectrum = train_data[ind].spectrum\n",
    "#     dat.planet_id = train_data[ind].planet_id\n",
    "#     data = [dat]\n",
    "    #data[0].sma = sma\n",
    "    #for ii in range(2):\n",
    "    #    pass\n",
    "       #model.loaders[ii].apply_full_sensor_corrections.remove_background_based_on_pixels = False    \n",
    "       #model.loaders[ii].apply_full_sensor_corrections.remove_background_based_on_rows = False    \n",
    "     #   model.loaders[ii].apply_pixel_corrections.mask_hot = False\n",
    "     #   model.loaders[ii].apply_pixel_corrections.mask_hot = False\n",
    "inferred_data = model.infer(data)\n",
    "print(model.correction_factor)\n",
    "print(np.mean(data[0].spectrum[:1]-inferred_data[0].spectrum[:1]), np.mean(data[0].spectrum[1:]-inferred_data[0].spectrum[1:]), kgs.rms(model.pred[1]-model._targets[1]))"
   ]
  },
  {
   "cell_type": "code",
   "execution_count": null,
   "id": "9836e3dd-ec89-4a7f-a9d8-0d68fcf1a684",
   "metadata": {
    "tags": []
   },
   "outputs": [],
   "source": [
    "%%time\n",
    "import ariel_load\n",
    "import copy\n",
    "kgs.profiling=False\n",
    "importlib.reload(ariel_load)\n",
    "loaders = ariel_load.default_loaders()\n",
    "d = copy.deepcopy(train_data[968])\n",
    "d.transits[0].load_to_step(2, d, loaders)\n",
    "print(d.transits[0].data[0].data.shape, d.transits[0].data[1].data.shape, d.transits[0].data[0].data[:2,:2,:2], d.transits[0].data[1].data[:2,:2,:2])\n",
    "plt.figure()\n",
    "plt.imshow(np.log(np.mean(d.transits[0].data[0].data.get(), axis=0)),aspect='auto')\n",
    "plt.colorbar()\n",
    "plt.figure()\n",
    "plt.imshow(np.log(np.mean(d.transits[0].data[1].data.get(), axis=0)),aspect='auto')\n",
    "plt.colorbar()\n",
    "#d.transits[0].load_to_step(0,d,loaders)\n",
    "#d.transits[0].data[0]\n",
    "#ref = kgs.dill_load(kgs.temp_dir + '/ref.pickle')\n",
    "#assert cp.array_equal(ref[0].data, d.transits[0].data[0].data, equal_nan=True)\n",
    "#assert cp.array_equal(ref[1].data, d.transits[0].data[1].data, equal_nan=True)"
   ]
  },
  {
   "cell_type": "code",
   "execution_count": null,
   "id": "b6bfc74d-f886-4acd-8b55-5eb6ecdcd341",
   "metadata": {
    "tags": []
   },
   "outputs": [],
   "source": [
    "%%time\n",
    "import ariel_load\n",
    "import copy\n",
    "kgs.profiling=False\n",
    "importlib.reload(ariel_load)\n",
    "loaders = ariel_load.default_loaders()\n",
    "d = copy.deepcopy(train_data[0])\n",
    "d.transits[0].load_to_step(2, d, loaders)\n",
    "print(d.transits[0].data[0].data.shape, d.transits[0].data[1].data.shape, d.transits[0].data[0].data[:2,:2,:2], d.transits[0].data[1].data[:2,:2,:2])\n",
    "plt.figure()\n",
    "plt.imshow(np.log(np.mean(d.transits[0].data[0].data.get(), axis=0)),aspect='auto')\n",
    "plt.colorbar()\n",
    "plt.figure()\n",
    "plt.imshow(np.log(np.mean(d.transits[0].data[1].data.get(), axis=0)),aspect='auto')\n",
    "plt.colorbar()\n",
    "#d.transits[0].load_to_step(0,d,loaders)\n",
    "#d.transits[0].data[0]\n",
    "#ref = kgs.dill_load(kgs.temp_dir + '/ref.pickle')\n",
    "#assert cp.array_equal(ref[0].data, d.transits[0].data[0].data, equal_nan=True)\n",
    "#assert cp.array_equal(ref[1].data, d.transits[0].data[1].data, equal_nan=True)"
   ]
  },
  {
   "cell_type": "code",
   "execution_count": null,
   "id": "c26a9f83-d639-4627-b694-83480ec77ae8",
   "metadata": {},
   "outputs": [],
   "source": []
  }
 ],
 "metadata": {
  "kernelspec": {
   "display_name": "Python 3 (ipykernel)",
   "language": "python",
   "name": "python3"
  },
  "language_info": {
   "codemirror_mode": {
    "name": "ipython",
    "version": 3
   },
   "file_extension": ".py",
   "mimetype": "text/x-python",
   "name": "python",
   "nbconvert_exporter": "python",
   "pygments_lexer": "ipython3",
   "version": "3.11.13"
  }
 },
 "nbformat": 4,
 "nbformat_minor": 5
}
