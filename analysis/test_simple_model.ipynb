{
 "cells": [
  {
   "cell_type": "code",
   "execution_count": 1,
   "id": "f83b89e4-ae65-4669-9e78-15f817bc2b71",
   "metadata": {
    "tags": []
   },
   "outputs": [
    {
     "name": "stdout",
     "output_type": "stream",
     "text": [
      "local\n"
     ]
    }
   ],
   "source": [
    "import sys\n",
    "sys.path.append('/mnt/d/ariel2/code/core/')\n",
    "import kaggle_support as kgs\n",
    "import importlib\n",
    "import matplotlib.pyplot as plt\n",
    "import numpy as np\n",
    "import cupy as cp\n",
    "import ariel_load\n",
    "import tqdm"
   ]
  },
  {
   "cell_type": "code",
   "execution_count": 2,
   "id": "34c09eb5-452c-4b2d-8892-48eb82f160f5",
   "metadata": {
    "tags": []
   },
   "outputs": [
    {
     "name": "stdout",
     "output_type": "stream",
     "text": [
      "CPU times: user 556 ms, sys: 110 ms, total: 665 ms\n",
      "Wall time: 1.85 s\n"
     ]
    },
    {
     "data": {
      "text/plain": [
       "(1099, 1)"
      ]
     },
     "execution_count": 2,
     "metadata": {},
     "output_type": "execute_result"
    }
   ],
   "source": [
    "%%time\n",
    "train_data = kgs.load_all_train_data()\n",
    "test_data = kgs.load_all_test_data()\n",
    "len(train_data), len(test_data)"
   ]
  },
  {
   "cell_type": "code",
   "execution_count": null,
   "id": "6f79d1a5-a6cd-487b-97fd-646a5ba25027",
   "metadata": {
    "tags": []
   },
   "outputs": [
    {
     "name": "stdout",
     "output_type": "stream",
     "text": [
      "[   0   14   27   41   55   68   82   95  109  123  136  150  164  177\n",
      "  191  204  218  232  245  259  273  286  300  313  327  341  354  368\n",
      "  382  395  409  422  436  450  463  477  491  504  518  531  545  559\n",
      "  572  586  600  613  627  640  654  668  681  695  709  722  736  749\n",
      "  763  777  790  804  818  831  845  858  872  886  899  913  927  940\n",
      "  954  967  981  995 1008 1022 1036 1049 1063 1076 1090 1104 1117 1131\n",
      " 1145 1158 1172 1185 1199 1213 1226 1240 1254 1267 1281 1294 1308 1322\n",
      " 1335 1349]\n",
      "[450 463 477 491 504 518 531 545 559 572 586 600 613 627 640 654 668 681\n",
      " 695 709 722 736 749 763 777 790 804 818 831 845 858 872 886 899]\n",
      "[2.50276389 2.57498611 2.65276389 2.73054167 2.80276389 2.88054167\n",
      " 2.95276389 3.03054167 3.10831944 3.18054167 3.25831944 3.33609722\n",
      " 3.40831944 3.48609722 3.55831944 3.63609722 3.713875   3.78609722\n",
      " 3.863875   3.94165278 4.013875   4.09165278 4.163875   4.24165278\n",
      " 4.31943056 4.39165278 4.46943056 4.54720833 4.61943056 4.69720833\n",
      " 4.76943056 4.84720833 4.92498611 4.99720833]\n",
      "(array(13), array(136))\n",
      "1302\n",
      "[   0   11   23   34   45   57   68   79   91  102  114  125  136  148\n",
      "  159  170  182  193  204  216  227  238  250  261  272  284  295  307\n",
      "  318  329  341  352  363  375  386  397  409  420  431  443  454  465\n",
      "  477  488  500  511  522  534  545  556  568  579  590  602  613  624\n",
      "  636  647  659  670  681  693  704  715  727  738  749  761  772  783\n",
      "  795  806  817  829  840  852  863  874  886  897  908  920  931  942\n",
      "  954  965  976  988  999 1010 1022 1033 1045 1056 1067 1079 1090 1101\n",
      " 1113 1124]\n",
      "[375 386 397 409 420 431 443 454 465 477 488 500 511 522 534 545 556 568\n",
      " 579 590 602 613 624 636 647 659 670 681 693 704 715 727 738 749]\n",
      "[2.50270833 2.57604167 2.649375   2.729375   2.80270833 2.87604167\n",
      " 2.95604167 3.029375   3.10270833 3.18270833 3.25604167 3.33604167\n",
      " 3.409375   3.48270833 3.56270833 3.63604167 3.709375   3.789375\n",
      " 3.86270833 3.93604167 4.01604167 4.089375   4.16270833 4.24270833\n",
      " 4.31604167 4.39604167 4.469375   4.54270833 4.62270833 4.69604167\n",
      " 4.769375   4.849375   4.92270833 4.99604167]\n",
      "(array(13), array(134))\n",
      "1084\n"
     ]
    }
   ],
   "source": [
    "import ariel_simple2\n",
    "importlib.reload(ariel_simple2)\n",
    "model = ariel_simple2.SimpleModel()\n",
    "model.do_plots=True\n",
    "model.run_in_parallel = False    \n",
    "model.train(train_data)\n",
    "#model.bias_a = [0.,0.]\n",
    "#model.bias_b = [0.,0.]\n",
    "data = train_data[:1]\n",
    "inferred_data = model.infer(data)"
   ]
  },
  {
   "cell_type": "code",
   "execution_count": 6,
   "id": "8047747a-7463-41a1-bf5a-97f850347f5a",
   "metadata": {
    "tags": []
   },
   "outputs": [
    {
     "name": "stdout",
     "output_type": "stream",
     "text": [
      "> \u001b[0;32m/mnt/d/ariel2/code/core/ariel_simple2.py\u001b[0m(145)\u001b[0;36m_infer_single\u001b[0;34m()\u001b[0m\n",
      "\u001b[0;32m    143 \u001b[0;31m                \u001b[0mt0_vals\u001b[0m \u001b[0;34m=\u001b[0m \u001b[0mnp\u001b[0m\u001b[0;34m.\u001b[0m\u001b[0mround\u001b[0m\u001b[0;34m(\u001b[0m\u001b[0mnp\u001b[0m\u001b[0;34m.\u001b[0m\u001b[0mlinspace\u001b[0m\u001b[0;34m(\u001b[0m\u001b[0;36m0\u001b[0m\u001b[0;34m,\u001b[0m\u001b[0mlen\u001b[0m\u001b[0;34m(\u001b[0m\u001b[0mself\u001b[0m\u001b[0;34m.\u001b[0m\u001b[0m_times\u001b[0m\u001b[0;34m[\u001b[0m\u001b[0mii\u001b[0m\u001b[0;34m]\u001b[0m\u001b[0;34m)\u001b[0m\u001b[0;34m,\u001b[0m\u001b[0mself\u001b[0m\u001b[0;34m.\u001b[0m\u001b[0mt_steps\u001b[0m\u001b[0;34m)\u001b[0m\u001b[0;34m)\u001b[0m\u001b[0;34m.\u001b[0m\u001b[0mastype\u001b[0m\u001b[0;34m(\u001b[0m\u001b[0mint\u001b[0m\u001b[0;34m)\u001b[0m\u001b[0;34m\u001b[0m\u001b[0;34m\u001b[0m\u001b[0m\n",
      "\u001b[0m\u001b[0;32m    144 \u001b[0;31m                \u001b[0mprint\u001b[0m\u001b[0;34m(\u001b[0m\u001b[0mt0_vals\u001b[0m\u001b[0;34m)\u001b[0m\u001b[0;34m\u001b[0m\u001b[0;34m\u001b[0m\u001b[0m\n",
      "\u001b[0m\u001b[0;32m--> 145 \u001b[0;31m                \u001b[0mt0_vals\u001b[0m \u001b[0;34m=\u001b[0m \u001b[0mt0_vals\u001b[0m\u001b[0;34m[\u001b[0m\u001b[0mself\u001b[0m\u001b[0;34m.\u001b[0m\u001b[0m_times\u001b[0m\u001b[0;34m[\u001b[0m\u001b[0mt0_vals\u001b[0m\u001b[0;34m]\u001b[0m\u001b[0;34m>\u001b[0m\u001b[0mself\u001b[0m\u001b[0;34m.\u001b[0m\u001b[0mmin_t0\u001b[0m \u001b[0;34m&\u001b[0m \u001b[0;34m[\u001b[0m\u001b[0mself\u001b[0m\u001b[0;34m.\u001b[0m\u001b[0m_times\u001b[0m\u001b[0;34m[\u001b[0m\u001b[0mt0_vals\u001b[0m\u001b[0;34m]\u001b[0m\u001b[0;34m>\u001b[0m\u001b[0mself\u001b[0m\u001b[0;34m.\u001b[0m\u001b[0mmax_t0\u001b[0m\u001b[0;34m]\u001b[0m\u001b[0;34m]\u001b[0m\u001b[0;34m\u001b[0m\u001b[0;34m\u001b[0m\u001b[0m\n",
      "\u001b[0m\u001b[0;32m    146 \u001b[0;31m                \u001b[0mprint\u001b[0m\u001b[0;34m(\u001b[0m\u001b[0mt0_vals\u001b[0m\u001b[0;34m)\u001b[0m\u001b[0;34m\u001b[0m\u001b[0;34m\u001b[0m\u001b[0m\n",
      "\u001b[0m\u001b[0;32m    147 \u001b[0;31m                \u001b[0mres_mat\u001b[0m \u001b[0;34m=\u001b[0m \u001b[0mcp\u001b[0m\u001b[0;34m.\u001b[0m\u001b[0mempty\u001b[0m\u001b[0;34m(\u001b[0m\u001b[0;34m(\u001b[0m\u001b[0mlen\u001b[0m\u001b[0;34m(\u001b[0m\u001b[0mt0_vals\u001b[0m\u001b[0;34m)\u001b[0m\u001b[0;34m,\u001b[0m \u001b[0mlen\u001b[0m\u001b[0;34m(\u001b[0m\u001b[0mself\u001b[0m\u001b[0;34m.\u001b[0m\u001b[0mrp_vals\u001b[0m\u001b[0;34m)\u001b[0m\u001b[0;34m)\u001b[0m\u001b[0;34m)\u001b[0m\u001b[0;34m\u001b[0m\u001b[0;34m\u001b[0m\u001b[0m\n",
      "\u001b[0m\n"
     ]
    },
    {
     "name": "stdin",
     "output_type": "stream",
     "text": [
      "ipdb>  self._times[t0_vals]\n"
     ]
    },
    {
     "name": "stdout",
     "output_type": "stream",
     "text": [
      "*** TypeError: only integer scalar arrays can be converted to a scalar index\n"
     ]
    },
    {
     "name": "stdin",
     "output_type": "stream",
     "text": [
      "ipdb>  t0_vals\n"
     ]
    },
    {
     "name": "stdout",
     "output_type": "stream",
     "text": [
      "array([   0,   14,   27,   41,   55,   68,   82,   95,  109,  123,  136,\n",
      "        150,  164,  177,  191,  205,  218,  232,  245,  259,  273,  286,\n",
      "        300,  314,  327,  341,  355,  368,  382,  395,  409,  423,  436,\n",
      "        450,  464,  477,  491,  505,  518,  532,  545,  559,  573,  586,\n",
      "        600,  614,  627,  641,  655,  668,  682,  695,  709,  723,  736,\n",
      "        750,  764,  777,  791,  805,  818,  832,  845,  859,  873,  886,\n",
      "        900,  914,  927,  941,  955,  968,  982,  995, 1009, 1023, 1036,\n",
      "       1050, 1064, 1077, 1091, 1105, 1118, 1132, 1145, 1159, 1173, 1186,\n",
      "       1200, 1214, 1227, 1241, 1255, 1268, 1282, 1295, 1309, 1323, 1336,\n",
      "       1350])\n"
     ]
    },
    {
     "name": "stdin",
     "output_type": "stream",
     "text": [
      "ipdb>  self._times\n"
     ]
    },
    {
     "name": "stdout",
     "output_type": "stream",
     "text": [
      "[array([2.76388889e-03, 8.31944444e-03, 1.38750000e-02, ...,\n",
      "       7.48609722e+00, 7.49165278e+00, 7.49715278e+00]), array([2.70833333e-03, 9.37500000e-03, 1.60416667e-02, ...,\n",
      "       7.48270833e+00, 7.48937500e+00, 7.49537500e+00])]\n"
     ]
    },
    {
     "name": "stdin",
     "output_type": "stream",
     "text": [
      "ipdb>  t0_vals.ahep\n"
     ]
    },
    {
     "name": "stdout",
     "output_type": "stream",
     "text": [
      "*** AttributeError: 'numpy.ndarray' object has no attribute 'ahep'\n"
     ]
    },
    {
     "name": "stdin",
     "output_type": "stream",
     "text": [
      "ipdb>  t0_vals.shape\n"
     ]
    },
    {
     "name": "stdout",
     "output_type": "stream",
     "text": [
      "(100,)\n"
     ]
    },
    {
     "name": "stdin",
     "output_type": "stream",
     "text": [
      "ipdb>  self._times.shape\n"
     ]
    },
    {
     "name": "stdout",
     "output_type": "stream",
     "text": [
      "*** AttributeError: 'list' object has no attribute 'shape'\n"
     ]
    },
    {
     "name": "stdin",
     "output_type": "stream",
     "text": [
      "ipdb>  self._times\n"
     ]
    },
    {
     "name": "stdout",
     "output_type": "stream",
     "text": [
      "[array([2.76388889e-03, 8.31944444e-03, 1.38750000e-02, ...,\n",
      "       7.48609722e+00, 7.49165278e+00, 7.49715278e+00]), array([2.70833333e-03, 9.37500000e-03, 1.60416667e-02, ...,\n",
      "       7.48270833e+00, 7.48937500e+00, 7.49537500e+00])]\n"
     ]
    },
    {
     "name": "stdin",
     "output_type": "stream",
     "text": [
      "ipdb>  q\n"
     ]
    }
   ],
   "source": [
    "%debug"
   ]
  },
  {
   "cell_type": "code",
   "execution_count": null,
   "id": "b5c687b9-073a-4dba-9993-4ebad0695cad",
   "metadata": {
    "tags": []
   },
   "outputs": [],
   "source": [
    "for ii in range(2):\n",
    "    print(inferred_data[ii].diagnostics['t_ingress'],inferred_data[ii].diagnostics['t_egress'])\n",
    "    plt.figure()\n",
    "    plt.plot(model._times[0], model.pred[0])"
   ]
  },
  {
   "cell_type": "code",
   "execution_count": null,
   "id": "589d22e6-bc37-4997-8ee3-b4e782fc3364",
   "metadata": {
    "tags": []
   },
   "outputs": [],
   "source": [
    "%debug"
   ]
  },
  {
   "cell_type": "code",
   "execution_count": null,
   "id": "a5765c01-5c25-412d-916f-c4934ae7fa1f",
   "metadata": {
    "tags": []
   },
   "outputs": [],
   "source": [
    "import ariel_simple\n",
    "importlib.reload(ariel_simple)\n",
    "df = 0.05\n",
    "for jj in [0]:\n",
    "    model = ariel_simple.SimpleModel()\n",
    "    model.run_in_parallel = True\n",
    "    match jj:\n",
    "        case 0:\n",
    "            name = 'Default'\n",
    "        case 1:\n",
    "            name = 'Use correction factor'\n",
    "            model.use_correction_factor = True        \n",
    "    model.do_plots = False\n",
    "    model.train(train_data)\n",
    "    #model.bias_a = [0.,0.]\n",
    "    #model.bias_b = [0.,0.]\n",
    "    data = train_data\n",
    "    inferred_data = model.infer(data)\n",
    "    print(name)\n",
    "    solution = kgs.make_submission_dataframe(data, include_sigma=False)\n",
    "    submission = kgs.make_submission_dataframe(inferred_data, False)\n",
    "    print(1e6*robust_linear_fit_rms(solution.iloc[:,1].to_numpy(), solution.iloc[:,1].to_numpy()-submission.iloc[:,1].to_numpy(), drop_frac=df), 1e6*robust_linear_fit_rms(solution.iloc[:,1].to_numpy(), solution.iloc[:,1].to_numpy()-submission.iloc[:,1].to_numpy(), drop_frac=0))\n",
    "    print(1e6*robust_linear_fit_rms(np.mean(solution.iloc[:,2:284].to_numpy(),1), np.mean(solution.iloc[:,2:284].to_numpy()-submission.iloc[:,2:284].to_numpy(),1),drop_frac=df),\n",
    "         1e6*robust_linear_fit_rms(np.mean(solution.iloc[:,2:284].to_numpy(),1), np.mean(solution.iloc[:,2:284].to_numpy()-submission.iloc[:,2:284].to_numpy(),1),drop_frac=0))\n",
    "    kgs.sanity_checks['simple_residual_diff_FGS'] = kgs.SanityCheckValue('simple_residual_diff_FGS', 12, [-1,1])\n",
    "    kgs.sanity_checks['simple_residual_diff_FGS'].seen_all = [d.diagnostics['simple_residual_diff_FGS'] for d in inferred_data]\n",
    "    kgs.sanity_checks['simple_residual_diff_AIRS'] = kgs.SanityCheckValue('simple_residual_diff_AIRS', 12, [-1,1])\n",
    "    kgs.sanity_checks['simple_residual_diff_AIRS'].seen_all = [d.diagnostics['simple_residual_diff_AIRS'] for d in inferred_data]\n",
    "    kgs.dill_save(kgs.temp_dir + '/test_simple.pickle', (data,inferred_data,kgs.sanity_checks))"
   ]
  },
  {
   "cell_type": "code",
   "execution_count": null,
   "id": "08f9bfec-c423-4808-8032-0a44f34b314c",
   "metadata": {
    "tags": []
   },
   "outputs": [],
   "source": [
    "print(1e6*robust_linear_fit_rms(solution.iloc[:,1].to_numpy(), solution.iloc[:,1].to_numpy()-submission.iloc[:,1].to_numpy(), drop_frac=df), 1e6*robust_linear_fit_rms(solution.iloc[:,1].to_numpy(), solution.iloc[:,1].to_numpy()-submission.iloc[:,1].to_numpy(), drop_frac=0))\n",
    "print(1e6*robust_linear_fit_rms(np.mean(solution.iloc[:,2:284].to_numpy(),1), np.mean(solution.iloc[:,2:284].to_numpy()-submission.iloc[:,2:284].to_numpy(),1),drop_frac=df),\n",
    "    1e6*robust_linear_fit_rms(np.mean(solution.iloc[:,2:284].to_numpy(),1), np.mean(solution.iloc[:,2:284].to_numpy()-submission.iloc[:,2:284].to_numpy(),1),drop_frac=0))"
   ]
  },
  {
   "cell_type": "code",
   "execution_count": null,
   "id": "15792e59-a1cb-47bf-886d-39c81a3d43d0",
   "metadata": {
    "tags": []
   },
   "outputs": [],
   "source": [
    "score, rms_err = kgs.score_metric(inferred_data, data)\n",
    "#np.sqrt(np.diag(inferred_data[0].spectrum_cov))"
   ]
  },
  {
   "cell_type": "code",
   "execution_count": null,
   "id": "84ab98e6-c66d-4ed1-8caa-d6818d95c986",
   "metadata": {
    "tags": []
   },
   "outputs": [],
   "source": [
    "import copy\n",
    "data_sim = copy.deepcopy(data)\n",
    "sig = rms_err\n",
    "for ii,d in enumerate(data_sim):\n",
    "    d.spectrum += np.random.default_rng(seed=ii).normal(0,sig,size=d.spectrum.shape)\n",
    "    d.spectrum_cov = np.diag(0*d.spectrum+sig**2)\n",
    "    d.check_constraints()\n",
    "print('Theoretical')\n",
    "kgs.score_metric(data_sim, data);"
   ]
  },
  {
   "cell_type": "code",
   "execution_count": null,
   "id": "d97c3dd0-0665-4117-82e3-61ce8b94ae8f",
   "metadata": {
    "tags": []
   },
   "outputs": [],
   "source": [
    "kgs.print_sanity_checks()"
   ]
  },
  {
   "cell_type": "code",
   "execution_count": null,
   "id": "88e2018e-8cdf-4600-bfd9-4ae6724d3148",
   "metadata": {
    "tags": []
   },
   "outputs": [],
   "source": [
    "plt.figure();\n",
    "plt.scatter(kgs.sanity_checks['simple_residual_diff_FGS'].seen_all, solution.iloc[:,1].to_numpy()-submission.iloc[:,1].to_numpy())\n",
    "plt.figure();\n",
    "plt.scatter(kgs.sanity_checks['simple_residual_diff_AIRS'].seen_all, np.mean(solution.iloc[:,2:284].to_numpy()-submission.iloc[:,2:284].to_numpy(),1))"
   ]
  },
  {
   "cell_type": "code",
   "execution_count": null,
   "id": "bd5e68a4-3f5b-48be-9d59-73cbdd9b14fc",
   "metadata": {
    "tags": []
   },
   "outputs": [],
   "source": [
    "plt.figure()\n",
    "plt.plot(kgs.sanity_checks['simple_residual_diff_FGS'].seen_all)\n",
    "plt.plot(kgs.sanity_checks['simple_residual_diff_AIRS'].seen_all)\n",
    "plt.legend(('FGS', 'AIRS'))\n",
    "plt.grid(True)"
   ]
  },
  {
   "cell_type": "code",
   "execution_count": null,
   "id": "54ee3b08-5a25-4831-9c83-beefa76dc5f2",
   "metadata": {
    "tags": []
   },
   "outputs": [],
   "source": [
    "solution = kgs.make_submission_dataframe(data, include_sigma=False)\n",
    "submission = kgs.make_submission_dataframe(inferred_data, False)\n"
   ]
  },
  {
   "cell_type": "code",
   "execution_count": null,
   "id": "c3c86eff-7034-4ab9-9764-54467da159e8",
   "metadata": {
    "tags": []
   },
   "outputs": [],
   "source": [
    "kgs.rms(solution.iloc[:,1:2].to_numpy()-submission.iloc[:,1:2].to_numpy()),kgs.rms(solution.iloc[:,2:284].to_numpy()-submission.iloc[:,2:284].to_numpy())"
   ]
  },
  {
   "cell_type": "code",
   "execution_count": null,
   "id": "0fd6096d-bea3-484c-ae89-4802a5da7965",
   "metadata": {
    "tags": []
   },
   "outputs": [],
   "source": [
    "_,ax=plt.subplots(1,2,figsize=(10,5))\n",
    "plt.sca(ax[0])\n",
    "plt.box(True);plt.grid(True);\n",
    "plt.scatter(solution.iloc[:,1].to_numpy(), solution.iloc[:,1].to_numpy()-submission.iloc[:,1].to_numpy())\n",
    "plt.title(1e6*kgs.rms(solution.iloc[:,1:2].to_numpy()-submission.iloc[:,1:2].to_numpy()))\n",
    "plt.sca(ax[1])\n",
    "plt.box(True);plt.grid(True);\n",
    "plt.scatter(np.mean(solution.iloc[:,2:284].to_numpy(),1), np.mean(solution.iloc[:,2:284].to_numpy()-submission.iloc[:,2:284].to_numpy(),1))\n",
    "plt.title(1e6*kgs.rms(solution.iloc[:,2:284].to_numpy()-submission.iloc[:,2:284].to_numpy()))"
   ]
  },
  {
   "cell_type": "code",
   "execution_count": null,
   "id": "89944a58-59de-4ba0-8175-317b08e3a1ff",
   "metadata": {
    "tags": []
   },
   "outputs": [],
   "source": [
    "ind = np.argmax(np.abs(np.mean(solution.iloc[:,2:284].to_numpy()-submission.iloc[:,2:284].to_numpy(),1)))\n",
    "ind"
   ]
  },
  {
   "cell_type": "code",
   "execution_count": null,
   "id": "c946655e-c7ed-4373-8183-96f7d4534c5d",
   "metadata": {},
   "outputs": [],
   "source": [
    "plt.scatter([len(d.transits) for d in train_data],np.mean(solution.iloc[:,2:284].to_numpy()-submission.iloc[:,2:284].to_numpy(),1))"
   ]
  },
  {
   "cell_type": "code",
   "execution_count": null,
   "id": "fe391af5-2fe1-4657-bb0b-ac16be802522",
   "metadata": {},
   "outputs": [],
   "source": [
    "plt.scatter([d.i for d in train_data],kgs.sanity_checks['simple_residual_diff_AIRS'].seen_all)"
   ]
  },
  {
   "cell_type": "code",
   "execution_count": null,
   "id": "7fcb1d5e-81ac-4240-a527-eb227f0762a1",
   "metadata": {},
   "outputs": [],
   "source": [
    "import ariel_simple\n",
    "importlib.reload(ariel_simple)\n",
    "df = 0.05\n",
    "model = ariel_simple.SimpleModel()\n",
    "model.run_in_parallel = True  \n",
    "model.do_plots = False\n",
    "#model.bias_a = [0.,0.]\n",
    "#model.bias_b = [0.,0.]\n",
    "data = train_data[:50]\n",
    "model.train(data)\n",
    "inferred_data = model.infer(data)\n",
    "solution = kgs.make_submission_dataframe(data, include_sigma=False)\n",
    "submission = kgs.make_submission_dataframe(inferred_data, False)\n",
    "print(1e6*robust_linear_fit_rms(solution.iloc[:,1].to_numpy(), solution.iloc[:,1].to_numpy()-submission.iloc[:,1].to_numpy(), drop_frac=df), 1e6*robust_linear_fit_rms(solution.iloc[:,1].to_numpy(), solution.iloc[:,1].to_numpy()-submission.iloc[:,1].to_numpy(), drop_frac=0))\n",
    "print(1e6*robust_linear_fit_rms(np.mean(solution.iloc[:,2:284].to_numpy(),1), np.mean(solution.iloc[:,2:284].to_numpy()-submission.iloc[:,2:284].to_numpy(),1),drop_frac=df),\n",
    "     1e6*robust_linear_fit_rms(np.mean(solution.iloc[:,2:284].to_numpy(),1), np.mean(solution.iloc[:,2:284].to_numpy()-submission.iloc[:,2:284].to_numpy(),1),drop_frac=0))\n",
    "kgs.score_metric(inferred_data,data)"
   ]
  },
  {
   "cell_type": "code",
   "execution_count": null,
   "id": "12eb9489-424b-43e2-a8ec-4bcbf4553788",
   "metadata": {
    "tags": []
   },
   "outputs": [],
   "source": [
    "import ariel_model\n",
    "importlib.reload(ariel_model)\n",
    "df = 0.05\n",
    "model = ariel_simple.SimpleModel()\n",
    "model.run_in_parallel = True  \n",
    "model.do_plots = False\n",
    "model.bias_a = [0.,0.]\n",
    "model.bias_b = [0.,0.]\n",
    "model = ariel_model.Fudger(model=model)\n",
    "data = train_data[:5]\n",
    "print('5')\n",
    "model.train(data)\n",
    "inferred_data = model.infer(data)\n",
    "solution = kgs.make_submission_dataframe(data, include_sigma=False)\n",
    "submission = kgs.make_submission_dataframe(inferred_data, False)\n",
    "print(1e6*robust_linear_fit_rms(solution.iloc[:,1].to_numpy(), solution.iloc[:,1].to_numpy()-submission.iloc[:,1].to_numpy(), drop_frac=df), 1e6*robust_linear_fit_rms(solution.iloc[:,1].to_numpy(), solution.iloc[:,1].to_numpy()-submission.iloc[:,1].to_numpy(), drop_frac=0))\n",
    "print(1e6*robust_linear_fit_rms(np.mean(solution.iloc[:,2:284].to_numpy(),1), np.mean(solution.iloc[:,2:284].to_numpy()-submission.iloc[:,2:284].to_numpy(),1),drop_frac=df),\n",
    "     1e6*robust_linear_fit_rms(np.mean(solution.iloc[:,2:284].to_numpy(),1), np.mean(solution.iloc[:,2:284].to_numpy()-submission.iloc[:,2:284].to_numpy(),1),drop_frac=0))\n",
    "kgs.score_metric(inferred_data,data)"
   ]
  },
  {
   "cell_type": "code",
   "execution_count": null,
   "id": "d99607d7-9955-4064-a3a0-8eb3cd9826da",
   "metadata": {
    "tags": []
   },
   "outputs": [],
   "source": [
    "model.sigma_fudge"
   ]
  },
  {
   "cell_type": "code",
   "execution_count": null,
   "id": "9ee2553e-dacf-49ec-8f8d-0a66807af4d7",
   "metadata": {
    "tags": []
   },
   "outputs": [],
   "source": [
    "%debug"
   ]
  },
  {
   "cell_type": "code",
   "execution_count": null,
   "id": "6f6102c6-3fe4-42ae-a7f0-d59f5b31917d",
   "metadata": {},
   "outputs": [],
   "source": []
  }
 ],
 "metadata": {
  "kernelspec": {
   "display_name": "Python 3 (ipykernel)",
   "language": "python",
   "name": "python3"
  },
  "language_info": {
   "codemirror_mode": {
    "name": "ipython",
    "version": 3
   },
   "file_extension": ".py",
   "mimetype": "text/x-python",
   "name": "python",
   "nbconvert_exporter": "python",
   "pygments_lexer": "ipython3",
   "version": "3.11.13"
  }
 },
 "nbformat": 4,
 "nbformat_minor": 5
}
