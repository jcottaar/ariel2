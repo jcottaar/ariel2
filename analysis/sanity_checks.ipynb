{
 "cells": [
  {
   "cell_type": "code",
   "execution_count": 1,
   "id": "f83b89e4-ae65-4669-9e78-15f817bc2b71",
   "metadata": {
    "tags": []
   },
   "outputs": [
    {
     "name": "stdout",
     "output_type": "stream",
     "text": [
      "local\n"
     ]
    }
   ],
   "source": [
    "import sys\n",
    "sys.path.append('/mnt/d/ariel2/code/core/')\n",
    "import kaggle_support as kgs\n",
    "import importlib\n",
    "import matplotlib.pyplot as plt\n",
    "import numpy as np\n",
    "import ariel_load\n",
    "import ariel_model\n",
    "import copy\n",
    "import tqdm\n",
    "kgs.sanity_checks_active = True\n",
    "kgs.sanity_checks_without_errors = True"
   ]
  },
  {
   "cell_type": "code",
   "execution_count": 2,
   "id": "99b7ffc2-2f42-4ba8-a481-813c55251753",
   "metadata": {
    "tags": []
   },
   "outputs": [
    {
     "data": {
      "text/plain": [
       "(1100, 1)"
      ]
     },
     "execution_count": 2,
     "metadata": {},
     "output_type": "execute_result"
    }
   ],
   "source": [
    "train_data = kgs.load_all_train_data()\n",
    "test_data = kgs.load_all_test_data()\n",
    "len(train_data), len(test_data)"
   ]
  },
  {
   "cell_type": "code",
   "execution_count": 3,
   "id": "1b8f245f-7fb9-4579-9ce8-5f9a33ff9578",
   "metadata": {
    "tags": []
   },
   "outputs": [
    {
     "name": "stderr",
     "output_type": "stream",
     "text": [
      "Inferring: 100%|████████████████████████████████████████████████████████████████████| 1100/1100 [20:13<00:00,  1.10s/it]\n"
     ]
    },
    {
     "name": "stdout",
     "output_type": "stream",
     "text": [
      "Opt time 217.95796632766724\n",
      "Score:          0.4216\n",
      "RMS error FGS:  237.73 ppm\n",
      "RMS error AIRS: 496.73 ppm\n"
     ]
    },
    {
     "data": {
      "text/plain": [
       "(0.42164738173047883, 0.00023773234146904317, 0.0004967263323658412)"
      ]
     },
     "execution_count": 3,
     "metadata": {},
     "output_type": "execute_result"
    }
   ],
   "source": [
    "# loaders = ariel_load.default_loaders()\n",
    "# for d in tqdm.tqdm(train_data):\n",
    "#     dd = copy.deepcopy(d)\n",
    "#     for t in dd.transits:\n",
    "#         t.load_to_step(5,dd,loaders)\n",
    "#     kgs.print_sanity_checks()\n",
    "model = ariel_model.baseline_model()\n",
    "data = train_data\n",
    "model.train(data)\n",
    "inferred_data = model.infer(data)\n",
    "kgs.score_metric(inferred_data, data)"
   ]
  },
  {
   "cell_type": "code",
   "execution_count": 4,
   "id": "d866ddec-4adf-42f8-a3c7-ce41aa5d30c2",
   "metadata": {
    "tags": []
   },
   "outputs": [
    {
     "name": "stdout",
     "output_type": "stream",
     "text": [
      "simple_t0 [10799.912077835505, 16196.720860299289] [9000.0, 18000] 11\n",
      "simple_residual_diff_FGS [-1.928185938662914e-05, 0.00010923462462865017] [-0.0001, 0.00012] 12\n",
      "simple_residual_diff_AIRS [-5.083162438973126e-06, 2.1316825559938808e-05] [-0.0001, 3e-05] 13\n"
     ]
    }
   ],
   "source": [
    "kgs.print_sanity_checks()"
   ]
  }
 ],
 "metadata": {
  "kernelspec": {
   "display_name": "Python 3 (ipykernel)",
   "language": "python",
   "name": "python3"
  },
  "language_info": {
   "codemirror_mode": {
    "name": "ipython",
    "version": 3
   },
   "file_extension": ".py",
   "mimetype": "text/x-python",
   "name": "python",
   "nbconvert_exporter": "python",
   "pygments_lexer": "ipython3",
   "version": "3.11.13"
  }
 },
 "nbformat": 4,
 "nbformat_minor": 5
}
