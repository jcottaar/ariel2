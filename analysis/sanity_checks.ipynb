{
 "cells": [
  {
   "cell_type": "code",
   "execution_count": 1,
   "id": "f83b89e4-ae65-4669-9e78-15f817bc2b71",
   "metadata": {
    "tags": []
   },
   "outputs": [
    {
     "name": "stdout",
     "output_type": "stream",
     "text": [
      "local\n"
     ]
    }
   ],
   "source": [
    "import sys\n",
    "sys.path.append('/mnt/d/ariel2/code/core/')\n",
    "import kaggle_support as kgs\n",
    "import importlib\n",
    "import matplotlib.pyplot as plt\n",
    "import numpy as np\n",
    "import ariel_load\n",
    "import copy\n",
    "import tqdm\n",
    "kgs.sanity_checks_active = True\n",
    "kgs.sanity_checks_without_errors = False"
   ]
  },
  {
   "cell_type": "code",
   "execution_count": 2,
   "id": "99b7ffc2-2f42-4ba8-a481-813c55251753",
   "metadata": {
    "tags": []
   },
   "outputs": [
    {
     "data": {
      "text/plain": [
       "(1100, 1)"
      ]
     },
     "execution_count": 2,
     "metadata": {},
     "output_type": "execute_result"
    }
   ],
   "source": [
    "train_data = kgs.load_all_train_data()\n",
    "test_data = kgs.load_all_test_data()\n",
    "len(train_data), len(test_data)"
   ]
  },
  {
   "cell_type": "code",
   "execution_count": 4,
   "id": "1b8f245f-7fb9-4579-9ce8-5f9a33ff9578",
   "metadata": {
    "tags": []
   },
   "outputs": [
    {
     "name": "stderr",
     "output_type": "stream",
     "text": [
      "100%|█████████████████████████████████████████████████████████████████████████████████████| 1/1 [00:02<00:00,  2.94s/it]"
     ]
    },
    {
     "name": "stdout",
     "output_type": "stream",
     "text": [
      "gain [0.4369, 0.4369] [0.4, 0.5] 1\n",
      "offset [-1000.0, -1000.0] [-1001, -999] 2\n",
      "ratio_hot [0.0, 0.0107421875] [0, 0.015] 3\n",
      "ratio_dead [0.0018838652482269503, 0.0029296875] [0, 0.005] 4\n",
      "linear_corr_impact [4832.30513633661, 6306.7908586711565] [0, 50000] 9\n",
      "dark_min [0.0004378425539543764, 0.002066195137730647] [-0.0015, 0.004] 5\n",
      "dark_max [0.01163899428117778, 0.013298721036968861] [0.0, 0.02] 6\n",
      "flat_min [0.8617695468230018, 0.9478742031905644] [0.7, 1.1] 7\n",
      "flat_max [1.0383349568133693, 1.0605497114876032] [0.9, 1.2] 8\n"
     ]
    },
    {
     "name": "stderr",
     "output_type": "stream",
     "text": [
      "\n"
     ]
    }
   ],
   "source": [
    "loaders = ariel_load.default_loaders()\n",
    "for d in tqdm.tqdm(train_data):\n",
    "    dd = copy.deepcopy(d)\n",
    "    for t in dd.transits:\n",
    "        t.load_to_step(2,dd,loaders)\n",
    "    kgs.print_sanity_checks()"
   ]
  },
  {
   "cell_type": "code",
   "execution_count": null,
   "id": "d866ddec-4adf-42f8-a3c7-ce41aa5d30c2",
   "metadata": {
    "tags": []
   },
   "outputs": [],
   "source": [
    "kgs.print_sanity_checks()"
   ]
  },
  {
   "cell_type": "code",
   "execution_count": null,
   "id": "191356e7-e84e-4cba-b64a-845b52c8ce14",
   "metadata": {},
   "outputs": [],
   "source": []
  }
 ],
 "metadata": {
  "kernelspec": {
   "display_name": "Python 3 (ipykernel)",
   "language": "python",
   "name": "python3"
  },
  "language_info": {
   "codemirror_mode": {
    "name": "ipython",
    "version": 3
   },
   "file_extension": ".py",
   "mimetype": "text/x-python",
   "name": "python",
   "nbconvert_exporter": "python",
   "pygments_lexer": "ipython3",
   "version": "3.11.13"
  }
 },
 "nbformat": 4,
 "nbformat_minor": 5
}
