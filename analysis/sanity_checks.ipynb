{
 "cells": [
  {
   "cell_type": "code",
   "execution_count": 1,
   "id": "f83b89e4-ae65-4669-9e78-15f817bc2b71",
   "metadata": {
    "tags": []
   },
   "outputs": [
    {
     "name": "stdout",
     "output_type": "stream",
     "text": [
      "local\n"
     ]
    }
   ],
   "source": [
    "import sys\n",
    "sys.path.append('/mnt/d/ariel2/code/core/')\n",
    "import kaggle_support as kgs\n",
    "import importlib\n",
    "import matplotlib.pyplot as plt\n",
    "import numpy as np\n",
    "import ariel_load\n",
    "import ariel_model\n",
    "import ariel_simple\n",
    "import copy\n",
    "import tqdm\n",
    "kgs.sanity_checks_active = True\n",
    "kgs.sanity_checks_without_errors = True"
   ]
  },
  {
   "cell_type": "code",
   "execution_count": 2,
   "id": "99b7ffc2-2f42-4ba8-a481-813c55251753",
   "metadata": {
    "tags": []
   },
   "outputs": [
    {
     "data": {
      "text/plain": [
       "(1099, 1)"
      ]
     },
     "execution_count": 2,
     "metadata": {},
     "output_type": "execute_result"
    }
   ],
   "source": [
    "train_data = kgs.load_all_train_data()\n",
    "test_data = kgs.load_all_test_data()\n",
    "len(train_data), len(test_data)"
   ]
  },
  {
   "cell_type": "code",
   "execution_count": 3,
   "id": "0e30041f-e818-4e8a-81ae-2b794d0e2e1b",
   "metadata": {
    "tags": []
   },
   "outputs": [],
   "source": [
    "loaders = ariel_load.default_loaders()\n",
    "# loaders[0].cache_steps = []\n",
    "# loaders[1].apply_full_sensor_corrections.inpainting_wavelength = False\n",
    "# loaders[1].apply_pixel_corrections.mask_hot = False\n",
    "# loaders[1].apply_full_sensor_corrections.use_pca_for_background_removal = False\n",
    "# loaders[1].apply_full_sensor_corrections.remove_background_based_on_rows = False\n",
    "# loaders[1].apply_full_sensor_corrections.remove_background_remove_used_rows = False\n",
    "# loaders[1].apply_wavelength_binning = ariel_load.ApplyWavelengthBinningAIRS2()\n",
    "# loaders[1].apply_wavelength_binning.make_diagnostic_plots = False\n",
    "# loaders[1].apply_wavelength_binning.residual_threshold = np.inf\n",
    "model = ariel_simple.SimpleModel()\n",
    "model.unlock_t0 = True\n",
    "model.new_solver = True\n",
    "for ii in range(2):\n",
    "    model.loaders[ii].apply_pixel_corrections.remove_last_frame = True\n",
    "    model.loaders[ii].apply_pixel_corrections.new_cosmic_ray_removal = True\n",
    "    model.loaders[ii].apply_time_binning.add_last_frame=True\n",
    "    #model.loaders[ii].apply_pixel_corrections.cosmic_ray_threshold = 10\n",
    "model.train(train_data)"
   ]
  },
  {
   "cell_type": "code",
   "execution_count": null,
   "id": "a1fb09c1-daf2-484b-8013-af90f0ccaec4",
   "metadata": {
    "tags": []
   },
   "outputs": [
    {
     "name": "stderr",
     "output_type": "stream",
     "text": [
      "Inferring:  80%|█████████████████████████████████████████████████████▋             | 881/1100 [1:20:37<24:46,  6.79s/it]"
     ]
    }
   ],
   "source": [
    "\n",
    "model.infer(train_data+test_data);\n",
    "# for d in tqdm.tqdm(train_data+test_data):\n",
    "#     dd = copy.deepcopy(d)\n",
    "#     for t in dd.transits:\n",
    "#         t.load_to_step(5,dd,loaders)\n",
    "    #kgs.print_sanity_checks()\n",
    "# model = ariel_model.baseline_model()\n",
    "# data = train_data\n",
    "# model.train(data)\n",
    "# inferred_data = model.infer(data)\n",
    "# kgs.score_metric(inferred_data, data)"
   ]
  },
  {
   "cell_type": "code",
   "execution_count": null,
   "id": "d866ddec-4adf-42f8-a3c7-ce41aa5d30c2",
   "metadata": {
    "tags": []
   },
   "outputs": [],
   "source": [
    "kgs.print_sanity_checks()"
   ]
  },
  {
   "cell_type": "code",
   "execution_count": null,
   "id": "97478b2d-22b5-48bb-b441-fe9de36e7e82",
   "metadata": {
    "tags": []
   },
   "outputs": [],
   "source": [
    "kgs.plot_sanity_checks()"
   ]
  },
  {
   "cell_type": "code",
   "execution_count": null,
   "id": "5c949279-baa9-4e0b-9398-654cd40bd3be",
   "metadata": {
    "tags": []
   },
   "outputs": [],
   "source": [
    "%debug"
   ]
  },
  {
   "cell_type": "code",
   "execution_count": null,
   "id": "45e0b34d-7cbe-4c0d-9fd2-3094fd7a51f5",
   "metadata": {},
   "outputs": [],
   "source": [
    "inds=np.argsort(kgs.sanity_checks['simple_residual_diff_AIRS'].seen_all[:1099])\n",
    "inds[-1], kgs.sanity_checks['simple_residual_diff_AIRS'].seen_all[inds[-1]]\n",
    "\n"
   ]
  },
  {
   "cell_type": "code",
   "execution_count": null,
   "id": "2d6dfa64-db78-49dc-944e-471c0cbda0bd",
   "metadata": {
    "tags": []
   },
   "outputs": [],
   "source": [
    "#train_data = kgs.load_all_train_data()[:980]"
   ]
  },
  {
   "cell_type": "code",
   "execution_count": null,
   "id": "e6903905-625a-4778-9a55-bedd05b24342",
   "metadata": {
    "tags": []
   },
   "outputs": [],
   "source": [
    "importlib.reload(ariel_simple)\n",
    "importlib.reload(ariel_load)\n",
    "kgs.debugging_mode = 2\n",
    "model=ariel_simple.SimpleModel()\n",
    "model.unlock_t0 = True\n",
    "model.train(train_data)\n",
    "\n",
    "ind = inds[-7]\n",
    "#ind=29\n",
    "print(kgs.sanity_checks['simple_residual_diff_AIRS'].seen_all[ind])\n",
    "print(kgs.sanity_checks['simple_residual_diff_FGS'].seen_all[ind])\n",
    "print(ind)\n",
    "d = copy.deepcopy(train_data[ind])\n",
    "model.new_solver=False\n",
    "#model.loaders[0].cache_steps = []\n",
    "model.do_plots = True\n",
    "model.weights = [1,1]\n",
    "# dd=model.infer([d])\n",
    "# #print(dd[0].diagnostics['transit_params'])\n",
    "# print(kgs.sanity_checks['simple_residual_diff_AIRS'].seen_all[-1])\n",
    "# print(kgs.sanity_checks['simple_residual_diff_FGS'].seen_all[-1])\n",
    "d = copy.deepcopy(train_data[ind])\n",
    "model.new_solver=True\n",
    "model.loaders[0].apply_pixel_corrections.remove_last_frame = True\n",
    "model.loaders[1].apply_pixel_corrections.remove_last_frame = True\n",
    "for ii in range(2):\n",
    "    model.loaders[ii].apply_pixel_corrections.new_cosmic_ray_removal = True\n",
    "    model.loaders[ii].apply_time_binning.add_last_frame=True\n",
    "    model.loaders[ii].apply_pixel_corrections.cosmic_ray_threshold = 10\n",
    "    #model.loaders[ii].apply_pixel_corrections.new_cosmic_ray_removal = True\n",
    "    #model.loaders[1].apply_pixel_corrections.cosmic_ray_threshold = 10\n",
    "#model.loaders[1].apply_pixel_corrections.new_cosmic_ray_removal = False  \n",
    "model.loaders[0].cache_steps = []\n",
    "model.weights = [1,1]\n",
    "#d.transit_params = train_data[1].transit_params\n",
    "dd=model.infer([d])\n",
    "#print(dd[0].diagnostics['transit_params'])\n",
    "print(kgs.sanity_checks['simple_residual_diff_AIRS'].seen_all[-1])\n",
    "print(kgs.sanity_checks['simple_residual_diff_FGS'].seen_all[-1])\n",
    "# d = copy.deepcopy(train_data[ind])\n",
    "# d.transit_params = train_data[1].transit_params\n",
    "# #model.weights = [1,100]\n",
    "# dd=model.infer([d])\n",
    "# model.do_plots = False\n",
    "# #print(dd[0].diagnostics['transit_params'])\n",
    "# print(kgs.sanity_checks['simple_residual_diff_AIRS'].seen_all[-1])\n",
    "# print(kgs.sanity_checks['simple_residual_diff_FGS'].seen_all[-1])\n",
    "# #model.weights = [100,1]\n",
    "# #dd=model.infer([d])\n",
    "# #print(dd[0].diagnostics['transit_params'])\n",
    "# model.do_plots=False\n",
    "# print(kgs.sanity_checks['simple_residual_diff_AIRS'].seen_all[-1])\n",
    "# print(kgs.sanity_checks['simple_residual_diff_FGS'].seen_all[-1])\n",
    "# #"
   ]
  },
  {
   "cell_type": "code",
   "execution_count": null,
   "id": "5776e25b-6182-4276-8977-38e4bc10605a",
   "metadata": {
    "tags": []
   },
   "outputs": [],
   "source": [
    "%debug"
   ]
  },
  {
   "cell_type": "code",
   "execution_count": null,
   "id": "f11dfd37-e802-4abd-bfde-0b4cd3cfb73d",
   "metadata": {
    "tags": []
   },
   "outputs": [],
   "source": [
    "import ariel_load\n",
    "import ariel_load_FGS\n",
    "importlib.reload(ariel_load)\n",
    "importlib.reload(ariel_load_FGS)\n",
    "loaders = ariel_load.default_loaders()\n",
    "loaders[0].cache_steps = []\n",
    "#d.transits = d.transits[1:]\n",
    "#d.transits[0].observation_number = 1\n",
    "ariel_load.raw_data_diagnostics(copy.deepcopy(d), 0, loaders)"
   ]
  },
  {
   "cell_type": "code",
   "execution_count": null,
   "id": "6ad2b833-f0de-442f-b8a7-9dbf3ccae14c",
   "metadata": {
    "tags": []
   },
   "outputs": [],
   "source": [
    "ind"
   ]
  },
  {
   "cell_type": "code",
   "execution_count": null,
   "id": "7c67c4f5-ea2c-4831-a7d2-382ccf0f540b",
   "metadata": {},
   "outputs": [],
   "source": [
    "d.diagnostics['"
   ]
  }
 ],
 "metadata": {
  "kernelspec": {
   "display_name": "Python 3 (ipykernel)",
   "language": "python",
   "name": "python3"
  },
  "language_info": {
   "codemirror_mode": {
    "name": "ipython",
    "version": 3
   },
   "file_extension": ".py",
   "mimetype": "text/x-python",
   "name": "python",
   "nbconvert_exporter": "python",
   "pygments_lexer": "ipython3",
   "version": "3.11.13"
  }
 },
 "nbformat": 4,
 "nbformat_minor": 5
}
