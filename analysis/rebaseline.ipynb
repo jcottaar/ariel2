{
 "cells": [
  {
   "cell_type": "code",
   "execution_count": 1,
   "id": "124bf391-e327-44c1-91f7-20ed3f76e847",
   "metadata": {
    "tags": []
   },
   "outputs": [
    {
     "name": "stdout",
     "output_type": "stream",
     "text": [
      "local\n"
     ]
    }
   ],
   "source": [
    "import sys\n",
    "sys.path.append('/mnt/d/ariel2/code/core/')\n",
    "sys.path.append('d:/ariel2/code/core/')\n",
    "sys.path.append('/kaggle/input/my-ariel2-library')\n",
    "import kaggle_support as kgs\n",
    "import ariel_model\n",
    "import ariel_simple\n",
    "import ariel_gp\n",
    "import ariel_load\n",
    "import ariel_load_FGS\n",
    "import os\n",
    "import numpy as np\n",
    "import matplotlib.pyplot as plt\n",
    "import importlib\n",
    "import copy\n",
    "from tqdm import tqdm\n",
    "kgs.debugging_mode = 1\n",
    "#kgs.n_workers = 4"
   ]
  },
  {
   "cell_type": "code",
   "execution_count": null,
   "id": "c169aef9-96a0-4df0-8443-42e5e32fa440",
   "metadata": {
    "tags": []
   },
   "outputs": [],
   "source": []
  },
  {
   "cell_type": "code",
   "execution_count": 2,
   "id": "2fa591fb-5194-4bf9-895d-de60660f6ddd",
   "metadata": {
    "tags": []
   },
   "outputs": [
    {
     "name": "stdout",
     "output_type": "stream",
     "text": [
      "Baseline GP\n",
      "hi\n",
      "hi\n"
     ]
    },
    {
     "name": "stderr",
     "output_type": "stream",
     "text": [
      "Processing in parallel: 100%|█████████████████████████████████████████████████████████████| 2/2 [00:14<00:00,  7.43s/it]\n"
     ]
    },
    {
     "name": "stdout",
     "output_type": "stream",
     "text": [
      "local\n",
      "SpawnPoolWorker-1 1\n",
      "CUDA_VISIBLE_DEVICES= 0\n",
      "local\n",
      "SpawnPoolWorker-2 2\n",
      "CUDA_VISIBLE_DEVICES= 0\n",
      "Baseline GP\n",
      "Score:           -0.0138\n",
      "RMS error FGS:   36.13 ppm\n",
      "mRMS error FGS:  36.13 ppm\n",
      "RMS error AIRS:  34.81 ppm\n",
      "mRMS error AIRS: 34.81 ppm\n",
      "-0.013814327483238131\n",
      "Baseline GP\n",
      "Score:           -0.0138\n",
      "RMS error FGS:   36.13 ppm\n",
      "mRMS error FGS:  36.13 ppm\n",
      "RMS error AIRS:  34.81 ppm\n",
      "mRMS error AIRS: 34.81 ppm\n",
      "-0.013814327483238131\n",
      "All + poly33\n",
      "hi\n",
      "hi\n"
     ]
    },
    {
     "name": "stderr",
     "output_type": "stream",
     "text": [
      "Processing in parallel: 100%|█████████████████████████████████████████████████████████████| 2/2 [00:15<00:00,  7.61s/it]\n"
     ]
    },
    {
     "name": "stdout",
     "output_type": "stream",
     "text": [
      "local\n",
      "SpawnPoolWorker-6 6\n",
      "CUDA_VISIBLE_DEVICES= 0\n",
      "All + poly33\n",
      "Score:           -0.0138\n",
      "RMS error FGS:   36.13 ppm\n",
      "mRMS error FGS:  36.13 ppm\n",
      "RMS error AIRS:  34.81 ppm\n",
      "mRMS error AIRS: 34.81 ppm\n",
      "-0.013814327483238131\n",
      "All + poly33\n",
      "Score:           -0.0138\n",
      "RMS error FGS:   36.13 ppm\n",
      "mRMS error FGS:  36.13 ppm\n",
      "RMS error AIRS:  34.81 ppm\n",
      "mRMS error AIRS: 34.81 ppm\n",
      "-0.013814327483238131\n"
     ]
    }
   ],
   "source": [
    "importlib.reload(ariel_load)\n",
    "importlib.reload(ariel_load_FGS)\n",
    "train_data = kgs.load_all_train_data()\n",
    "train_data = train_data[:1]\n",
    "todo = dict()\n",
    "\n",
    "model = ariel_model.Fudger(model=ariel_gp.PredictionModel())\n",
    "model.model.run_in_parallel = True\n",
    "todo['Baseline GP'] = model\n",
    "\n",
    "model = ariel_model.Fudger(model=ariel_gp.PredictionModel())\n",
    "model.model.run_in_parallel = True\n",
    "loaders = model.model.starter_model.loaders\n",
    "#loaders[0].apply_wavelength_binning = ariel_load_FGS.ApplyWavelengthBinningFGS2()\n",
    "#loaders[0].apply_wavelength_binning.n_mean_pixels = 0\n",
    "#loaders[0].apply_pixel_corrections.mask_hot = False\n",
    "# loaders[0].apply_full_sensor_corrections.inpainting_2d = True\n",
    "# loaders[0].apply_full_sensor_corrections.restore_invalids = True\n",
    "# loaders[0].apply_full_sensor_corrections.remove_background_based_on_pixels = True\n",
    "#loaders[1].apply_full_sensor_corrections.inpainting_wavelength = False\n",
    "#loaders[1].apply_pixel_corrections.mask_hot = False\n",
    "#loaders[1].apply_full_sensor_corrections.use_pca_for_background_removal = False\n",
    "#loaders[1].apply_full_sensor_corrections.remove_background_based_on_rows = False\n",
    "#loaders[1].apply_full_sensor_corrections.remove_background_remove_used_rows = False\n",
    "#loaders[1].apply_wavelength_binning = ariel_load.ApplyWavelengthBinningAIRS2()\n",
    "# #loaders[1].apply_wavelength_binning.residual_threshold = np.inf\n",
    "# model.model.model_options.FGS_order = 3\n",
    "# model.model.model_options.AIRS_order_time = 3\n",
    "# model.model.model_options.AIRS_order_wavelength = 3\n",
    "todo['All + poly33'] = model\n",
    "\n",
    "kgs.sanity_checks_active = True\n",
    "for k,v in todo.items():\n",
    "    print(k)\n",
    "    model = copy.deepcopy(v)\n",
    "    model = model.model\n",
    "    model.starter_model.loaders[0].cache_steps = []\n",
    "    model.run_in_parallel = True\n",
    "\n",
    "    model.train(train_data)\n",
    "    dat = copy.deepcopy(train_data)+copy.deepcopy(train_data)\n",
    "    print('hi')\n",
    "    dat[0].load_to_step(5,model.starter_model.loaders)\n",
    "    print('hi')\n",
    "    dat[1].load_to_step(5,model.starter_model.loaders)\n",
    "    inferred_data = model.infer(dat)\n",
    "    print(k)\n",
    "    score = kgs.score_metric(inferred_data[:1], train_data)[0]\n",
    "    print(score)\n",
    "    #inferred_data = model.infer(train_data)\n",
    "    print(k)\n",
    "    score = kgs.score_metric(inferred_data[1:], train_data)[0]\n",
    "    print(score)"
   ]
  },
  {
   "attachments": {
    "c73871f7-745c-4bba-b5a9-5d1773445389.png": {
     "image/png": "[encoded data removed]"
    }
   },
   "cell_type": "markdown",
   "id": "add054f8-c1ac-4990-b04f-18a830bb7f91",
   "metadata": {},
   "source": [
    "![image.png](attachment:c73871f7-745c-4bba-b5a9-5d1773445389.png)"
   ]
  },
  {
   "attachments": {
    "49dfb1cb-6931-4254-907f-ac6d5c6ff42c.png": {
     "image/png": "[encoded data removed]"
    }
   },
   "cell_type": "markdown",
   "id": "e15646db-4c78-4ae8-8fa7-e0cdb397fd39",
   "metadata": {},
   "source": [
    "![image.png](attachment:49dfb1cb-6931-4254-907f-ac6d5c6ff42c.png)"
   ]
  },
  {
   "cell_type": "code",
   "execution_count": null,
   "id": "34f6680c-aedd-4f32-8f74-40a83642e275",
   "metadata": {},
   "outputs": [],
   "source": []
  }
 ],
 "metadata": {
  "kernelspec": {
   "display_name": "Python 3 (ipykernel)",
   "language": "python",
   "name": "python3"
  },
  "language_info": {
   "codemirror_mode": {
    "name": "ipython",
    "version": 3
   },
   "file_extension": ".py",
   "mimetype": "text/x-python",
   "name": "python",
   "nbconvert_exporter": "python",
   "pygments_lexer": "ipython3",
   "version": "3.11.13"
  }
 },
 "nbformat": 4,
 "nbformat_minor": 5
}
