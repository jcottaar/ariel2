{
 "cells": [
  {
   "cell_type": "code",
   "execution_count": null,
   "id": "e798b120-18d1-4041-b7d9-d3d0c23289a4",
   "metadata": {
    "tags": []
   },
   "outputs": [],
   "source": [
    "import sys\n",
    "sys.path.append('/mnt/d/ariel2/code/core/')\n",
    "sys.path.append('d:/ariel2/code/core/')\n",
    "sys.path.append('/kaggle/input/my-ariel2-library')\n",
    "import kaggle_support as kgs\n",
    "import ariel_model\n",
    "import ariel_simple\n",
    "import ariel_gp\n",
    "import ariel_load\n",
    "import ariel_load_FGS\n",
    "import os\n",
    "import numpy as np\n",
    "import matplotlib.pyplot as plt\n",
    "import copy\n",
    "import importlib\n",
    "from tqdm import tqdm\n",
    "import seaborn as sns\n",
    "import pandas as pd\n",
    "kgs.debugging_mode = 1\n",
    "kgs.profiling=False\n",
    "kgs.n_workers = 6\n",
    "\n",
    "import warnings\n",
    "warnings.filterwarnings(\n",
    "    \"ignore\",\n",
    "    message=r\".*use_inf_as_na option is deprecated.*\",\n",
    "    category=FutureWarning,\n",
    ")"
   ]
  },
  {
   "cell_type": "code",
   "execution_count": null,
   "id": "83d44820-9130-49a8-8096-32d8a975cbfd",
   "metadata": {
    "tags": []
   },
   "outputs": [],
   "source": [
    "# Parameters in GP\n",
    "# 0: 0 t0\n",
    "# 1: 1 t0\n",
    "# 2: alpha\n",
    "# 3: beta\n",
    "# 4: i\n",
    "# 5: 0 u0 \n",
    "# 6: 1 u0\n",
    "# 7: 0 u1\n",
    "# 8: 1 u1\n",
    "# 9: 1 us0\n",
    "# 10:1 us1\n",
    "\n",
    "# Parameters in simple\n",
    "# 0: 0 t0\n",
    "# 1: alpha\n",
    "# 2: beta\n",
    "# 3: i\n",
    "# 4: 0 rp\n",
    "# 5: 0 u0\n",
    "# 6: 0 u1\n",
    "# 7: 1 rp\n",
    "# 8: 1 u0\n",
    "# 9: 1 u1\n",
    "# 9-xx: poly\n",
    "# -1: 1 t0"
   ]
  },
  {
   "cell_type": "code",
   "execution_count": null,
   "id": "25445e0d-f010-4846-987b-374ae3c1db78",
   "metadata": {
    "tags": []
   },
   "outputs": [],
   "source": [
    "def remove_outlier(mat, threshold):\n",
    "    while True:\n",
    "        mu = np.mean(mat,0)\n",
    "        std = np.std(mat,0)\n",
    "        scaled = np.abs(mat-mu)/std\n",
    "        #plt.figure()\n",
    "        #plt.plot(scaled)\n",
    "        if np.max(scaled)>threshold:\n",
    "            max_per_row = np.max(scaled,1)\n",
    "            to_remove = np.argmax(max_per_row)\n",
    "            mat = np.delete(mat,to_remove,0)\n",
    "        else:\n",
    "            break\n",
    "    return mat"
   ]
  },
  {
   "cell_type": "code",
   "execution_count": null,
   "id": "5055f100-2046-492d-8070-e964ca62d0c2",
   "metadata": {
    "tags": []
   },
   "outputs": [],
   "source": [
    "train_data = kgs.load_all_train_data()\n",
    "train_data2 = train_data\n",
    "train_data = train_data[:100]"
   ]
  },
  {
   "cell_type": "code",
   "execution_count": null,
   "id": "d38477bb-f30e-45e7-a425-41809947a014",
   "metadata": {},
   "outputs": [],
   "source": [
    "importlib.reload(ariel_gp)\n",
    "model = ariel_model.baseline_model()\n",
    "model = model.model\n",
    "model.model_options.output_model = True\n",
    "model.model_options.use_training_labels = True\n",
    "model.model_options.n_samples_sigma_est = 2\n",
    "model.starter_model.model.expose_Rp_fudge = True\n",
    "model.starter_model.model.do_regularization = False\n",
    "def modify_func(model, cc):\n",
    "        model.m['signal'].m['main'].m['transit'].cov_override = cc[0]\n",
    "        model.m['signal'].m['main'].m['transit'].mu_override = cc[1]\n",
    "        return model\n",
    "model.model_options.modify_func = modify_func\n",
    "model.model_options.modify_func_input = (None,None)\n",
    "model.train(train_data)"
   ]
  },
  {
   "cell_type": "code",
   "execution_count": null,
   "id": "d2a7d4ea-87dc-44e4-af34-45f0337bc27b",
   "metadata": {},
   "outputs": [],
   "source": [
    "modelr = copy.deepcopy(model)\n",
    "modelr.model_options.n_iter = 0\n",
    "modelr.run_in_parallel = False\n",
    "modelr.infer(train_data[0:1]);"
   ]
  },
  {
   "cell_type": "code",
   "execution_count": null,
   "id": "4b937ad8-d3ab-4e2b-a195-c18fc4a65ec2",
   "metadata": {},
   "outputs": [],
   "source": [
    "data = copy.deepcopy(train_data)"
   ]
  },
  {
   "cell_type": "code",
   "execution_count": null,
   "id": "cd088d4e-fdfd-4989-86cf-ee9b588aa353",
   "metadata": {},
   "outputs": [],
   "source": [
    "kgs.sanity_checks_active = False\n",
    "for ii in range(50):\n",
    "    if ii==5:\n",
    "        data = copy.deepcopy(train_data2)\n",
    "    data = model.infer(data)\n",
    "    transit_parameters = []\n",
    "    for d in data:\n",
    "        d.diagnostics['starting_par'] = d.diagnostics['par_mean']\n",
    "        modelr.results['model_samples'].m['signal'].set_parameters(d.diagnostics['par_samples'])\n",
    "        transit_parameters.append(modelr.results['model_samples'].m['signal'].m['main'].m['transit'].get_parameters()[:,0])\n",
    "    transit_parameters = np.array(transit_parameters)\n",
    "    \n",
    "    transit_parameters = remove_outlier(transit_parameters,4)\n",
    "    print(transit_parameters.shape)\n",
    "\n",
    "    plt.figure()\n",
    "    plt.imshow(np.corrcoef(transit_parameters.T))\n",
    "    plt.colorbar()\n",
    "    sns.pairplot(pd.DataFrame(transit_parameters), diag_kind=\"hist\", corner=True, height=1.5)\n",
    "    plt.pause(0.0001)\n",
    "\n",
    "    cov_est = np.cov(transit_parameters.T)\n",
    "    print(np.sqrt(np.diag(cov_est)))\n",
    "    mu_est = np.mean(transit_parameters,0)\n",
    "    def modify_func(model, cc):\n",
    "        model.m['signal'].m['main'].m['transit'].cov_override = cc[0]\n",
    "        model.m['signal'].m['main'].m['transit'].mu_override = cc[1]\n",
    "        # cur_params = model.m['signal'].m['main'].m['transit'].get_parameters()\n",
    "        # cur_params[-model.m['signal'].m['main'].m['transit'].number_of_extra_parameters:,0] = cc[1]\n",
    "        # model.m['signal'].m['main'].m['transit'].set_parameters(cur_params)\n",
    "        return model\n",
    "    model.model_options.modify_func = modify_func\n",
    "    model.model_options.modify_func_input = [cov_est, mu_est]\n",
    "    \n",
    "    kgs.dill_save(kgs.temp_dir + f'transit_model_tuning_Rp_fudge_{ii}.pickle', (cov_est, mu_est))"
   ]
  },
  {
   "cell_type": "code",
   "execution_count": null,
   "id": "79b98303-8993-43b6-8517-a5127567b9b1",
   "metadata": {
    "tags": []
   },
   "outputs": [],
   "source": [
    "# import subprocess\n",
    "\n",
    "# # Hibernate Windows\n",
    "# # subprocess.run(\n",
    "# #     [\"/mnt/c/Windows/System32/shutdown.exe\", \"/a\"],  # add \"/f\" to force-close apps\n",
    "# #     check=True\n",
    "# # )\n",
    "# subprocess.run(\n",
    "#     [\"/mnt/c/Windows/System32/shutdown.exe\", \"/h\"],  # add \"/f\" to force-close apps\n",
    "#     check=True\n",
    "# )"
   ]
  }
 ],
 "metadata": {
  "kernelspec": {
   "display_name": "Python 3 (ipykernel)",
   "language": "python",
   "name": "python3"
  },
  "language_info": {
   "codemirror_mode": {
    "name": "ipython",
    "version": 3
   },
   "file_extension": ".py",
   "mimetype": "text/x-python",
   "name": "python",
   "nbconvert_exporter": "python",
   "pygments_lexer": "ipython3",
   "version": "3.11.13"
  }
 },
 "nbformat": 4,
 "nbformat_minor": 5
}
