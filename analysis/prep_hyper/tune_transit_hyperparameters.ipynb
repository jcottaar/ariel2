{
 "cells": [
  {
   "cell_type": "code",
   "execution_count": 1,
   "id": "4b8a753e-265c-405a-afed-c28686cd8cc0",
   "metadata": {
    "tags": []
   },
   "outputs": [],
   "source": [
    "#%matplotlib widget"
   ]
  },
  {
   "cell_type": "code",
   "execution_count": 2,
   "id": "e798b120-18d1-4041-b7d9-d3d0c23289a4",
   "metadata": {
    "tags": []
   },
   "outputs": [
    {
     "name": "stdout",
     "output_type": "stream",
     "text": [
      "local\n"
     ]
    }
   ],
   "source": [
    "import sys\n",
    "sys.path.append('/mnt/d/ariel2/code/core/')\n",
    "sys.path.append('d:/ariel2/code/core/')\n",
    "sys.path.append('/kaggle/input/my-ariel2-library')\n",
    "import kaggle_support as kgs\n",
    "import ariel_model\n",
    "import ariel_simple\n",
    "import ariel_gp\n",
    "import ariel_load\n",
    "import ariel_load_FGS\n",
    "import os\n",
    "import numpy as np\n",
    "import matplotlib.pyplot as plt\n",
    "import copy\n",
    "import importlib\n",
    "from tqdm import tqdm\n",
    "import seaborn as sns\n",
    "import pandas as pd\n",
    "kgs.debugging_mode = 1\n",
    "kgs.profiling=False\n",
    "kgs.n_workers = 2"
   ]
  },
  {
   "cell_type": "code",
   "execution_count": 3,
   "id": "1d51b008-8696-47a9-ace8-2dc939e9753d",
   "metadata": {
    "tags": []
   },
   "outputs": [],
   "source": [
    "train_data = kgs.load_all_train_data()\n",
    "train_data = train_data[:2]"
   ]
  },
  {
   "cell_type": "code",
   "execution_count": 15,
   "id": "95753661-c746-46ae-8fc0-93bf4f6abb52",
   "metadata": {},
   "outputs": [],
   "source": [
    "importlib.reload(ariel_gp)\n",
    "model = ariel_model.baseline_model()\n",
    "model = model.model\n",
    "model.model_options.output_model = True\n",
    "model.model_options.n_samples_sigma_est = 2\n",
    "model.train(train_data)"
   ]
  },
  {
   "cell_type": "code",
   "execution_count": 16,
   "id": "3982cf64-61e9-4f7b-a285-473b452bb2cb",
   "metadata": {},
   "outputs": [
    {
     "name": "stderr",
     "output_type": "stream",
     "text": [
      "Processing in parallel: 100%|█████████████████████████████████████████████████████████████| 2/2 [00:22<00:00, 11.26s/it]"
     ]
    },
    {
     "name": "stdout",
     "output_type": "stream",
     "text": [
      "local\n",
      "SpawnPoolWorker-10 10\n",
      "CUDA_VISIBLE_DEVICES= 0\n",
      "[[ 3.72228840e+00  3.72228840e+00 -2.82770924e+00 -1.67685849e-01\n",
      "   8.87878933e+01  4.14822126e-01  1.31286345e-01  7.64774605e-02\n",
      "   8.86742190e-02  0.00000000e+00  0.00000000e+00]]\n",
      "[[ 3.72197001e+00  3.72231952e+00 -2.82772062e+00 -1.67540501e-01\n",
      "   8.88236468e+01  4.03602490e-01  1.11490900e-01  9.50284865e-02\n",
      "   8.64301583e-02 -7.16845413e-02  3.94024209e-03]]\n",
      "[[ 3.72195994e+00  3.72230497e+00 -2.82740688e+00 -1.67334568e-01\n",
      "   8.88600522e+01  3.98286014e-01  1.14866398e-01  1.02569669e-01\n",
      "   8.33617391e-02 -6.14386950e-02 -5.94939946e-03]]\n",
      "[[ 3.72196438e+00  3.72230545e+00 -2.82714186e+00 -1.67057784e-01\n",
      "   8.88949007e+01  3.95671753e-01  1.18657793e-01  1.06481471e-01\n",
      "   8.03003127e-02 -5.29667675e-02 -1.46313193e-02]]\n"
     ]
    },
    {
     "name": "stderr",
     "output_type": "stream",
     "text": [
      "\n"
     ]
    }
   ],
   "source": [
    "data_out = model.infer(train_data)"
   ]
  },
  {
   "cell_type": "code",
   "execution_count": 17,
   "id": "e99c1e57-b8c4-4f07-993a-eb21d13c031e",
   "metadata": {},
   "outputs": [],
   "source": [
    "#data_out = model.infer(data_out)"
   ]
  },
  {
   "cell_type": "code",
   "execution_count": 18,
   "id": "2832db3b-9337-4f11-bee4-d6263a9a9087",
   "metadata": {},
   "outputs": [],
   "source": [
    "for d in data_out:\n",
    "    d.diagnostics['starting_par'] = d.diagnostics['model_mean'].get_parameters()\n",
    "    del d.diagnostics['model_mean']"
   ]
  },
  {
   "cell_type": "code",
   "execution_count": 19,
   "id": "1bfcbe58-8b4c-45a2-ad66-40709e62d295",
   "metadata": {},
   "outputs": [
    {
     "name": "stderr",
     "output_type": "stream",
     "text": [
      "Inferring:   0%|                                                                                  | 0/2 [00:00<?, ?it/s]"
     ]
    },
    {
     "name": "stdout",
     "output_type": "stream",
     "text": [
      "[[ 4.02503987e+00  4.02382676e+00 -2.20367089e+00  3.07417451e-02\n",
      "   8.92935115e+01  4.39111780e-01  1.29936091e-01  1.35389233e-01\n",
      "   1.01303858e-01 -2.32508103e-02 -4.66066292e-02]]\n",
      "[[ 4.02507325e+00  4.02382298e+00 -2.20369368e+00  3.06639097e-02\n",
      "   8.92907394e+01  4.39542991e-01  1.29961095e-01  1.32754499e-01\n",
      "   1.01315869e-01 -2.32494069e-02 -4.66605084e-02]]\n",
      "[[ 4.02504197e+00  4.02382649e+00 -2.20362938e+00  3.04317715e-02\n",
      "   8.92958360e+01  4.39136461e-01  1.29865998e-01  1.35309578e-01\n",
      "   1.01505289e-01 -2.32631139e-02 -4.65878822e-02]]\n",
      "[[ 4.02503255e+00  4.02382743e+00 -2.20356680e+00  3.01895388e-02\n",
      "   8.93002991e+01  4.38925294e-01  1.29765008e-01  1.36210490e-01\n",
      "   1.01771357e-01 -2.32901941e-02 -4.65111325e-02]]\n"
     ]
    },
    {
     "name": "stderr",
     "output_type": "stream",
     "text": [
      "Inferring:  50%|█████████████████████████████████████                                     | 1/2 [00:08<00:08,  8.89s/it]"
     ]
    },
    {
     "name": "stdout",
     "output_type": "stream",
     "text": [
      "[[ 3.72197404e+00  3.72229117e+00 -2.82666739e+00 -1.66295768e-01\n",
      "   8.89605140e+01  3.93957133e-01  1.20550001e-01  1.09462045e-01\n",
      "   7.93981315e-02 -4.77543845e-02 -2.00980986e-02]]\n",
      "[[ 3.72198152e+00  3.72229300e+00 -2.82644060e+00 -1.65826682e-01\n",
      "   8.89899591e+01  3.98509479e-01  1.08976717e-01  1.03834318e-01\n",
      "   9.07042408e-02 -7.13235965e-02  3.82061003e-03]]\n",
      "[[ 3.72197445e+00  3.72229531e+00 -2.82625356e+00 -1.65328563e-01\n",
      "   8.90183645e+01  3.96678313e-01  1.13124810e-01  1.06111167e-01\n",
      "   8.74116698e-02 -6.16177956e-02 -5.62663242e-03]]\n",
      "[[ 3.72198095e+00  3.72229836e+00 -2.82609842e+00 -1.64791147e-01\n",
      "   8.90459803e+01  3.94809054e-01  1.17022426e-01  1.08867680e-01\n",
      "   8.40784217e-02 -5.31828559e-02 -1.43010211e-02]]\n"
     ]
    },
    {
     "name": "stderr",
     "output_type": "stream",
     "text": [
      "Inferring: 100%|██████████████████████████████████████████████████████████████████████████| 2/2 [00:19<00:00,  9.70s/it]\n"
     ]
    }
   ],
   "source": [
    "model.run_in_parallel = False\n",
    "data_out = model.infer(data_out)"
   ]
  },
  {
   "cell_type": "code",
   "execution_count": 14,
   "id": "d8b17d8f-620f-4f3f-a5ff-f7f0cb6eebd5",
   "metadata": {
    "tags": []
   },
   "outputs": [
    {
     "name": "stdout",
     "output_type": "stream",
     "text": [
      "> \u001b[0;32m/home/jcottaar/miniconda3/envs/xlab/lib/python3.11/site-packages/numpy/core/_methods.py\u001b[0m(131)\u001b[0;36m_mean\u001b[0;34m()\u001b[0m\n",
      "\u001b[0;32m    129 \u001b[0;31m            \u001b[0mret\u001b[0m \u001b[0;34m=\u001b[0m \u001b[0mret\u001b[0m\u001b[0;34m.\u001b[0m\u001b[0mdtype\u001b[0m\u001b[0;34m.\u001b[0m\u001b[0mtype\u001b[0m\u001b[0;34m(\u001b[0m\u001b[0mret\u001b[0m \u001b[0;34m/\u001b[0m \u001b[0mrcount\u001b[0m\u001b[0;34m)\u001b[0m\u001b[0;34m\u001b[0m\u001b[0;34m\u001b[0m\u001b[0m\n",
      "\u001b[0m\u001b[0;32m    130 \u001b[0;31m    \u001b[0;32melse\u001b[0m\u001b[0;34m:\u001b[0m\u001b[0;34m\u001b[0m\u001b[0;34m\u001b[0m\u001b[0m\n",
      "\u001b[0m\u001b[0;32m--> 131 \u001b[0;31m        \u001b[0mret\u001b[0m \u001b[0;34m=\u001b[0m \u001b[0mret\u001b[0m \u001b[0;34m/\u001b[0m \u001b[0mrcount\u001b[0m\u001b[0;34m\u001b[0m\u001b[0;34m\u001b[0m\u001b[0m\n",
      "\u001b[0m\u001b[0;32m    132 \u001b[0;31m\u001b[0;34m\u001b[0m\u001b[0m\n",
      "\u001b[0m\u001b[0;32m    133 \u001b[0;31m    \u001b[0;32mreturn\u001b[0m \u001b[0mret\u001b[0m\u001b[0;34m\u001b[0m\u001b[0;34m\u001b[0m\u001b[0m\n",
      "\u001b[0m\n"
     ]
    },
    {
     "name": "stdin",
     "output_type": "stream",
     "text": [
      "ipdb>  u\n"
     ]
    },
    {
     "name": "stdout",
     "output_type": "stream",
     "text": [
      "> \u001b[0;32m/home/jcottaar/miniconda3/envs/xlab/lib/python3.11/site-packages/numpy/core/fromnumeric.py\u001b[0m(3504)\u001b[0;36mmean\u001b[0;34m()\u001b[0m\n",
      "\u001b[0;32m   3502 \u001b[0;31m            \u001b[0;32mreturn\u001b[0m \u001b[0mmean\u001b[0m\u001b[0;34m(\u001b[0m\u001b[0maxis\u001b[0m\u001b[0;34m=\u001b[0m\u001b[0maxis\u001b[0m\u001b[0;34m,\u001b[0m \u001b[0mdtype\u001b[0m\u001b[0;34m=\u001b[0m\u001b[0mdtype\u001b[0m\u001b[0;34m,\u001b[0m \u001b[0mout\u001b[0m\u001b[0;34m=\u001b[0m\u001b[0mout\u001b[0m\u001b[0;34m,\u001b[0m \u001b[0;34m**\u001b[0m\u001b[0mkwargs\u001b[0m\u001b[0;34m)\u001b[0m\u001b[0;34m\u001b[0m\u001b[0;34m\u001b[0m\u001b[0m\n",
      "\u001b[0m\u001b[0;32m   3503 \u001b[0;31m\u001b[0;34m\u001b[0m\u001b[0m\n",
      "\u001b[0m\u001b[0;32m-> 3504 \u001b[0;31m    return _methods._mean(a, axis=axis, dtype=dtype,\n",
      "\u001b[0m\u001b[0;32m   3505 \u001b[0;31m                          out=out, **kwargs)\n",
      "\u001b[0m\u001b[0;32m   3506 \u001b[0;31m\u001b[0;34m\u001b[0m\u001b[0m\n",
      "\u001b[0m\n"
     ]
    },
    {
     "name": "stdin",
     "output_type": "stream",
     "text": [
      "ipdb>  u\n"
     ]
    },
    {
     "name": "stdout",
     "output_type": "stream",
     "text": [
      "> \u001b[0;32m/mnt/d/ariel2/code/core/ariel_gp.py\u001b[0m(338)\u001b[0;36mdefine_prior\u001b[0;34m()\u001b[0m\n",
      "\u001b[0;32m    336 \u001b[0;31m     \u001b[0;31m# Transit depth: get initial values from simple model\u001b[0m\u001b[0;34m\u001b[0m\u001b[0;34m\u001b[0m\u001b[0m\n",
      "\u001b[0m\u001b[0;32m    337 \u001b[0;31m    \u001b[0;32mif\u001b[0m \u001b[0;32mnot\u001b[0m \u001b[0mmodel_options\u001b[0m\u001b[0;34m.\u001b[0m\u001b[0muse_training_labels\u001b[0m\u001b[0;34m:\u001b[0m\u001b[0;34m\u001b[0m\u001b[0;34m\u001b[0m\u001b[0m\n",
      "\u001b[0m\u001b[0;32m--> 338 \u001b[0;31m        \u001b[0mmodel\u001b[0m\u001b[0;34m.\u001b[0m\u001b[0mm\u001b[0m\u001b[0;34m[\u001b[0m\u001b[0;34m'signal'\u001b[0m\u001b[0;34m]\u001b[0m\u001b[0;34m.\u001b[0m\u001b[0mm\u001b[0m\u001b[0;34m[\u001b[0m\u001b[0;34m'main'\u001b[0m\u001b[0;34m]\u001b[0m\u001b[0;34m.\u001b[0m\u001b[0mm\u001b[0m\u001b[0;34m[\u001b[0m\u001b[0;34m'transit'\u001b[0m\u001b[0;34m]\u001b[0m\u001b[0;34m.\u001b[0m\u001b[0mdepth_model\u001b[0m\u001b[0;34m.\u001b[0m\u001b[0mm\u001b[0m\u001b[0;34m[\u001b[0m\u001b[0;34m'average'\u001b[0m\u001b[0;34m]\u001b[0m\u001b[0;34m.\u001b[0m\u001b[0mmodel\u001b[0m\u001b[0;34m.\u001b[0m\u001b[0mparameters\u001b[0m \u001b[0;34m=\u001b[0m \u001b[0;34m-\u001b[0m\u001b[0mnp\u001b[0m\u001b[0;34m.\u001b[0m\u001b[0mreshape\u001b[0m\u001b[0;34m(\u001b[0m\u001b[0mnp\u001b[0m\u001b[0;34m.\u001b[0m\u001b[0mmean\u001b[0m\u001b[0;34m(\u001b[0m\u001b[0mdata\u001b[0m\u001b[0;34m.\u001b[0m\u001b[0mspectrum\u001b[0m\u001b[0;34m)\u001b[0m\u001b[0;34m,\u001b[0m \u001b[0;34m(\u001b[0m\u001b[0;36m1\u001b[0m\u001b[0;34m,\u001b[0m\u001b[0;36m1\u001b[0m\u001b[0;34m)\u001b[0m\u001b[0;34m)\u001b[0m\u001b[0;34m\u001b[0m\u001b[0;34m\u001b[0m\u001b[0m\n",
      "\u001b[0m\u001b[0;32m    339 \u001b[0;31m\u001b[0;34m\u001b[0m\u001b[0m\n",
      "\u001b[0m\u001b[0;32m    340 \u001b[0;31m    \u001b[0;31m# Model sanity check\u001b[0m\u001b[0;34m\u001b[0m\u001b[0;34m\u001b[0m\u001b[0m\n",
      "\u001b[0m\n"
     ]
    },
    {
     "name": "stdin",
     "output_type": "stream",
     "text": [
      "ipdb>  data.spectrum\n",
      "ipdb>  q\n"
     ]
    }
   ],
   "source": [
    "%debug"
   ]
  },
  {
   "cell_type": "code",
   "execution_count": null,
   "id": "b5f473c8-577f-43f6-a0d0-64f397b70d09",
   "metadata": {},
   "outputs": [],
   "source": []
  }
 ],
 "metadata": {
  "kernelspec": {
   "display_name": "Python 3 (ipykernel)",
   "language": "python",
   "name": "python3"
  },
  "language_info": {
   "codemirror_mode": {
    "name": "ipython",
    "version": 3
   },
   "file_extension": ".py",
   "mimetype": "text/x-python",
   "name": "python",
   "nbconvert_exporter": "python",
   "pygments_lexer": "ipython3",
   "version": "3.11.13"
  }
 },
 "nbformat": 4,
 "nbformat_minor": 5
}
