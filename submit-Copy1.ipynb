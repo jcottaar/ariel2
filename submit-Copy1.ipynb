{
 "cells": [
  {
   "cell_type": "code",
   "execution_count": 1,
   "id": "f83b89e4-ae65-4669-9e78-15f817bc2b71",
   "metadata": {
    "tags": []
   },
   "outputs": [
    {
     "name": "stdout",
     "output_type": "stream",
     "text": [
      "local\n"
     ]
    }
   ],
   "source": [
    "import sys\n",
    "sys.path.append('/mnt/d/ariel2/code/core/')\n",
    "sys.path.append('/kaggle/input/my-ariel2-library')\n",
    "import kaggle_support as kgs\n",
    "import ariel_model\n",
    "import ariel_gp"
   ]
  },
  {
   "cell_type": "code",
   "execution_count": 2,
   "id": "99b7ffc2-2f42-4ba8-a481-813c55251753",
   "metadata": {
    "tags": []
   },
   "outputs": [],
   "source": [
    "train_data = kgs.load_all_train_data()\n",
    "test_data = kgs.load_all_test_data()\n",
    "len(train_data), len(test_data)\n",
    "fast_mode = True\n",
    "if len(test_data)>1:\n",
    "    # Submission run\n",
    "    fast_mode = False\n",
    "if fast_mode:\n",
    "    train_data = train_data[:500]"
   ]
  },
  {
   "cell_type": "code",
   "execution_count": 3,
   "id": "8ab06445-2bfd-4b18-9d1d-57e6e1bd0cc5",
   "metadata": {
    "tags": []
   },
   "outputs": [
    {
     "name": "stderr",
     "output_type": "stream",
     "text": [
      "Inferring: 100%|██████████████████████████████████████████████████████████████████████████| 5/5 [02:21<00:00, 28.32s/it]\n"
     ]
    },
    {
     "name": "stdout",
     "output_type": "stream",
     "text": [
      "Opt time 23.442872762680054\n",
      "Score:          0.6310\n",
      "RMS error FGS:  141.23 ppm\n",
      "RMS error AIRS: 83.88 ppm\n"
     ]
    }
   ],
   "source": [
    "model=ariel_model.baseline_model()\n",
    "kgs.debugging_mode = 1\n",
    "model.model = ariel_gp.PredictionModel()\n",
    "model.model.run_in_parallel = False\n",
    "kgs.sanity_checks_active=True\n",
    "try:\n",
    "    model.train(train_data)\n",
    "    if len(test_data)==1:\n",
    "        # Not a submission run\n",
    "        data = train_data\n",
    "    else:\n",
    "        data = test_data\n",
    "    inferred_data = model.infer(data)\n",
    "    if len(test_data)==1:\n",
    "        kgs.score_metric(inferred_data, data)\n",
    "    df = kgs.make_submission_dataframe(inferred_data)\n",
    "    kgs.write_submission_csv(df)\n",
    "    kgs.dill_save(kgs.temp_dir + 'model.pickle', model)\n",
    "except kgs.ArielException as err:\n",
    "    kgs.raise_error_code(err)"
   ]
  },
  {
   "cell_type": "code",
   "execution_count": 4,
   "id": "a9b0b9c1-a550-40b1-9fd2-f44d9ba0b319",
   "metadata": {},
   "outputs": [
    {
     "name": "stderr",
     "output_type": "stream",
     "text": [
      "ERROR:root:No traceback has been produced, nothing to debug.\n"
     ]
    }
   ],
   "source": [
    "%debug"
   ]
  },
  {
   "cell_type": "code",
   "execution_count": 6,
   "id": "95753661-c746-46ae-8fc0-93bf4f6abb52",
   "metadata": {},
   "outputs": [
    {
     "data": {
      "text/plain": [
       "[1.3293666133800162, 0.1963921869686108]"
      ]
     },
     "execution_count": 6,
     "metadata": {},
     "output_type": "execute_result"
    }
   ],
   "source": [
    "model.sigma_fudge"
   ]
  },
  {
   "cell_type": "code",
   "execution_count": null,
   "id": "d7b8c34f-029e-486e-aa64-6846cd9c5fb8",
   "metadata": {},
   "outputs": [],
   "source": []
  }
 ],
 "metadata": {
  "kernelspec": {
   "display_name": "Python 3 (ipykernel)",
   "language": "python",
   "name": "python3"
  },
  "language_info": {
   "codemirror_mode": {
    "name": "ipython",
    "version": 3
   },
   "file_extension": ".py",
   "mimetype": "text/x-python",
   "name": "python",
   "nbconvert_exporter": "python",
   "pygments_lexer": "ipython3",
   "version": "3.11.13"
  }
 },
 "nbformat": 4,
 "nbformat_minor": 5
}
